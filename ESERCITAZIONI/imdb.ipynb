{
  "nbformat": 4,
  "nbformat_minor": 0,
  "metadata": {
    "colab": {
      "name": "imdb.ipynb",
      "provenance": [],
      "collapsed_sections": []
    },
    "kernelspec": {
      "name": "python3",
      "display_name": "Python 3"
    }
  },
  "cells": [
    {
      "cell_type": "markdown",
      "metadata": {
        "id": "haUUbAip1yDE"
      },
      "source": [
        "# Overfitting on the IMDB movie reviews dataset"
      ]
    },
    {
      "cell_type": "markdown",
      "metadata": {
        "id": "Alo9UeDCuPPV"
      },
      "source": [
        "In this notebook we shall focus on overfitting, demonstrating the phenomenon and studying techniques to address it. The dataset we shall use is the IMDB movie reviews dataset, composed of 25,000 movies reviews, labeled by sentiment (positive/negative).\n",
        "\n",
        "To prevent overfitting, the best solution is to use more training data. When that is not a\n",
        "viable possibility, you can try to use regularization techniques, constraining the quantity and quality of information stored by the model. If a network can only afford to memorize a small number of patterns, the optimization process will force it to focus on the most prominent ones, which have a better chance of generalizing well.\n",
        "\n"
      ]
    },
    {
      "cell_type": "code",
      "metadata": {
        "id": "BSk2z9PFZ-9L"
      },
      "source": [
        "from keras.layers import Input, Dense\n",
        "from keras.models import Model\n",
        "from keras.datasets import imdb\n",
        "import matplotlib.pyplot as plt\n",
        "import numpy as np"
      ],
      "execution_count": 1,
      "outputs": []
    },
    {
      "cell_type": "markdown",
      "metadata": {
        "id": "ztsNnb6iwK9C"
      },
      "source": [
        "Let us load the dataset. In keras, the dataset is preprocessed, and each review is encoded as a sequence of word indexes (integers). For convenience, words are indexed by overall frequency in the dataset, so that for instance the integer \"3\" encodes the 3rd most frequent word in the data. "
      ]
    },
    {
      "cell_type": "code",
      "metadata": {
        "id": "FJPbQOuMarDA",
        "colab": {
          "base_uri": "https://localhost:8080/"
        },
        "outputId": "2db27459-a088-4762-8420-3662d1929bf0"
      },
      "source": [
        "num_words = 500\n",
        "(x_train, y_train), (x_test, y_test) = imdb.load_data(path=\"imdb.npz\",\n",
        "                                                      num_words=num_words)"
      ],
      "execution_count": 2,
      "outputs": [
        {
          "output_type": "stream",
          "text": [
            "Downloading data from https://storage.googleapis.com/tensorflow/tf-keras-datasets/imdb.npz\n",
            "17465344/17464789 [==============================] - 0s 0us/step\n"
          ],
          "name": "stdout"
        },
        {
          "output_type": "stream",
          "text": [
            "<string>:6: VisibleDeprecationWarning: Creating an ndarray from ragged nested sequences (which is a list-or-tuple of lists-or-tuples-or ndarrays with different lengths or shapes) is deprecated. If you meant to do this, you must specify 'dtype=object' when creating the ndarray\n",
            "/usr/local/lib/python3.7/dist-packages/tensorflow/python/keras/datasets/imdb.py:159: VisibleDeprecationWarning: Creating an ndarray from ragged nested sequences (which is a list-or-tuple of lists-or-tuples-or ndarrays with different lengths or shapes) is deprecated. If you meant to do this, you must specify 'dtype=object' when creating the ndarray\n",
            "  x_train, y_train = np.array(xs[:idx]), np.array(labels[:idx])\n",
            "/usr/local/lib/python3.7/dist-packages/tensorflow/python/keras/datasets/imdb.py:160: VisibleDeprecationWarning: Creating an ndarray from ragged nested sequences (which is a list-or-tuple of lists-or-tuples-or ndarrays with different lengths or shapes) is deprecated. If you meant to do this, you must specify 'dtype=object' when creating the ndarray\n",
            "  x_test, y_test = np.array(xs[idx:]), np.array(labels[idx:])\n"
          ],
          "name": "stderr"
        }
      ]
    },
    {
      "cell_type": "markdown",
      "metadata": {
        "id": "JRXaS5dmMpCF"
      },
      "source": [
        "Let us a look at the encoding of the first review."
      ]
    },
    {
      "cell_type": "code",
      "metadata": {
        "id": "xQjD51tfbAwr",
        "colab": {
          "base_uri": "https://localhost:8080/"
        },
        "outputId": "f5d2be41-0c46-49dc-d639-787ddf66ba2c"
      },
      "source": [
        "print(x_train[0])"
      ],
      "execution_count": 3,
      "outputs": [
        {
          "output_type": "stream",
          "text": [
            "[1, 14, 22, 16, 43, 2, 2, 2, 2, 65, 458, 2, 66, 2, 4, 173, 36, 256, 5, 25, 100, 43, 2, 112, 50, 2, 2, 9, 35, 480, 284, 5, 150, 4, 172, 112, 167, 2, 336, 385, 39, 4, 172, 2, 2, 17, 2, 38, 13, 447, 4, 192, 50, 16, 6, 147, 2, 19, 14, 22, 4, 2, 2, 469, 4, 22, 71, 87, 12, 16, 43, 2, 38, 76, 15, 13, 2, 4, 22, 17, 2, 17, 12, 16, 2, 18, 2, 5, 62, 386, 12, 8, 316, 8, 106, 5, 4, 2, 2, 16, 480, 66, 2, 33, 4, 130, 12, 16, 38, 2, 5, 25, 124, 51, 36, 135, 48, 25, 2, 33, 6, 22, 12, 215, 28, 77, 52, 5, 14, 407, 16, 82, 2, 8, 4, 107, 117, 2, 15, 256, 4, 2, 7, 2, 5, 2, 36, 71, 43, 2, 476, 26, 400, 317, 46, 7, 4, 2, 2, 13, 104, 88, 4, 381, 15, 297, 98, 32, 2, 56, 26, 141, 6, 194, 2, 18, 4, 226, 22, 21, 134, 476, 26, 480, 5, 144, 30, 2, 18, 51, 36, 28, 224, 92, 25, 104, 4, 226, 65, 16, 38, 2, 88, 12, 16, 283, 5, 16, 2, 113, 103, 32, 15, 16, 2, 19, 178, 32]\n"
          ],
          "name": "stdout"
        }
      ]
    },
    {
      "cell_type": "markdown",
      "metadata": {
        "id": "M_52OeyDw7-2"
      },
      "source": [
        "This representation has a variable length dimension, that is not very stuitable for a neural network. \n",
        "\n",
        "Let us transform it into a multi_hot encoding of of dimension equal to num_words. In this representation, a word gets index 1 if it appears in the document. It is essentially a bag-of-words encoding."
      ]
    },
    {
      "cell_type": "code",
      "metadata": {
        "id": "alcGwlTXbK83"
      },
      "source": [
        "def multi_hot_sequences(sequences, dimension): \n",
        "  multi_hot = np.zeros((len(sequences),dimension))\n",
        "  for i in range(0,len(sequences)):\n",
        "    multi_hot[i, sequences[i]] = 1\n",
        "  return multi_hot\n",
        "\n",
        "x_train = multi_hot_sequences(x_train, num_words)\n",
        "x_test = multi_hot_sequences(x_test, num_words)"
      ],
      "execution_count": 4,
      "outputs": []
    },
    {
      "cell_type": "markdown",
      "metadata": {
        "id": "j8FqTkPgxeS3"
      },
      "source": [
        "Let us have a look at the initial part of the encoding for the first review."
      ]
    },
    {
      "cell_type": "code",
      "metadata": {
        "id": "LEqk4W3nbaOi",
        "colab": {
          "base_uri": "https://localhost:8080/"
        },
        "outputId": "0af00748-7c5a-4f53-aaf9-7e8ae1d7abeb"
      },
      "source": [
        "print(x_train[0,0:30])"
      ],
      "execution_count": 5,
      "outputs": [
        {
          "output_type": "stream",
          "text": [
            "[0. 1. 1. 0. 1. 1. 1. 1. 1. 1. 0. 0. 1. 1. 1. 1. 1. 1. 1. 1. 0. 1. 1. 0.\n",
            " 0. 1. 1. 0. 1. 0.]\n"
          ],
          "name": "stdout"
        }
      ]
    },
    {
      "cell_type": "markdown",
      "metadata": {
        "id": "UaJM6ZdCxnu0"
      },
      "source": [
        "We now define our first model, that is just a concatenation of three dense layers."
      ]
    },
    {
      "cell_type": "code",
      "metadata": {
        "id": "fIh5mHNDbncA"
      },
      "source": [
        "seq = Input(shape=(num_words,))\n",
        "x = Dense(64, activation='relu')(seq)\n",
        "x = Dense(16, activation='relu')(x)\n",
        "x = Dense(1, activation='sigmoid')(x)\n",
        "\n",
        "base_model = Model(seq, x)"
      ],
      "execution_count": 14,
      "outputs": []
    },
    {
      "cell_type": "code",
      "metadata": {
        "id": "UDCNRoQLbszt"
      },
      "source": [
        "base_model.summary()"
      ],
      "execution_count": null,
      "outputs": []
    },
    {
      "cell_type": "markdown",
      "metadata": {
        "id": "dg7OlD3px5b5"
      },
      "source": [
        "We compile the model using adam as optimizer, and binary crossentropy (log likelyhood) as loss function. The fit function returns a history of the training, that can be later inspected. In addition to the loss function, that is the canonical metric used for training, we also ask the model to keep trace of accuracy."
      ]
    },
    {
      "cell_type": "code",
      "metadata": {
        "id": "zN2Z1A6KcD5U"
      },
      "source": [
        "base_model.compile(optimizer='adam', loss='binary_crossentropy', metrics=['accuracy'])"
      ],
      "execution_count": 15,
      "outputs": []
    },
    {
      "cell_type": "code",
      "metadata": {
        "id": "mVhduLsrcObg",
        "colab": {
          "base_uri": "https://localhost:8080/"
        },
        "outputId": "78c3389e-6101-43d5-d3a2-a8ead6c4b105"
      },
      "source": [
        "base_history = base_model.fit(\n",
        "    x_train,\n",
        "    y_train,\n",
        "    epochs = 6,\n",
        "    batch_size = 512,\n",
        "    validation_data = (x_test, y_test),\n",
        "    verbose = 1\n",
        ")"
      ],
      "execution_count": 16,
      "outputs": [
        {
          "output_type": "stream",
          "text": [
            "Epoch 1/6\n",
            "49/49 [==============================] - 1s 11ms/step - loss: 0.6117 - accuracy: 0.6500 - val_loss: 0.4170 - val_accuracy: 0.8147\n",
            "Epoch 2/6\n",
            "49/49 [==============================] - 0s 8ms/step - loss: 0.3932 - accuracy: 0.8274 - val_loss: 0.3879 - val_accuracy: 0.8305\n",
            "Epoch 3/6\n",
            "49/49 [==============================] - 0s 7ms/step - loss: 0.3687 - accuracy: 0.8410 - val_loss: 0.3843 - val_accuracy: 0.8327\n",
            "Epoch 4/6\n",
            "49/49 [==============================] - 0s 7ms/step - loss: 0.3629 - accuracy: 0.8415 - val_loss: 0.3829 - val_accuracy: 0.8329\n",
            "Epoch 5/6\n",
            "49/49 [==============================] - 0s 7ms/step - loss: 0.3574 - accuracy: 0.8455 - val_loss: 0.3817 - val_accuracy: 0.8341\n",
            "Epoch 6/6\n",
            "49/49 [==============================] - 0s 8ms/step - loss: 0.3501 - accuracy: 0.8452 - val_loss: 0.3812 - val_accuracy: 0.8320\n"
          ],
          "name": "stdout"
        }
      ]
    },
    {
      "cell_type": "markdown",
      "metadata": {
        "id": "JlIRDSnNy57N"
      },
      "source": [
        "Let us see the keys available in our history."
      ]
    },
    {
      "cell_type": "code",
      "metadata": {
        "id": "-C0VudEIciL1",
        "colab": {
          "base_uri": "https://localhost:8080/"
        },
        "outputId": "ed19a116-e04b-4192-8d10-13b237f48855"
      },
      "source": [
        "print(base_history.history.keys())"
      ],
      "execution_count": 11,
      "outputs": [
        {
          "output_type": "stream",
          "text": [
            "dict_keys(['loss', 'accuracy', 'val_loss', 'val_accuracy'])\n"
          ],
          "name": "stdout"
        }
      ]
    },
    {
      "cell_type": "markdown",
      "metadata": {
        "id": "CsvLwbjLzFUf"
      },
      "source": [
        "The following function allows us to plot the results."
      ]
    },
    {
      "cell_type": "code",
      "metadata": {
        "id": "7TdM-_YpcyiZ",
        "colab": {
          "base_uri": "https://localhost:8080/",
          "height": 541
        },
        "outputId": "81340c5e-686e-40d1-cfaf-c4ae1f6fcdcf"
      },
      "source": [
        "def plot_history(model_history,keys):\n",
        "    m,val_m = keys\n",
        "    plt.plot(model_history.history[m])\n",
        "    plt.plot(model_history.history[val_m])\n",
        "    plt.ylabel(m)\n",
        "    plt.xlabel('epoch')\n",
        "    plt.legend(['train', 'test'], loc='upper left')\n",
        "    plt.show()\n",
        "\n",
        "plot_history(base_history,['accuracy','val_accuracy'])\n",
        "plot_history(base_history,['loss','val_loss'])\n"
      ],
      "execution_count": 12,
      "outputs": [
        {
          "output_type": "display_data",
          "data": {
            "image/png": "[encoded data removed]",
            "text/plain": [
              "<Figure size 432x288 with 1 Axes>"
            ]
          },
          "metadata": {
            "tags": [],
            "needs_background": "light"
          }
        },
        {
          "output_type": "display_data",
          "data": {
            "image/png": "[encoded data removed]",
            "text/plain": [
              "<Figure size 432x288 with 1 Axes>"
            ]
          },
          "metadata": {
            "tags": [],
            "needs_background": "light"
          }
        }
      ]
    },
    {
      "cell_type": "markdown",
      "metadata": {
        "id": "IXZ69_z61pTC"
      },
      "source": [
        "# Weight regularization"
      ]
    },
    {
      "cell_type": "markdown",
      "metadata": {
        "id": "Vt3bBvXZzMU0"
      },
      "source": [
        "Now we modify our base model adding regularizers. \n",
        "\n",
        "A common way to mitigate overfitting is to reduce the complexity of the network by forcing its weights to only take small values, making the distribution of weights more “regular”. This is called “weight regularization”, and it is done by adding to the loss function of the network an additional cost associated with having large weights. "
      ]
    },
    {
      "cell_type": "code",
      "metadata": {
        "id": "s22gY8U1dkYo"
      },
      "source": [
        "from keras import regularizers\n",
        "\n",
        "seq = Input(shape=(num_words,))\n",
        "x = Dense(64, activation='relu', kernel_regularizer=regularizers.l2(0.005))(seq)\n",
        "x = Dense(16, activation='relu',kernel_regularizer=regularizers.l2(0.005))(x)\n",
        "x = Dense(1, activation='sigmoid')(x)\n",
        "\n",
        "l2reg_model = Model(seq, x)"
      ],
      "execution_count": null,
      "outputs": []
    },
    {
      "cell_type": "code",
      "metadata": {
        "id": "VDnk7L2Eeh7q"
      },
      "source": [
        "l2reg_model.compile(optimizer='adam', loss='binary_crossentropy', metrics=['accuracy'])"
      ],
      "execution_count": null,
      "outputs": []
    },
    {
      "cell_type": "code",
      "metadata": {
        "id": "4fuUgMPpewd_",
        "colab": {
          "base_uri": "https://localhost:8080/"
        },
        "outputId": "7bb9aa15-250a-410d-896e-c7799ce0f9bb"
      },
      "source": [
        "l2reg_history = l2reg_model.fit(\n",
        "    x_train,\n",
        "    y_train,\n",
        "    epochs = 5,\n",
        "    batch_size = 512,\n",
        "    validation_data = (x_test, y_test),\n",
        "    verbose = 2\n",
        ")"
      ],
      "execution_count": null,
      "outputs": [
        {
          "output_type": "stream",
          "text": [
            "Epoch 1/5\n",
            "49/49 - 1s - loss: 1.0703 - accuracy: 0.7058 - val_loss: 0.7848 - val_accuracy: 0.8078\n",
            "Epoch 2/5\n",
            "49/49 - 0s - loss: 0.6682 - accuracy: 0.8248 - val_loss: 0.5951 - val_accuracy: 0.8289\n",
            "Epoch 3/5\n",
            "49/49 - 0s - loss: 0.5542 - accuracy: 0.8331 - val_loss: 0.5310 - val_accuracy: 0.8313\n",
            "Epoch 4/5\n",
            "49/49 - 0s - loss: 0.5074 - accuracy: 0.8329 - val_loss: 0.4992 - val_accuracy: 0.8315\n",
            "Epoch 5/5\n",
            "49/49 - 0s - loss: 0.4827 - accuracy: 0.8334 - val_loss: 0.4778 - val_accuracy: 0.8319\n"
          ],
          "name": "stdout"
        }
      ]
    },
    {
      "cell_type": "code",
      "metadata": {
        "id": "t3TrT7ydfVgw",
        "colab": {
          "base_uri": "https://localhost:8080/",
          "height": 541
        },
        "outputId": "5bb08f55-ec52-4d41-b4e2-a1490e14493a"
      },
      "source": [
        "plot_history(l2reg_history,['accuracy','val_accuracy'])\n",
        "plot_history(l2reg_history,['loss','val_loss'])"
      ],
      "execution_count": null,
      "outputs": [
        {
          "output_type": "display_data",
          "data": {
            "image/png": "[encoded data removed]",
            "text/plain": [
              "<Figure size 432x288 with 1 Axes>"
            ]
          },
          "metadata": {
            "tags": [],
            "needs_background": "light"
          }
        },
        {
          "output_type": "display_data",
          "data": {
            "image/png": "[encoded data removed]",
            "text/plain": [
              "<Figure size 432x288 with 1 Axes>"
            ]
          },
          "metadata": {
            "tags": [],
            "needs_background": "light"
          }
        }
      ]
    },
    {
      "cell_type": "markdown",
      "metadata": {
        "id": "fZs5oVRF0LAK"
      },
      "source": [
        "# Dropout"
      ]
    },
    {
      "cell_type": "markdown",
      "metadata": {
        "id": "QtVCugQW09_1"
      },
      "source": [
        "Dropout is an alternativeregularization techniques for neural networks. It consists of randomly “dropping out” (i.e. set to zero) a number of output features of the layer during training. \n",
        "\n",
        "At test time, no units are dropped out, but the layer’s output values are scaled down by a factor equal to the dropout rate, so as to balance for the fact that more units are active than at training time."
      ]
    },
    {
      "cell_type": "code",
      "metadata": {
        "id": "i_ZA6nn3hI8G"
      },
      "source": [
        "from keras.layers import Dropout\n",
        "from keras import optimizers"
      ],
      "execution_count": null,
      "outputs": []
    },
    {
      "cell_type": "markdown",
      "metadata": {
        "id": "lyCHPs5W1XNo"
      },
      "source": [
        "Let’s add a couple of dropout layers in our IMDB network and see how it performs.\n"
      ]
    },
    {
      "cell_type": "code",
      "metadata": {
        "id": "XNNVUxxThTtO"
      },
      "source": [
        "seq = Input(shape=(num_words,))\n",
        "x = Dense(64, activation='relu')(seq)\n",
        "x = Dropout(0.5)(x)\n",
        "x = Dense(16, activation='relu')(x)\n",
        "x = Dropout(0.5)(x)\n",
        "x = Dense(1, activation='sigmoid')(x)\n",
        "\n",
        "dropout_model = Model(seq, x)"
      ],
      "execution_count": null,
      "outputs": []
    },
    {
      "cell_type": "code",
      "metadata": {
        "id": "MtwSyEeYh5jS"
      },
      "source": [
        "dropout_model.compile(optimizer='adam', loss='binary_crossentropy', metrics=['accuracy'])"
      ],
      "execution_count": null,
      "outputs": []
    },
    {
      "cell_type": "code",
      "metadata": {
        "id": "E-BUqoVgq1NE",
        "colab": {
          "base_uri": "https://localhost:8080/"
        },
        "outputId": "5e1a9e55-2ef2-4b93-f93e-9eaff204f51f"
      },
      "source": [
        "dropout_model.summary()"
      ],
      "execution_count": null,
      "outputs": [
        {
          "output_type": "stream",
          "text": [
            "Model: \"model_21\"\n",
            "_________________________________________________________________\n",
            "Layer (type)                 Output Shape              Param #   \n",
            "=================================================================\n",
            "input_22 (InputLayer)        [(None, 500)]             0         \n",
            "_________________________________________________________________\n",
            "dense_63 (Dense)             (None, 64)                32064     \n",
            "_________________________________________________________________\n",
            "dropout_14 (Dropout)         (None, 64)                0         \n",
            "_________________________________________________________________\n",
            "dense_64 (Dense)             (None, 16)                1040      \n",
            "_________________________________________________________________\n",
            "dropout_15 (Dropout)         (None, 16)                0         \n",
            "_________________________________________________________________\n",
            "dense_65 (Dense)             (None, 1)                 17        \n",
            "=================================================================\n",
            "Total params: 33,121\n",
            "Trainable params: 33,121\n",
            "Non-trainable params: 0\n",
            "_________________________________________________________________\n"
          ],
          "name": "stdout"
        }
      ]
    },
    {
      "cell_type": "code",
      "metadata": {
        "id": "YdubTd_ViHz4",
        "colab": {
          "base_uri": "https://localhost:8080/"
        },
        "outputId": "ba08257e-19a5-440a-c49e-c3fc708eab74"
      },
      "source": [
        "dropout_history = dropout_model.fit(\n",
        "    x_train,\n",
        "    y_train,\n",
        "    epochs = 5,\n",
        "    batch_size = 512,\n",
        "    validation_data = (x_test, y_test),\n",
        "    verbose = 1\n",
        ")"
      ],
      "execution_count": null,
      "outputs": [
        {
          "output_type": "stream",
          "text": [
            "Epoch 1/5\n",
            "49/49 [==============================] - 1s 10ms/step - loss: 0.7349 - accuracy: 0.5386 - val_loss: 0.6069 - val_accuracy: 0.7374\n",
            "Epoch 2/5\n",
            "49/49 [==============================] - 0s 6ms/step - loss: 0.6095 - accuracy: 0.6626 - val_loss: 0.4790 - val_accuracy: 0.7952\n",
            "Epoch 3/5\n",
            "49/49 [==============================] - 0s 6ms/step - loss: 0.5144 - accuracy: 0.7490 - val_loss: 0.4188 - val_accuracy: 0.8177\n",
            "Epoch 4/5\n",
            "49/49 [==============================] - 0s 6ms/step - loss: 0.4651 - accuracy: 0.7895 - val_loss: 0.3937 - val_accuracy: 0.8252\n",
            "Epoch 5/5\n",
            "49/49 [==============================] - 0s 6ms/step - loss: 0.4329 - accuracy: 0.8106 - val_loss: 0.3847 - val_accuracy: 0.8292\n"
          ],
          "name": "stdout"
        }
      ]
    },
    {
      "cell_type": "code",
      "metadata": {
        "id": "Wan5Jqhui3Rm",
        "colab": {
          "base_uri": "https://localhost:8080/",
          "height": 542
        },
        "outputId": "35438466-f87b-43d3-d995-e3199e60e296"
      },
      "source": [
        "plot_history(dropout_history,['accuracy','val_accuracy'])\n",
        "plot_history(dropout_history,['loss','val_loss'])"
      ],
      "execution_count": null,
      "outputs": [
        {
          "output_type": "display_data",
          "data": {
            "image/png": "[encoded data removed]",
            "text/plain": [
              "<Figure size 432x288 with 1 Axes>"
            ]
          },
          "metadata": {
            "tags": [],
            "needs_background": "light"
          }
        },
        {
          "output_type": "display_data",
          "data": {
            "image/png": "[encoded data removed]",
            "text/plain": [
              "<Figure size 432x288 with 1 Axes>"
            ]
          },
          "metadata": {
            "tags": [],
            "needs_background": "light"
          }
        }
      ]
    },
    {
      "cell_type": "code",
      "metadata": {
        "id": "LGylsBlkqgsr"
      },
      "source": [
        "seq = Input(shape=(num_words,))\n",
        "x = Dense(64, activation='relu', kernel_regularizer=regularizers.l2(0.005))(seq)\n",
        "x = Dropout(0.5)(x)\n",
        "x = Dense(16, activation='relu', kernel_regularizer=regularizers.l2(0.005))(x)\n",
        "x = Dropout(0.5)(x)\n",
        "x = Dense(1, activation='sigmoid')(x)\n",
        "\n",
        "mixed_model = Model(seq, x)"
      ],
      "execution_count": null,
      "outputs": []
    },
    {
      "cell_type": "code",
      "metadata": {
        "id": "gD69SdvUrWD_"
      },
      "source": [
        "adam = optimizers.Adam(lr=0.001)\n",
        "mixed_model.compile(optimizer=adam, loss='binary_crossentropy', metrics=['accuracy'])"
      ],
      "execution_count": null,
      "outputs": []
    },
    {
      "cell_type": "code",
      "metadata": {
        "id": "MwsSSHyargi6",
        "colab": {
          "base_uri": "https://localhost:8080/"
        },
        "outputId": "f62e73ca-a6ea-497d-fd8f-25ad0294af17"
      },
      "source": [
        "mixed_history = mixed_model.fit(\n",
        "    x_train,\n",
        "    y_train,\n",
        "    epochs = 5,\n",
        "    batch_size = 512,\n",
        "    validation_data = (x_test, y_test),\n",
        "    verbose = 2\n",
        ")"
      ],
      "execution_count": null,
      "outputs": [
        {
          "output_type": "stream",
          "text": [
            "Epoch 1/5\n",
            "49/49 - 1s - loss: 1.2140 - accuracy: 0.5646 - val_loss: 0.9815 - val_accuracy: 0.7381\n",
            "Epoch 2/5\n",
            "49/49 - 0s - loss: 0.8604 - accuracy: 0.7024 - val_loss: 0.6724 - val_accuracy: 0.8080\n",
            "Epoch 3/5\n",
            "49/49 - 0s - loss: 0.6633 - accuracy: 0.7860 - val_loss: 0.5592 - val_accuracy: 0.8250\n",
            "Epoch 4/5\n",
            "49/49 - 0s - loss: 0.5725 - accuracy: 0.8101 - val_loss: 0.5067 - val_accuracy: 0.8297\n",
            "Epoch 5/5\n",
            "49/49 - 0s - loss: 0.5265 - accuracy: 0.8191 - val_loss: 0.4807 - val_accuracy: 0.8298\n"
          ],
          "name": "stdout"
        }
      ]
    },
    {
      "cell_type": "markdown",
      "metadata": {
        "id": "xQPVeOrtM8Lf"
      },
      "source": [
        "# Early stopping"
      ]
    },
    {
      "cell_type": "markdown",
      "metadata": {
        "id": "RGRc8KPkS5cN"
      },
      "source": [
        "Early stopping is a method that allows you to stop training as soon as the model performance stops improving on the validation dataset.\n",
        "\n",
        "This requires that a validation set must be provided to the fit() function. \n",
        "\n",
        "Early stopping can be simply implemented in keras using callbacks.\n",
        "A callback is a function taht is called at specific stages of the training procedure: start/end of epochs, start end of minibatches, etc. \n",
        "\n",
        "You can use callbacks to get a view on internal states and statistics of the model during training. A list of callbacks can be passed to the .fit() function using the keyword argument \"callbacks\". "
      ]
    },
    {
      "cell_type": "code",
      "metadata": {
        "id": "x-ZKC8eqNAxd"
      },
      "source": [
        "from keras.callbacks import EarlyStopping, ModelCheckpoint\n",
        "import os \n",
        "\n",
        "saveDir = os.path.join(os.getcwd(), 'saved_models')\n",
        "if not os.path.isdir(saveDir):\n",
        "    os.makedirs(saveDir)\n",
        "\n",
        "#mixed_model.load_weights(saveDir + 'Cifar10_to256.hdf5')\n",
        "\n",
        "es_cb = EarlyStopping(monitor='val_loss', patience=3, verbose=1, mode='auto')\n",
        "chkpt = saveDir + 'Cifar10_to256.hdf5'\n",
        "\n",
        "cp_cb = ModelCheckpoint(filepath = chkpt, monitor='val_loss', verbose=1, save_best_only=True, mode='auto')"
      ],
      "execution_count": null,
      "outputs": []
    },
    {
      "cell_type": "code",
      "metadata": {
        "id": "qvoIFERUP7Wl",
        "colab": {
          "base_uri": "https://localhost:8080/"
        },
        "outputId": "b44f6b69-032d-4370-fb5a-f580f76729ca"
      },
      "source": [
        "mixed_model.fit(x_train, y_train,\n",
        "                batch_size=512, #batch_size,\n",
        "                epochs= 20,\n",
        "                verbose=1,\n",
        "                validation_data=(x_test,y_test),\n",
        "                callbacks=[es_cb, cp_cb],\n",
        "                shuffle=True)"
      ],
      "execution_count": null,
      "outputs": [
        {
          "output_type": "stream",
          "text": [
            "Epoch 1/20\n",
            "49/49 [==============================] - 0s 8ms/step - loss: 0.4999 - accuracy: 0.8259 - val_loss: 0.4692 - val_accuracy: 0.8293\n",
            "\n",
            "Epoch 00001: val_loss improved from inf to 0.46923, saving model to /content/saved_modelsCifar10_to256.hdf5\n",
            "Epoch 2/20\n",
            "49/49 [==============================] - 0s 7ms/step - loss: 0.4854 - accuracy: 0.8274 - val_loss: 0.4554 - val_accuracy: 0.8308\n",
            "\n",
            "Epoch 00002: val_loss improved from 0.46923 to 0.45541, saving model to /content/saved_modelsCifar10_to256.hdf5\n",
            "Epoch 3/20\n",
            "49/49 [==============================] - 0s 6ms/step - loss: 0.4729 - accuracy: 0.8287 - val_loss: 0.4549 - val_accuracy: 0.8281\n",
            "\n",
            "Epoch 00003: val_loss improved from 0.45541 to 0.45486, saving model to /content/saved_modelsCifar10_to256.hdf5\n",
            "Epoch 4/20\n",
            "49/49 [==============================] - 0s 7ms/step - loss: 0.4689 - accuracy: 0.8283 - val_loss: 0.4481 - val_accuracy: 0.8277\n",
            "\n",
            "Epoch 00004: val_loss improved from 0.45486 to 0.44813, saving model to /content/saved_modelsCifar10_to256.hdf5\n",
            "Epoch 5/20\n",
            "49/49 [==============================] - 0s 6ms/step - loss: 0.4617 - accuracy: 0.8306 - val_loss: 0.4401 - val_accuracy: 0.8315\n",
            "\n",
            "Epoch 00005: val_loss improved from 0.44813 to 0.44010, saving model to /content/saved_modelsCifar10_to256.hdf5\n",
            "Epoch 6/20\n",
            "49/49 [==============================] - 0s 7ms/step - loss: 0.4566 - accuracy: 0.8331 - val_loss: 0.4405 - val_accuracy: 0.8299\n",
            "\n",
            "Epoch 00006: val_loss did not improve from 0.44010\n",
            "Epoch 7/20\n",
            "49/49 [==============================] - 0s 7ms/step - loss: 0.4553 - accuracy: 0.8310 - val_loss: 0.4365 - val_accuracy: 0.8318\n",
            "\n",
            "Epoch 00007: val_loss improved from 0.44010 to 0.43654, saving model to /content/saved_modelsCifar10_to256.hdf5\n",
            "Epoch 8/20\n",
            "49/49 [==============================] - 0s 6ms/step - loss: 0.4563 - accuracy: 0.8308 - val_loss: 0.4380 - val_accuracy: 0.8323\n",
            "\n",
            "Epoch 00008: val_loss did not improve from 0.43654\n",
            "Epoch 9/20\n",
            "49/49 [==============================] - 0s 7ms/step - loss: 0.4493 - accuracy: 0.8325 - val_loss: 0.4317 - val_accuracy: 0.8335\n",
            "\n",
            "Epoch 00009: val_loss improved from 0.43654 to 0.43170, saving model to /content/saved_modelsCifar10_to256.hdf5\n",
            "Epoch 10/20\n",
            "49/49 [==============================] - 0s 7ms/step - loss: 0.4478 - accuracy: 0.8317 - val_loss: 0.4310 - val_accuracy: 0.8323\n",
            "\n",
            "Epoch 00010: val_loss improved from 0.43170 to 0.43105, saving model to /content/saved_modelsCifar10_to256.hdf5\n",
            "Epoch 11/20\n",
            "49/49 [==============================] - 0s 7ms/step - loss: 0.4486 - accuracy: 0.8309 - val_loss: 0.4344 - val_accuracy: 0.8305\n",
            "\n",
            "Epoch 00011: val_loss did not improve from 0.43105\n",
            "Epoch 12/20\n",
            "49/49 [==============================] - 0s 7ms/step - loss: 0.4451 - accuracy: 0.8338 - val_loss: 0.4339 - val_accuracy: 0.8302\n",
            "\n",
            "Epoch 00012: val_loss did not improve from 0.43105\n",
            "Epoch 13/20\n",
            "49/49 [==============================] - 0s 7ms/step - loss: 0.4426 - accuracy: 0.8342 - val_loss: 0.4274 - val_accuracy: 0.8336\n",
            "\n",
            "Epoch 00013: val_loss improved from 0.43105 to 0.42737, saving model to /content/saved_modelsCifar10_to256.hdf5\n",
            "Epoch 14/20\n",
            "49/49 [==============================] - 0s 10ms/step - loss: 0.4408 - accuracy: 0.8366 - val_loss: 0.4287 - val_accuracy: 0.8327\n",
            "\n",
            "Epoch 00014: val_loss did not improve from 0.42737\n",
            "Epoch 15/20\n",
            "49/49 [==============================] - 0s 7ms/step - loss: 0.4395 - accuracy: 0.8372 - val_loss: 0.4332 - val_accuracy: 0.8296\n",
            "\n",
            "Epoch 00015: val_loss did not improve from 0.42737\n",
            "Epoch 16/20\n",
            "49/49 [==============================] - 0s 7ms/step - loss: 0.4429 - accuracy: 0.8387 - val_loss: 0.4314 - val_accuracy: 0.8318\n",
            "\n",
            "Epoch 00016: val_loss did not improve from 0.42737\n",
            "Epoch 00016: early stopping\n"
          ],
          "name": "stdout"
        },
        {
          "output_type": "execute_result",
          "data": {
            "text/plain": [
              "<tensorflow.python.keras.callbacks.History at 0x7f44567f5668>"
            ]
          },
          "metadata": {
            "tags": []
          },
          "execution_count": 180
        }
      ]
    },
    {
      "cell_type": "code",
      "metadata": {
        "id": "zLIxE8L6RTRk",
        "colab": {
          "base_uri": "https://localhost:8080/"
        },
        "outputId": "56c46459-7493-4484-e7a8-393e9036cb4c"
      },
      "source": [
        "loss,acc = mixed_model.evaluate(x_test,y_test)\n",
        "print(\"test loss = \", loss)\n",
        "print(\"test accuracy = \", acc)"
      ],
      "execution_count": null,
      "outputs": [
        {
          "output_type": "stream",
          "text": [
            "782/782 [==============================] - 1s 897us/step - loss: 0.4314 - accuracy: 0.8318\n",
            "test loss =  0.43140414357185364\n",
            "test accuracy =  0.8317999839782715\n"
          ],
          "name": "stdout"
        }
      ]
    }
  ]
}
