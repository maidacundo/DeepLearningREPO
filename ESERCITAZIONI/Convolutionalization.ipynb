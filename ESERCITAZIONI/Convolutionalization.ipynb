{
  "nbformat": 4,
  "nbformat_minor": 0,
  "metadata": {
    "colab": {
      "name": "Convolutionalization.ipynb",
      "provenance": [],
      "collapsed_sections": []
    },
    "kernelspec": {
      "name": "python3",
      "display_name": "Python 3"
    },
    "accelerator": "GPU"
  },
  "cells": [
    {
      "cell_type": "markdown",
      "metadata": {
        "id": "pkKA6EUUbI8d"
      },
      "source": [
        "# Convolutionalization\n",
        "\n",
        "In this notebook, we explain the idea of convolutionalization, working with mnist digits.\n",
        "\n",
        "Convolutionalization is the process of transforming a neural network containing dense layers (typically some classification network) into a fully convolutional one.\n",
        "\n",
        "The fully convolutional network can be used as a detector kernel, convolving it over an input image to produce a \"heat map\" of the locations where objects are found."
      ]
    },
    {
      "cell_type": "code",
      "metadata": {
        "id": "n-Kvac_mA5hb"
      },
      "source": [
        "import tensorflow as tf\n",
        "from tensorflow.keras.layers import Input, Conv2D, Flatten, Dense, GlobalMaxPool2D, MaxPool2D, Reshape\n",
        "from tensorflow.keras.models import Model\n",
        "from tensorflow.keras.datasets import mnist\n",
        "import numpy as np\n",
        "import matplotlib.pyplot as plt"
      ],
      "execution_count": 1,
      "outputs": []
    },
    {
      "cell_type": "markdown",
      "metadata": {
        "id": "EwmUCAgoMPqE"
      },
      "source": [
        "Here we load the mnist dataset"
      ]
    },
    {
      "cell_type": "code",
      "metadata": {
        "id": "LtQzvbqvBuzF",
        "outputId": "15954b25-1d98-4244-f683-b0db08b83870",
        "colab": {
          "base_uri": "https://localhost:8080/"
        }
      },
      "source": [
        "(x_train, y_train), (x_test, y_test) = mnist.load_data()\n",
        "x_train = x_train.reshape(60000,28,28,1)/255.\n",
        "x_test = x_test.reshape(10000,28,28,1)/255.\n",
        "print(x_train.shape)\n",
        "print(x_train.min())\n",
        "print(x_train.max())"
      ],
      "execution_count": 2,
      "outputs": [
        {
          "output_type": "stream",
          "name": "stdout",
          "text": [
            "Downloading data from https://storage.googleapis.com/tensorflow/tf-keras-datasets/mnist.npz\n",
            "11493376/11490434 [==============================] - 0s 0us/step\n",
            "11501568/11490434 [==============================] - 0s 0us/step\n",
            "(60000, 28, 28, 1)\n",
            "0.0\n",
            "1.0\n"
          ]
        }
      ]
    },
    {
      "cell_type": "markdown",
      "source": [
        "It is convenient to add to the detector a \"background\" class, containing no object. For traning and testing we create a bunch of images \"almost black\" (to be refined as an exercise)."
      ],
      "metadata": {
        "id": "8Mm96cktqb7j"
      }
    },
    {
      "cell_type": "code",
      "source": [
        "background = np.random.randint(0,5,(6000,28,28,1))/255.\n",
        "background_test = np.random.randint(0,5,(1000,28,28,1))/255."
      ],
      "metadata": {
        "id": "ynQax_TpqV_3"
      },
      "execution_count": 3,
      "outputs": []
    },
    {
      "cell_type": "markdown",
      "source": [
        "Let us see an example of background, together with a typical image."
      ],
      "metadata": {
        "id": "gH5zpBkqthfX"
      }
    },
    {
      "cell_type": "code",
      "source": [
        "imageplot = plt.imshow(np.reshape(np.concatenate((background[15],x_train[23]),axis=1),(28,56)))\n",
        "plt.show()"
      ],
      "metadata": {
        "id": "JSttQ9PdqSKl",
        "colab": {
          "base_uri": "https://localhost:8080/",
          "height": 216
        },
        "outputId": "d819ceba-b63d-4c2a-a09e-fe5ce42f746b"
      },
      "execution_count": 4,
      "outputs": [
        {
          "output_type": "display_data",
          "data": {
            "text/plain": [
              "<Figure size 432x288 with 1 Axes>"
            ],
            "image/png": "[encoded data removed]"
          },
          "metadata": {
            "needs_background": "light"
          }
        }
      ]
    },
    {
      "cell_type": "markdown",
      "metadata": {
        "id": "xRMu8SAWdHYx"
      },
      "source": [
        "We extend the training set. Backgound gets label \"10\"."
      ]
    },
    {
      "cell_type": "code",
      "metadata": {
        "id": "d2Rj10qfCLNi"
      },
      "source": [
        "x_train_bg = np.concatenate((x_train,background))\n",
        "x_test_bg = np.concatenate((x_test,background_test))\n",
        "y_train_bg = np.concatenate((y_train,np.ones(6000)*10))\n",
        "y_test_bg = np.concatenate((y_test,np.ones(1000)*10))"
      ],
      "execution_count": 10,
      "outputs": []
    },
    {
      "cell_type": "code",
      "metadata": {
        "id": "vaF-vuoNOSsl",
        "outputId": "212bfe92-a17a-415a-a2d6-eeaf25827a02",
        "colab": {
          "base_uri": "https://localhost:8080/"
        }
      },
      "source": [
        "print(x_train_bg.shape)"
      ],
      "execution_count": 11,
      "outputs": [
        {
          "output_type": "stream",
          "name": "stdout",
          "text": [
            "(66000, 28, 28, 1)\n"
          ]
        }
      ]
    },
    {
      "cell_type": "markdown",
      "metadata": {
        "id": "jywUMUvbd1s6"
      },
      "source": [
        "The classifier is composed by an initial part made by 2Dconvolutional layers, followed by two dense layers (intermixed by dropout).\n",
        "\n",
        "Every other convolution has stride 2, halving the size of the input. At the same time we double the channel dimension, to partially compensate the dimensionality loss.\n"
      ]
    },
    {
      "cell_type": "code",
      "metadata": {
        "id": "jc2XEhlhCxhq"
      },
      "source": [
        "iimg = Input(shape=(28,28,1))\n",
        "x = Conv2D(16,(3,3),strides=2,padding='same', activation='swish')(iimg)\n",
        "x = Conv2D(32,(3,3),strides=2,padding='same',activation='swish')(x)\n",
        "x = Conv2D(64,(3,3),strides=2,padding='same',activation='swish')(x)\n",
        "x = GlobalMaxPool2D()(x)\n",
        "x = Dense(64,activation = 'swish')(x)\n",
        "cout = Dense(11, activation = 'softmax')(x) #we have now 11 categories\n",
        "\n",
        "model = Model(inputs=[iimg],outputs=[cout])"
      ],
      "execution_count": 12,
      "outputs": []
    },
    {
      "cell_type": "markdown",
      "metadata": {
        "id": "GkpFw9N2exQd"
      },
      "source": [
        "Here is the model summary. "
      ]
    },
    {
      "cell_type": "code",
      "metadata": {
        "id": "QamU6c46GqsD",
        "outputId": "5e2dca0b-1d27-442d-ad1a-1da0bf397d15",
        "colab": {
          "base_uri": "https://localhost:8080/"
        }
      },
      "source": [
        "model.summary()"
      ],
      "execution_count": 7,
      "outputs": [
        {
          "output_type": "stream",
          "name": "stdout",
          "text": [
            "Model: \"model\"\n",
            "_________________________________________________________________\n",
            " Layer (type)                Output Shape              Param #   \n",
            "=================================================================\n",
            " input_1 (InputLayer)        [(None, 28, 28, 1)]       0         \n",
            "                                                                 \n",
            " conv2d (Conv2D)             (None, 14, 14, 16)        160       \n",
            "                                                                 \n",
            " conv2d_1 (Conv2D)           (None, 7, 7, 32)          4640      \n",
            "                                                                 \n",
            " conv2d_2 (Conv2D)           (None, 4, 4, 64)          18496     \n",
            "                                                                 \n",
            " global_max_pooling2d (Globa  (None, 64)               0         \n",
            " lMaxPooling2D)                                                  \n",
            "                                                                 \n",
            " dense (Dense)               (None, 64)                4160      \n",
            "                                                                 \n",
            " dense_1 (Dense)             (None, 11)                715       \n",
            "                                                                 \n",
            "=================================================================\n",
            "Total params: 28,171\n",
            "Trainable params: 28,171\n",
            "Non-trainable params: 0\n",
            "_________________________________________________________________\n"
          ]
        }
      ]
    },
    {
      "cell_type": "markdown",
      "metadata": {
        "id": "0Qmdo95Ugyl_"
      },
      "source": [
        "We compile the model with (sparse) categorical crossentropy. \n",
        "Recall that the training set is automatically shuffled by the fit method.\n",
        "\n",
        "We add accuracy as additional metric to evaluate the model."
      ]
    },
    {
      "cell_type": "code",
      "metadata": {
        "id": "sFFQtCClN9cw"
      },
      "source": [
        "model.compile(optimizer='adam',loss='sparse_categorical_crossentropy',metrics=['accuracy'])"
      ],
      "execution_count": 14,
      "outputs": []
    },
    {
      "cell_type": "markdown",
      "metadata": {
        "id": "LAF84qHSjrXc"
      },
      "source": [
        "Ten epochs of training should be enough."
      ]
    },
    {
      "cell_type": "code",
      "metadata": {
        "id": "qZ3kzHG8NnlV",
        "outputId": "ee3a6a6f-c57d-4966-d4ec-4043c0c9312b",
        "colab": {
          "base_uri": "https://localhost:8080/"
        }
      },
      "source": [
        "model.fit(x_train_bg,y_train_bg,\n",
        "          epochs=10,\n",
        "          batch_size=100,\n",
        "          validation_data=(x_test_bg, y_test_bg))"
      ],
      "execution_count": 15,
      "outputs": [
        {
          "output_type": "stream",
          "name": "stdout",
          "text": [
            "Epoch 1/10\n",
            "660/660 [==============================] - 16s 7ms/step - loss: 0.4351 - accuracy: 0.8655 - val_loss: 0.1524 - val_accuracy: 0.9552\n",
            "Epoch 2/10\n",
            "660/660 [==============================] - 4s 7ms/step - loss: 0.1186 - accuracy: 0.9638 - val_loss: 0.0968 - val_accuracy: 0.9697\n",
            "Epoch 3/10\n",
            "660/660 [==============================] - 4s 7ms/step - loss: 0.0798 - accuracy: 0.9759 - val_loss: 0.0745 - val_accuracy: 0.9770\n",
            "Epoch 4/10\n",
            "660/660 [==============================] - 5s 7ms/step - loss: 0.0621 - accuracy: 0.9802 - val_loss: 0.0645 - val_accuracy: 0.9793\n",
            "Epoch 5/10\n",
            "660/660 [==============================] - 4s 7ms/step - loss: 0.0508 - accuracy: 0.9844 - val_loss: 0.0541 - val_accuracy: 0.9827\n",
            "Epoch 6/10\n",
            "660/660 [==============================] - 4s 7ms/step - loss: 0.0407 - accuracy: 0.9872 - val_loss: 0.0527 - val_accuracy: 0.9827\n",
            "Epoch 7/10\n",
            "660/660 [==============================] - 4s 7ms/step - loss: 0.0341 - accuracy: 0.9889 - val_loss: 0.0496 - val_accuracy: 0.9843\n",
            "Epoch 8/10\n",
            "660/660 [==============================] - 4s 7ms/step - loss: 0.0300 - accuracy: 0.9907 - val_loss: 0.0506 - val_accuracy: 0.9844\n",
            "Epoch 9/10\n",
            "660/660 [==============================] - 4s 7ms/step - loss: 0.0257 - accuracy: 0.9918 - val_loss: 0.0523 - val_accuracy: 0.9834\n",
            "Epoch 10/10\n",
            "660/660 [==============================] - 4s 7ms/step - loss: 0.0224 - accuracy: 0.9929 - val_loss: 0.0458 - val_accuracy: 0.9847\n"
          ]
        },
        {
          "output_type": "execute_result",
          "data": {
            "text/plain": [
              "<keras.callbacks.History at 0x7fa8101f3710>"
            ]
          },
          "metadata": {},
          "execution_count": 15
        }
      ]
    },
    {
      "cell_type": "markdown",
      "source": [
        "Let us save the weights, since we need them."
      ],
      "metadata": {
        "id": "yncro6-HM7cM"
      }
    },
    {
      "cell_type": "code",
      "source": [
        "model.save_weights(\"mymodel.hdf5\")"
      ],
      "metadata": {
        "id": "A470NYc06CAm"
      },
      "execution_count": 16,
      "outputs": []
    },
    {
      "cell_type": "markdown",
      "source": [
        "Now we define a fully convolutional network. We aim to obtain in output a feature map, that is a 2D image.\n",
        "\n",
        "A simple way to do it is to directly apply the Dense layers to the 3D features maps before maxpooling. In tensorflow, this is equivalent to apply a unary convolution, that is the dense layer only operates on channels."
      ],
      "metadata": {
        "id": "QYouO3EG4twa"
      }
    },
    {
      "cell_type": "code",
      "source": [
        "iimg = Input(shape=(None,None,1))\n",
        "x = Conv2D(16,(3,3),strides=2,padding='same', activation='swish',name=\"l1\")(iimg)\n",
        "x = Conv2D(32,(3,3),strides=2,padding='same',activation='swish',name=\"l2\")(x)\n",
        "x = Conv2D(64,(3,3),strides=2,padding='same',activation='swish',name=\"l3\")(x)\n",
        "#x = MaxPool2D((3,3),padding='same',strides=1)(x)\n",
        "x = Dense(64,activation = 'swish')(x)\n",
        "cout = Dense(11, activation = 'softmax')(x) \n",
        "\n",
        "model_c = Model(inputs=[iimg],outputs=[cout])"
      ],
      "metadata": {
        "id": "HWx7Qce053Tn"
      },
      "execution_count": 17,
      "outputs": []
    },
    {
      "cell_type": "markdown",
      "source": [
        "Let us see the summary. \n",
        "\n",
        "Observe that the spatial dimension of the input is unspecified and that we get a spatial heat map as output. \n",
        "\n",
        "To beeter understand the relation between the input-output spatial dimensions fix the some shapes for inputs and recompute the summary."
      ],
      "metadata": {
        "id": "OcDxh3NPN2zj"
      }
    },
    {
      "cell_type": "code",
      "source": [
        "model_c.summary()"
      ],
      "metadata": {
        "colab": {
          "base_uri": "https://localhost:8080/"
        },
        "id": "aBz8nT8Z6qzl",
        "outputId": "66ee5cdb-fb19-4fe8-d6c4-d056d4d09da8"
      },
      "execution_count": 18,
      "outputs": [
        {
          "output_type": "stream",
          "name": "stdout",
          "text": [
            "Model: \"model_2\"\n",
            "_________________________________________________________________\n",
            " Layer (type)                Output Shape              Param #   \n",
            "=================================================================\n",
            " input_3 (InputLayer)        [(None, None, None, 1)]   0         \n",
            "                                                                 \n",
            " l1 (Conv2D)                 (None, None, None, 16)    160       \n",
            "                                                                 \n",
            " l2 (Conv2D)                 (None, None, None, 32)    4640      \n",
            "                                                                 \n",
            " l3 (Conv2D)                 (None, None, None, 64)    18496     \n",
            "                                                                 \n",
            " dense_4 (Dense)             (None, None, None, 64)    4160      \n",
            "                                                                 \n",
            " dense_5 (Dense)             (None, None, None, 11)    715       \n",
            "                                                                 \n",
            "=================================================================\n",
            "Total params: 28,171\n",
            "Trainable params: 28,171\n",
            "Non-trainable params: 0\n",
            "_________________________________________________________________\n"
          ]
        }
      ]
    },
    {
      "cell_type": "markdown",
      "source": [
        "The previous fully convolutional network has precisely the same parameters of the previous classifier, so we can just load the saved weights.\n",
        "\n"
      ],
      "metadata": {
        "id": "pPlvZZ-5O1Pi"
      }
    },
    {
      "cell_type": "code",
      "source": [
        "model_c.load_weights(\"mymodel.hdf5\")"
      ],
      "metadata": {
        "id": "WPi59o0t7R5Z"
      },
      "execution_count": 19,
      "outputs": []
    },
    {
      "cell_type": "markdown",
      "source": [
        "Let us create an image composed by several mnist digits."
      ],
      "metadata": {
        "id": "eu3ku6-yIKW2"
      }
    },
    {
      "cell_type": "code",
      "source": [
        "rimg = np.zeros((128,128,1))\n",
        "rimg[12:40,6:34] = x_test[15]\n",
        "rimg[40:68,30:58] = x_test[14]\n",
        "rimg[15:43,45:73] = x_test[13]\n",
        "rimg[5:33,75:103] = x_test[12]\n",
        "rimg[45:73,90:118] = x_test[11]\n",
        "rimg[89:117,70:98] = x_test[9]\n",
        "rimg[80:108,25:53] = x_test[6]"
      ],
      "metadata": {
        "id": "kr-B_0bzIXx6"
      },
      "execution_count": 20,
      "outputs": []
    },
    {
      "cell_type": "code",
      "source": [
        "imageplot = plt.imshow(np.reshape(rimg,(128,128)))\n",
        "plt.show()"
      ],
      "metadata": {
        "colab": {
          "base_uri": "https://localhost:8080/",
          "height": 268
        },
        "id": "hoaxUx-3JgfL",
        "outputId": "60fa9643-22d0-40bc-bc56-586efb6cbf5f"
      },
      "execution_count": 21,
      "outputs": [
        {
          "output_type": "display_data",
          "data": {
            "text/plain": [
              "<Figure size 432x288 with 1 Axes>"
            ],
            "image/png": "[encoded data removed]"
          },
          "metadata": {
            "needs_background": "light"
          }
        }
      ]
    },
    {
      "cell_type": "markdown",
      "source": [
        "We use the cmap function of pyplot to map classes to colors."
      ],
      "metadata": {
        "id": "04jhU6e4PNWE"
      }
    },
    {
      "cell_type": "code",
      "source": [
        "def get_cmap(n, name='hsv'):\n",
        "    '''Returns a function that maps each index in 0, 1, ..., n-1 to a distinct \n",
        "    RGB color; the keyword argument name must be a standard mpl colormap name.'''\n",
        "    return plt.cm.get_cmap(name, n)\n",
        "\n",
        "cmap = get_cmap(12)\n",
        "\n",
        "def cmap1(n):\n",
        "  return cmap(n)[0:3]\n",
        "\n",
        "print(cmap1(3),cmap1(10))"
      ],
      "metadata": {
        "colab": {
          "base_uri": "https://localhost:8080/"
        },
        "id": "Zj3XJY43PYly",
        "outputId": "4fdb516c-f1e0-4c55-a411-c34ef538748b"
      },
      "execution_count": 23,
      "outputs": [
        {
          "output_type": "stream",
          "name": "stdout",
          "text": [
            "(0.38920293465748, 1.0, 0.0) (1.0, 0.0, 0.6306823551141734)\n"
          ]
        }
      ]
    },
    {
      "cell_type": "markdown",
      "source": [
        "Now we try to use the fully convolutional network to \"locate\" digits in out sample image."
      ],
      "metadata": {
        "id": "rfNDhnzbPk40"
      }
    },
    {
      "cell_type": "code",
      "source": [
        "fmap = model_c.predict(np.expand_dims(rimg,axis=0))[0]\n",
        "print(fmap.shape)"
      ],
      "metadata": {
        "id": "jt3l9HvOPd0a",
        "colab": {
          "base_uri": "https://localhost:8080/"
        },
        "outputId": "85e7dc56-ad18-40cb-b595-21eb383bdc42"
      },
      "execution_count": 25,
      "outputs": [
        {
          "output_type": "stream",
          "name": "stdout",
          "text": [
            "(16, 16, 11)\n"
          ]
        }
      ]
    },
    {
      "cell_type": "code",
      "source": [
        "fmap = np.argmax(fmap,axis=-1)\n",
        "print(fmap.shape)\n",
        "print(fmap)"
      ],
      "metadata": {
        "id": "7loH5p5ZQvTm",
        "colab": {
          "base_uri": "https://localhost:8080/"
        },
        "outputId": "b1ddb727-df72-41fc-a975-39488b162195"
      },
      "execution_count": 26,
      "outputs": [
        {
          "output_type": "stream",
          "name": "stdout",
          "text": [
            "(16, 16)\n",
            "[[10 10 10 10 10 10 10 10 10 10 10 10 10 10 10 10]\n",
            " [10 10 10 10 10 10 10 10 10 10  8  3 10 10 10 10]\n",
            " [10  5  5 10 10 10  6  1 10 10  4  1 10 10 10 10]\n",
            " [10  3  3  3 10  7  1  4  1 10 10 10 10 10 10 10]\n",
            " [10 10 10 10 10 10  4  3 10 10 10 10 10 10 10 10]\n",
            " [10 10 10 10  4  1 10 10 10 10 10 10 10 10 10 10]\n",
            " [10 10 10 10  7  1 10 10 10 10 10  6  3  7 10 10]\n",
            " [10 10 10 10 10  7 10 10 10 10 10  8  8  3 10 10]\n",
            " [10 10 10 10 10 10 10 10 10 10 10 10 10 10 10 10]\n",
            " [10 10 10 10 10 10 10 10 10 10 10 10 10 10 10 10]\n",
            " [10 10 10  6  4 10 10 10 10 10 10 10 10 10 10 10]\n",
            " [10 10 10  5  7  1 10 10 10 10  6 10 10 10 10 10]\n",
            " [10 10 10 10  2 10 10 10 10  9  3  1 10 10 10 10]\n",
            " [10 10 10 10 10 10 10 10 10  7  7 10 10 10 10 10]\n",
            " [10 10 10 10 10 10 10 10 10 10 10 10 10 10 10 10]\n",
            " [10 10 10 10 10 10 10 10 10 10 10 10 10 10 10 10]]\n"
          ]
        }
      ]
    },
    {
      "cell_type": "markdown",
      "source": [
        "The result is better appreciated as a heatmap."
      ],
      "metadata": {
        "id": "n_F_2xH7P1Ca"
      }
    },
    {
      "cell_type": "code",
      "source": [
        "vcmap = np.vectorize(cmap1)\n",
        "fcmap = np.array(vcmap(fmap))\n",
        "fcmap = np.transpose(fcmap,(1,2,0))\n",
        "print(fcmap.shape)"
      ],
      "metadata": {
        "id": "ppQdo0_YRBHo",
        "colab": {
          "base_uri": "https://localhost:8080/"
        },
        "outputId": "95654de9-9c6e-4933-93f3-09725bb24b07"
      },
      "execution_count": null,
      "outputs": [
        {
          "output_type": "stream",
          "name": "stdout",
          "text": [
            "(16, 16, 3)\n"
          ]
        }
      ]
    },
    {
      "cell_type": "code",
      "source": [
        "fig,ax = plt.subplots()\n",
        "ax.imshow(fcmap)\n",
        "for i in range(11):\n",
        "  ax.text(18,2*i,str(i))\n",
        "  ax.scatter(20,2*i,s=40,color=cmap1(i))\n",
        "plt.show()"
      ],
      "metadata": {
        "colab": {
          "base_uri": "https://localhost:8080/",
          "height": 268
        },
        "id": "bJJR1aDDZqNX",
        "outputId": "2ba8df0e-6fae-4259-c754-c57aec5f2128"
      },
      "execution_count": null,
      "outputs": [
        {
          "output_type": "display_data",
          "data": {
            "text/plain": [
              "<Figure size 432x288 with 1 Axes>"
            ],
            "image/png": "[encoded data removed]"
          },
          "metadata": {
            "needs_background": "light"
          }
        }
      ]
    },
    {
      "cell_type": "markdown",
      "source": [
        "Location is good but classification is not always accurate.\n",
        "\n",
        "#Improvements\n",
        "\n",
        "Let us try to improve things by training a classifier more robust to dispacements (mnist data are precisely centered, while the stride of the convolutional network is 8)."
      ],
      "metadata": {
        "id": "GlrZrMdLQG2F"
      }
    },
    {
      "cell_type": "code",
      "source": [
        "from tensorflow.keras.preprocessing.image import ImageDataGenerator\n",
        "\n",
        "datagen = ImageDataGenerator(\n",
        "        #rotation_range=0.1,\n",
        "        width_shift_range=0.2,\n",
        "        height_shift_range=0.2,\n",
        "        #shear_range=0.15,\n",
        "        #zoom_range=0.15,\n",
        "        horizontal_flip=False,\n",
        "        fill_mode='nearest')"
      ],
      "metadata": {
        "id": "RDvR0XwASFLD"
      },
      "execution_count": 27,
      "outputs": []
    },
    {
      "cell_type": "markdown",
      "source": [
        "Let's look at sample samples of augmement data:"
      ],
      "metadata": {
        "id": "COcc_SJaTkxO"
      }
    },
    {
      "cell_type": "code",
      "source": [
        "i = 0\n",
        "for batch in datagen.flow(x_train[7:8], batch_size=1):\n",
        "    i += 1\n",
        "    plt.imshow(batch[0,:,:,0])\n",
        "    plt.show()\n",
        "    if i > 5:\n",
        "        break  # otherwise the generator would loop indefinitely"
      ],
      "metadata": {
        "id": "gbpOLiraWI_j",
        "colab": {
          "base_uri": "https://localhost:8080/",
          "height": 1000
        },
        "outputId": "4878f19b-2af8-41bd-b10a-8956154a91b3"
      },
      "execution_count": 28,
      "outputs": [
        {
          "output_type": "display_data",
          "data": {
            "text/plain": [
              "<Figure size 432x288 with 1 Axes>"
            ],
            "image/png": "[encoded data removed]"
          },
          "metadata": {
            "needs_background": "light"
          }
        },
        {
          "output_type": "display_data",
          "data": {
            "text/plain": [
              "<Figure size 432x288 with 1 Axes>"
            ],
            "image/png": "[encoded data removed]"
          },
          "metadata": {
            "needs_background": "light"
          }
        },
        {
          "output_type": "display_data",
          "data": {
            "text/plain": [
              "<Figure size 432x288 with 1 Axes>"
            ],
            "image/png": "[encoded data removed]"
          },
          "metadata": {
            "needs_background": "light"
          }
        },
        {
          "output_type": "display_data",
          "data": {
            "text/plain": [
              "<Figure size 432x288 with 1 Axes>"
            ],
            "image/png": "[encoded data removed]"
          },
          "metadata": {
            "needs_background": "light"
          }
        },
        {
          "output_type": "display_data",
          "data": {
            "text/plain": [
              "<Figure size 432x288 with 1 Axes>"
            ],
            "image/png": "[encoded data removed]"
          },
          "metadata": {
            "needs_background": "light"
          }
        },
        {
          "output_type": "display_data",
          "data": {
            "text/plain": [
              "<Figure size 432x288 with 1 Axes>"
            ],
            "image/png": "[encoded data removed]"
          },
          "metadata": {
            "needs_background": "light"
          }
        }
      ]
    },
    {
      "cell_type": "code",
      "source": [
        "train_generator = datagen.flow(x_train_bg,y_train_bg,batch_size=100)"
      ],
      "metadata": {
        "id": "brn4F0LUXs3a"
      },
      "execution_count": 29,
      "outputs": []
    },
    {
      "cell_type": "code",
      "source": [
        "model.fit(train_generator,\n",
        "          steps_per_epoch = 600,\n",
        "          epochs=5,\n",
        "          validation_data=(x_test_bg, y_test_bg))"
      ],
      "metadata": {
        "colab": {
          "base_uri": "https://localhost:8080/"
        },
        "id": "xGnvhhU5YoG5",
        "outputId": "fdd9784c-2d5a-4141-c2bc-31caedd49d42"
      },
      "execution_count": 30,
      "outputs": [
        {
          "output_type": "stream",
          "name": "stdout",
          "text": [
            "Epoch 1/5\n",
            "600/600 [==============================] - 21s 34ms/step - loss: 0.2239 - accuracy: 0.9314 - val_loss: 0.0978 - val_accuracy: 0.9684\n",
            "Epoch 2/5\n",
            "600/600 [==============================] - 22s 36ms/step - loss: 0.1121 - accuracy: 0.9647 - val_loss: 0.0778 - val_accuracy: 0.9760\n",
            "Epoch 3/5\n",
            "600/600 [==============================] - 21s 34ms/step - loss: 0.0929 - accuracy: 0.9710 - val_loss: 0.0847 - val_accuracy: 0.9721\n",
            "Epoch 4/5\n",
            "600/600 [==============================] - 26s 43ms/step - loss: 0.0827 - accuracy: 0.9747 - val_loss: 0.0752 - val_accuracy: 0.9755\n",
            "Epoch 5/5\n",
            "600/600 [==============================] - 21s 36ms/step - loss: 0.0782 - accuracy: 0.9758 - val_loss: 0.0885 - val_accuracy: 0.9718\n"
          ]
        },
        {
          "output_type": "execute_result",
          "data": {
            "text/plain": [
              "<keras.callbacks.History at 0x7fa7a512a590>"
            ]
          },
          "metadata": {},
          "execution_count": 30
        }
      ]
    },
    {
      "cell_type": "code",
      "source": [
        "model.save_weights(\"mymodel_bis.hdf5\")"
      ],
      "metadata": {
        "id": "SJectqSSaUv5"
      },
      "execution_count": null,
      "outputs": []
    },
    {
      "cell_type": "code",
      "source": [
        "model_c.load_weights(\"mymodel_bis.hdf5\")"
      ],
      "metadata": {
        "id": "_wXvWSBPadXU"
      },
      "execution_count": null,
      "outputs": []
    },
    {
      "cell_type": "code",
      "source": [
        "fmap = model_c.predict(np.expand_dims(rimg,axis=0))[0]\n",
        "fmap = np.argmax(fmap,axis=-1)\n",
        "print(fmap)\n",
        "fcmap = np.array(vcmap(fmap))\n",
        "fcmap = np.transpose(fcmap,(1,2,0))\n",
        "print(fcmap.shape)"
      ],
      "metadata": {
        "colab": {
          "base_uri": "https://localhost:8080/"
        },
        "id": "gwAoDgPbanFL",
        "outputId": "ee664e2b-f566-4e0b-9051-a1d0fbc6e19c"
      },
      "execution_count": null,
      "outputs": [
        {
          "output_type": "stream",
          "name": "stdout",
          "text": [
            "[[10 10 10 10 10 10 10 10 10 10 10 10 10 10 10 10]\n",
            " [10 10  5 10 10 10 10 10 10 10  9  1 10 10 10 10]\n",
            " [10  2  8 10 10 10  6  7 10 10  4  1 10 10 10 10]\n",
            " [10  5  3 10 10  1  1  7 10 10 10 10 10 10 10 10]\n",
            " [10 10 10 10 10 10  6  3 10 10 10 10 10 10 10 10]\n",
            " [10 10 10 10  1  1 10 10 10 10 10 10 10 10 10 10]\n",
            " [10 10 10 10  1  1 10 10 10 10 10  1  4  9 10 10]\n",
            " [10 10 10 10 10 10 10 10 10 10 10  6  6  3 10 10]\n",
            " [10 10 10 10 10 10 10 10 10 10 10 10  4 10 10 10]\n",
            " [10 10 10 10 10 10 10 10 10 10 10 10 10 10 10 10]\n",
            " [10 10 10  1  4 10 10 10 10 10 10 10 10 10 10 10]\n",
            " [10 10 10 10  4 10 10 10 10 10  9 10 10 10 10 10]\n",
            " [10 10 10 10  1 10 10 10 10  9  3 10 10 10 10 10]\n",
            " [10 10 10 10 10 10 10 10 10 10 10 10 10 10 10 10]\n",
            " [10 10 10 10 10 10 10 10 10 10 10 10 10 10 10 10]\n",
            " [10 10 10 10 10 10 10 10 10 10 10 10 10 10 10 10]]\n",
            "(16, 16, 3)\n"
          ]
        }
      ]
    },
    {
      "cell_type": "code",
      "source": [
        "fig,ax = plt.subplots()\n",
        "ax.imshow(fcmap)\n",
        "for i in range(11):\n",
        "  ax.text(18,2*i,str(i))\n",
        "  ax.scatter(20,2*i,s=40,color=cmap1(i))\n",
        "plt.show()"
      ],
      "metadata": {
        "colab": {
          "base_uri": "https://localhost:8080/",
          "height": 268
        },
        "id": "hx4ub7zZa5YP",
        "outputId": "f59a3766-b5bc-41e8-a4d6-fa4b134afa36"
      },
      "execution_count": null,
      "outputs": [
        {
          "output_type": "display_data",
          "data": {
            "text/plain": [
              "<Figure size 432x288 with 1 Axes>"
            ],
            "image/png": "[encoded data removed]"
          },
          "metadata": {
            "needs_background": "light"
          }
        }
      ]
    },
    {
      "cell_type": "markdown",
      "source": [
        "As a second attemp we consider a sligtly more sophisticated classifier."
      ],
      "metadata": {
        "id": "NXUFA3GLT1MI"
      }
    },
    {
      "cell_type": "code",
      "source": [
        "iimg = Input(shape=(28,28,1))\n",
        "x = Conv2D(16,(3,3),strides=2,padding='same', activation='swish')(iimg)\n",
        "x = Conv2D(16,(3,3),strides=1,padding='same',activation='swish')(x)\n",
        "x = Conv2D(32,(3,3),strides=2,padding='same',activation='swish')(x)\n",
        "x = Conv2D(32,(3,3),strides=1,padding='same',activation='swish')(x)\n",
        "x = Conv2D(64,(3,3),strides=2,padding='same',activation='swish')(x)\n",
        "x = Conv2D(64,(3,3),strides=1,padding='same',activation='swish')(x)\n",
        "x = GlobalMaxPool2D()(x)\n",
        "x = Dense(64,activation = 'swish')(x)\n",
        "cout = Dense(11, activation = 'softmax')(x) #we have now 11 categories\n",
        "\n",
        "model2 = Model(inputs=[iimg],outputs=[cout])"
      ],
      "metadata": {
        "id": "DijHOV-4cGvs"
      },
      "execution_count": 31,
      "outputs": []
    },
    {
      "cell_type": "code",
      "source": [
        "model2.compile(optimizer='adam',loss='sparse_categorical_crossentropy',metrics=['accuracy'])"
      ],
      "metadata": {
        "id": "4Uuv3puZcvfc"
      },
      "execution_count": null,
      "outputs": []
    },
    {
      "cell_type": "code",
      "source": [
        "model2.fit(train_generator,\n",
        "          steps_per_epoch = 600,\n",
        "          epochs=5,\n",
        "          validation_data=(x_test_bg, y_test_bg))"
      ],
      "metadata": {
        "colab": {
          "base_uri": "https://localhost:8080/"
        },
        "id": "eee-uXT9c3Op",
        "outputId": "78d6ea17-5e6a-43f0-e20c-754221ebcd39"
      },
      "execution_count": null,
      "outputs": [
        {
          "output_type": "stream",
          "name": "stdout",
          "text": [
            "Epoch 1/5\n",
            "600/600 [==============================] - 24s 38ms/step - loss: 0.5457 - accuracy: 0.8158 - val_loss: 0.1573 - val_accuracy: 0.9504\n",
            "Epoch 2/5\n",
            "600/600 [==============================] - 22s 37ms/step - loss: 0.1406 - accuracy: 0.9570 - val_loss: 0.1269 - val_accuracy: 0.9595\n",
            "Epoch 3/5\n",
            "600/600 [==============================] - 26s 44ms/step - loss: 0.0994 - accuracy: 0.9691 - val_loss: 0.0738 - val_accuracy: 0.9755\n",
            "Epoch 4/5\n",
            "600/600 [==============================] - 22s 36ms/step - loss: 0.0758 - accuracy: 0.9761 - val_loss: 0.0660 - val_accuracy: 0.9799\n",
            "Epoch 5/5\n",
            "600/600 [==============================] - 22s 36ms/step - loss: 0.0641 - accuracy: 0.9804 - val_loss: 0.0525 - val_accuracy: 0.9825\n"
          ]
        },
        {
          "output_type": "execute_result",
          "data": {
            "text/plain": [
              "<keras.callbacks.History at 0x7fd6402deb90>"
            ]
          },
          "metadata": {},
          "execution_count": 30
        }
      ]
    },
    {
      "cell_type": "code",
      "source": [
        "model2.save_weights(\"mymodel2.hdf5\")"
      ],
      "metadata": {
        "id": "p6p7XCn-elAV"
      },
      "execution_count": null,
      "outputs": []
    },
    {
      "cell_type": "markdown",
      "source": [
        "Now we convolutionalize the previous calssifier. In this case, we also leave a pooling layer after the convolution. Since we do not want to further decrease the spatial dimension of the feature map, we apply it with stride 1 (the default stride for pooling layers is equal to the dimension of the kernel)."
      ],
      "metadata": {
        "id": "iirhhadoUJF6"
      }
    },
    {
      "cell_type": "code",
      "source": [
        "iimg = Input(shape=(None,None,1))\n",
        "x = Conv2D(16,(3,3),strides=2,padding='same', activation='swish')(iimg)\n",
        "x = Conv2D(16,(3,3),strides=1,padding='same',activation='swish')(x)\n",
        "x = Conv2D(32,(3,3),strides=2,padding='same',activation='swish')(x)\n",
        "x = Conv2D(32,(3,3),strides=1,padding='same',activation='swish')(x)\n",
        "x = Conv2D(64,(3,3),strides=2,padding='same',activation='swish')(x)\n",
        "x = Conv2D(64,(3,3),strides=1,padding='same',activation='swish')(x)\n",
        "x = MaxPool2D((3,3),padding='same',strides=1)(x)\n",
        "x = Dense(64,activation = 'swish')(x)\n",
        "cout = Dense(11, activation = 'softmax')(x) \n",
        "\n",
        "model2_c = Model(inputs=[iimg],outputs=[cout])"
      ],
      "metadata": {
        "id": "4bYCpOPTeIB-"
      },
      "execution_count": null,
      "outputs": []
    },
    {
      "cell_type": "code",
      "source": [
        "model2_c.load_weights(\"mymodel2.hdf5\")"
      ],
      "metadata": {
        "id": "TaC6FKBpeia7"
      },
      "execution_count": null,
      "outputs": []
    },
    {
      "cell_type": "code",
      "source": [
        "fmap = model2_c.predict(np.expand_dims(rimg,axis=0))[0]\n",
        "fmap = np.argmax(fmap,axis=-1)\n",
        "print(fmap)\n",
        "fcmap = np.array(vcmap(fmap))\n",
        "fcmap = np.transpose(fcmap,(1,2,0))\n",
        "print(fcmap.shape)"
      ],
      "metadata": {
        "colab": {
          "base_uri": "https://localhost:8080/"
        },
        "id": "B_8Y_3mte21n",
        "outputId": "002cb182-91c4-47f3-b11b-b8c506f519cc"
      },
      "execution_count": null,
      "outputs": [
        {
          "output_type": "stream",
          "name": "stdout",
          "text": [
            "[[10 10 10 10 10 10 10 10 10 10  0  9 10 10 10 10]\n",
            " [ 5  5  5 10 10 10 10 10 10  9  9  9  9 10 10 10]\n",
            " [ 5  5  5  5 10  1  0  0  0  9  9  9  9 10 10 10]\n",
            " [ 5  5  5  5 10  0  0  0  0  9  9  9  8 10 10 10]\n",
            " [ 0  3  3  0  1  1  0  0  0 10 10 10 10 10 10 10]\n",
            " [10 10 10 10  1  1  1  2  2 10 10  6  6  6 10 10]\n",
            " [10 10 10 10  1  1  1 10 10 10 10  6  6  6  6 10]\n",
            " [10 10 10 10  1  1 10 10 10 10 10  6  6  6  0 10]\n",
            " [10 10 10 10 10 10 10 10 10 10 10  2  0  2  0 10]\n",
            " [10 10 10 10  0 10 10 10 10 10 10  2  2  2 10 10]\n",
            " [10 10 10  4  4  4  4 10 10 10 10 10 10 10 10 10]\n",
            " [10 10 10  4  4  4  4 10  0  0  9  9 10 10 10 10]\n",
            " [10 10 10  4  4  4  8 10  7  9  9  9 10 10 10 10]\n",
            " [10 10 10 10 10 10 10 10  7  9  9  9 10 10 10 10]\n",
            " [10 10 10 10 10 10 10 10  7  9  8  8 10 10 10 10]\n",
            " [10 10 10 10 10 10 10 10 10 10 10 10 10 10 10 10]]\n",
            "(16, 16, 3)\n"
          ]
        }
      ]
    },
    {
      "cell_type": "code",
      "source": [
        "fig,ax = plt.subplots()\n",
        "ax.imshow(fcmap)\n",
        "for i in range(11):\n",
        "  ax.text(18,2*i,str(i))\n",
        "  ax.scatter(20,2*i,s=40,color=cmap1(i))\n",
        "plt.show()"
      ],
      "metadata": {
        "colab": {
          "base_uri": "https://localhost:8080/",
          "height": 268
        },
        "id": "HRXeXeLufJWr",
        "outputId": "c164a23a-e27f-47cb-b0c3-7307b69b6393"
      },
      "execution_count": null,
      "outputs": [
        {
          "output_type": "display_data",
          "data": {
            "text/plain": [
              "<Figure size 432x288 with 1 Axes>"
            ],
            "image/png": "[encoded data removed]"
          },
          "metadata": {
            "needs_background": "light"
          }
        }
      ]
    }
  ]
}
