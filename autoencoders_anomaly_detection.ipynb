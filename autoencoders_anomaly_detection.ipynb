{
  "nbformat": 4,
  "nbformat_minor": 0,
  "metadata": {
    "colab": {
      "name": "anomaly_detection.ipynb",
      "provenance": []
    },
    "kernelspec": {
      "name": "python3",
      "display_name": "Python 3"
    },
    "language_info": {
      "name": "python"
    },
    "accelerator": "GPU"
  },
  "cells": [
    {
      "cell_type": "markdown",
      "metadata": {
        "id": "tdJWYFlSYr2a"
      },
      "source": [
        "In this notebook we build a simple auotencoder for Mnist data, and show how to use it for anomaly detection."
      ]
    },
    {
      "cell_type": "code",
      "metadata": {
        "id": "gfzis0VRTzx4"
      },
      "source": [
        "import tensorflow as tf\n",
        "from tensorflow.keras import layers\n",
        "from tensorflow.keras.models import Model\n",
        "from tensorflow.keras.optimizers import Adam"
      ],
      "execution_count": 3,
      "outputs": []
    },
    {
      "cell_type": "markdown",
      "metadata": {
        "id": "UUejWwcHYqyC"
      },
      "source": [
        "Both the encoder and the decoder are just composed by a couple of dense layers.\n",
        "The latent dimension is 16. This means that each input is reduced from an initial dimensions of 28*28=784 to a an internal dimension of just 16 floats.\n",
        "\n",
        "Most of the relevant information is preserved, as testified by the fact that we are able to reconstruct, out of this 16 values, an image very similar to the original one."
      ]
    },
    {
      "cell_type": "code",
      "metadata": {
        "id": "BTo6QGjpUL-6"
      },
      "source": [
        "# size of our encoded representations\n",
        "encoding_dim = 16 \n",
        "mid_dim = 64\n",
        "\n",
        "# input placeholder\n",
        "input_img = layers.Input(shape=(784,))\n",
        "# \"encoded\" is the encoded representation of the input\n",
        "encoded = layers.Dense(mid_dim, activation='relu')(input_img)\n",
        "encoded = layers.Dense(encoding_dim, activation='relu')(encoded)\n",
        "# \"decoded\" is the lossy reconstruction of the input\n",
        "decoded = layers.Dense(mid_dim, activation='relu')(encoded)\n",
        "decoded = layers.Dense(784, activation='sigmoid')(decoded)\n",
        "\n",
        "# this model maps an input to its reconstruction\n",
        "autoencoder = Model(input_img, decoded)"
      ],
      "execution_count": 6,
      "outputs": []
    },
    {
      "cell_type": "code",
      "metadata": {
        "id": "pxo-bQN_UpeW",
        "colab": {
          "base_uri": "https://localhost:8080/"
        },
        "outputId": "1c433068-180d-4b36-ad28-f18a372df307"
      },
      "source": [
        "autoencoder.summary()"
      ],
      "execution_count": 7,
      "outputs": [
        {
          "output_type": "stream",
          "text": [
            "Model: \"model_1\"\n",
            "_________________________________________________________________\n",
            "Layer (type)                 Output Shape              Param #   \n",
            "=================================================================\n",
            "input_2 (InputLayer)         [(None, 784)]             0         \n",
            "_________________________________________________________________\n",
            "dense_4 (Dense)              (None, 64)                50240     \n",
            "_________________________________________________________________\n",
            "dense_5 (Dense)              (None, 16)                1040      \n",
            "_________________________________________________________________\n",
            "dense_6 (Dense)              (None, 64)                1088      \n",
            "_________________________________________________________________\n",
            "dense_7 (Dense)              (None, 784)               50960     \n",
            "=================================================================\n",
            "Total params: 103,328\n",
            "Trainable params: 103,328\n",
            "Non-trainable params: 0\n",
            "_________________________________________________________________\n"
          ],
          "name": "stdout"
        }
      ]
    },
    {
      "cell_type": "markdown",
      "metadata": {
        "id": "t6oO__LvanuN"
      },
      "source": [
        "We can now compile the model. \n",
        "\n",
        "As loss function we can take mse or categorical crossentropy, as you prefer. "
      ]
    },
    {
      "cell_type": "code",
      "metadata": {
        "id": "U4ynuGg2U5Yf"
      },
      "source": [
        "adam = Adam(lr=0.001)\n",
        "autoencoder.compile(optimizer=adam, loss='mse')"
      ],
      "execution_count": 18,
      "outputs": []
    },
    {
      "cell_type": "markdown",
      "metadata": {
        "id": "5QkSZJw9bC4M"
      },
      "source": [
        "We now load the datatet, and normalize it in the range [0,1]. We are not using labels."
      ]
    },
    {
      "cell_type": "code",
      "metadata": {
        "colab": {
          "base_uri": "https://localhost:8080/"
        },
        "id": "DrxbCjv_VEr_",
        "outputId": "75e6942d-8c6d-4dbf-8613-621f729dc347"
      },
      "source": [
        "from keras.datasets import mnist\n",
        "import numpy as np\n",
        "(x_train, _), (x_test, _) = mnist.load_data()\n",
        "\n",
        "x_train = x_train.astype('float32') / 255.\n",
        "x_test = x_test.astype('float32') / 255.\n",
        "x_train = x_train.reshape((len(x_train), np.prod(x_train.shape[1:])))\n",
        "x_test = x_test.reshape((len(x_test), np.prod(x_test.shape[1:])))\n",
        "print(x_train.shape)\n",
        "print(x_test.shape)"
      ],
      "execution_count": 19,
      "outputs": [
        {
          "output_type": "stream",
          "text": [
            "(60000, 784)\n",
            "(10000, 784)\n"
          ],
          "name": "stdout"
        }
      ]
    },
    {
      "cell_type": "markdown",
      "metadata": {
        "id": "4f0kaHulbS8V"
      },
      "source": [
        "Time to fit the model. Observe that the ground truth we need to compare with is in this case the input itself. In other words, the loss is the distance between the inout $X$ and its reconstruction $\\hat{X}$"
      ]
    },
    {
      "cell_type": "code",
      "metadata": {
        "colab": {
          "base_uri": "https://localhost:8080/"
        },
        "id": "FrHB6uf4VP2D",
        "outputId": "0caa2ccd-9f6b-4094-f6fa-e84e01130b8a"
      },
      "source": [
        "autoencoder.fit(x_train, x_train,\n",
        "                epochs=20,\n",
        "                batch_size=256,\n",
        "                shuffle=True,\n",
        "                validation_data=(x_test, x_test))"
      ],
      "execution_count": 20,
      "outputs": [
        {
          "output_type": "stream",
          "text": [
            "Epoch 1/20\n",
            "235/235 [==============================] - 1s 4ms/step - loss: 0.0165 - val_loss: 0.0160\n",
            "Epoch 2/20\n",
            "235/235 [==============================] - 1s 3ms/step - loss: 0.0163 - val_loss: 0.0159\n",
            "Epoch 3/20\n",
            "235/235 [==============================] - 1s 3ms/step - loss: 0.0162 - val_loss: 0.0158\n",
            "Epoch 4/20\n",
            "235/235 [==============================] - 1s 3ms/step - loss: 0.0161 - val_loss: 0.0157\n",
            "Epoch 5/20\n",
            "235/235 [==============================] - 1s 3ms/step - loss: 0.0160 - val_loss: 0.0157\n",
            "Epoch 6/20\n",
            "235/235 [==============================] - 1s 3ms/step - loss: 0.0159 - val_loss: 0.0156\n",
            "Epoch 7/20\n",
            "235/235 [==============================] - 1s 3ms/step - loss: 0.0159 - val_loss: 0.0156\n",
            "Epoch 8/20\n",
            "235/235 [==============================] - 1s 4ms/step - loss: 0.0158 - val_loss: 0.0154\n",
            "Epoch 9/20\n",
            "235/235 [==============================] - 1s 3ms/step - loss: 0.0158 - val_loss: 0.0154\n",
            "Epoch 10/20\n",
            "235/235 [==============================] - 1s 3ms/step - loss: 0.0157 - val_loss: 0.0153\n",
            "Epoch 11/20\n",
            "235/235 [==============================] - 1s 3ms/step - loss: 0.0156 - val_loss: 0.0153\n",
            "Epoch 12/20\n",
            "235/235 [==============================] - 1s 3ms/step - loss: 0.0157 - val_loss: 0.0152\n",
            "Epoch 13/20\n",
            "235/235 [==============================] - 1s 3ms/step - loss: 0.0155 - val_loss: 0.0152\n",
            "Epoch 14/20\n",
            "235/235 [==============================] - 1s 3ms/step - loss: 0.0154 - val_loss: 0.0153\n",
            "Epoch 15/20\n",
            "235/235 [==============================] - 1s 3ms/step - loss: 0.0154 - val_loss: 0.0151\n",
            "Epoch 16/20\n",
            "235/235 [==============================] - 1s 3ms/step - loss: 0.0154 - val_loss: 0.0150\n",
            "Epoch 17/20\n",
            "235/235 [==============================] - 1s 3ms/step - loss: 0.0153 - val_loss: 0.0150\n",
            "Epoch 18/20\n",
            "235/235 [==============================] - 1s 3ms/step - loss: 0.0152 - val_loss: 0.0150\n",
            "Epoch 19/20\n",
            "235/235 [==============================] - 1s 3ms/step - loss: 0.0152 - val_loss: 0.0149\n",
            "Epoch 20/20\n",
            "235/235 [==============================] - 1s 3ms/step - loss: 0.0152 - val_loss: 0.0149\n"
          ],
          "name": "stdout"
        },
        {
          "output_type": "execute_result",
          "data": {
            "text/plain": [
              "<tensorflow.python.keras.callbacks.History at 0x7f76c265a1d0>"
            ]
          },
          "metadata": {
            "tags": []
          },
          "execution_count": 20
        }
      ]
    },
    {
      "cell_type": "markdown",
      "metadata": {
        "id": "9yXRGD2rb-gd"
      },
      "source": [
        "Let us check the result.\n",
        "\n",
        "First of all we conpute all reconstructions for images in the test set."
      ]
    },
    {
      "cell_type": "code",
      "metadata": {
        "id": "drKSjCmIVkr7"
      },
      "source": [
        "decoded_imgs = autoencoder.predict(x_test)"
      ],
      "execution_count": 11,
      "outputs": []
    },
    {
      "cell_type": "markdown",
      "metadata": {
        "id": "DMBrchCtcRhL"
      },
      "source": [
        "Now we can plot the result. We pick ten random images, and for each of them we show the original and the reconstruction obtained from the autoencoder."
      ]
    },
    {
      "cell_type": "code",
      "metadata": {
        "id": "2I8qdO3rV9OE",
        "colab": {
          "base_uri": "https://localhost:8080/",
          "height": 248
        },
        "outputId": "96bf0fe2-8497-4da3-819a-e9dcb56646d0"
      },
      "source": [
        "import matplotlib.pyplot as plt\n",
        "\n",
        "n = 10 #no images to plot\n",
        "imgs = np.random.randint(low=0,high=10000,size=n)\n",
        "plt.figure(figsize=(20, 4))\n",
        "for (i,idx) in enumerate(imgs):\n",
        "    # display original\n",
        "    ax = plt.subplot(2, n, i + 1)\n",
        "    plt.imshow(x_test[idx].reshape(28, 28))\n",
        "    plt.gray()\n",
        "    ax.get_xaxis().set_visible(False)\n",
        "    ax.get_yaxis().set_visible(False)\n",
        "\n",
        "    # display reconstruction\n",
        "    ax = plt.subplot(2, n, i + 1 + n)\n",
        "    plt.imshow(decoded_imgs[idx].reshape(28, 28))\n",
        "    plt.gray()\n",
        "    ax.get_xaxis().set_visible(False)\n",
        "    ax.get_yaxis().set_visible(False)\n",
        "plt.show()\n"
      ],
      "execution_count": 21,
      "outputs": [
        {
          "output_type": "display_data",
          "data": {
            "image/png": "[encoded data removed]",
            "text/plain": [
              "<Figure size 1440x288 with 20 Axes>"
            ]
          },
          "metadata": {
            "tags": [],
            "needs_background": "light"
          }
        }
      ]
    },
    {
      "cell_type": "markdown",
      "metadata": {
        "id": "hkRApEXofHuz"
      },
      "source": [
        "# Anomaly detection\n",
        "\n",
        "We want now to show how we can use an autoencoder for anomaly detection.\n",
        "\n",
        "The genral idea is that the encoding learned by the autoenoder is data-specific. This means that if we apply the autoencoder to an outlier, the resulting reconstruction should be sensibily worse than usual, and we may exploit this simple fact to detect the anomaly."
      ]
    },
    {
      "cell_type": "markdown",
      "metadata": {
        "id": "RvuJQDk6f9dY"
      },
      "source": [
        "The first step of the procedure is to identify the canonical expected reconstruction error on true data, and the associated standard deviation."
      ]
    },
    {
      "cell_type": "code",
      "metadata": {
        "colab": {
          "base_uri": "https://localhost:8080/"
        },
        "id": "9P1yRXhTgWj1",
        "outputId": "49126bdb-3615-4b4d-a6a1-7ce912c4eac8"
      },
      "source": [
        "mse_all = np.mean(np.square(decoded_imgs - x_test),axis=1) #mean error for each input\n",
        "print(mse.shape) \n",
        "mse = np.mean(mse_all)\n",
        "std = np.std(mse_all)\n",
        "print(\"mse is {}, with a standard deviation of {}\".format(mse,std))"
      ],
      "execution_count": 30,
      "outputs": [
        {
          "output_type": "stream",
          "text": [
            "()\n",
            "mse is 0.01905367523431778, with a standard deviation of 0.009669928811490536\n"
          ],
          "name": "stdout"
        }
      ]
    },
    {
      "cell_type": "markdown",
      "metadata": {
        "id": "rfydyrtLh-Eh"
      },
      "source": [
        "Now we create an \"anomaly\". We simply take a normal image from the dataset, and rotate it of 90 degrees. \n",
        "\n",
        "For this example, we use image no 15 in the test set."
      ]
    },
    {
      "cell_type": "code",
      "metadata": {
        "colab": {
          "base_uri": "https://localhost:8080/",
          "height": 270
        },
        "id": "Znt0h6BFiqjl",
        "outputId": "6afefd5b-8469-40f0-d2c6-863dfa206e6f"
      },
      "source": [
        "test = x_test[15].reshape(1,784)\n",
        "print(autoencoder.evaluate(test,test))\n",
        "\n",
        "plt.figure(figsize=(8,4))\n",
        "ax = plt.subplot(1,2,1)\n",
        "plt.imshow(x_test[15].reshape(28, 28))\n",
        "plt.gray()\n",
        "ax.get_xaxis().set_visible(False)\n",
        "ax.get_yaxis().set_visible(False)\n",
        "ax = plt.subplot(1, 2, 2)\n",
        "plt.imshow(decoded_imgs[15].reshape(28, 28))\n",
        "plt.gray()\n",
        "ax.get_xaxis().set_visible(False)\n",
        "ax.get_yaxis().set_visible(False)\n",
        "plt.savefig('lyar1.jpg')\n",
        "plt.show()"
      ],
      "execution_count": 31,
      "outputs": [
        {
          "output_type": "stream",
          "text": [
            "1/1 [==============================] - 0s 16ms/step - loss: 0.0270\n",
            "0.027014590799808502\n"
          ],
          "name": "stdout"
        },
        {
          "output_type": "display_data",
          "data": {
            "image/png": "[encoded data removed]",
            "text/plain": [
              "<Figure size 576x288 with 2 Axes>"
            ]
          },
          "metadata": {
            "tags": [],
            "needs_background": "light"
          }
        }
      ]
    },
    {
      "cell_type": "markdown",
      "metadata": {
        "id": "NUCMrEjCi7gq"
      },
      "source": [
        "Observe that the reconstruction is not particularly good, but still the loss (0.207) is more or less on std away from the mean, that is a normal behaviour.\n",
        "\n",
        "Now, let us rotate it and repeat the computation."
      ]
    },
    {
      "cell_type": "code",
      "metadata": {
        "colab": {
          "base_uri": "https://localhost:8080/",
          "height": 237
        },
        "id": "V2jM4Hfzjfju",
        "outputId": "ce7ac12a-f994-4222-93d9-6a7da71e9ae0"
      },
      "source": [
        "rotated = np.rot90(x_test[15].reshape(28,28))\n",
        "predicted = autoencoder.predict(rotated.reshape(1,784))[0].reshape(28,28)\n",
        "\n",
        "plt.figure(figsize=(8,4))\n",
        "ax = plt.subplot(1,2,1)\n",
        "plt.imshow(rotated)\n",
        "plt.gray()\n",
        "ax.get_xaxis().set_visible(False)\n",
        "ax.get_yaxis().set_visible(False)\n",
        "ax = plt.subplot(1, 2, 2)\n",
        "plt.imshow(predicted)\n",
        "plt.gray()\n",
        "ax.get_xaxis().set_visible(False)\n",
        "ax.get_yaxis().set_visible(False)\n",
        "plt.savefig('lyar2.jpg')\n",
        "plt.show()"
      ],
      "execution_count": 33,
      "outputs": [
        {
          "output_type": "display_data",
          "data": {
            "image/png": "[encoded data removed]",
            "text/plain": [
              "<Figure size 576x288 with 2 Axes>"
            ]
          },
          "metadata": {
            "tags": [],
            "needs_background": "light"
          }
        }
      ]
    },
    {
      "cell_type": "code",
      "metadata": {
        "colab": {
          "base_uri": "https://localhost:8080/"
        },
        "id": "lLpUNUAvkSV9",
        "outputId": "56dcc164-98bf-4ab5-d29c-35e46c197703"
      },
      "source": [
        "mse = np.mean(np.square(predicted-rotated))\n",
        "print(\"mse is {}\".format(mse))"
      ],
      "execution_count": 35,
      "outputs": [
        {
          "output_type": "stream",
          "text": [
            "mse is 0.052468638867139816\n"
          ],
          "name": "stdout"
        }
      ]
    },
    {
      "cell_type": "markdown",
      "metadata": {
        "id": "QBuqr7o5ksM5"
      },
      "source": [
        "The mse in this case is 0.052, more than 3 std away form the mean, that is surely an anomaly!!"
      ]
    },
    {
      "cell_type": "markdown",
      "metadata": {
        "id": "ZpwnCIrkk601"
      },
      "source": [
        "Let us finally observe that, instead of using mean and variance of reconstruction errors, we could have directly worked in the latent space.\n",
        "\n",
        "In fact, autoencoders generalize Principal Component Ananlysis, extracting relevant, non linear combinations of the input features. Any anomaly will \n",
        "sensibibly discost from canonical values of the latent encoding."
      ]
    }
  ]
}
