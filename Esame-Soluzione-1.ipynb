{
  "nbformat": 4,
  "nbformat_minor": 0,
  "metadata": {
    "colab": {
      "name": "Untitled4.ipynb",
      "provenance": [],
      "machine_shape": "hm",
      "authorship_tag": "ABX9TyNEADsUwlxuhnZbIcZnvQ0P",
      "include_colab_link": true
    },
    "kernelspec": {
      "name": "python3",
      "display_name": "Python 3"
    },
    "language_info": {
      "name": "python"
    },
    "accelerator": "GPU"
  },
  "cells": [
    {
      "cell_type": "markdown",
      "metadata": {
        "id": "view-in-github",
        "colab_type": "text"
      },
      "source": [
        "<a href=\"https://colab.research.google.com/github/maidacundo/DeepLearningREPO/blob/main/Esame-Soluzione-1.ipynb\" target=\"_parent\"><img src=\"https://colab.research.google.com/assets/colab-badge.svg\" alt=\"Open In Colab\"/></a>"
      ]
    },
    {
      "cell_type": "code",
      "execution_count": 1,
      "metadata": {
        "id": "hNP7NA_k5N2e"
      },
      "outputs": [],
      "source": [
        "import tensorflow as tf \n",
        "import random\n",
        "from cv2 import GaussianBlur\n",
        "import numpy as np\n",
        "\n",
        "import matplotlib.pyplot as plt\n",
        "from tensorflow.keras.layers import Conv2D, Conv2DTranspose, Input, Dense, MaxPooling2D, Add, Dropout, ConvLSTM2D, GaussianNoise, BatchNormalization , Activation, UpSampling2D\n",
        "from tensorflow.keras.models import Model\n",
        "from tensorflow.keras.optimizers import Adam\n",
        "\n",
        "def getDataset():\n",
        "  (x_train, _), (x_test, _) = tf.keras.datasets.cifar10.load_data()\n",
        "  normalize = lambda x: x/x.max()\n",
        "  x_train = normalize(x_train)\n",
        "  x_test = normalize(x_test)\n",
        "  createBlurred = lambda arr: np.array([GaussianBlur(x, (5,5), ((random.random()*3)+1)) + (0.02*np.random.normal(0,1, (32, 32, 3))) for x in arr])\n",
        "  return (createBlurred(x_train), x_train), (createBlurred(x_test), x_test)"
      ]
    },
    {
      "cell_type": "code",
      "source": [
        "(x_train_blured, x_train), (x_test_blured, x_test) = getDataset()\n",
        "print(f\"Train size: {x_train_blured.shape}. Test size: {x_test_blured.shape}\")"
      ],
      "metadata": {
        "colab": {
          "base_uri": "https://localhost:8080/"
        },
        "id": "2D568O8C5QLl",
        "outputId": "69d48661-751b-48be-e4e3-8a50c439ffa2"
      },
      "execution_count": 2,
      "outputs": [
        {
          "output_type": "stream",
          "name": "stdout",
          "text": [
            "Downloading data from https://www.cs.toronto.edu/~kriz/cifar-10-python.tar.gz\n",
            "170500096/170498071 [==============================] - 2s 0us/step\n",
            "170508288/170498071 [==============================] - 2s 0us/step\n",
            "Train size: (50000, 32, 32, 3). Test size: (10000, 32, 32, 3)\n"
          ]
        }
      ]
    },
    {
      "cell_type": "code",
      "source": [
        "def res_block(x, filter, kernel_size):\n",
        "    # copy tensor to variable called x_skip\n",
        "    x_skip = x\n",
        "    # Layer 1\n",
        "    x = tf.keras.layers.Conv2D(filter, kernel_size, padding = 'same')(x)\n",
        "    # x = tf.keras.layers.BatchNormalization(axis=3)(x)\n",
        "    x = tf.keras.layers.Activation('relu')(x)\n",
        "    # Layer 2\n",
        "    x = tf.keras.layers.Conv2D(filter, kernel_size, padding = 'same')(x)\n",
        "    # x = tf.keras.layers.BatchNormalization(axis=3)(x)\n",
        "    # Add Residue\n",
        "    x = tf.keras.layers.Add()([x, x_skip])     \n",
        "    x = tf.keras.layers.Activation('relu')(x)\n",
        "    return x"
      ],
      "metadata": {
        "id": "npjoXiHt5a8x"
      },
      "execution_count": 3,
      "outputs": []
    },
    {
      "cell_type": "code",
      "source": [
        "# modello\n",
        "\n",
        "# input\n",
        "input_shape = (32, 32, 3)\n",
        "inputs = Input(shape=input_shape)\n",
        "\n",
        "# upsampling\n",
        "\n",
        "x = Conv2D(64, (2, 2), strides = 1, padding = 'same') (inputs)\n",
        "x = res_block(x, 64,(2, 2))\n",
        "x = res_block(x, 64,(2, 2))\n",
        "conv_1 = res_block(x, 64,(2, 2))\n",
        "\n",
        "x = Conv2D(32, (2, 2), strides = 1, padding = 'same') (conv_1)\n",
        "x = res_block(x, 32,(2, 2))\n",
        "x = res_block(x, 32,(2, 2))\n",
        "conv_2 = res_block(x, 32,(2, 2))\n",
        "\n",
        "x = Conv2D(16, (2, 2), strides = 1, padding = 'same') (conv_2)\n",
        "x = res_block(x, 16,(2, 2))\n",
        "x = res_block(x, 16,(2, 2))\n",
        "conv_3 = res_block(x, 16,(2, 2))\n",
        "\n",
        "# hidden layer\n",
        "x = Conv2D(16, (2, 2), strides = 1, padding = 'same') (x)\n",
        "# deconvolution\n",
        "\n",
        "cat_0 = x + conv_3\n",
        "\n",
        "x = res_block(cat_0, 16,(2, 2))\n",
        "x = res_block(x, 16,(2, 2))\n",
        "x = res_block(x, 16,(2, 2))\n",
        "x = Conv2DTranspose(32, (2, 2), strides = 1, padding = 'same') (x)\n",
        "\n",
        "cat_1 = x + conv_2\n",
        "\n",
        "x = res_block(cat_1, 32,(2, 2))\n",
        "x = res_block(x, 32,(2, 2))\n",
        "x = res_block(x, 32,(2, 2))\n",
        "x = Conv2DTranspose(64, (3, 3), strides = 1, padding = 'same') (x)\n",
        "\n",
        "cat_2 = x + conv_1\n",
        "\n",
        "x = res_block(cat_2, 64,(2, 2))\n",
        "x = res_block(x, 64,(2, 2))\n",
        "x = res_block(x, 64,(2, 2))\n",
        "\n",
        "x = tf.keras.layers.UpSampling2D((2, 2)) (x)\n",
        "print(x)\n",
        "# max pooling\n",
        "\n",
        "x = MaxPooling2D((2, 2), strides = 2) (x)\n",
        "\n",
        "x = Conv2DTranspose(32, (2, 2), strides = 1, padding = 'same') (x)\n",
        "x = Conv2DTranspose(16, (2, 2), strides = 1, padding = 'same') (x)\n",
        "\n",
        "outputs = Conv2DTranspose(3, (1, 1), strides = 1, activation = 'sigmoid', padding = 'same') (x)"
      ],
      "metadata": {
        "id": "EWxFDPzq5pcX",
        "outputId": "96bea8e5-e1d3-4d57-cd41-418d84af03a4",
        "colab": {
          "base_uri": "https://localhost:8080/"
        }
      },
      "execution_count": 61,
      "outputs": [
        {
          "output_type": "stream",
          "name": "stdout",
          "text": [
            "KerasTensor(type_spec=TensorSpec(shape=(None, 64, 64, 64), dtype=tf.float32, name=None), name='up_sampling2d_7/resize/ResizeNearestNeighbor:0', description=\"created by layer 'up_sampling2d_7'\")\n"
          ]
        }
      ]
    },
    {
      "cell_type": "code",
      "source": [
        "model = Model(inputs=inputs,outputs=outputs)\n",
        "model.summary()"
      ],
      "metadata": {
        "colab": {
          "base_uri": "https://localhost:8080/"
        },
        "id": "Lp4CsPam80Bx",
        "outputId": "3161b48b-90a0-4829-f0ce-b87ec8aaf28d"
      },
      "execution_count": 62,
      "outputs": [
        {
          "output_type": "stream",
          "name": "stdout",
          "text": [
            "Model: \"model_10\"\n",
            "__________________________________________________________________________________________________\n",
            " Layer (type)                   Output Shape         Param #     Connected to                     \n",
            "==================================================================================================\n",
            " input_27 (InputLayer)          [(None, 32, 32, 3)]  0           []                               \n",
            "                                                                                                  \n",
            " conv2d_1024 (Conv2D)           (None, 32, 32, 64)   832         ['input_27[0][0]']               \n",
            "                                                                                                  \n",
            " conv2d_1025 (Conv2D)           (None, 32, 32, 64)   16448       ['conv2d_1024[0][0]']            \n",
            "                                                                                                  \n",
            " activation_877 (Activation)    (None, 32, 32, 64)   0           ['conv2d_1025[0][0]']            \n",
            "                                                                                                  \n",
            " conv2d_1026 (Conv2D)           (None, 32, 32, 64)   16448       ['activation_877[0][0]']         \n",
            "                                                                                                  \n",
            " add_439 (Add)                  (None, 32, 32, 64)   0           ['conv2d_1026[0][0]',            \n",
            "                                                                  'conv2d_1024[0][0]']            \n",
            "                                                                                                  \n",
            " activation_878 (Activation)    (None, 32, 32, 64)   0           ['add_439[0][0]']                \n",
            "                                                                                                  \n",
            " conv2d_1027 (Conv2D)           (None, 32, 32, 64)   16448       ['activation_878[0][0]']         \n",
            "                                                                                                  \n",
            " activation_879 (Activation)    (None, 32, 32, 64)   0           ['conv2d_1027[0][0]']            \n",
            "                                                                                                  \n",
            " conv2d_1028 (Conv2D)           (None, 32, 32, 64)   16448       ['activation_879[0][0]']         \n",
            "                                                                                                  \n",
            " add_440 (Add)                  (None, 32, 32, 64)   0           ['conv2d_1028[0][0]',            \n",
            "                                                                  'activation_878[0][0]']         \n",
            "                                                                                                  \n",
            " activation_880 (Activation)    (None, 32, 32, 64)   0           ['add_440[0][0]']                \n",
            "                                                                                                  \n",
            " conv2d_1029 (Conv2D)           (None, 32, 32, 64)   16448       ['activation_880[0][0]']         \n",
            "                                                                                                  \n",
            " activation_881 (Activation)    (None, 32, 32, 64)   0           ['conv2d_1029[0][0]']            \n",
            "                                                                                                  \n",
            " conv2d_1030 (Conv2D)           (None, 32, 32, 64)   16448       ['activation_881[0][0]']         \n",
            "                                                                                                  \n",
            " add_441 (Add)                  (None, 32, 32, 64)   0           ['conv2d_1030[0][0]',            \n",
            "                                                                  'activation_880[0][0]']         \n",
            "                                                                                                  \n",
            " activation_882 (Activation)    (None, 32, 32, 64)   0           ['add_441[0][0]']                \n",
            "                                                                                                  \n",
            " conv2d_1031 (Conv2D)           (None, 32, 32, 32)   8224        ['activation_882[0][0]']         \n",
            "                                                                                                  \n",
            " conv2d_1032 (Conv2D)           (None, 32, 32, 32)   4128        ['conv2d_1031[0][0]']            \n",
            "                                                                                                  \n",
            " activation_883 (Activation)    (None, 32, 32, 32)   0           ['conv2d_1032[0][0]']            \n",
            "                                                                                                  \n",
            " conv2d_1033 (Conv2D)           (None, 32, 32, 32)   4128        ['activation_883[0][0]']         \n",
            "                                                                                                  \n",
            " add_442 (Add)                  (None, 32, 32, 32)   0           ['conv2d_1033[0][0]',            \n",
            "                                                                  'conv2d_1031[0][0]']            \n",
            "                                                                                                  \n",
            " activation_884 (Activation)    (None, 32, 32, 32)   0           ['add_442[0][0]']                \n",
            "                                                                                                  \n",
            " conv2d_1034 (Conv2D)           (None, 32, 32, 32)   4128        ['activation_884[0][0]']         \n",
            "                                                                                                  \n",
            " activation_885 (Activation)    (None, 32, 32, 32)   0           ['conv2d_1034[0][0]']            \n",
            "                                                                                                  \n",
            " conv2d_1035 (Conv2D)           (None, 32, 32, 32)   4128        ['activation_885[0][0]']         \n",
            "                                                                                                  \n",
            " add_443 (Add)                  (None, 32, 32, 32)   0           ['conv2d_1035[0][0]',            \n",
            "                                                                  'activation_884[0][0]']         \n",
            "                                                                                                  \n",
            " activation_886 (Activation)    (None, 32, 32, 32)   0           ['add_443[0][0]']                \n",
            "                                                                                                  \n",
            " conv2d_1036 (Conv2D)           (None, 32, 32, 32)   4128        ['activation_886[0][0]']         \n",
            "                                                                                                  \n",
            " activation_887 (Activation)    (None, 32, 32, 32)   0           ['conv2d_1036[0][0]']            \n",
            "                                                                                                  \n",
            " conv2d_1037 (Conv2D)           (None, 32, 32, 32)   4128        ['activation_887[0][0]']         \n",
            "                                                                                                  \n",
            " add_444 (Add)                  (None, 32, 32, 32)   0           ['conv2d_1037[0][0]',            \n",
            "                                                                  'activation_886[0][0]']         \n",
            "                                                                                                  \n",
            " activation_888 (Activation)    (None, 32, 32, 32)   0           ['add_444[0][0]']                \n",
            "                                                                                                  \n",
            " conv2d_1038 (Conv2D)           (None, 32, 32, 16)   2064        ['activation_888[0][0]']         \n",
            "                                                                                                  \n",
            " conv2d_1039 (Conv2D)           (None, 32, 32, 16)   1040        ['conv2d_1038[0][0]']            \n",
            "                                                                                                  \n",
            " activation_889 (Activation)    (None, 32, 32, 16)   0           ['conv2d_1039[0][0]']            \n",
            "                                                                                                  \n",
            " conv2d_1040 (Conv2D)           (None, 32, 32, 16)   1040        ['activation_889[0][0]']         \n",
            "                                                                                                  \n",
            " add_445 (Add)                  (None, 32, 32, 16)   0           ['conv2d_1040[0][0]',            \n",
            "                                                                  'conv2d_1038[0][0]']            \n",
            "                                                                                                  \n",
            " activation_890 (Activation)    (None, 32, 32, 16)   0           ['add_445[0][0]']                \n",
            "                                                                                                  \n",
            " conv2d_1041 (Conv2D)           (None, 32, 32, 16)   1040        ['activation_890[0][0]']         \n",
            "                                                                                                  \n",
            " activation_891 (Activation)    (None, 32, 32, 16)   0           ['conv2d_1041[0][0]']            \n",
            "                                                                                                  \n",
            " conv2d_1042 (Conv2D)           (None, 32, 32, 16)   1040        ['activation_891[0][0]']         \n",
            "                                                                                                  \n",
            " add_446 (Add)                  (None, 32, 32, 16)   0           ['conv2d_1042[0][0]',            \n",
            "                                                                  'activation_890[0][0]']         \n",
            "                                                                                                  \n",
            " activation_892 (Activation)    (None, 32, 32, 16)   0           ['add_446[0][0]']                \n",
            "                                                                                                  \n",
            " conv2d_1043 (Conv2D)           (None, 32, 32, 16)   1040        ['activation_892[0][0]']         \n",
            "                                                                                                  \n",
            " activation_893 (Activation)    (None, 32, 32, 16)   0           ['conv2d_1043[0][0]']            \n",
            "                                                                                                  \n",
            " conv2d_1044 (Conv2D)           (None, 32, 32, 16)   1040        ['activation_893[0][0]']         \n",
            "                                                                                                  \n",
            " add_447 (Add)                  (None, 32, 32, 16)   0           ['conv2d_1044[0][0]',            \n",
            "                                                                  'activation_892[0][0]']         \n",
            "                                                                                                  \n",
            " conv2d_1045 (Conv2D)           (None, 32, 32, 16)   1040        ['activation_892[0][0]']         \n",
            "                                                                                                  \n",
            " activation_894 (Activation)    (None, 32, 32, 16)   0           ['add_447[0][0]']                \n",
            "                                                                                                  \n",
            " tf.__operators__.add_73 (TFOpL  (None, 32, 32, 16)  0           ['conv2d_1045[0][0]',            \n",
            " ambda)                                                           'activation_894[0][0]']         \n",
            "                                                                                                  \n",
            " conv2d_1046 (Conv2D)           (None, 32, 32, 16)   1040        ['tf.__operators__.add_73[0][0]']\n",
            "                                                                                                  \n",
            " activation_895 (Activation)    (None, 32, 32, 16)   0           ['conv2d_1046[0][0]']            \n",
            "                                                                                                  \n",
            " conv2d_1047 (Conv2D)           (None, 32, 32, 16)   1040        ['activation_895[0][0]']         \n",
            "                                                                                                  \n",
            " add_448 (Add)                  (None, 32, 32, 16)   0           ['conv2d_1047[0][0]',            \n",
            "                                                                  'tf.__operators__.add_73[0][0]']\n",
            "                                                                                                  \n",
            " activation_896 (Activation)    (None, 32, 32, 16)   0           ['add_448[0][0]']                \n",
            "                                                                                                  \n",
            " conv2d_1048 (Conv2D)           (None, 32, 32, 16)   1040        ['activation_896[0][0]']         \n",
            "                                                                                                  \n",
            " activation_897 (Activation)    (None, 32, 32, 16)   0           ['conv2d_1048[0][0]']            \n",
            "                                                                                                  \n",
            " conv2d_1049 (Conv2D)           (None, 32, 32, 16)   1040        ['activation_897[0][0]']         \n",
            "                                                                                                  \n",
            " add_449 (Add)                  (None, 32, 32, 16)   0           ['conv2d_1049[0][0]',            \n",
            "                                                                  'activation_896[0][0]']         \n",
            "                                                                                                  \n",
            " activation_898 (Activation)    (None, 32, 32, 16)   0           ['add_449[0][0]']                \n",
            "                                                                                                  \n",
            " conv2d_1050 (Conv2D)           (None, 32, 32, 16)   1040        ['activation_898[0][0]']         \n",
            "                                                                                                  \n",
            " activation_899 (Activation)    (None, 32, 32, 16)   0           ['conv2d_1050[0][0]']            \n",
            "                                                                                                  \n",
            " conv2d_1051 (Conv2D)           (None, 32, 32, 16)   1040        ['activation_899[0][0]']         \n",
            "                                                                                                  \n",
            " add_450 (Add)                  (None, 32, 32, 16)   0           ['conv2d_1051[0][0]',            \n",
            "                                                                  'activation_898[0][0]']         \n",
            "                                                                                                  \n",
            " activation_900 (Activation)    (None, 32, 32, 16)   0           ['add_450[0][0]']                \n",
            "                                                                                                  \n",
            " conv2d_transpose_120 (Conv2DTr  (None, 32, 32, 32)  2080        ['activation_900[0][0]']         \n",
            " anspose)                                                                                         \n",
            "                                                                                                  \n",
            " tf.__operators__.add_74 (TFOpL  (None, 32, 32, 32)  0           ['conv2d_transpose_120[0][0]',   \n",
            " ambda)                                                           'activation_888[0][0]']         \n",
            "                                                                                                  \n",
            " conv2d_1052 (Conv2D)           (None, 32, 32, 32)   4128        ['tf.__operators__.add_74[0][0]']\n",
            "                                                                                                  \n",
            " activation_901 (Activation)    (None, 32, 32, 32)   0           ['conv2d_1052[0][0]']            \n",
            "                                                                                                  \n",
            " conv2d_1053 (Conv2D)           (None, 32, 32, 32)   4128        ['activation_901[0][0]']         \n",
            "                                                                                                  \n",
            " add_451 (Add)                  (None, 32, 32, 32)   0           ['conv2d_1053[0][0]',            \n",
            "                                                                  'tf.__operators__.add_74[0][0]']\n",
            "                                                                                                  \n",
            " activation_902 (Activation)    (None, 32, 32, 32)   0           ['add_451[0][0]']                \n",
            "                                                                                                  \n",
            " conv2d_1054 (Conv2D)           (None, 32, 32, 32)   4128        ['activation_902[0][0]']         \n",
            "                                                                                                  \n",
            " activation_903 (Activation)    (None, 32, 32, 32)   0           ['conv2d_1054[0][0]']            \n",
            "                                                                                                  \n",
            " conv2d_1055 (Conv2D)           (None, 32, 32, 32)   4128        ['activation_903[0][0]']         \n",
            "                                                                                                  \n",
            " add_452 (Add)                  (None, 32, 32, 32)   0           ['conv2d_1055[0][0]',            \n",
            "                                                                  'activation_902[0][0]']         \n",
            "                                                                                                  \n",
            " activation_904 (Activation)    (None, 32, 32, 32)   0           ['add_452[0][0]']                \n",
            "                                                                                                  \n",
            " conv2d_1056 (Conv2D)           (None, 32, 32, 32)   4128        ['activation_904[0][0]']         \n",
            "                                                                                                  \n",
            " activation_905 (Activation)    (None, 32, 32, 32)   0           ['conv2d_1056[0][0]']            \n",
            "                                                                                                  \n",
            " conv2d_1057 (Conv2D)           (None, 32, 32, 32)   4128        ['activation_905[0][0]']         \n",
            "                                                                                                  \n",
            " add_453 (Add)                  (None, 32, 32, 32)   0           ['conv2d_1057[0][0]',            \n",
            "                                                                  'activation_904[0][0]']         \n",
            "                                                                                                  \n",
            " activation_906 (Activation)    (None, 32, 32, 32)   0           ['add_453[0][0]']                \n",
            "                                                                                                  \n",
            " conv2d_transpose_121 (Conv2DTr  (None, 32, 32, 64)  18496       ['activation_906[0][0]']         \n",
            " anspose)                                                                                         \n",
            "                                                                                                  \n",
            " tf.__operators__.add_75 (TFOpL  (None, 32, 32, 64)  0           ['conv2d_transpose_121[0][0]',   \n",
            " ambda)                                                           'activation_882[0][0]']         \n",
            "                                                                                                  \n",
            " conv2d_1058 (Conv2D)           (None, 32, 32, 64)   16448       ['tf.__operators__.add_75[0][0]']\n",
            "                                                                                                  \n",
            " activation_907 (Activation)    (None, 32, 32, 64)   0           ['conv2d_1058[0][0]']            \n",
            "                                                                                                  \n",
            " conv2d_1059 (Conv2D)           (None, 32, 32, 64)   16448       ['activation_907[0][0]']         \n",
            "                                                                                                  \n",
            " add_454 (Add)                  (None, 32, 32, 64)   0           ['conv2d_1059[0][0]',            \n",
            "                                                                  'tf.__operators__.add_75[0][0]']\n",
            "                                                                                                  \n",
            " activation_908 (Activation)    (None, 32, 32, 64)   0           ['add_454[0][0]']                \n",
            "                                                                                                  \n",
            " conv2d_1060 (Conv2D)           (None, 32, 32, 64)   16448       ['activation_908[0][0]']         \n",
            "                                                                                                  \n",
            " activation_909 (Activation)    (None, 32, 32, 64)   0           ['conv2d_1060[0][0]']            \n",
            "                                                                                                  \n",
            " conv2d_1061 (Conv2D)           (None, 32, 32, 64)   16448       ['activation_909[0][0]']         \n",
            "                                                                                                  \n",
            " add_455 (Add)                  (None, 32, 32, 64)   0           ['conv2d_1061[0][0]',            \n",
            "                                                                  'activation_908[0][0]']         \n",
            "                                                                                                  \n",
            " activation_910 (Activation)    (None, 32, 32, 64)   0           ['add_455[0][0]']                \n",
            "                                                                                                  \n",
            " conv2d_1062 (Conv2D)           (None, 32, 32, 64)   16448       ['activation_910[0][0]']         \n",
            "                                                                                                  \n",
            " activation_911 (Activation)    (None, 32, 32, 64)   0           ['conv2d_1062[0][0]']            \n",
            "                                                                                                  \n",
            " conv2d_1063 (Conv2D)           (None, 32, 32, 64)   16448       ['activation_911[0][0]']         \n",
            "                                                                                                  \n",
            " add_456 (Add)                  (None, 32, 32, 64)   0           ['conv2d_1063[0][0]',            \n",
            "                                                                  'activation_910[0][0]']         \n",
            "                                                                                                  \n",
            " activation_912 (Activation)    (None, 32, 32, 64)   0           ['add_456[0][0]']                \n",
            "                                                                                                  \n",
            " up_sampling2d_7 (UpSampling2D)  (None, 64, 64, 64)  0           ['activation_912[0][0]']         \n",
            "                                                                                                  \n",
            " max_pooling2d_31 (MaxPooling2D  (None, 32, 32, 64)  0           ['up_sampling2d_7[0][0]']        \n",
            " )                                                                                                \n",
            "                                                                                                  \n",
            " conv2d_transpose_122 (Conv2DTr  (None, 32, 32, 32)  8224        ['max_pooling2d_31[0][0]']       \n",
            " anspose)                                                                                         \n",
            "                                                                                                  \n",
            " conv2d_transpose_123 (Conv2DTr  (None, 32, 32, 16)  2064        ['conv2d_transpose_122[0][0]']   \n",
            " anspose)                                                                                         \n",
            "                                                                                                  \n",
            " conv2d_transpose_124 (Conv2DTr  (None, 32, 32, 3)   51          ['conv2d_transpose_123[0][0]']   \n",
            " anspose)                                                                                         \n",
            "                                                                                                  \n",
            "==================================================================================================\n",
            "Total params: 302,467\n",
            "Trainable params: 302,467\n",
            "Non-trainable params: 0\n",
            "__________________________________________________________________________________________________\n"
          ]
        }
      ]
    },
    {
      "cell_type": "code",
      "source": [
        "model.compile(loss = 'mse', optimizer = 'adam',metrics=['acc'])\n",
        "hist = model.fit(x_train_blured.reshape(-1, 32, 32, 3), \n",
        "          x_train.reshape(-1, 32, 32, 3), \n",
        "          epochs = 20, \n",
        "          batch_size = 200, \n",
        "          validation_split=0.1)"
      ],
      "metadata": {
        "colab": {
          "base_uri": "https://localhost:8080/",
          "height": 867
        },
        "id": "BP8rFqsE9fJV",
        "outputId": "32e82133-4c2a-4e0b-af81-a2d198ff011d"
      },
      "execution_count": 63,
      "outputs": [
        {
          "output_type": "stream",
          "name": "stdout",
          "text": [
            "Epoch 1/20\n",
            "225/225 [==============================] - 47s 200ms/step - loss: 0.0120 - acc: 0.6671 - val_loss: 0.0049 - val_acc: 0.7965\n",
            "Epoch 2/20\n",
            "225/225 [==============================] - 44s 197ms/step - loss: 0.0047 - acc: 0.8003 - val_loss: 0.0043 - val_acc: 0.8275\n",
            "Epoch 3/20\n",
            "225/225 [==============================] - 44s 197ms/step - loss: 0.0043 - acc: 0.8187 - val_loss: 0.0040 - val_acc: 0.8300\n",
            "Epoch 4/20\n",
            "225/225 [==============================] - 44s 197ms/step - loss: 0.0040 - acc: 0.8196 - val_loss: 0.0038 - val_acc: 0.8338\n",
            "Epoch 5/20\n",
            "225/225 [==============================] - 44s 197ms/step - loss: 0.0038 - acc: 0.8213 - val_loss: 0.0036 - val_acc: 0.8323\n",
            "Epoch 6/20\n",
            "225/225 [==============================] - 44s 197ms/step - loss: 0.0035 - acc: 0.8276 - val_loss: 0.0034 - val_acc: 0.8284\n",
            "Epoch 7/20\n",
            "225/225 [==============================] - 44s 197ms/step - loss: 0.0034 - acc: 0.8304 - val_loss: 0.0033 - val_acc: 0.8398\n",
            "Epoch 8/20\n",
            "225/225 [==============================] - 44s 198ms/step - loss: 0.0033 - acc: 0.8323 - val_loss: 0.0032 - val_acc: 0.8339\n",
            "Epoch 9/20\n",
            "225/225 [==============================] - 44s 197ms/step - loss: 0.0032 - acc: 0.8343 - val_loss: 0.0032 - val_acc: 0.8351\n",
            "Epoch 10/20\n",
            "225/225 [==============================] - 44s 197ms/step - loss: 0.0032 - acc: 0.8358 - val_loss: 0.0031 - val_acc: 0.8307\n",
            "Epoch 11/20\n",
            "225/225 [==============================] - 44s 197ms/step - loss: 0.0031 - acc: 0.8363 - val_loss: 0.0030 - val_acc: 0.8405\n",
            "Epoch 12/20\n",
            "225/225 [==============================] - 44s 197ms/step - loss: 0.0031 - acc: 0.8376 - val_loss: 0.0031 - val_acc: 0.8429\n",
            "Epoch 13/20\n",
            "225/225 [==============================] - 44s 197ms/step - loss: 0.0030 - acc: 0.8381 - val_loss: 0.0031 - val_acc: 0.8244\n",
            "Epoch 14/20\n",
            "225/225 [==============================] - 44s 197ms/step - loss: 0.0030 - acc: 0.8374 - val_loss: 0.0030 - val_acc: 0.8406\n",
            "Epoch 15/20\n",
            "181/225 [=======================>......] - ETA: 8s - loss: 0.0030 - acc: 0.8404"
          ]
        },
        {
          "output_type": "error",
          "ename": "KeyboardInterrupt",
          "evalue": "ignored",
          "traceback": [
            "\u001b[0;31m---------------------------------------------------------------------------\u001b[0m",
            "\u001b[0;31mKeyboardInterrupt\u001b[0m                         Traceback (most recent call last)",
            "\u001b[0;32m<ipython-input-63-28aac2dfa608>\u001b[0m in \u001b[0;36m<module>\u001b[0;34m()\u001b[0m\n\u001b[1;32m      4\u001b[0m           \u001b[0mepochs\u001b[0m \u001b[0;34m=\u001b[0m \u001b[0;36m20\u001b[0m\u001b[0;34m,\u001b[0m\u001b[0;34m\u001b[0m\u001b[0;34m\u001b[0m\u001b[0m\n\u001b[1;32m      5\u001b[0m           \u001b[0mbatch_size\u001b[0m \u001b[0;34m=\u001b[0m \u001b[0;36m200\u001b[0m\u001b[0;34m,\u001b[0m\u001b[0;34m\u001b[0m\u001b[0;34m\u001b[0m\u001b[0m\n\u001b[0;32m----> 6\u001b[0;31m           validation_split=0.1)\n\u001b[0m",
            "\u001b[0;32m/usr/local/lib/python3.7/dist-packages/keras/utils/traceback_utils.py\u001b[0m in \u001b[0;36merror_handler\u001b[0;34m(*args, **kwargs)\u001b[0m\n\u001b[1;32m     62\u001b[0m     \u001b[0mfiltered_tb\u001b[0m \u001b[0;34m=\u001b[0m \u001b[0;32mNone\u001b[0m\u001b[0;34m\u001b[0m\u001b[0;34m\u001b[0m\u001b[0m\n\u001b[1;32m     63\u001b[0m     \u001b[0;32mtry\u001b[0m\u001b[0;34m:\u001b[0m\u001b[0;34m\u001b[0m\u001b[0;34m\u001b[0m\u001b[0m\n\u001b[0;32m---> 64\u001b[0;31m       \u001b[0;32mreturn\u001b[0m \u001b[0mfn\u001b[0m\u001b[0;34m(\u001b[0m\u001b[0;34m*\u001b[0m\u001b[0margs\u001b[0m\u001b[0;34m,\u001b[0m \u001b[0;34m**\u001b[0m\u001b[0mkwargs\u001b[0m\u001b[0;34m)\u001b[0m\u001b[0;34m\u001b[0m\u001b[0;34m\u001b[0m\u001b[0m\n\u001b[0m\u001b[1;32m     65\u001b[0m     \u001b[0;32mexcept\u001b[0m \u001b[0mException\u001b[0m \u001b[0;32mas\u001b[0m \u001b[0me\u001b[0m\u001b[0;34m:\u001b[0m  \u001b[0;31m# pylint: disable=broad-except\u001b[0m\u001b[0;34m\u001b[0m\u001b[0;34m\u001b[0m\u001b[0m\n\u001b[1;32m     66\u001b[0m       \u001b[0mfiltered_tb\u001b[0m \u001b[0;34m=\u001b[0m \u001b[0m_process_traceback_frames\u001b[0m\u001b[0;34m(\u001b[0m\u001b[0me\u001b[0m\u001b[0;34m.\u001b[0m\u001b[0m__traceback__\u001b[0m\u001b[0;34m)\u001b[0m\u001b[0;34m\u001b[0m\u001b[0;34m\u001b[0m\u001b[0m\n",
            "\u001b[0;32m/usr/local/lib/python3.7/dist-packages/keras/engine/training.py\u001b[0m in \u001b[0;36mfit\u001b[0;34m(self, x, y, batch_size, epochs, verbose, callbacks, validation_split, validation_data, shuffle, class_weight, sample_weight, initial_epoch, steps_per_epoch, validation_steps, validation_batch_size, validation_freq, max_queue_size, workers, use_multiprocessing)\u001b[0m\n\u001b[1;32m   1387\u001b[0m               \u001b[0mlogs\u001b[0m \u001b[0;34m=\u001b[0m \u001b[0mtmp_logs\u001b[0m  \u001b[0;31m# No error, now safe to assign to logs.\u001b[0m\u001b[0;34m\u001b[0m\u001b[0;34m\u001b[0m\u001b[0m\n\u001b[1;32m   1388\u001b[0m               \u001b[0mend_step\u001b[0m \u001b[0;34m=\u001b[0m \u001b[0mstep\u001b[0m \u001b[0;34m+\u001b[0m \u001b[0mdata_handler\u001b[0m\u001b[0;34m.\u001b[0m\u001b[0mstep_increment\u001b[0m\u001b[0;34m\u001b[0m\u001b[0;34m\u001b[0m\u001b[0m\n\u001b[0;32m-> 1389\u001b[0;31m               \u001b[0mcallbacks\u001b[0m\u001b[0;34m.\u001b[0m\u001b[0mon_train_batch_end\u001b[0m\u001b[0;34m(\u001b[0m\u001b[0mend_step\u001b[0m\u001b[0;34m,\u001b[0m \u001b[0mlogs\u001b[0m\u001b[0;34m)\u001b[0m\u001b[0;34m\u001b[0m\u001b[0;34m\u001b[0m\u001b[0m\n\u001b[0m\u001b[1;32m   1390\u001b[0m               \u001b[0;32mif\u001b[0m \u001b[0mself\u001b[0m\u001b[0;34m.\u001b[0m\u001b[0mstop_training\u001b[0m\u001b[0;34m:\u001b[0m\u001b[0;34m\u001b[0m\u001b[0;34m\u001b[0m\u001b[0m\n\u001b[1;32m   1391\u001b[0m                 \u001b[0;32mbreak\u001b[0m\u001b[0;34m\u001b[0m\u001b[0;34m\u001b[0m\u001b[0m\n",
            "\u001b[0;32m/usr/local/lib/python3.7/dist-packages/keras/callbacks.py\u001b[0m in \u001b[0;36mon_train_batch_end\u001b[0;34m(self, batch, logs)\u001b[0m\n\u001b[1;32m    436\u001b[0m     \"\"\"\n\u001b[1;32m    437\u001b[0m     \u001b[0;32mif\u001b[0m \u001b[0mself\u001b[0m\u001b[0;34m.\u001b[0m\u001b[0m_should_call_train_batch_hooks\u001b[0m\u001b[0;34m:\u001b[0m\u001b[0;34m\u001b[0m\u001b[0;34m\u001b[0m\u001b[0m\n\u001b[0;32m--> 438\u001b[0;31m       \u001b[0mself\u001b[0m\u001b[0;34m.\u001b[0m\u001b[0m_call_batch_hook\u001b[0m\u001b[0;34m(\u001b[0m\u001b[0mModeKeys\u001b[0m\u001b[0;34m.\u001b[0m\u001b[0mTRAIN\u001b[0m\u001b[0;34m,\u001b[0m \u001b[0;34m'end'\u001b[0m\u001b[0;34m,\u001b[0m \u001b[0mbatch\u001b[0m\u001b[0;34m,\u001b[0m \u001b[0mlogs\u001b[0m\u001b[0;34m=\u001b[0m\u001b[0mlogs\u001b[0m\u001b[0;34m)\u001b[0m\u001b[0;34m\u001b[0m\u001b[0;34m\u001b[0m\u001b[0m\n\u001b[0m\u001b[1;32m    439\u001b[0m \u001b[0;34m\u001b[0m\u001b[0m\n\u001b[1;32m    440\u001b[0m   \u001b[0;32mdef\u001b[0m \u001b[0mon_test_batch_begin\u001b[0m\u001b[0;34m(\u001b[0m\u001b[0mself\u001b[0m\u001b[0;34m,\u001b[0m \u001b[0mbatch\u001b[0m\u001b[0;34m,\u001b[0m \u001b[0mlogs\u001b[0m\u001b[0;34m=\u001b[0m\u001b[0;32mNone\u001b[0m\u001b[0;34m)\u001b[0m\u001b[0;34m:\u001b[0m\u001b[0;34m\u001b[0m\u001b[0;34m\u001b[0m\u001b[0m\n",
            "\u001b[0;32m/usr/local/lib/python3.7/dist-packages/keras/callbacks.py\u001b[0m in \u001b[0;36m_call_batch_hook\u001b[0;34m(self, mode, hook, batch, logs)\u001b[0m\n\u001b[1;32m    295\u001b[0m       \u001b[0mself\u001b[0m\u001b[0;34m.\u001b[0m\u001b[0m_call_batch_begin_hook\u001b[0m\u001b[0;34m(\u001b[0m\u001b[0mmode\u001b[0m\u001b[0;34m,\u001b[0m \u001b[0mbatch\u001b[0m\u001b[0;34m,\u001b[0m \u001b[0mlogs\u001b[0m\u001b[0;34m)\u001b[0m\u001b[0;34m\u001b[0m\u001b[0;34m\u001b[0m\u001b[0m\n\u001b[1;32m    296\u001b[0m     \u001b[0;32melif\u001b[0m \u001b[0mhook\u001b[0m \u001b[0;34m==\u001b[0m \u001b[0;34m'end'\u001b[0m\u001b[0;34m:\u001b[0m\u001b[0;34m\u001b[0m\u001b[0;34m\u001b[0m\u001b[0m\n\u001b[0;32m--> 297\u001b[0;31m       \u001b[0mself\u001b[0m\u001b[0;34m.\u001b[0m\u001b[0m_call_batch_end_hook\u001b[0m\u001b[0;34m(\u001b[0m\u001b[0mmode\u001b[0m\u001b[0;34m,\u001b[0m \u001b[0mbatch\u001b[0m\u001b[0;34m,\u001b[0m \u001b[0mlogs\u001b[0m\u001b[0;34m)\u001b[0m\u001b[0;34m\u001b[0m\u001b[0;34m\u001b[0m\u001b[0m\n\u001b[0m\u001b[1;32m    298\u001b[0m     \u001b[0;32melse\u001b[0m\u001b[0;34m:\u001b[0m\u001b[0;34m\u001b[0m\u001b[0;34m\u001b[0m\u001b[0m\n\u001b[1;32m    299\u001b[0m       raise ValueError(\n",
            "\u001b[0;32m/usr/local/lib/python3.7/dist-packages/keras/callbacks.py\u001b[0m in \u001b[0;36m_call_batch_end_hook\u001b[0;34m(self, mode, batch, logs)\u001b[0m\n\u001b[1;32m    316\u001b[0m       \u001b[0mself\u001b[0m\u001b[0;34m.\u001b[0m\u001b[0m_batch_times\u001b[0m\u001b[0;34m.\u001b[0m\u001b[0mappend\u001b[0m\u001b[0;34m(\u001b[0m\u001b[0mbatch_time\u001b[0m\u001b[0;34m)\u001b[0m\u001b[0;34m\u001b[0m\u001b[0;34m\u001b[0m\u001b[0m\n\u001b[1;32m    317\u001b[0m \u001b[0;34m\u001b[0m\u001b[0m\n\u001b[0;32m--> 318\u001b[0;31m     \u001b[0mself\u001b[0m\u001b[0;34m.\u001b[0m\u001b[0m_call_batch_hook_helper\u001b[0m\u001b[0;34m(\u001b[0m\u001b[0mhook_name\u001b[0m\u001b[0;34m,\u001b[0m \u001b[0mbatch\u001b[0m\u001b[0;34m,\u001b[0m \u001b[0mlogs\u001b[0m\u001b[0;34m)\u001b[0m\u001b[0;34m\u001b[0m\u001b[0;34m\u001b[0m\u001b[0m\n\u001b[0m\u001b[1;32m    319\u001b[0m \u001b[0;34m\u001b[0m\u001b[0m\n\u001b[1;32m    320\u001b[0m     \u001b[0;32mif\u001b[0m \u001b[0mlen\u001b[0m\u001b[0;34m(\u001b[0m\u001b[0mself\u001b[0m\u001b[0;34m.\u001b[0m\u001b[0m_batch_times\u001b[0m\u001b[0;34m)\u001b[0m \u001b[0;34m>=\u001b[0m \u001b[0mself\u001b[0m\u001b[0;34m.\u001b[0m\u001b[0m_num_batches_for_timing_check\u001b[0m\u001b[0;34m:\u001b[0m\u001b[0;34m\u001b[0m\u001b[0;34m\u001b[0m\u001b[0m\n",
            "\u001b[0;32m/usr/local/lib/python3.7/dist-packages/keras/callbacks.py\u001b[0m in \u001b[0;36m_call_batch_hook_helper\u001b[0;34m(self, hook_name, batch, logs)\u001b[0m\n\u001b[1;32m    354\u001b[0m     \u001b[0;32mfor\u001b[0m \u001b[0mcallback\u001b[0m \u001b[0;32min\u001b[0m \u001b[0mself\u001b[0m\u001b[0;34m.\u001b[0m\u001b[0mcallbacks\u001b[0m\u001b[0;34m:\u001b[0m\u001b[0;34m\u001b[0m\u001b[0;34m\u001b[0m\u001b[0m\n\u001b[1;32m    355\u001b[0m       \u001b[0mhook\u001b[0m \u001b[0;34m=\u001b[0m \u001b[0mgetattr\u001b[0m\u001b[0;34m(\u001b[0m\u001b[0mcallback\u001b[0m\u001b[0;34m,\u001b[0m \u001b[0mhook_name\u001b[0m\u001b[0;34m)\u001b[0m\u001b[0;34m\u001b[0m\u001b[0;34m\u001b[0m\u001b[0m\n\u001b[0;32m--> 356\u001b[0;31m       \u001b[0mhook\u001b[0m\u001b[0;34m(\u001b[0m\u001b[0mbatch\u001b[0m\u001b[0;34m,\u001b[0m \u001b[0mlogs\u001b[0m\u001b[0;34m)\u001b[0m\u001b[0;34m\u001b[0m\u001b[0;34m\u001b[0m\u001b[0m\n\u001b[0m\u001b[1;32m    357\u001b[0m \u001b[0;34m\u001b[0m\u001b[0m\n\u001b[1;32m    358\u001b[0m     \u001b[0;32mif\u001b[0m \u001b[0mself\u001b[0m\u001b[0;34m.\u001b[0m\u001b[0m_check_timing\u001b[0m\u001b[0;34m:\u001b[0m\u001b[0;34m\u001b[0m\u001b[0;34m\u001b[0m\u001b[0m\n",
            "\u001b[0;32m/usr/local/lib/python3.7/dist-packages/keras/callbacks.py\u001b[0m in \u001b[0;36mon_train_batch_end\u001b[0;34m(self, batch, logs)\u001b[0m\n\u001b[1;32m   1032\u001b[0m \u001b[0;34m\u001b[0m\u001b[0m\n\u001b[1;32m   1033\u001b[0m   \u001b[0;32mdef\u001b[0m \u001b[0mon_train_batch_end\u001b[0m\u001b[0;34m(\u001b[0m\u001b[0mself\u001b[0m\u001b[0;34m,\u001b[0m \u001b[0mbatch\u001b[0m\u001b[0;34m,\u001b[0m \u001b[0mlogs\u001b[0m\u001b[0;34m=\u001b[0m\u001b[0;32mNone\u001b[0m\u001b[0;34m)\u001b[0m\u001b[0;34m:\u001b[0m\u001b[0;34m\u001b[0m\u001b[0;34m\u001b[0m\u001b[0m\n\u001b[0;32m-> 1034\u001b[0;31m     \u001b[0mself\u001b[0m\u001b[0;34m.\u001b[0m\u001b[0m_batch_update_progbar\u001b[0m\u001b[0;34m(\u001b[0m\u001b[0mbatch\u001b[0m\u001b[0;34m,\u001b[0m \u001b[0mlogs\u001b[0m\u001b[0;34m)\u001b[0m\u001b[0;34m\u001b[0m\u001b[0;34m\u001b[0m\u001b[0m\n\u001b[0m\u001b[1;32m   1035\u001b[0m \u001b[0;34m\u001b[0m\u001b[0m\n\u001b[1;32m   1036\u001b[0m   \u001b[0;32mdef\u001b[0m \u001b[0mon_test_batch_end\u001b[0m\u001b[0;34m(\u001b[0m\u001b[0mself\u001b[0m\u001b[0;34m,\u001b[0m \u001b[0mbatch\u001b[0m\u001b[0;34m,\u001b[0m \u001b[0mlogs\u001b[0m\u001b[0;34m=\u001b[0m\u001b[0;32mNone\u001b[0m\u001b[0;34m)\u001b[0m\u001b[0;34m:\u001b[0m\u001b[0;34m\u001b[0m\u001b[0;34m\u001b[0m\u001b[0m\n",
            "\u001b[0;32m/usr/local/lib/python3.7/dist-packages/keras/callbacks.py\u001b[0m in \u001b[0;36m_batch_update_progbar\u001b[0;34m(self, batch, logs)\u001b[0m\n\u001b[1;32m   1104\u001b[0m     \u001b[0;32mif\u001b[0m \u001b[0mself\u001b[0m\u001b[0;34m.\u001b[0m\u001b[0mverbose\u001b[0m \u001b[0;34m==\u001b[0m \u001b[0;36m1\u001b[0m\u001b[0;34m:\u001b[0m\u001b[0;34m\u001b[0m\u001b[0;34m\u001b[0m\u001b[0m\n\u001b[1;32m   1105\u001b[0m       \u001b[0;31m# Only block async when verbose = 1.\u001b[0m\u001b[0;34m\u001b[0m\u001b[0;34m\u001b[0m\u001b[0;34m\u001b[0m\u001b[0m\n\u001b[0;32m-> 1106\u001b[0;31m       \u001b[0mlogs\u001b[0m \u001b[0;34m=\u001b[0m \u001b[0mtf_utils\u001b[0m\u001b[0;34m.\u001b[0m\u001b[0msync_to_numpy_or_python_type\u001b[0m\u001b[0;34m(\u001b[0m\u001b[0mlogs\u001b[0m\u001b[0;34m)\u001b[0m\u001b[0;34m\u001b[0m\u001b[0;34m\u001b[0m\u001b[0m\n\u001b[0m\u001b[1;32m   1107\u001b[0m       \u001b[0mself\u001b[0m\u001b[0;34m.\u001b[0m\u001b[0mprogbar\u001b[0m\u001b[0;34m.\u001b[0m\u001b[0mupdate\u001b[0m\u001b[0;34m(\u001b[0m\u001b[0mself\u001b[0m\u001b[0;34m.\u001b[0m\u001b[0mseen\u001b[0m\u001b[0;34m,\u001b[0m \u001b[0mlist\u001b[0m\u001b[0;34m(\u001b[0m\u001b[0mlogs\u001b[0m\u001b[0;34m.\u001b[0m\u001b[0mitems\u001b[0m\u001b[0;34m(\u001b[0m\u001b[0;34m)\u001b[0m\u001b[0;34m)\u001b[0m\u001b[0;34m,\u001b[0m \u001b[0mfinalize\u001b[0m\u001b[0;34m=\u001b[0m\u001b[0;32mFalse\u001b[0m\u001b[0;34m)\u001b[0m\u001b[0;34m\u001b[0m\u001b[0;34m\u001b[0m\u001b[0m\n\u001b[1;32m   1108\u001b[0m \u001b[0;34m\u001b[0m\u001b[0m\n",
            "\u001b[0;32m/usr/local/lib/python3.7/dist-packages/keras/utils/tf_utils.py\u001b[0m in \u001b[0;36msync_to_numpy_or_python_type\u001b[0;34m(tensors)\u001b[0m\n\u001b[1;32m    561\u001b[0m     \u001b[0;32mreturn\u001b[0m \u001b[0mt\u001b[0m\u001b[0;34m.\u001b[0m\u001b[0mitem\u001b[0m\u001b[0;34m(\u001b[0m\u001b[0;34m)\u001b[0m \u001b[0;32mif\u001b[0m \u001b[0mnp\u001b[0m\u001b[0;34m.\u001b[0m\u001b[0mndim\u001b[0m\u001b[0;34m(\u001b[0m\u001b[0mt\u001b[0m\u001b[0;34m)\u001b[0m \u001b[0;34m==\u001b[0m \u001b[0;36m0\u001b[0m \u001b[0;32melse\u001b[0m \u001b[0mt\u001b[0m\u001b[0;34m\u001b[0m\u001b[0;34m\u001b[0m\u001b[0m\n\u001b[1;32m    562\u001b[0m \u001b[0;34m\u001b[0m\u001b[0m\n\u001b[0;32m--> 563\u001b[0;31m   \u001b[0;32mreturn\u001b[0m \u001b[0mtf\u001b[0m\u001b[0;34m.\u001b[0m\u001b[0mnest\u001b[0m\u001b[0;34m.\u001b[0m\u001b[0mmap_structure\u001b[0m\u001b[0;34m(\u001b[0m\u001b[0m_to_single_numpy_or_python_type\u001b[0m\u001b[0;34m,\u001b[0m \u001b[0mtensors\u001b[0m\u001b[0;34m)\u001b[0m\u001b[0;34m\u001b[0m\u001b[0;34m\u001b[0m\u001b[0m\n\u001b[0m\u001b[1;32m    564\u001b[0m \u001b[0;34m\u001b[0m\u001b[0m\n\u001b[1;32m    565\u001b[0m \u001b[0;34m\u001b[0m\u001b[0m\n",
            "\u001b[0;32m/usr/local/lib/python3.7/dist-packages/tensorflow/python/util/nest.py\u001b[0m in \u001b[0;36mmap_structure\u001b[0;34m(func, *structure, **kwargs)\u001b[0m\n\u001b[1;32m    912\u001b[0m \u001b[0;34m\u001b[0m\u001b[0m\n\u001b[1;32m    913\u001b[0m   return pack_sequence_as(\n\u001b[0;32m--> 914\u001b[0;31m       \u001b[0mstructure\u001b[0m\u001b[0;34m[\u001b[0m\u001b[0;36m0\u001b[0m\u001b[0;34m]\u001b[0m\u001b[0;34m,\u001b[0m \u001b[0;34m[\u001b[0m\u001b[0mfunc\u001b[0m\u001b[0;34m(\u001b[0m\u001b[0;34m*\u001b[0m\u001b[0mx\u001b[0m\u001b[0;34m)\u001b[0m \u001b[0;32mfor\u001b[0m \u001b[0mx\u001b[0m \u001b[0;32min\u001b[0m \u001b[0mentries\u001b[0m\u001b[0;34m]\u001b[0m\u001b[0;34m,\u001b[0m\u001b[0;34m\u001b[0m\u001b[0;34m\u001b[0m\u001b[0m\n\u001b[0m\u001b[1;32m    915\u001b[0m       expand_composites=expand_composites)\n\u001b[1;32m    916\u001b[0m \u001b[0;34m\u001b[0m\u001b[0m\n",
            "\u001b[0;32m/usr/local/lib/python3.7/dist-packages/tensorflow/python/util/nest.py\u001b[0m in \u001b[0;36m<listcomp>\u001b[0;34m(.0)\u001b[0m\n\u001b[1;32m    912\u001b[0m \u001b[0;34m\u001b[0m\u001b[0m\n\u001b[1;32m    913\u001b[0m   return pack_sequence_as(\n\u001b[0;32m--> 914\u001b[0;31m       \u001b[0mstructure\u001b[0m\u001b[0;34m[\u001b[0m\u001b[0;36m0\u001b[0m\u001b[0;34m]\u001b[0m\u001b[0;34m,\u001b[0m \u001b[0;34m[\u001b[0m\u001b[0mfunc\u001b[0m\u001b[0;34m(\u001b[0m\u001b[0;34m*\u001b[0m\u001b[0mx\u001b[0m\u001b[0;34m)\u001b[0m \u001b[0;32mfor\u001b[0m \u001b[0mx\u001b[0m \u001b[0;32min\u001b[0m \u001b[0mentries\u001b[0m\u001b[0;34m]\u001b[0m\u001b[0;34m,\u001b[0m\u001b[0;34m\u001b[0m\u001b[0;34m\u001b[0m\u001b[0m\n\u001b[0m\u001b[1;32m    915\u001b[0m       expand_composites=expand_composites)\n\u001b[1;32m    916\u001b[0m \u001b[0;34m\u001b[0m\u001b[0m\n",
            "\u001b[0;32m/usr/local/lib/python3.7/dist-packages/keras/utils/tf_utils.py\u001b[0m in \u001b[0;36m_to_single_numpy_or_python_type\u001b[0;34m(t)\u001b[0m\n\u001b[1;32m    555\u001b[0m     \u001b[0;31m# Don't turn ragged or sparse tensors to NumPy.\u001b[0m\u001b[0;34m\u001b[0m\u001b[0;34m\u001b[0m\u001b[0;34m\u001b[0m\u001b[0m\n\u001b[1;32m    556\u001b[0m     \u001b[0;32mif\u001b[0m \u001b[0misinstance\u001b[0m\u001b[0;34m(\u001b[0m\u001b[0mt\u001b[0m\u001b[0;34m,\u001b[0m \u001b[0mtf\u001b[0m\u001b[0;34m.\u001b[0m\u001b[0mTensor\u001b[0m\u001b[0;34m)\u001b[0m\u001b[0;34m:\u001b[0m\u001b[0;34m\u001b[0m\u001b[0;34m\u001b[0m\u001b[0m\n\u001b[0;32m--> 557\u001b[0;31m       \u001b[0mt\u001b[0m \u001b[0;34m=\u001b[0m \u001b[0mt\u001b[0m\u001b[0;34m.\u001b[0m\u001b[0mnumpy\u001b[0m\u001b[0;34m(\u001b[0m\u001b[0;34m)\u001b[0m\u001b[0;34m\u001b[0m\u001b[0;34m\u001b[0m\u001b[0m\n\u001b[0m\u001b[1;32m    558\u001b[0m     \u001b[0;31m# Strings, ragged and sparse tensors don't have .item(). Return them as-is.\u001b[0m\u001b[0;34m\u001b[0m\u001b[0;34m\u001b[0m\u001b[0;34m\u001b[0m\u001b[0m\n\u001b[1;32m    559\u001b[0m     \u001b[0;32mif\u001b[0m \u001b[0;32mnot\u001b[0m \u001b[0misinstance\u001b[0m\u001b[0;34m(\u001b[0m\u001b[0mt\u001b[0m\u001b[0;34m,\u001b[0m \u001b[0;34m(\u001b[0m\u001b[0mnp\u001b[0m\u001b[0;34m.\u001b[0m\u001b[0mndarray\u001b[0m\u001b[0;34m,\u001b[0m \u001b[0mnp\u001b[0m\u001b[0;34m.\u001b[0m\u001b[0mgeneric\u001b[0m\u001b[0;34m)\u001b[0m\u001b[0;34m)\u001b[0m\u001b[0;34m:\u001b[0m\u001b[0;34m\u001b[0m\u001b[0;34m\u001b[0m\u001b[0m\n",
            "\u001b[0;32m/usr/local/lib/python3.7/dist-packages/tensorflow/python/framework/ops.py\u001b[0m in \u001b[0;36mnumpy\u001b[0;34m(self)\u001b[0m\n\u001b[1;32m   1221\u001b[0m     \"\"\"\n\u001b[1;32m   1222\u001b[0m     \u001b[0;31m# TODO(slebedev): Consider avoiding a copy for non-CPU or remote tensors.\u001b[0m\u001b[0;34m\u001b[0m\u001b[0;34m\u001b[0m\u001b[0;34m\u001b[0m\u001b[0m\n\u001b[0;32m-> 1223\u001b[0;31m     \u001b[0mmaybe_arr\u001b[0m \u001b[0;34m=\u001b[0m \u001b[0mself\u001b[0m\u001b[0;34m.\u001b[0m\u001b[0m_numpy\u001b[0m\u001b[0;34m(\u001b[0m\u001b[0;34m)\u001b[0m  \u001b[0;31m# pylint: disable=protected-access\u001b[0m\u001b[0;34m\u001b[0m\u001b[0;34m\u001b[0m\u001b[0m\n\u001b[0m\u001b[1;32m   1224\u001b[0m     \u001b[0;32mreturn\u001b[0m \u001b[0mmaybe_arr\u001b[0m\u001b[0;34m.\u001b[0m\u001b[0mcopy\u001b[0m\u001b[0;34m(\u001b[0m\u001b[0;34m)\u001b[0m \u001b[0;32mif\u001b[0m \u001b[0misinstance\u001b[0m\u001b[0;34m(\u001b[0m\u001b[0mmaybe_arr\u001b[0m\u001b[0;34m,\u001b[0m \u001b[0mnp\u001b[0m\u001b[0;34m.\u001b[0m\u001b[0mndarray\u001b[0m\u001b[0;34m)\u001b[0m \u001b[0;32melse\u001b[0m \u001b[0mmaybe_arr\u001b[0m\u001b[0;34m\u001b[0m\u001b[0;34m\u001b[0m\u001b[0m\n\u001b[1;32m   1225\u001b[0m \u001b[0;34m\u001b[0m\u001b[0m\n",
            "\u001b[0;32m/usr/local/lib/python3.7/dist-packages/tensorflow/python/framework/ops.py\u001b[0m in \u001b[0;36m_numpy\u001b[0;34m(self)\u001b[0m\n\u001b[1;32m   1187\u001b[0m   \u001b[0;32mdef\u001b[0m \u001b[0m_numpy\u001b[0m\u001b[0;34m(\u001b[0m\u001b[0mself\u001b[0m\u001b[0;34m)\u001b[0m\u001b[0;34m:\u001b[0m\u001b[0;34m\u001b[0m\u001b[0;34m\u001b[0m\u001b[0m\n\u001b[1;32m   1188\u001b[0m     \u001b[0;32mtry\u001b[0m\u001b[0;34m:\u001b[0m\u001b[0;34m\u001b[0m\u001b[0;34m\u001b[0m\u001b[0m\n\u001b[0;32m-> 1189\u001b[0;31m       \u001b[0;32mreturn\u001b[0m \u001b[0mself\u001b[0m\u001b[0;34m.\u001b[0m\u001b[0m_numpy_internal\u001b[0m\u001b[0;34m(\u001b[0m\u001b[0;34m)\u001b[0m\u001b[0;34m\u001b[0m\u001b[0;34m\u001b[0m\u001b[0m\n\u001b[0m\u001b[1;32m   1190\u001b[0m     \u001b[0;32mexcept\u001b[0m \u001b[0mcore\u001b[0m\u001b[0;34m.\u001b[0m\u001b[0m_NotOkStatusException\u001b[0m \u001b[0;32mas\u001b[0m \u001b[0me\u001b[0m\u001b[0;34m:\u001b[0m  \u001b[0;31m# pylint: disable=protected-access\u001b[0m\u001b[0;34m\u001b[0m\u001b[0;34m\u001b[0m\u001b[0m\n\u001b[1;32m   1191\u001b[0m       \u001b[0;32mraise\u001b[0m \u001b[0mcore\u001b[0m\u001b[0;34m.\u001b[0m\u001b[0m_status_to_exception\u001b[0m\u001b[0;34m(\u001b[0m\u001b[0me\u001b[0m\u001b[0;34m)\u001b[0m \u001b[0;32mfrom\u001b[0m \u001b[0;32mNone\u001b[0m  \u001b[0;31m# pylint: disable=protected-access\u001b[0m\u001b[0;34m\u001b[0m\u001b[0;34m\u001b[0m\u001b[0m\n",
            "\u001b[0;31mKeyboardInterrupt\u001b[0m: "
          ]
        }
      ]
    },
    {
      "cell_type": "code",
      "source": [
        "def plot_history(model_history,keys):\n",
        "    m,val_m = keys\n",
        "    plt.plot(model_history.history[m])\n",
        "    plt.plot(model_history.history[val_m])\n",
        "    plt.ylabel(m)\n",
        "    plt.xlabel('epoch')\n",
        "    plt.legend(['train', 'test'], loc='upper left')\n",
        "    plt.show()\n",
        "\n",
        "plot_history(hist,['loss','val_loss'])"
      ],
      "metadata": {
        "colab": {
          "base_uri": "https://localhost:8080/",
          "height": 279
        },
        "id": "u1okVRFr9o9E",
        "outputId": "2cb2201a-d613-4ca1-ff28-77fba989a791"
      },
      "execution_count": 58,
      "outputs": [
        {
          "output_type": "display_data",
          "data": {
            "text/plain": [
              "<Figure size 432x288 with 1 Axes>"
            ],
            "image/png": "[encoded data removed]"
          },
          "metadata": {
            "needs_background": "light"
          }
        }
      ]
    },
    {
      "cell_type": "code",
      "source": [
        "from tensorflow.keras.losses import MeanSquaredError\n",
        "\n",
        "y_true = x_test\n",
        "y_pred = model.predict(x_test_blured)\n",
        "\n",
        "mse = MeanSquaredError()\n",
        "mse(y_true, y_pred).numpy()\n",
        "\n",
        "#0.0023\n",
        "\n",
        "#0.0041738243220982366\n",
        "#0.004219622105503972\n",
        "#0.00404854369862134\n",
        "#0.003909846398674108\n",
        "#0.00379532259022029\n",
        "#0.003393252\n",
        "#0.0026358136"
      ],
      "metadata": {
        "colab": {
          "base_uri": "https://localhost:8080/"
        },
        "id": "Jzo-zGO59r5g",
        "outputId": "308ee259-1363-4bdc-fadb-5ae66db50e85"
      },
      "execution_count": 59,
      "outputs": [
        {
          "output_type": "execute_result",
          "data": {
            "text/plain": [
              "0.0035615738"
            ]
          },
          "metadata": {},
          "execution_count": 59
        }
      ]
    },
    {
      "cell_type": "code",
      "source": [
        "#utility function to pick samples to be tested\n",
        "\n",
        "def get_samples(arr, n):\n",
        "    temp = random.sample(range(len(arr)), n)\n",
        "    result = arr[temp]\n",
        "    return result, temp\n",
        "\n",
        "num = 3\n",
        "figsize = 15\n",
        "org, temp = get_samples(x_test, num)\n",
        "blur = x_test_blured[temp]\n",
        "preds = model.predict(blur.reshape(-1, 32, 32, 3))\n",
        "#plotting results\n",
        "plt.figure(figsize = (figsize, figsize))\n",
        "print('Original Images')\n",
        "for i in range(num):\n",
        "    plt.subplot(1, num, i+1)\n",
        "    plt.xticks([])\n",
        "    plt.yticks([])\n",
        "    plt.grid(False)\n",
        "    plt.imshow(org[i])\n",
        "plt.show()\n",
        "plt.figure(figsize = (figsize, figsize))\n",
        "print('Blurred Images')\n",
        "for i in range(num):\n",
        "    plt.subplot(1, num, i + 1)\n",
        "    plt.xticks([])\n",
        "    plt.yticks([])\n",
        "    plt.grid(False)\n",
        "    plt.imshow(blur[i])\n",
        "plt.show()\n",
        "plt.figure(figsize = (figsize, figsize))\n",
        "print('Predicted Images')\n",
        "for i in range(num):\n",
        "    plt.subplot(1, num, i + 1)\n",
        "    plt.xticks([])\n",
        "    plt.yticks([])\n",
        "    plt.grid(False)\n",
        "    plt.imshow(preds[i])\n",
        "plt.show()"
      ],
      "metadata": {
        "id": "nIG4w3LvVXt7",
        "outputId": "494ca217-207c-4205-b6c4-6229a25ce111",
        "colab": {
          "base_uri": "https://localhost:8080/",
          "height": 878
        }
      },
      "execution_count": 24,
      "outputs": [
        {
          "output_type": "stream",
          "name": "stdout",
          "text": [
            "Original Images\n"
          ]
        },
        {
          "output_type": "display_data",
          "data": {
            "text/plain": [
              "<Figure size 1080x1080 with 3 Axes>"
            ],
            "image/png": "[encoded data removed]"
          },
          "metadata": {}
        },
        {
          "output_type": "stream",
          "name": "stderr",
          "text": [
            "Clipping input data to the valid range for imshow with RGB data ([0..1] for floats or [0..255] for integers).\n"
          ]
        },
        {
          "output_type": "stream",
          "name": "stdout",
          "text": [
            "Blurred Images\n"
          ]
        },
        {
          "output_type": "display_data",
          "data": {
            "text/plain": [
              "<Figure size 1080x1080 with 3 Axes>"
            ],
            "image/png": "[encoded data removed]"
          },
          "metadata": {}
        },
        {
          "output_type": "stream",
          "name": "stdout",
          "text": [
            "Predicted Images\n"
          ]
        },
        {
          "output_type": "display_data",
          "data": {
            "text/plain": [
              "<Figure size 1080x1080 with 3 Axes>"
            ],
            "image/png": "[encoded data removed]"
          },
          "metadata": {}
        }
      ]
    }
  ]
}