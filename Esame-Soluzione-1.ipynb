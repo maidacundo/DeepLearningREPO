{
  "nbformat": 4,
  "nbformat_minor": 0,
  "metadata": {
    "colab": {
      "name": "Untitled4.ipynb",
      "provenance": [],
      "machine_shape": "hm",
      "authorship_tag": "ABX9TyOdc9FUaUCX0RjAFdwJv2v4",
      "include_colab_link": true
    },
    "kernelspec": {
      "name": "python3",
      "display_name": "Python 3"
    },
    "language_info": {
      "name": "python"
    },
    "accelerator": "GPU"
  },
  "cells": [
    {
      "cell_type": "markdown",
      "metadata": {
        "id": "view-in-github",
        "colab_type": "text"
      },
      "source": [
        "<a href=\"https://colab.research.google.com/github/maidacundo/DeepLearningREPO/blob/main/Esame-Soluzione-1.ipynb\" target=\"_parent\"><img src=\"https://colab.research.google.com/assets/colab-badge.svg\" alt=\"Open In Colab\"/></a>"
      ]
    },
    {
      "cell_type": "code",
      "execution_count": 13,
      "metadata": {
        "id": "hNP7NA_k5N2e"
      },
      "outputs": [],
      "source": [
        "import tensorflow as tf \n",
        "import random\n",
        "from cv2 import GaussianBlur\n",
        "import numpy as np\n",
        "\n",
        "import matplotlib.pyplot as plt\n",
        "from tensorflow.keras.layers import Conv2D, Conv2DTranspose, Input, Dense, MaxPooling2D, Add, Dropout, ConvLSTM2D, GaussianNoise, BatchNormalization , Activation, UpSampling2D\n",
        "from tensorflow.keras.models import Model\n",
        "from tensorflow.keras.optimizers import Adam\n",
        "\n",
        "def getDataset():\n",
        "  (x_train, _), (x_test, _) = tf.keras.datasets.cifar10.load_data()\n",
        "  normalize = lambda x: x/x.max()\n",
        "  x_train = normalize(x_train)\n",
        "  x_test = normalize(x_test)\n",
        "  createBlurred = lambda arr: np.array([GaussianBlur(x, (5,5), ((random.random()*3)+1)) + (0.02*np.random.normal(0,1, (32, 32, 3))) for x in arr])\n",
        "  return (createBlurred(x_train), x_train), (createBlurred(x_test), x_test)"
      ]
    },
    {
      "cell_type": "code",
      "source": [
        "(x_train_blured, x_train), (x_test_blured, x_test) = getDataset()\n",
        "print(f\"Train size: {x_train_blured.shape}. Test size: {x_test_blured.shape}\")"
      ],
      "metadata": {
        "colab": {
          "base_uri": "https://localhost:8080/"
        },
        "id": "2D568O8C5QLl",
        "outputId": "b3f9db3a-83b2-4cca-b748-8904644e13e7"
      },
      "execution_count": 2,
      "outputs": [
        {
          "output_type": "stream",
          "name": "stdout",
          "text": [
            "Downloading data from https://www.cs.toronto.edu/~kriz/cifar-10-python.tar.gz\n",
            "170500096/170498071 [==============================] - 3s 0us/step\n",
            "170508288/170498071 [==============================] - 3s 0us/step\n",
            "Train size: (50000, 32, 32, 3). Test size: (10000, 32, 32, 3)\n"
          ]
        }
      ]
    },
    {
      "cell_type": "code",
      "source": [
        "def res_block(x, filter, kernel_size):\n",
        "    # copy tensor to variable called x_skip\n",
        "    x_skip = x\n",
        "    # Layer 1\n",
        "    x = tf.keras.layers.Conv2D(filter, kernel_size, padding = 'same')(x)\n",
        "    # x = tf.keras.layers.BatchNormalization(axis=3)(x)\n",
        "    x = tf.keras.layers.Activation('relu')(x)\n",
        "    # Layer 2\n",
        "    x = tf.keras.layers.Conv2D(filter, kernel_size, padding = 'same')(x)\n",
        "    # x = tf.keras.layers.BatchNormalization(axis=3)(x)\n",
        "    # Add Residue\n",
        "    x = tf.keras.layers.Add()([x, x_skip])     \n",
        "    x = tf.keras.layers.Activation('relu')(x)\n",
        "    return x"
      ],
      "metadata": {
        "id": "npjoXiHt5a8x"
      },
      "execution_count": 31,
      "outputs": []
    },
    {
      "cell_type": "code",
      "source": [
        "# modello\n",
        "\n",
        "# input\n",
        "input_shape = (32, 32, 3)\n",
        "inputs = Input(shape=input_shape)\n",
        "\n",
        "# upsampling\n",
        "\n",
        "x = Conv2D(64, (2, 2), strides = 1, padding = 'same') (inputs)\n",
        "x = res_block(x, 64,(2, 2))\n",
        "x = res_block(x, 64,(2, 2))\n",
        "conv_1 = res_block(x, 64,(2, 2))\n",
        "\n",
        "x = Conv2D(32, (2, 2), strides = 1, padding = 'same') (conv_1)\n",
        "x = res_block(x, 32,(2, 2))\n",
        "x = res_block(x, 32,(2, 2))\n",
        "conv_2 = res_block(x, 32,(2, 2))\n",
        "\n",
        "x = Conv2D(16, (2, 2), strides = 1, padding = 'same') (conv_2)\n",
        "x = res_block(x, 16,(2, 2))\n",
        "x = res_block(x, 16,(2, 2))\n",
        "x = res_block(x, 16,(2, 2))\n",
        "\n",
        "# hidden layer\n",
        "x = Conv2D(16, (2, 2), strides = 1, padding = 'same') (x)\n",
        "\n",
        "# deconvolution\n",
        "\n",
        "x = res_block(x, 16,(2, 2))\n",
        "x = res_block(x, 16,(2, 2))\n",
        "x = res_block(x, 16,(2, 2))\n",
        "x = Conv2DTranspose(32, (2, 2), strides = 1, padding = 'same') (x)\n",
        "\n",
        "cat_1 = x + conv_2\n",
        "\n",
        "x = res_block(cat_1, 32,(2, 2))\n",
        "x = res_block(x, 32,(2, 2))\n",
        "x = res_block(x, 32,(2, 2))\n",
        "x = Conv2DTranspose(64, (3, 3), strides = 1, padding = 'same') (x)\n",
        "\n",
        "cat_2 = x + conv_1\n",
        "\n",
        "x = res_block(cat_2, 64,(2, 2))\n",
        "x = res_block(x, 64,(2, 2))\n",
        "x = res_block(x, 64,(2, 2))\n",
        "\n",
        "x = Conv2DTranspose(32, (2, 2), strides = 1, padding = 'same') (x)\n",
        "x = Conv2DTranspose(16, (2, 2), strides = 1, padding = 'same') (x)\n",
        "\n",
        "outputs = Conv2DTranspose(3, (1, 1), strides = 1, activation = 'sigmoid', padding = 'same') (x)"
      ],
      "metadata": {
        "id": "EWxFDPzq5pcX"
      },
      "execution_count": 27,
      "outputs": []
    },
    {
      "cell_type": "code",
      "source": [
        "model = Model(inputs=inputs,outputs=outputs)\n",
        "model.summary()"
      ],
      "metadata": {
        "colab": {
          "base_uri": "https://localhost:8080/"
        },
        "id": "Lp4CsPam80Bx",
        "outputId": "614e2e0c-5bec-4b61-b4b3-f05512d57b41"
      },
      "execution_count": 28,
      "outputs": [
        {
          "output_type": "stream",
          "name": "stdout",
          "text": [
            "Model: \"model_5\"\n",
            "__________________________________________________________________________________________________\n",
            " Layer (type)                   Output Shape         Param #     Connected to                     \n",
            "==================================================================================================\n",
            " input_8 (InputLayer)           [(None, 32, 32, 3)]  0           []                               \n",
            "                                                                                                  \n",
            " conv2d_266 (Conv2D)            (None, 32, 32, 64)   832         ['input_8[0][0]']                \n",
            "                                                                                                  \n",
            " conv2d_267 (Conv2D)            (None, 32, 32, 64)   16448       ['conv2d_266[0][0]']             \n",
            "                                                                                                  \n",
            " activation_235 (Activation)    (None, 32, 32, 64)   0           ['conv2d_267[0][0]']             \n",
            "                                                                                                  \n",
            " conv2d_268 (Conv2D)            (None, 32, 32, 64)   16448       ['activation_235[0][0]']         \n",
            "                                                                                                  \n",
            " activation_236 (Activation)    (None, 32, 32, 64)   0           ['conv2d_268[0][0]']             \n",
            "                                                                                                  \n",
            " add_118 (Add)                  (None, 32, 32, 64)   0           ['activation_236[0][0]',         \n",
            "                                                                  'conv2d_266[0][0]']             \n",
            "                                                                                                  \n",
            " conv2d_269 (Conv2D)            (None, 32, 32, 64)   16448       ['add_118[0][0]']                \n",
            "                                                                                                  \n",
            " activation_237 (Activation)    (None, 32, 32, 64)   0           ['conv2d_269[0][0]']             \n",
            "                                                                                                  \n",
            " conv2d_270 (Conv2D)            (None, 32, 32, 64)   16448       ['activation_237[0][0]']         \n",
            "                                                                                                  \n",
            " activation_238 (Activation)    (None, 32, 32, 64)   0           ['conv2d_270[0][0]']             \n",
            "                                                                                                  \n",
            " add_119 (Add)                  (None, 32, 32, 64)   0           ['activation_238[0][0]',         \n",
            "                                                                  'add_118[0][0]']                \n",
            "                                                                                                  \n",
            " conv2d_271 (Conv2D)            (None, 32, 32, 64)   16448       ['add_119[0][0]']                \n",
            "                                                                                                  \n",
            " activation_239 (Activation)    (None, 32, 32, 64)   0           ['conv2d_271[0][0]']             \n",
            "                                                                                                  \n",
            " conv2d_272 (Conv2D)            (None, 32, 32, 64)   16448       ['activation_239[0][0]']         \n",
            "                                                                                                  \n",
            " activation_240 (Activation)    (None, 32, 32, 64)   0           ['conv2d_272[0][0]']             \n",
            "                                                                                                  \n",
            " add_120 (Add)                  (None, 32, 32, 64)   0           ['activation_240[0][0]',         \n",
            "                                                                  'add_119[0][0]']                \n",
            "                                                                                                  \n",
            " conv2d_273 (Conv2D)            (None, 32, 32, 32)   8224        ['add_120[0][0]']                \n",
            "                                                                                                  \n",
            " conv2d_274 (Conv2D)            (None, 32, 32, 32)   4128        ['conv2d_273[0][0]']             \n",
            "                                                                                                  \n",
            " activation_241 (Activation)    (None, 32, 32, 32)   0           ['conv2d_274[0][0]']             \n",
            "                                                                                                  \n",
            " conv2d_275 (Conv2D)            (None, 32, 32, 32)   4128        ['activation_241[0][0]']         \n",
            "                                                                                                  \n",
            " activation_242 (Activation)    (None, 32, 32, 32)   0           ['conv2d_275[0][0]']             \n",
            "                                                                                                  \n",
            " add_121 (Add)                  (None, 32, 32, 32)   0           ['activation_242[0][0]',         \n",
            "                                                                  'conv2d_273[0][0]']             \n",
            "                                                                                                  \n",
            " conv2d_276 (Conv2D)            (None, 32, 32, 32)   4128        ['add_121[0][0]']                \n",
            "                                                                                                  \n",
            " activation_243 (Activation)    (None, 32, 32, 32)   0           ['conv2d_276[0][0]']             \n",
            "                                                                                                  \n",
            " conv2d_277 (Conv2D)            (None, 32, 32, 32)   4128        ['activation_243[0][0]']         \n",
            "                                                                                                  \n",
            " activation_244 (Activation)    (None, 32, 32, 32)   0           ['conv2d_277[0][0]']             \n",
            "                                                                                                  \n",
            " add_122 (Add)                  (None, 32, 32, 32)   0           ['activation_244[0][0]',         \n",
            "                                                                  'add_121[0][0]']                \n",
            "                                                                                                  \n",
            " conv2d_278 (Conv2D)            (None, 32, 32, 32)   4128        ['add_122[0][0]']                \n",
            "                                                                                                  \n",
            " activation_245 (Activation)    (None, 32, 32, 32)   0           ['conv2d_278[0][0]']             \n",
            "                                                                                                  \n",
            " conv2d_279 (Conv2D)            (None, 32, 32, 32)   4128        ['activation_245[0][0]']         \n",
            "                                                                                                  \n",
            " activation_246 (Activation)    (None, 32, 32, 32)   0           ['conv2d_279[0][0]']             \n",
            "                                                                                                  \n",
            " add_123 (Add)                  (None, 32, 32, 32)   0           ['activation_246[0][0]',         \n",
            "                                                                  'add_122[0][0]']                \n",
            "                                                                                                  \n",
            " conv2d_280 (Conv2D)            (None, 32, 32, 16)   2064        ['add_123[0][0]']                \n",
            "                                                                                                  \n",
            " conv2d_281 (Conv2D)            (None, 32, 32, 16)   1040        ['conv2d_280[0][0]']             \n",
            "                                                                                                  \n",
            " activation_247 (Activation)    (None, 32, 32, 16)   0           ['conv2d_281[0][0]']             \n",
            "                                                                                                  \n",
            " conv2d_282 (Conv2D)            (None, 32, 32, 16)   1040        ['activation_247[0][0]']         \n",
            "                                                                                                  \n",
            " activation_248 (Activation)    (None, 32, 32, 16)   0           ['conv2d_282[0][0]']             \n",
            "                                                                                                  \n",
            " add_124 (Add)                  (None, 32, 32, 16)   0           ['activation_248[0][0]',         \n",
            "                                                                  'conv2d_280[0][0]']             \n",
            "                                                                                                  \n",
            " conv2d_283 (Conv2D)            (None, 32, 32, 16)   1040        ['add_124[0][0]']                \n",
            "                                                                                                  \n",
            " activation_249 (Activation)    (None, 32, 32, 16)   0           ['conv2d_283[0][0]']             \n",
            "                                                                                                  \n",
            " conv2d_284 (Conv2D)            (None, 32, 32, 16)   1040        ['activation_249[0][0]']         \n",
            "                                                                                                  \n",
            " activation_250 (Activation)    (None, 32, 32, 16)   0           ['conv2d_284[0][0]']             \n",
            "                                                                                                  \n",
            " add_125 (Add)                  (None, 32, 32, 16)   0           ['activation_250[0][0]',         \n",
            "                                                                  'add_124[0][0]']                \n",
            "                                                                                                  \n",
            " conv2d_285 (Conv2D)            (None, 32, 32, 16)   1040        ['add_125[0][0]']                \n",
            "                                                                                                  \n",
            " activation_251 (Activation)    (None, 32, 32, 16)   0           ['conv2d_285[0][0]']             \n",
            "                                                                                                  \n",
            " conv2d_286 (Conv2D)            (None, 32, 32, 16)   1040        ['activation_251[0][0]']         \n",
            "                                                                                                  \n",
            " activation_252 (Activation)    (None, 32, 32, 16)   0           ['conv2d_286[0][0]']             \n",
            "                                                                                                  \n",
            " add_126 (Add)                  (None, 32, 32, 16)   0           ['activation_252[0][0]',         \n",
            "                                                                  'add_125[0][0]']                \n",
            "                                                                                                  \n",
            " conv2d_287 (Conv2D)            (None, 32, 32, 16)   1040        ['add_126[0][0]']                \n",
            "                                                                                                  \n",
            " conv2d_288 (Conv2D)            (None, 32, 32, 16)   1040        ['conv2d_287[0][0]']             \n",
            "                                                                                                  \n",
            " activation_253 (Activation)    (None, 32, 32, 16)   0           ['conv2d_288[0][0]']             \n",
            "                                                                                                  \n",
            " conv2d_289 (Conv2D)            (None, 32, 32, 16)   1040        ['activation_253[0][0]']         \n",
            "                                                                                                  \n",
            " activation_254 (Activation)    (None, 32, 32, 16)   0           ['conv2d_289[0][0]']             \n",
            "                                                                                                  \n",
            " add_127 (Add)                  (None, 32, 32, 16)   0           ['activation_254[0][0]',         \n",
            "                                                                  'conv2d_287[0][0]']             \n",
            "                                                                                                  \n",
            " conv2d_290 (Conv2D)            (None, 32, 32, 16)   1040        ['add_127[0][0]']                \n",
            "                                                                                                  \n",
            " activation_255 (Activation)    (None, 32, 32, 16)   0           ['conv2d_290[0][0]']             \n",
            "                                                                                                  \n",
            " conv2d_291 (Conv2D)            (None, 32, 32, 16)   1040        ['activation_255[0][0]']         \n",
            "                                                                                                  \n",
            " activation_256 (Activation)    (None, 32, 32, 16)   0           ['conv2d_291[0][0]']             \n",
            "                                                                                                  \n",
            " add_128 (Add)                  (None, 32, 32, 16)   0           ['activation_256[0][0]',         \n",
            "                                                                  'add_127[0][0]']                \n",
            "                                                                                                  \n",
            " conv2d_292 (Conv2D)            (None, 32, 32, 16)   1040        ['add_128[0][0]']                \n",
            "                                                                                                  \n",
            " activation_257 (Activation)    (None, 32, 32, 16)   0           ['conv2d_292[0][0]']             \n",
            "                                                                                                  \n",
            " conv2d_293 (Conv2D)            (None, 32, 32, 16)   1040        ['activation_257[0][0]']         \n",
            "                                                                                                  \n",
            " activation_258 (Activation)    (None, 32, 32, 16)   0           ['conv2d_293[0][0]']             \n",
            "                                                                                                  \n",
            " add_129 (Add)                  (None, 32, 32, 16)   0           ['activation_258[0][0]',         \n",
            "                                                                  'add_128[0][0]']                \n",
            "                                                                                                  \n",
            " conv2d_transpose_25 (Conv2DTra  (None, 32, 32, 32)  2080        ['add_129[0][0]']                \n",
            " nspose)                                                                                          \n",
            "                                                                                                  \n",
            " tf.__operators__.add_12 (TFOpL  (None, 32, 32, 32)  0           ['conv2d_transpose_25[0][0]',    \n",
            " ambda)                                                           'add_123[0][0]']                \n",
            "                                                                                                  \n",
            " conv2d_294 (Conv2D)            (None, 32, 32, 32)   4128        ['tf.__operators__.add_12[0][0]']\n",
            "                                                                                                  \n",
            " activation_259 (Activation)    (None, 32, 32, 32)   0           ['conv2d_294[0][0]']             \n",
            "                                                                                                  \n",
            " conv2d_295 (Conv2D)            (None, 32, 32, 32)   4128        ['activation_259[0][0]']         \n",
            "                                                                                                  \n",
            " activation_260 (Activation)    (None, 32, 32, 32)   0           ['conv2d_295[0][0]']             \n",
            "                                                                                                  \n",
            " add_130 (Add)                  (None, 32, 32, 32)   0           ['activation_260[0][0]',         \n",
            "                                                                  'tf.__operators__.add_12[0][0]']\n",
            "                                                                                                  \n",
            " conv2d_296 (Conv2D)            (None, 32, 32, 32)   4128        ['add_130[0][0]']                \n",
            "                                                                                                  \n",
            " activation_261 (Activation)    (None, 32, 32, 32)   0           ['conv2d_296[0][0]']             \n",
            "                                                                                                  \n",
            " conv2d_297 (Conv2D)            (None, 32, 32, 32)   4128        ['activation_261[0][0]']         \n",
            "                                                                                                  \n",
            " activation_262 (Activation)    (None, 32, 32, 32)   0           ['conv2d_297[0][0]']             \n",
            "                                                                                                  \n",
            " add_131 (Add)                  (None, 32, 32, 32)   0           ['activation_262[0][0]',         \n",
            "                                                                  'add_130[0][0]']                \n",
            "                                                                                                  \n",
            " conv2d_298 (Conv2D)            (None, 32, 32, 32)   4128        ['add_131[0][0]']                \n",
            "                                                                                                  \n",
            " activation_263 (Activation)    (None, 32, 32, 32)   0           ['conv2d_298[0][0]']             \n",
            "                                                                                                  \n",
            " conv2d_299 (Conv2D)            (None, 32, 32, 32)   4128        ['activation_263[0][0]']         \n",
            "                                                                                                  \n",
            " activation_264 (Activation)    (None, 32, 32, 32)   0           ['conv2d_299[0][0]']             \n",
            "                                                                                                  \n",
            " add_132 (Add)                  (None, 32, 32, 32)   0           ['activation_264[0][0]',         \n",
            "                                                                  'add_131[0][0]']                \n",
            "                                                                                                  \n",
            " conv2d_transpose_26 (Conv2DTra  (None, 32, 32, 64)  18496       ['add_132[0][0]']                \n",
            " nspose)                                                                                          \n",
            "                                                                                                  \n",
            " tf.__operators__.add_13 (TFOpL  (None, 32, 32, 64)  0           ['conv2d_transpose_26[0][0]',    \n",
            " ambda)                                                           'add_120[0][0]']                \n",
            "                                                                                                  \n",
            " conv2d_300 (Conv2D)            (None, 32, 32, 64)   16448       ['tf.__operators__.add_13[0][0]']\n",
            "                                                                                                  \n",
            " activation_265 (Activation)    (None, 32, 32, 64)   0           ['conv2d_300[0][0]']             \n",
            "                                                                                                  \n",
            " conv2d_301 (Conv2D)            (None, 32, 32, 64)   16448       ['activation_265[0][0]']         \n",
            "                                                                                                  \n",
            " activation_266 (Activation)    (None, 32, 32, 64)   0           ['conv2d_301[0][0]']             \n",
            "                                                                                                  \n",
            " add_133 (Add)                  (None, 32, 32, 64)   0           ['activation_266[0][0]',         \n",
            "                                                                  'tf.__operators__.add_13[0][0]']\n",
            "                                                                                                  \n",
            " conv2d_302 (Conv2D)            (None, 32, 32, 64)   16448       ['add_133[0][0]']                \n",
            "                                                                                                  \n",
            " activation_267 (Activation)    (None, 32, 32, 64)   0           ['conv2d_302[0][0]']             \n",
            "                                                                                                  \n",
            " conv2d_303 (Conv2D)            (None, 32, 32, 64)   16448       ['activation_267[0][0]']         \n",
            "                                                                                                  \n",
            " activation_268 (Activation)    (None, 32, 32, 64)   0           ['conv2d_303[0][0]']             \n",
            "                                                                                                  \n",
            " add_134 (Add)                  (None, 32, 32, 64)   0           ['activation_268[0][0]',         \n",
            "                                                                  'add_133[0][0]']                \n",
            "                                                                                                  \n",
            " conv2d_304 (Conv2D)            (None, 32, 32, 64)   16448       ['add_134[0][0]']                \n",
            "                                                                                                  \n",
            " activation_269 (Activation)    (None, 32, 32, 64)   0           ['conv2d_304[0][0]']             \n",
            "                                                                                                  \n",
            " conv2d_305 (Conv2D)            (None, 32, 32, 64)   16448       ['activation_269[0][0]']         \n",
            "                                                                                                  \n",
            " activation_270 (Activation)    (None, 32, 32, 64)   0           ['conv2d_305[0][0]']             \n",
            "                                                                                                  \n",
            " add_135 (Add)                  (None, 32, 32, 64)   0           ['activation_270[0][0]',         \n",
            "                                                                  'add_134[0][0]']                \n",
            "                                                                                                  \n",
            " conv2d_transpose_27 (Conv2DTra  (None, 32, 32, 32)  8224        ['add_135[0][0]']                \n",
            " nspose)                                                                                          \n",
            "                                                                                                  \n",
            " conv2d_transpose_28 (Conv2DTra  (None, 32, 32, 16)  2064        ['conv2d_transpose_27[0][0]']    \n",
            " nspose)                                                                                          \n",
            "                                                                                                  \n",
            " conv2d_transpose_29 (Conv2DTra  (None, 32, 32, 3)   51          ['conv2d_transpose_28[0][0]']    \n",
            " nspose)                                                                                          \n",
            "                                                                                                  \n",
            "==================================================================================================\n",
            "Total params: 302,467\n",
            "Trainable params: 302,467\n",
            "Non-trainable params: 0\n",
            "__________________________________________________________________________________________________\n"
          ]
        }
      ]
    },
    {
      "cell_type": "code",
      "source": [
        "model.compile(loss = 'mse', optimizer = 'adam',metrics=['acc'])\n",
        "hist = model.fit(x_train_blured.reshape(-1, 32, 32, 3), \n",
        "          x_train.reshape(-1, 32, 32, 3), \n",
        "          epochs = 5, \n",
        "          batch_size = 200, \n",
        "          validation_split=0.1)"
      ],
      "metadata": {
        "colab": {
          "base_uri": "https://localhost:8080/"
        },
        "id": "BP8rFqsE9fJV",
        "outputId": "cb8f926e-8fe6-4772-89fa-e34eb3c65a27"
      },
      "execution_count": 29,
      "outputs": [
        {
          "output_type": "stream",
          "name": "stdout",
          "text": [
            "Epoch 1/5\n",
            "225/225 [==============================] - 46s 192ms/step - loss: 0.0136 - acc: 0.7051 - val_loss: 0.0064 - val_acc: 0.7918\n",
            "Epoch 2/5\n",
            "225/225 [==============================] - 43s 189ms/step - loss: 0.0046 - acc: 0.7988 - val_loss: 0.0042 - val_acc: 0.7994\n",
            "Epoch 3/5\n",
            "225/225 [==============================] - 43s 189ms/step - loss: 0.0042 - acc: 0.8116 - val_loss: 0.0039 - val_acc: 0.8214\n",
            "Epoch 4/5\n",
            "225/225 [==============================] - 43s 189ms/step - loss: 0.0039 - acc: 0.8200 - val_loss: 0.0038 - val_acc: 0.8064\n",
            "Epoch 5/5\n",
            "225/225 [==============================] - 43s 189ms/step - loss: 0.0038 - acc: 0.8215 - val_loss: 0.0038 - val_acc: 0.8279\n"
          ]
        }
      ]
    },
    {
      "cell_type": "code",
      "source": [
        "def plot_history(model_history,keys):\n",
        "    m,val_m = keys\n",
        "    plt.plot(model_history.history[m])\n",
        "    plt.plot(model_history.history[val_m])\n",
        "    plt.ylabel(m)\n",
        "    plt.xlabel('epoch')\n",
        "    plt.legend(['train', 'test'], loc='upper left')\n",
        "    plt.show()\n",
        "\n",
        "plot_history(hist,['loss','val_loss'])"
      ],
      "metadata": {
        "colab": {
          "base_uri": "https://localhost:8080/",
          "height": 279
        },
        "id": "u1okVRFr9o9E",
        "outputId": "07002457-f944-4377-ca57-f4564b454a2c"
      },
      "execution_count": 21,
      "outputs": [
        {
          "output_type": "display_data",
          "data": {
            "text/plain": [
              "<Figure size 432x288 with 1 Axes>"
            ],
            "image/png": "[encoded data removed]"
          },
          "metadata": {
            "needs_background": "light"
          }
        }
      ]
    },
    {
      "cell_type": "code",
      "source": [
        "from tensorflow.keras.losses import MeanSquaredError\n",
        "\n",
        "y_true = x_test\n",
        "y_pred = model.predict(x_test_blured)\n",
        "\n",
        "mse = MeanSquaredError()\n",
        "mse(y_true, y_pred).numpy()\n",
        "\n",
        "#0.0023\n",
        "\n",
        "#0.0041738243220982366\n",
        "#0.004219622105503972\n",
        "#0.00404854369862134\n",
        "#0.003909846398674108\n",
        "#0.00379532259022029\n",
        "#0.003393252"
      ],
      "metadata": {
        "colab": {
          "base_uri": "https://localhost:8080/"
        },
        "id": "Jzo-zGO59r5g",
        "outputId": "d3092980-ecbb-409a-d790-ece43b40630d"
      },
      "execution_count": 22,
      "outputs": [
        {
          "output_type": "execute_result",
          "data": {
            "text/plain": [
              "0.0036343555"
            ]
          },
          "metadata": {},
          "execution_count": 22
        }
      ]
    }
  ]
}