{
  "nbformat": 4,
  "nbformat_minor": 0,
  "metadata": {
    "colab": {
      "name": "VAE.ipynb",
      "provenance": []
    },
    "kernelspec": {
      "name": "python3",
      "display_name": "Python 3"
    },
    "language_info": {
      "name": "python"
    },
    "accelerator": "GPU"
  },
  "cells": [
    {
      "cell_type": "markdown",
      "metadata": {
        "id": "d_DKvNpcIeVu"
      },
      "source": [
        "In this notebook we shall present a simple conditional VAE, trained on MNIST"
      ]
    },
    {
      "cell_type": "code",
      "metadata": {
        "id": "V8_HUth4IW1g"
      },
      "source": [
        "import tensorflow as tf\n",
        "from tensorflow.keras import layers\n",
        "from tensorflow.keras import Model\n",
        "from tensorflow.keras import backend as K\n",
        "from tensorflow.keras import metrics\n",
        "from tensorflow.keras import utils\n",
        "from keras.datasets import mnist\n",
        "import numpy as np\n",
        "import matplotlib.pyplot as plt"
      ],
      "execution_count": 1,
      "outputs": []
    },
    {
      "cell_type": "markdown",
      "metadata": {
        "id": "bKj7GMTI7eK2"
      },
      "source": [
        "The variational autoencoder will allow to generate digits similar to those in the MNIST dataset."
      ]
    },
    {
      "cell_type": "code",
      "metadata": {
        "id": "_WG8B8RJlAaW"
      },
      "source": [
        "# train the VAE on MNIST digits\n",
        "(x_train, y_train), (x_test, y_test) = mnist.load_data()\n",
        "\n",
        "x_train = x_train.astype('float32') / 255.\n",
        "x_test = x_test.astype('float32') / 255.\n",
        "x_train = x_train.reshape((len(x_train), np.prod(x_train.shape[1:])))\n",
        "x_test = x_test.reshape((len(x_test), np.prod(x_test.shape[1:])))\n",
        "y_train = utils.to_categorical(y_train)\n",
        "y_test = utils.to_categorical(y_test)"
      ],
      "execution_count": 2,
      "outputs": []
    },
    {
      "cell_type": "markdown",
      "metadata": {
        "id": "OxLa37ZnKIUV"
      },
      "source": [
        "# The model"
      ]
    },
    {
      "cell_type": "markdown",
      "metadata": {
        "id": "TPu8FwnGJ5Pl"
      },
      "source": [
        "Sampling function for the Variational Autoencoder."
      ]
    },
    {
      "cell_type": "code",
      "metadata": {
        "id": "t1hiFRyHJbKf"
      },
      "source": [
        "def sampling(args):\n",
        "    z_mean, z_log_var = args\n",
        "    epsilon = K.random_normal(shape=(K.shape(z_mean)[0], latent_dim), mean=0.,\n",
        "                              stddev=1.)\n",
        "    return z_mean + K.exp(z_log_var / 2) * epsilon"
      ],
      "execution_count": 3,
      "outputs": []
    },
    {
      "cell_type": "markdown",
      "metadata": {
        "id": "cwm4jR5E8in4"
      },
      "source": [
        "Main dimensions for the model (a simple stack of dense layers)."
      ]
    },
    {
      "cell_type": "code",
      "metadata": {
        "id": "VT9baosbKW8M"
      },
      "source": [
        "input_dim = 784\n",
        "latent_dim = 16\n",
        "intermediate_dim_1 = 128\n",
        "intermediate_dim_2 = 32"
      ],
      "execution_count": 30,
      "outputs": []
    },
    {
      "cell_type": "markdown",
      "metadata": {
        "id": "533QeAx09JGh"
      },
      "source": [
        "We start with the encoder. It takes two inputs: the image and the category.\n",
        "\n",
        "It returns the latent encoding (z_mean) and a (log-)variance for each latent variable."
      ]
    },
    {
      "cell_type": "code",
      "metadata": {
        "id": "9atMqlZUJ_dD"
      },
      "source": [
        "x = layers.Input(shape=(input_dim,))\n",
        "h1 = layers.Dense(intermediate_dim_1, activation='swish')(x)\n",
        "h2 = layers.Dense(intermediate_dim_2, activation='swish')(h1)\n",
        "z_mean = layers.Dense(latent_dim)(h2)\n",
        "z_log_var = layers.Dense(latent_dim)(h2)\n",
        "\n",
        "encoder = Model(x,[z_mean,z_log_var])"
      ],
      "execution_count": 31,
      "outputs": []
    },
    {
      "cell_type": "markdown",
      "source": [
        "Now we define the decoder. It takes in input a vector in the latent space, and it returns the image of a digit."
      ],
      "metadata": {
        "id": "wuIsUslmBKxj"
      }
    },
    {
      "cell_type": "code",
      "source": [
        "z = layers.Input(shape=(latent_dim,))\n",
        "dec_mid_1 = layers.Dense(intermediate_dim_2, activation='swish')(z)\n",
        "dec_mid_2 = layers.Dense(intermediate_dim_1, activation='swish')(dec_mid_1)\n",
        "x_hat = layers.Dense(input_dim,activation='sigmoid')(dec_mid_2)\n",
        "\n",
        "decoder = Model(inputs=z, outputs=[x_hat])"
      ],
      "metadata": {
        "id": "0NX6uciuBKJw"
      },
      "execution_count": 32,
      "outputs": []
    },
    {
      "cell_type": "markdown",
      "metadata": {
        "id": "CL94ost69tn_"
      },
      "source": [
        "We build the VAE by composing the encoder and the decoder. However, between them we need to insert the sampling operation. \n",
        "\n",
        "In order to wrap the sampling function into a layer we use a special layer called \"lambda\". "
      ]
    },
    {
      "cell_type": "code",
      "metadata": {
        "id": "RrqVE-8gLVkP"
      },
      "source": [
        "x = layers.Input(shape=(input_dim,))\n",
        "z_mean, z_log_var = encoder(x)\n",
        "z = layers.Lambda(sampling, output_shape=(latent_dim,))([z_mean, z_log_var])\n",
        "x_hat = decoder(z)\n",
        "\n",
        "vae = Model(x,x_hat)"
      ],
      "execution_count": 33,
      "outputs": []
    },
    {
      "cell_type": "markdown",
      "source": [
        "The VAE loss function is just the sum between the reconstruction error (mse or bce) and the KL-divergence, acting as a regularizer of the latent space."
      ],
      "metadata": {
        "id": "HFLYIrj8Ds9l"
      }
    },
    {
      "cell_type": "code",
      "metadata": {
        "id": "JoGx6ok5j9SH"
      },
      "source": [
        "beta = 1. #a balancing factor\n",
        "rec_loss = input_dim * metrics.binary_crossentropy(x, x_hat)\n",
        "kl_loss = - 0.5 * K.sum(1 + z_log_var - K.square(z_mean) - K.exp(z_log_var), axis=-1)\n",
        "vae_loss = K.mean(rec_loss + beta * kl_loss)\n",
        "vae.add_loss(vae_loss)"
      ],
      "execution_count": 34,
      "outputs": []
    },
    {
      "cell_type": "markdown",
      "metadata": {
        "id": "4pXS7wjS85eD"
      },
      "source": [
        "Some hyperparameters. Gamma is used to balance loglikelihood and KL-divergence in the loss function"
      ]
    },
    {
      "cell_type": "code",
      "metadata": {
        "id": "bBZvcj_VnRjE"
      },
      "source": [
        "batch_size = 100\n",
        "epochs = 50"
      ],
      "execution_count": 35,
      "outputs": []
    },
    {
      "cell_type": "markdown",
      "metadata": {
        "id": "wO5bJn1e_VcD"
      },
      "source": [
        "We are ready to compile. There is no need to specify the loss function, since we already added it to the model with add_loss."
      ]
    },
    {
      "cell_type": "code",
      "metadata": {
        "id": "88MtVNBokxYM"
      },
      "source": [
        "vae.compile(optimizer='adam')"
      ],
      "execution_count": 36,
      "outputs": []
    },
    {
      "cell_type": "markdown",
      "metadata": {
        "id": "2I2N8blv_kT2"
      },
      "source": [
        "Train for a sufficient amount of epochs. Generation is a more complex task than classification."
      ]
    },
    {
      "cell_type": "code",
      "metadata": {
        "colab": {
          "base_uri": "https://localhost:8080/"
        },
        "id": "VgjJ9-sElLFe",
        "outputId": "906fe5aa-c002-4830-ab28-d27ca9768cc7"
      },
      "source": [
        "#vae.load_weights(\"cvae256_8.h5\")\n",
        "vae.fit(x_train, None, shuffle=True, epochs=epochs, batch_size=batch_size, validation_data=(x_test, None))\n",
        "\n",
        "vae.save_weights(\"cvae256_8.h5\")"
      ],
      "execution_count": 37,
      "outputs": [
        {
          "output_type": "stream",
          "name": "stdout",
          "text": [
            "Epoch 1/50\n",
            "600/600 [==============================] - 4s 5ms/step - loss: 188.4745 - val_loss: 150.0237\n",
            "Epoch 2/50\n",
            "600/600 [==============================] - 3s 5ms/step - loss: 141.7901 - val_loss: 134.6203\n",
            "Epoch 3/50\n",
            "600/600 [==============================] - 3s 5ms/step - loss: 131.5237 - val_loss: 127.0711\n",
            "Epoch 4/50\n",
            "600/600 [==============================] - 3s 5ms/step - loss: 125.6232 - val_loss: 122.0381\n",
            "Epoch 5/50\n",
            "600/600 [==============================] - 3s 5ms/step - loss: 121.3398 - val_loss: 118.6567\n",
            "Epoch 6/50\n",
            "600/600 [==============================] - 3s 5ms/step - loss: 118.7414 - val_loss: 116.5699\n",
            "Epoch 7/50\n",
            "600/600 [==============================] - 3s 5ms/step - loss: 116.9639 - val_loss: 115.0749\n",
            "Epoch 8/50\n",
            "600/600 [==============================] - 3s 5ms/step - loss: 115.4749 - val_loss: 113.8776\n",
            "Epoch 9/50\n",
            "600/600 [==============================] - 3s 5ms/step - loss: 114.2930 - val_loss: 112.7734\n",
            "Epoch 10/50\n",
            "600/600 [==============================] - 3s 5ms/step - loss: 113.3515 - val_loss: 111.9774\n",
            "Epoch 11/50\n",
            "600/600 [==============================] - 3s 5ms/step - loss: 112.5671 - val_loss: 111.3229\n",
            "Epoch 12/50\n",
            "600/600 [==============================] - 3s 5ms/step - loss: 111.9182 - val_loss: 110.8167\n",
            "Epoch 13/50\n",
            "600/600 [==============================] - 3s 5ms/step - loss: 111.3144 - val_loss: 110.2364\n",
            "Epoch 14/50\n",
            "600/600 [==============================] - 3s 5ms/step - loss: 110.7986 - val_loss: 109.8881\n",
            "Epoch 15/50\n",
            "600/600 [==============================] - 3s 5ms/step - loss: 110.3314 - val_loss: 109.5835\n",
            "Epoch 16/50\n",
            "600/600 [==============================] - 3s 5ms/step - loss: 109.9807 - val_loss: 109.3326\n",
            "Epoch 17/50\n",
            "600/600 [==============================] - 3s 5ms/step - loss: 109.6288 - val_loss: 108.7311\n",
            "Epoch 18/50\n",
            "600/600 [==============================] - 3s 5ms/step - loss: 109.3390 - val_loss: 108.5995\n",
            "Epoch 19/50\n",
            "600/600 [==============================] - 3s 5ms/step - loss: 109.0592 - val_loss: 108.3561\n",
            "Epoch 20/50\n",
            "600/600 [==============================] - 3s 5ms/step - loss: 108.8129 - val_loss: 108.1104\n",
            "Epoch 21/50\n",
            "600/600 [==============================] - 3s 5ms/step - loss: 108.5472 - val_loss: 107.9271\n",
            "Epoch 22/50\n",
            "600/600 [==============================] - 3s 5ms/step - loss: 108.3009 - val_loss: 107.8320\n",
            "Epoch 23/50\n",
            "600/600 [==============================] - 3s 5ms/step - loss: 108.1454 - val_loss: 107.5205\n",
            "Epoch 24/50\n",
            "600/600 [==============================] - 3s 5ms/step - loss: 107.9302 - val_loss: 107.3731\n",
            "Epoch 25/50\n",
            "600/600 [==============================] - 3s 5ms/step - loss: 107.7901 - val_loss: 107.2630\n",
            "Epoch 26/50\n",
            "600/600 [==============================] - 3s 5ms/step - loss: 107.5965 - val_loss: 107.1228\n",
            "Epoch 27/50\n",
            "600/600 [==============================] - 3s 5ms/step - loss: 107.4721 - val_loss: 106.8824\n",
            "Epoch 28/50\n",
            "600/600 [==============================] - 3s 5ms/step - loss: 107.3108 - val_loss: 106.9707\n",
            "Epoch 29/50\n",
            "600/600 [==============================] - 3s 5ms/step - loss: 107.1188 - val_loss: 106.8419\n",
            "Epoch 30/50\n",
            "600/600 [==============================] - 3s 5ms/step - loss: 106.9992 - val_loss: 106.6942\n",
            "Epoch 31/50\n",
            "600/600 [==============================] - 3s 5ms/step - loss: 106.8731 - val_loss: 106.4084\n",
            "Epoch 32/50\n",
            "600/600 [==============================] - 3s 5ms/step - loss: 106.7962 - val_loss: 106.4824\n",
            "Epoch 33/50\n",
            "600/600 [==============================] - 3s 5ms/step - loss: 106.6398 - val_loss: 106.2280\n",
            "Epoch 34/50\n",
            "600/600 [==============================] - 3s 5ms/step - loss: 106.5294 - val_loss: 106.0978\n",
            "Epoch 35/50\n",
            "600/600 [==============================] - 3s 5ms/step - loss: 106.4167 - val_loss: 106.0191\n",
            "Epoch 36/50\n",
            "600/600 [==============================] - 3s 5ms/step - loss: 106.3177 - val_loss: 106.2454\n",
            "Epoch 37/50\n",
            "600/600 [==============================] - 3s 5ms/step - loss: 106.2375 - val_loss: 105.9809\n",
            "Epoch 38/50\n",
            "600/600 [==============================] - 3s 5ms/step - loss: 106.1146 - val_loss: 105.7913\n",
            "Epoch 39/50\n",
            "600/600 [==============================] - 3s 5ms/step - loss: 106.0448 - val_loss: 105.8128\n",
            "Epoch 40/50\n",
            "600/600 [==============================] - 3s 5ms/step - loss: 105.9444 - val_loss: 105.6441\n",
            "Epoch 41/50\n",
            "600/600 [==============================] - 3s 5ms/step - loss: 105.8986 - val_loss: 105.6427\n",
            "Epoch 42/50\n",
            "600/600 [==============================] - 3s 5ms/step - loss: 105.8111 - val_loss: 105.7749\n",
            "Epoch 43/50\n",
            "600/600 [==============================] - 3s 5ms/step - loss: 105.7818 - val_loss: 105.4553\n",
            "Epoch 44/50\n",
            "600/600 [==============================] - 3s 5ms/step - loss: 105.6414 - val_loss: 105.4616\n",
            "Epoch 45/50\n",
            "600/600 [==============================] - 3s 5ms/step - loss: 105.5846 - val_loss: 105.3427\n",
            "Epoch 46/50\n",
            "600/600 [==============================] - 3s 5ms/step - loss: 105.5121 - val_loss: 105.5220\n",
            "Epoch 47/50\n",
            "600/600 [==============================] - 3s 5ms/step - loss: 105.4410 - val_loss: 105.3388\n",
            "Epoch 48/50\n",
            "600/600 [==============================] - 3s 5ms/step - loss: 105.4031 - val_loss: 105.1564\n",
            "Epoch 49/50\n",
            "600/600 [==============================] - 3s 5ms/step - loss: 105.3508 - val_loss: 105.2149\n",
            "Epoch 50/50\n",
            "600/600 [==============================] - 3s 5ms/step - loss: 105.2493 - val_loss: 105.2078\n"
          ]
        }
      ]
    },
    {
      "cell_type": "markdown",
      "source": [
        "Let us plot some examples"
      ],
      "metadata": {
        "id": "OgS9EBeAGVBM"
      }
    },
    {
      "cell_type": "code",
      "metadata": {
        "id": "QhEuyvLqmg9Z"
      },
      "source": [
        "  def plot(images):\n",
        "    n = images.shape[0]\n",
        "    plt.figure(figsize=(2*n, 2))\n",
        "    for i in range(n):\n",
        "      # display original\n",
        "      ax = plt.subplot(1, n, i + 1)\n",
        "      plt.imshow(images[i].reshape(28, 28))\n",
        "      plt.gray()\n",
        "      ax.get_xaxis().set_visible(False)\n",
        "      ax.get_yaxis().set_visible(False)\n",
        "    plt.show()"
      ],
      "execution_count": 38,
      "outputs": []
    },
    {
      "cell_type": "code",
      "metadata": {
        "colab": {
          "base_uri": "https://localhost:8080/",
          "height": 127
        },
        "id": "kts9354Pmq9Y",
        "outputId": "7c7ce849-1593-414c-ebbe-d8b089fc8aa8"
      },
      "source": [
        "z_sample = np.random.normal(size=(10,latent_dim))\n",
        "#print(z_sample.shape)\n",
        "generated = decoder.predict(z_sample)\n",
        "#print(generated.shape)\n",
        "plot(generated)"
      ],
      "execution_count": 41,
      "outputs": [
        {
          "output_type": "display_data",
          "data": {
            "text/plain": [
              "<Figure size 1440x144 with 10 Axes>"
            ],
            "image/png": "[encoded data removed]"
          },
          "metadata": {
            "needs_background": "light"
          }
        }
      ]
    }
  ]
}
