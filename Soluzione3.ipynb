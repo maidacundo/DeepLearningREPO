{
  "nbformat": 4,
  "nbformat_minor": 0,
  "metadata": {
    "colab": {
      "name": "Untitled5.ipynb",
      "provenance": [],
      "machine_shape": "hm",
      "authorship_tag": "ABX9TyOKPws2byDnkILKGaU2fv4u",
      "include_colab_link": true
    },
    "kernelspec": {
      "name": "python3",
      "display_name": "Python 3"
    },
    "language_info": {
      "name": "python"
    },
    "accelerator": "GPU"
  },
  "cells": [
    {
      "cell_type": "markdown",
      "metadata": {
        "id": "view-in-github",
        "colab_type": "text"
      },
      "source": [
        "<a href=\"https://colab.research.google.com/github/maidacundo/DeepLearningREPO/blob/main/Soluzione3.ipynb\" target=\"_parent\"><img src=\"https://colab.research.google.com/assets/colab-badge.svg\" alt=\"Open In Colab\"/></a>"
      ]
    },
    {
      "cell_type": "code",
      "execution_count": 18,
      "metadata": {
        "id": "ADXmOJO4737g"
      },
      "outputs": [],
      "source": [
        "import tensorflow as tf \n",
        "import random\n",
        "from cv2 import GaussianBlur\n",
        "import numpy as np\n",
        "\n",
        "import matplotlib.pyplot as plt\n",
        "from tensorflow.keras.layers import Conv2D, Conv2DTranspose, Input, Dense, MaxPooling2D, Add, Dropout, ConvLSTM2D, GaussianNoise, BatchNormalization , Activation, UpSampling2D, Resizing, UpSampling3D\n",
        "from tensorflow.keras.models import Model\n",
        "from tensorflow.keras.optimizers import Adam\n",
        "\n",
        "def getDataset():\n",
        "  (x_train, _), (x_test, _) = tf.keras.datasets.cifar10.load_data()\n",
        "  normalize = lambda x: x/x.max()\n",
        "  x_train = normalize(x_train)\n",
        "  x_test = normalize(x_test)\n",
        "  createBlurred = lambda arr: np.array([GaussianBlur(x, (5,5), ((random.random()*3)+1)) + (0.02*np.random.normal(0,1, (32, 32, 3))) for x in arr])\n",
        "  return (createBlurred(x_train), x_train), (createBlurred(x_test), x_test)"
      ]
    },
    {
      "cell_type": "code",
      "source": [
        "(x_train_blured, x_train), (x_test_blured, x_test) = getDataset()\n",
        "print(f\"Train size: {x_train_blured.shape}. Test size: {x_test_blured.shape}\")"
      ],
      "metadata": {
        "colab": {
          "base_uri": "https://localhost:8080/"
        },
        "id": "kaQSS-D4757y",
        "outputId": "afd97dca-c957-4f57-be09-70ffb5da3719"
      },
      "execution_count": 19,
      "outputs": [
        {
          "output_type": "stream",
          "name": "stdout",
          "text": [
            "Train size: (50000, 32, 32, 3). Test size: (10000, 32, 32, 3)\n"
          ]
        }
      ]
    },
    {
      "cell_type": "code",
      "source": [
        "from tensorflow.keras.callbacks import Callback\n",
        "from tensorflow.keras.utils import plot_model\n",
        "from tensorflow.keras.optimizers import Adam, Nadam\n",
        "from tensorflow.keras.losses import MeanSquaredError, MeanAbsoluteError, LogCosh\n",
        "import typing\n",
        "\n",
        "\n",
        "class ConvNet:\n",
        "    \"\"\"Abstract class representing a generic Convolutional Neural Network\"\"\"\n",
        "\n",
        "    def __init__(self):\n",
        "        self.model = None\n",
        "\n",
        "    def compile(self,\n",
        "                lr: float = 1e-4,\n",
        "                loss: str = 'mse',\n",
        "                use_nesterov: bool = False):\n",
        "\n",
        "        loss_dict = dict({\n",
        "            'mse': MeanSquaredError(),\n",
        "            'mae': MeanAbsoluteError(),\n",
        "            'logcosh': LogCosh()\n",
        "        })\n",
        "\n",
        "        metric_list = [ssim,\n",
        "                       psnr,\n",
        "                       'mse',\n",
        "                       'mae',\n",
        "                       'accuracy']\n",
        "\n",
        "        if use_nesterov:\n",
        "            optimizer = Nadam(learning_rate=lr)\n",
        "        else:\n",
        "            optimizer = Adam(learning_rate=lr)\n",
        "\n",
        "        self.model.compile(optimizer,\n",
        "                           loss=loss_dict[loss],\n",
        "                           metrics=metric_list)\n",
        "\n",
        "    def fit(self,\n",
        "            x: typing.Optional = None,\n",
        "            y: typing.Optional = None,\n",
        "            batch_size: int = 32,\n",
        "            epochs: int = 1,\n",
        "            steps_per_epoch: typing.Optional[int] = None,\n",
        "            validation_data: typing.Optional = None,\n",
        "            validation_steps: typing.Optional[int] = None,\n",
        "            initial_epoch: int = 0,\n",
        "            callbacks: typing.Optional[typing.List[Callback]] = None):\n",
        "        if y is not None:\n",
        "            return self.model.fit(x, y,\n",
        "                                  batch_size=batch_size,\n",
        "                                  epochs=epochs,\n",
        "                                  steps_per_epoch=steps_per_epoch,\n",
        "                                  validation_data=validation_data,\n",
        "                                  initial_epoch=initial_epoch,\n",
        "                                  callbacks=callbacks)\n",
        "        else:\n",
        "            return self.model.fit(x,\n",
        "                                  epochs=epochs,\n",
        "                                  steps_per_epoch=steps_per_epoch,\n",
        "                                  validation_data=validation_data,\n",
        "                                  validation_steps=validation_steps,\n",
        "                                  initial_epoch=initial_epoch,\n",
        "                                  callbacks=callbacks)\n",
        "\n",
        "    def evaluate(self,\n",
        "                 x: typing.Optional = None,\n",
        "                 y: typing.Optional = None,\n",
        "                 batch_size: typing.Optional[int] = None,\n",
        "                 steps: typing.Optional[int] = None):\n",
        "        if y is not None:\n",
        "            return self.model.evaluate(x, y, batch_size=batch_size, steps=steps)\n",
        "        else:\n",
        "            return self.model.evaluate(x, batch_size=batch_size, steps=steps)\n",
        "\n",
        "    def predict(self, X):\n",
        "        return self.model.predict(X)\n",
        "\n",
        "    def summary(self):\n",
        "        self.model.summary()\n",
        "\n",
        "    def plot_model(self, path):\n",
        "        plot_model(self.model, to_file=path, show_shapes=True)"
      ],
      "metadata": {
        "id": "NffIVB2k8xWq"
      },
      "execution_count": 20,
      "outputs": []
    },
    {
      "cell_type": "code",
      "source": [
        "def res_block(x, filter, kernel_size):\n",
        "    # copy tensor to variable called x_skip\n",
        "    x_skip = x\n",
        "    # Layer 1\n",
        "    x = tf.keras.layers.Conv2D(filter, kernel_size, padding = 'same')(x)\n",
        "    # x = tf.keras.layers.BatchNormalization(axis=3)(x)\n",
        "    x = tf.keras.layers.Activation('relu')(x)\n",
        "    # Layer 2\n",
        "    x = tf.keras.layers.Conv2D(filter, kernel_size, padding = 'same')(x)\n",
        "    # x = tf.keras.layers.BatchNormalization(axis=3)(x)\n",
        "    # Add Residue\n",
        "    x = tf.keras.layers.Add()([x, x_skip])     \n",
        "    x = tf.keras.layers.Activation('relu')(x)\n",
        "    return x"
      ],
      "metadata": {
        "id": "K4I17kd177Y8"
      },
      "execution_count": 21,
      "outputs": []
    },
    {
      "cell_type": "code",
      "source": [
        "import tensorflow as tf\n",
        "from tensorflow.keras.models import Model\n",
        "from tensorflow.keras.layers import (Input, Layer, Conv2D, Conv2DTranspose, Add, ELU, ReLU,\n",
        "                                     BatchNormalization, Activation)\n",
        "from tensorflow.keras.optimizers import Adam\n",
        "from tensorflow.keras.losses import logcosh\n",
        "import typing\n",
        "\n",
        "\n",
        "def encode(in_layer: Layer,\n",
        "           num_layers: int = 15,\n",
        "           filters: int = 64,\n",
        "           kernel_size: int = 3,\n",
        "           strides: int = 1,\n",
        "           padding: str = 'same',\n",
        "           use_elu: bool = True,\n",
        "           bn_before_act: bool = False) -> typing.List[Layer]:\n",
        "    layers = []\n",
        "    x = in_layer\n",
        "    for i in range(num_layers):\n",
        "        x = Conv2D(filters=filters,\n",
        "                   kernel_size=kernel_size,\n",
        "                   strides=strides,\n",
        "                   padding=padding,\n",
        "                   name='encode_conv{:d}'.format(i))(x)\n",
        "        if bn_before_act:\n",
        "            x = BatchNormalization(name='encode_bn{:d}'.format(i))(x)\n",
        "            if use_elu:\n",
        "                x = ELU(name='encode_act{:d}'.format(i))(x)\n",
        "            else:\n",
        "                x = ReLU(name='encode_act{:d}'.format(i))(x)\n",
        "        else:\n",
        "            if use_elu:\n",
        "                x = ELU(name='encode_act{:d}'.format(i))(x)\n",
        "            else:\n",
        "                x = ReLU(name='encode_act{:d}'.format(i))(x)\n",
        "            x = BatchNormalization(name='encode_bn{:d}'.format(i))(x)\n",
        "        layers.append(x)\n",
        "    return layers\n",
        "\n",
        "\n",
        "def decode(res_layers: typing.List[Layer],\n",
        "           num_layers: int = 15,\n",
        "           filters: int = 64,\n",
        "           kernel_size: int = 3,\n",
        "           strides: int = 1,\n",
        "           padding: str = 'same',\n",
        "           use_elu: bool = True,\n",
        "           bn_before_act: bool = False) -> typing.List[Layer]:\n",
        "    layers = []\n",
        "    res_layers.reverse()\n",
        "    x = res_layers[0]\n",
        "    for i in range(num_layers):\n",
        "        x = Conv2D(filters=filters,\n",
        "                   kernel_size=kernel_size,\n",
        "                   strides=strides,\n",
        "                   padding=padding,\n",
        "                   name='decode_conv{:d}'.format(i))(x)\n",
        "        if i % 2 != 0:\n",
        "            x = Add(name='decode_skip{:d}'.format(i))([x, res_layers[i]])\n",
        "        if bn_before_act:\n",
        "            x = BatchNormalization(name='decode_bn{:d}'.format(i))(x)\n",
        "            if use_elu:\n",
        "                x = ELU(name='decode_act{:d}'.format(i))(x)\n",
        "            else:\n",
        "                x = ReLU(name='decode_act{:d}'.format(i))(x)\n",
        "        else:\n",
        "            if use_elu:\n",
        "                x = ELU(name='decode_act{:d}'.format(i))(x)\n",
        "            else:\n",
        "                x = ReLU(name='decode_act{:d}'.format(i))(x)\n",
        "            x = BatchNormalization(name='decode_bn{:d}'.format(i))(x)\n",
        "        layers.append(x)\n",
        "\n",
        "    return layers\n",
        "\n",
        "\n",
        "class REDNet10(ConvNet):\n",
        "    def __init__(self, input_shape: typing.Tuple[int, int, int]):\n",
        "        super(REDNet10, self).__init__()\n",
        "        # ENCODER\n",
        "        visible = Input(input_shape)\n",
        "        encode_layers = encode(visible, num_layers=5)\n",
        "        # DECODER\n",
        "        decode_layers = decode(encode_layers, num_layers=5)\n",
        "        output = Conv2DTranspose(filters=3,\n",
        "                                 kernel_size=1,\n",
        "                                 strides=1,\n",
        "                                 padding='same',\n",
        "                                 name='output_conv')(decode_layers[-1])\n",
        "        output = Add(name='output_skip')([output, visible])\n",
        "        output = ELU(name='output_elu')(output)\n",
        "\n",
        "        self.model = Model(inputs=visible, outputs=output)\n",
        "\n",
        "\n",
        "class REDNet20(ConvNet):\n",
        "    def __init__(self, input_shape: typing.Tuple[int, int, int]):\n",
        "        super(REDNet20, self).__init__()\n",
        "        # ENCODER\n",
        "        visible = Input(input_shape)\n",
        "        encode_layers = encode(visible, num_layers=10)\n",
        "        # DECODER\n",
        "        decode_layers = decode(encode_layers, num_layers=10)\n",
        "        output = Conv2DTranspose(filters=3,\n",
        "                                 kernel_size=1,\n",
        "                                 strides=1,\n",
        "                                 padding='same',\n",
        "                                 name='output_conv')(decode_layers[-1])\n",
        "        output = Add(name='output_skip')([output, visible])\n",
        "        output = ELU(name='output_elu')(output)\n",
        "\n",
        "        self.model = Model(inputs=visible, outputs=output)\n",
        "\n",
        "\n",
        "class REDNet30(ConvNet):\n",
        "    def __init__(self,\n",
        "                 input_shape: typing.Tuple[int, int, int],\n",
        "                 bn_before_act: bool = False):\n",
        "        super(REDNet30, self).__init__()\n",
        "        # ENCODER\n",
        "        visible = Input(input_shape)\n",
        "        encode_layers = encode(visible,\n",
        "                               bn_before_act=bn_before_act)\n",
        "        # DECODER\n",
        "        decode_layers = decode(encode_layers,\n",
        "                               bn_before_act=bn_before_act)\n",
        "        output = Conv2DTranspose(filters=3,\n",
        "                                 kernel_size=1,\n",
        "                                 strides=1,\n",
        "                                 padding='same',\n",
        "                                 name='output_conv')(decode_layers[-1])\n",
        "        output = Add(name='output_skip')([output, visible])\n",
        "        output = ELU(name='output_elu')(output)\n",
        "\n",
        "        self.model = Model(inputs=visible, outputs=output)"
      ],
      "metadata": {
        "id": "0h2-Or0477UM"
      },
      "execution_count": 25,
      "outputs": []
    },
    {
      "cell_type": "code",
      "source": [
        "input_shape = (32, 32, 3)\n",
        "conv_net = REDNet30(input_shape)"
      ],
      "metadata": {
        "id": "cuveoChU8qMw"
      },
      "execution_count": 26,
      "outputs": []
    },
    {
      "cell_type": "code",
      "source": [
        "conv_net.model.summary()"
      ],
      "metadata": {
        "colab": {
          "base_uri": "https://localhost:8080/"
        },
        "id": "QFD7CULr9T8c",
        "outputId": "e662cf61-49fe-42d6-c2b2-67cd32c0e0d7"
      },
      "execution_count": 27,
      "outputs": [
        {
          "output_type": "stream",
          "name": "stdout",
          "text": [
            "Model: \"model_2\"\n",
            "__________________________________________________________________________________________________\n",
            " Layer (type)                   Output Shape         Param #     Connected to                     \n",
            "==================================================================================================\n",
            " input_3 (InputLayer)           [(None, 32, 32, 3)]  0           []                               \n",
            "                                                                                                  \n",
            " encode_conv0 (Conv2D)          (None, 32, 32, 64)   1792        ['input_3[0][0]']                \n",
            "                                                                                                  \n",
            " encode_act0 (ELU)              (None, 32, 32, 64)   0           ['encode_conv0[0][0]']           \n",
            "                                                                                                  \n",
            " encode_conv1 (Conv2D)          (None, 32, 32, 64)   36928       ['encode_act0[0][0]']            \n",
            "                                                                                                  \n",
            " encode_act1 (ELU)              (None, 32, 32, 64)   0           ['encode_conv1[0][0]']           \n",
            "                                                                                                  \n",
            " encode_conv2 (Conv2D)          (None, 32, 32, 64)   36928       ['encode_act1[0][0]']            \n",
            "                                                                                                  \n",
            " encode_act2 (ELU)              (None, 32, 32, 64)   0           ['encode_conv2[0][0]']           \n",
            "                                                                                                  \n",
            " encode_conv3 (Conv2D)          (None, 32, 32, 64)   36928       ['encode_act2[0][0]']            \n",
            "                                                                                                  \n",
            " encode_act3 (ELU)              (None, 32, 32, 64)   0           ['encode_conv3[0][0]']           \n",
            "                                                                                                  \n",
            " encode_conv4 (Conv2D)          (None, 32, 32, 64)   36928       ['encode_act3[0][0]']            \n",
            "                                                                                                  \n",
            " encode_act4 (ELU)              (None, 32, 32, 64)   0           ['encode_conv4[0][0]']           \n",
            "                                                                                                  \n",
            " encode_conv5 (Conv2D)          (None, 32, 32, 64)   36928       ['encode_act4[0][0]']            \n",
            "                                                                                                  \n",
            " encode_act5 (ELU)              (None, 32, 32, 64)   0           ['encode_conv5[0][0]']           \n",
            "                                                                                                  \n",
            " encode_conv6 (Conv2D)          (None, 32, 32, 64)   36928       ['encode_act5[0][0]']            \n",
            "                                                                                                  \n",
            " encode_act6 (ELU)              (None, 32, 32, 64)   0           ['encode_conv6[0][0]']           \n",
            "                                                                                                  \n",
            " encode_conv7 (Conv2D)          (None, 32, 32, 64)   36928       ['encode_act6[0][0]']            \n",
            "                                                                                                  \n",
            " encode_act7 (ELU)              (None, 32, 32, 64)   0           ['encode_conv7[0][0]']           \n",
            "                                                                                                  \n",
            " encode_conv8 (Conv2D)          (None, 32, 32, 64)   36928       ['encode_act7[0][0]']            \n",
            "                                                                                                  \n",
            " encode_act8 (ELU)              (None, 32, 32, 64)   0           ['encode_conv8[0][0]']           \n",
            "                                                                                                  \n",
            " encode_conv9 (Conv2D)          (None, 32, 32, 64)   36928       ['encode_act8[0][0]']            \n",
            "                                                                                                  \n",
            " encode_act9 (ELU)              (None, 32, 32, 64)   0           ['encode_conv9[0][0]']           \n",
            "                                                                                                  \n",
            " encode_conv10 (Conv2D)         (None, 32, 32, 64)   36928       ['encode_act9[0][0]']            \n",
            "                                                                                                  \n",
            " encode_act10 (ELU)             (None, 32, 32, 64)   0           ['encode_conv10[0][0]']          \n",
            "                                                                                                  \n",
            " encode_conv11 (Conv2D)         (None, 32, 32, 64)   36928       ['encode_act10[0][0]']           \n",
            "                                                                                                  \n",
            " encode_act11 (ELU)             (None, 32, 32, 64)   0           ['encode_conv11[0][0]']          \n",
            "                                                                                                  \n",
            " encode_conv12 (Conv2D)         (None, 32, 32, 64)   36928       ['encode_act11[0][0]']           \n",
            "                                                                                                  \n",
            " encode_act12 (ELU)             (None, 32, 32, 64)   0           ['encode_conv12[0][0]']          \n",
            "                                                                                                  \n",
            " encode_conv13 (Conv2D)         (None, 32, 32, 64)   36928       ['encode_act12[0][0]']           \n",
            "                                                                                                  \n",
            " encode_act13 (ELU)             (None, 32, 32, 64)   0           ['encode_conv13[0][0]']          \n",
            "                                                                                                  \n",
            " encode_conv14 (Conv2D)         (None, 32, 32, 64)   36928       ['encode_act13[0][0]']           \n",
            "                                                                                                  \n",
            " encode_act14 (ELU)             (None, 32, 32, 64)   0           ['encode_conv14[0][0]']          \n",
            "                                                                                                  \n",
            " decode_conv0 (Conv2D)          (None, 32, 32, 64)   36928       ['encode_act14[0][0]']           \n",
            "                                                                                                  \n",
            " decode_act0 (ELU)              (None, 32, 32, 64)   0           ['decode_conv0[0][0]']           \n",
            "                                                                                                  \n",
            " decode_conv1 (Conv2D)          (None, 32, 32, 64)   36928       ['decode_act0[0][0]']            \n",
            "                                                                                                  \n",
            " decode_skip1 (Add)             (None, 32, 32, 64)   0           ['decode_conv1[0][0]',           \n",
            "                                                                  'encode_act13[0][0]']           \n",
            "                                                                                                  \n",
            " decode_act1 (ELU)              (None, 32, 32, 64)   0           ['decode_skip1[0][0]']           \n",
            "                                                                                                  \n",
            " decode_conv2 (Conv2D)          (None, 32, 32, 64)   36928       ['decode_act1[0][0]']            \n",
            "                                                                                                  \n",
            " decode_act2 (ELU)              (None, 32, 32, 64)   0           ['decode_conv2[0][0]']           \n",
            "                                                                                                  \n",
            " decode_conv3 (Conv2D)          (None, 32, 32, 64)   36928       ['decode_act2[0][0]']            \n",
            "                                                                                                  \n",
            " decode_skip3 (Add)             (None, 32, 32, 64)   0           ['decode_conv3[0][0]',           \n",
            "                                                                  'encode_act11[0][0]']           \n",
            "                                                                                                  \n",
            " decode_act3 (ELU)              (None, 32, 32, 64)   0           ['decode_skip3[0][0]']           \n",
            "                                                                                                  \n",
            " decode_conv4 (Conv2D)          (None, 32, 32, 64)   36928       ['decode_act3[0][0]']            \n",
            "                                                                                                  \n",
            " decode_act4 (ELU)              (None, 32, 32, 64)   0           ['decode_conv4[0][0]']           \n",
            "                                                                                                  \n",
            " decode_conv5 (Conv2D)          (None, 32, 32, 64)   36928       ['decode_act4[0][0]']            \n",
            "                                                                                                  \n",
            " decode_skip5 (Add)             (None, 32, 32, 64)   0           ['decode_conv5[0][0]',           \n",
            "                                                                  'encode_act9[0][0]']            \n",
            "                                                                                                  \n",
            " decode_act5 (ELU)              (None, 32, 32, 64)   0           ['decode_skip5[0][0]']           \n",
            "                                                                                                  \n",
            " decode_conv6 (Conv2D)          (None, 32, 32, 64)   36928       ['decode_act5[0][0]']            \n",
            "                                                                                                  \n",
            " decode_act6 (ELU)              (None, 32, 32, 64)   0           ['decode_conv6[0][0]']           \n",
            "                                                                                                  \n",
            " decode_conv7 (Conv2D)          (None, 32, 32, 64)   36928       ['decode_act6[0][0]']            \n",
            "                                                                                                  \n",
            " decode_skip7 (Add)             (None, 32, 32, 64)   0           ['decode_conv7[0][0]',           \n",
            "                                                                  'encode_act7[0][0]']            \n",
            "                                                                                                  \n",
            " decode_act7 (ELU)              (None, 32, 32, 64)   0           ['decode_skip7[0][0]']           \n",
            "                                                                                                  \n",
            " decode_conv8 (Conv2D)          (None, 32, 32, 64)   36928       ['decode_act7[0][0]']            \n",
            "                                                                                                  \n",
            " decode_act8 (ELU)              (None, 32, 32, 64)   0           ['decode_conv8[0][0]']           \n",
            "                                                                                                  \n",
            " decode_conv9 (Conv2D)          (None, 32, 32, 64)   36928       ['decode_act8[0][0]']            \n",
            "                                                                                                  \n",
            " decode_skip9 (Add)             (None, 32, 32, 64)   0           ['decode_conv9[0][0]',           \n",
            "                                                                  'encode_act5[0][0]']            \n",
            "                                                                                                  \n",
            " decode_act9 (ELU)              (None, 32, 32, 64)   0           ['decode_skip9[0][0]']           \n",
            "                                                                                                  \n",
            " decode_conv10 (Conv2D)         (None, 32, 32, 64)   36928       ['decode_act9[0][0]']            \n",
            "                                                                                                  \n",
            " decode_act10 (ELU)             (None, 32, 32, 64)   0           ['decode_conv10[0][0]']          \n",
            "                                                                                                  \n",
            " decode_conv11 (Conv2D)         (None, 32, 32, 64)   36928       ['decode_act10[0][0]']           \n",
            "                                                                                                  \n",
            " decode_skip11 (Add)            (None, 32, 32, 64)   0           ['decode_conv11[0][0]',          \n",
            "                                                                  'encode_act3[0][0]']            \n",
            "                                                                                                  \n",
            " decode_act11 (ELU)             (None, 32, 32, 64)   0           ['decode_skip11[0][0]']          \n",
            "                                                                                                  \n",
            " decode_conv12 (Conv2D)         (None, 32, 32, 64)   36928       ['decode_act11[0][0]']           \n",
            "                                                                                                  \n",
            " decode_act12 (ELU)             (None, 32, 32, 64)   0           ['decode_conv12[0][0]']          \n",
            "                                                                                                  \n",
            " decode_conv13 (Conv2D)         (None, 32, 32, 64)   36928       ['decode_act12[0][0]']           \n",
            "                                                                                                  \n",
            " decode_skip13 (Add)            (None, 32, 32, 64)   0           ['decode_conv13[0][0]',          \n",
            "                                                                  'encode_act1[0][0]']            \n",
            "                                                                                                  \n",
            " decode_act13 (ELU)             (None, 32, 32, 64)   0           ['decode_skip13[0][0]']          \n",
            "                                                                                                  \n",
            " decode_conv14 (Conv2D)         (None, 32, 32, 64)   36928       ['decode_act13[0][0]']           \n",
            "                                                                                                  \n",
            " decode_act14 (ELU)             (None, 32, 32, 64)   0           ['decode_conv14[0][0]']          \n",
            "                                                                                                  \n",
            " output_conv (Conv2DTranspose)  (None, 32, 32, 3)    195         ['decode_act14[0][0]']           \n",
            "                                                                                                  \n",
            " output_skip (Add)              (None, 32, 32, 3)    0           ['output_conv[0][0]',            \n",
            "                                                                  'input_3[0][0]']                \n",
            "                                                                                                  \n",
            " output_elu (ELU)               (None, 32, 32, 3)    0           ['output_skip[0][0]']            \n",
            "                                                                                                  \n",
            "==================================================================================================\n",
            "Total params: 1,072,899\n",
            "Trainable params: 1,072,899\n",
            "Non-trainable params: 0\n",
            "__________________________________________________________________________________________________\n"
          ]
        }
      ]
    },
    {
      "cell_type": "code",
      "source": [
        "conv_net.model.compile(loss='mse', optimizer='adam',metrics=['acc'])\n",
        "\n",
        "hist = conv_net.model.fit(x_train_blured.reshape(-1, 32, 32, 3), \n",
        "          x_train.reshape(-1, 32, 32, 3), \n",
        "          epochs=20, \n",
        "          batch_size=34,\n",
        "          validation_data=(x_test_blured, x_test))"
      ],
      "metadata": {
        "colab": {
          "base_uri": "https://localhost:8080/",
          "height": 554
        },
        "id": "QJ6ycxYw9W8v",
        "outputId": "23098274-8076-4aaa-c4e7-21a2138a9ef5"
      },
      "execution_count": 29,
      "outputs": [
        {
          "output_type": "stream",
          "name": "stdout",
          "text": [
            "Epoch 1/20\n",
            "1471/1471 [==============================] - 58s 38ms/step - loss: 0.0179 - acc: 0.7573 - val_loss: 0.0051 - val_acc: 0.7774\n",
            "Epoch 2/20\n",
            "1471/1471 [==============================] - 56s 38ms/step - loss: 0.0047 - acc: 0.7800 - val_loss: 0.0040 - val_acc: 0.7928\n",
            "Epoch 3/20\n",
            "1471/1471 [==============================] - 55s 38ms/step - loss: 4.9299 - acc: 0.6323 - val_loss: 2.2434 - val_acc: 0.5086\n",
            "Epoch 4/20\n",
            "1471/1471 [==============================] - 55s 38ms/step - loss: 2.2341 - acc: 0.5094 - val_loss: 2.2434 - val_acc: 0.5086\n",
            "Epoch 5/20\n",
            "1471/1471 [==============================] - 56s 38ms/step - loss: 2.2341 - acc: 0.5094 - val_loss: 2.2434 - val_acc: 0.5086\n",
            "Epoch 6/20\n",
            " 453/1471 [========>.....................] - ETA: 36s - loss: 2.2390 - acc: 0.5096"
          ]
        },
        {
          "output_type": "error",
          "ename": "KeyboardInterrupt",
          "evalue": "ignored",
          "traceback": [
            "\u001b[0;31m---------------------------------------------------------------------------\u001b[0m",
            "\u001b[0;31mKeyboardInterrupt\u001b[0m                         Traceback (most recent call last)",
            "\u001b[0;32m<ipython-input-29-12dc316334ea>\u001b[0m in \u001b[0;36m<module>\u001b[0;34m()\u001b[0m\n\u001b[1;32m      5\u001b[0m           \u001b[0mepochs\u001b[0m\u001b[0;34m=\u001b[0m\u001b[0;36m20\u001b[0m\u001b[0;34m,\u001b[0m\u001b[0;34m\u001b[0m\u001b[0;34m\u001b[0m\u001b[0m\n\u001b[1;32m      6\u001b[0m           \u001b[0mbatch_size\u001b[0m\u001b[0;34m=\u001b[0m\u001b[0;36m34\u001b[0m\u001b[0;34m,\u001b[0m\u001b[0;34m\u001b[0m\u001b[0;34m\u001b[0m\u001b[0m\n\u001b[0;32m----> 7\u001b[0;31m           validation_data=(x_test_blured, x_test))\n\u001b[0m",
            "\u001b[0;32m/usr/local/lib/python3.7/dist-packages/keras/utils/traceback_utils.py\u001b[0m in \u001b[0;36merror_handler\u001b[0;34m(*args, **kwargs)\u001b[0m\n\u001b[1;32m     62\u001b[0m     \u001b[0mfiltered_tb\u001b[0m \u001b[0;34m=\u001b[0m \u001b[0;32mNone\u001b[0m\u001b[0;34m\u001b[0m\u001b[0;34m\u001b[0m\u001b[0m\n\u001b[1;32m     63\u001b[0m     \u001b[0;32mtry\u001b[0m\u001b[0;34m:\u001b[0m\u001b[0;34m\u001b[0m\u001b[0;34m\u001b[0m\u001b[0m\n\u001b[0;32m---> 64\u001b[0;31m       \u001b[0;32mreturn\u001b[0m \u001b[0mfn\u001b[0m\u001b[0;34m(\u001b[0m\u001b[0;34m*\u001b[0m\u001b[0margs\u001b[0m\u001b[0;34m,\u001b[0m \u001b[0;34m**\u001b[0m\u001b[0mkwargs\u001b[0m\u001b[0;34m)\u001b[0m\u001b[0;34m\u001b[0m\u001b[0;34m\u001b[0m\u001b[0m\n\u001b[0m\u001b[1;32m     65\u001b[0m     \u001b[0;32mexcept\u001b[0m \u001b[0mException\u001b[0m \u001b[0;32mas\u001b[0m \u001b[0me\u001b[0m\u001b[0;34m:\u001b[0m  \u001b[0;31m# pylint: disable=broad-except\u001b[0m\u001b[0;34m\u001b[0m\u001b[0;34m\u001b[0m\u001b[0m\n\u001b[1;32m     66\u001b[0m       \u001b[0mfiltered_tb\u001b[0m \u001b[0;34m=\u001b[0m \u001b[0m_process_traceback_frames\u001b[0m\u001b[0;34m(\u001b[0m\u001b[0me\u001b[0m\u001b[0;34m.\u001b[0m\u001b[0m__traceback__\u001b[0m\u001b[0;34m)\u001b[0m\u001b[0;34m\u001b[0m\u001b[0;34m\u001b[0m\u001b[0m\n",
            "\u001b[0;32m/usr/local/lib/python3.7/dist-packages/keras/engine/training.py\u001b[0m in \u001b[0;36mfit\u001b[0;34m(self, x, y, batch_size, epochs, verbose, callbacks, validation_split, validation_data, shuffle, class_weight, sample_weight, initial_epoch, steps_per_epoch, validation_steps, validation_batch_size, validation_freq, max_queue_size, workers, use_multiprocessing)\u001b[0m\n\u001b[1;32m   1387\u001b[0m               \u001b[0mlogs\u001b[0m \u001b[0;34m=\u001b[0m \u001b[0mtmp_logs\u001b[0m  \u001b[0;31m# No error, now safe to assign to logs.\u001b[0m\u001b[0;34m\u001b[0m\u001b[0;34m\u001b[0m\u001b[0m\n\u001b[1;32m   1388\u001b[0m               \u001b[0mend_step\u001b[0m \u001b[0;34m=\u001b[0m \u001b[0mstep\u001b[0m \u001b[0;34m+\u001b[0m \u001b[0mdata_handler\u001b[0m\u001b[0;34m.\u001b[0m\u001b[0mstep_increment\u001b[0m\u001b[0;34m\u001b[0m\u001b[0;34m\u001b[0m\u001b[0m\n\u001b[0;32m-> 1389\u001b[0;31m               \u001b[0mcallbacks\u001b[0m\u001b[0;34m.\u001b[0m\u001b[0mon_train_batch_end\u001b[0m\u001b[0;34m(\u001b[0m\u001b[0mend_step\u001b[0m\u001b[0;34m,\u001b[0m \u001b[0mlogs\u001b[0m\u001b[0;34m)\u001b[0m\u001b[0;34m\u001b[0m\u001b[0;34m\u001b[0m\u001b[0m\n\u001b[0m\u001b[1;32m   1390\u001b[0m               \u001b[0;32mif\u001b[0m \u001b[0mself\u001b[0m\u001b[0;34m.\u001b[0m\u001b[0mstop_training\u001b[0m\u001b[0;34m:\u001b[0m\u001b[0;34m\u001b[0m\u001b[0;34m\u001b[0m\u001b[0m\n\u001b[1;32m   1391\u001b[0m                 \u001b[0;32mbreak\u001b[0m\u001b[0;34m\u001b[0m\u001b[0;34m\u001b[0m\u001b[0m\n",
            "\u001b[0;32m/usr/local/lib/python3.7/dist-packages/keras/callbacks.py\u001b[0m in \u001b[0;36mon_train_batch_end\u001b[0;34m(self, batch, logs)\u001b[0m\n\u001b[1;32m    436\u001b[0m     \"\"\"\n\u001b[1;32m    437\u001b[0m     \u001b[0;32mif\u001b[0m \u001b[0mself\u001b[0m\u001b[0;34m.\u001b[0m\u001b[0m_should_call_train_batch_hooks\u001b[0m\u001b[0;34m:\u001b[0m\u001b[0;34m\u001b[0m\u001b[0;34m\u001b[0m\u001b[0m\n\u001b[0;32m--> 438\u001b[0;31m       \u001b[0mself\u001b[0m\u001b[0;34m.\u001b[0m\u001b[0m_call_batch_hook\u001b[0m\u001b[0;34m(\u001b[0m\u001b[0mModeKeys\u001b[0m\u001b[0;34m.\u001b[0m\u001b[0mTRAIN\u001b[0m\u001b[0;34m,\u001b[0m \u001b[0;34m'end'\u001b[0m\u001b[0;34m,\u001b[0m \u001b[0mbatch\u001b[0m\u001b[0;34m,\u001b[0m \u001b[0mlogs\u001b[0m\u001b[0;34m=\u001b[0m\u001b[0mlogs\u001b[0m\u001b[0;34m)\u001b[0m\u001b[0;34m\u001b[0m\u001b[0;34m\u001b[0m\u001b[0m\n\u001b[0m\u001b[1;32m    439\u001b[0m \u001b[0;34m\u001b[0m\u001b[0m\n\u001b[1;32m    440\u001b[0m   \u001b[0;32mdef\u001b[0m \u001b[0mon_test_batch_begin\u001b[0m\u001b[0;34m(\u001b[0m\u001b[0mself\u001b[0m\u001b[0;34m,\u001b[0m \u001b[0mbatch\u001b[0m\u001b[0;34m,\u001b[0m \u001b[0mlogs\u001b[0m\u001b[0;34m=\u001b[0m\u001b[0;32mNone\u001b[0m\u001b[0;34m)\u001b[0m\u001b[0;34m:\u001b[0m\u001b[0;34m\u001b[0m\u001b[0;34m\u001b[0m\u001b[0m\n",
            "\u001b[0;32m/usr/local/lib/python3.7/dist-packages/keras/callbacks.py\u001b[0m in \u001b[0;36m_call_batch_hook\u001b[0;34m(self, mode, hook, batch, logs)\u001b[0m\n\u001b[1;32m    295\u001b[0m       \u001b[0mself\u001b[0m\u001b[0;34m.\u001b[0m\u001b[0m_call_batch_begin_hook\u001b[0m\u001b[0;34m(\u001b[0m\u001b[0mmode\u001b[0m\u001b[0;34m,\u001b[0m \u001b[0mbatch\u001b[0m\u001b[0;34m,\u001b[0m \u001b[0mlogs\u001b[0m\u001b[0;34m)\u001b[0m\u001b[0;34m\u001b[0m\u001b[0;34m\u001b[0m\u001b[0m\n\u001b[1;32m    296\u001b[0m     \u001b[0;32melif\u001b[0m \u001b[0mhook\u001b[0m \u001b[0;34m==\u001b[0m \u001b[0;34m'end'\u001b[0m\u001b[0;34m:\u001b[0m\u001b[0;34m\u001b[0m\u001b[0;34m\u001b[0m\u001b[0m\n\u001b[0;32m--> 297\u001b[0;31m       \u001b[0mself\u001b[0m\u001b[0;34m.\u001b[0m\u001b[0m_call_batch_end_hook\u001b[0m\u001b[0;34m(\u001b[0m\u001b[0mmode\u001b[0m\u001b[0;34m,\u001b[0m \u001b[0mbatch\u001b[0m\u001b[0;34m,\u001b[0m \u001b[0mlogs\u001b[0m\u001b[0;34m)\u001b[0m\u001b[0;34m\u001b[0m\u001b[0;34m\u001b[0m\u001b[0m\n\u001b[0m\u001b[1;32m    298\u001b[0m     \u001b[0;32melse\u001b[0m\u001b[0;34m:\u001b[0m\u001b[0;34m\u001b[0m\u001b[0;34m\u001b[0m\u001b[0m\n\u001b[1;32m    299\u001b[0m       raise ValueError(\n",
            "\u001b[0;32m/usr/local/lib/python3.7/dist-packages/keras/callbacks.py\u001b[0m in \u001b[0;36m_call_batch_end_hook\u001b[0;34m(self, mode, batch, logs)\u001b[0m\n\u001b[1;32m    316\u001b[0m       \u001b[0mself\u001b[0m\u001b[0;34m.\u001b[0m\u001b[0m_batch_times\u001b[0m\u001b[0;34m.\u001b[0m\u001b[0mappend\u001b[0m\u001b[0;34m(\u001b[0m\u001b[0mbatch_time\u001b[0m\u001b[0;34m)\u001b[0m\u001b[0;34m\u001b[0m\u001b[0;34m\u001b[0m\u001b[0m\n\u001b[1;32m    317\u001b[0m \u001b[0;34m\u001b[0m\u001b[0m\n\u001b[0;32m--> 318\u001b[0;31m     \u001b[0mself\u001b[0m\u001b[0;34m.\u001b[0m\u001b[0m_call_batch_hook_helper\u001b[0m\u001b[0;34m(\u001b[0m\u001b[0mhook_name\u001b[0m\u001b[0;34m,\u001b[0m \u001b[0mbatch\u001b[0m\u001b[0;34m,\u001b[0m \u001b[0mlogs\u001b[0m\u001b[0;34m)\u001b[0m\u001b[0;34m\u001b[0m\u001b[0;34m\u001b[0m\u001b[0m\n\u001b[0m\u001b[1;32m    319\u001b[0m \u001b[0;34m\u001b[0m\u001b[0m\n\u001b[1;32m    320\u001b[0m     \u001b[0;32mif\u001b[0m \u001b[0mlen\u001b[0m\u001b[0;34m(\u001b[0m\u001b[0mself\u001b[0m\u001b[0;34m.\u001b[0m\u001b[0m_batch_times\u001b[0m\u001b[0;34m)\u001b[0m \u001b[0;34m>=\u001b[0m \u001b[0mself\u001b[0m\u001b[0;34m.\u001b[0m\u001b[0m_num_batches_for_timing_check\u001b[0m\u001b[0;34m:\u001b[0m\u001b[0;34m\u001b[0m\u001b[0;34m\u001b[0m\u001b[0m\n",
            "\u001b[0;32m/usr/local/lib/python3.7/dist-packages/keras/callbacks.py\u001b[0m in \u001b[0;36m_call_batch_hook_helper\u001b[0;34m(self, hook_name, batch, logs)\u001b[0m\n\u001b[1;32m    354\u001b[0m     \u001b[0;32mfor\u001b[0m \u001b[0mcallback\u001b[0m \u001b[0;32min\u001b[0m \u001b[0mself\u001b[0m\u001b[0;34m.\u001b[0m\u001b[0mcallbacks\u001b[0m\u001b[0;34m:\u001b[0m\u001b[0;34m\u001b[0m\u001b[0;34m\u001b[0m\u001b[0m\n\u001b[1;32m    355\u001b[0m       \u001b[0mhook\u001b[0m \u001b[0;34m=\u001b[0m \u001b[0mgetattr\u001b[0m\u001b[0;34m(\u001b[0m\u001b[0mcallback\u001b[0m\u001b[0;34m,\u001b[0m \u001b[0mhook_name\u001b[0m\u001b[0;34m)\u001b[0m\u001b[0;34m\u001b[0m\u001b[0;34m\u001b[0m\u001b[0m\n\u001b[0;32m--> 356\u001b[0;31m       \u001b[0mhook\u001b[0m\u001b[0;34m(\u001b[0m\u001b[0mbatch\u001b[0m\u001b[0;34m,\u001b[0m \u001b[0mlogs\u001b[0m\u001b[0;34m)\u001b[0m\u001b[0;34m\u001b[0m\u001b[0;34m\u001b[0m\u001b[0m\n\u001b[0m\u001b[1;32m    357\u001b[0m \u001b[0;34m\u001b[0m\u001b[0m\n\u001b[1;32m    358\u001b[0m     \u001b[0;32mif\u001b[0m \u001b[0mself\u001b[0m\u001b[0;34m.\u001b[0m\u001b[0m_check_timing\u001b[0m\u001b[0;34m:\u001b[0m\u001b[0;34m\u001b[0m\u001b[0;34m\u001b[0m\u001b[0m\n",
            "\u001b[0;32m/usr/local/lib/python3.7/dist-packages/keras/callbacks.py\u001b[0m in \u001b[0;36mon_train_batch_end\u001b[0;34m(self, batch, logs)\u001b[0m\n\u001b[1;32m   1032\u001b[0m \u001b[0;34m\u001b[0m\u001b[0m\n\u001b[1;32m   1033\u001b[0m   \u001b[0;32mdef\u001b[0m \u001b[0mon_train_batch_end\u001b[0m\u001b[0;34m(\u001b[0m\u001b[0mself\u001b[0m\u001b[0;34m,\u001b[0m \u001b[0mbatch\u001b[0m\u001b[0;34m,\u001b[0m \u001b[0mlogs\u001b[0m\u001b[0;34m=\u001b[0m\u001b[0;32mNone\u001b[0m\u001b[0;34m)\u001b[0m\u001b[0;34m:\u001b[0m\u001b[0;34m\u001b[0m\u001b[0;34m\u001b[0m\u001b[0m\n\u001b[0;32m-> 1034\u001b[0;31m     \u001b[0mself\u001b[0m\u001b[0;34m.\u001b[0m\u001b[0m_batch_update_progbar\u001b[0m\u001b[0;34m(\u001b[0m\u001b[0mbatch\u001b[0m\u001b[0;34m,\u001b[0m \u001b[0mlogs\u001b[0m\u001b[0;34m)\u001b[0m\u001b[0;34m\u001b[0m\u001b[0;34m\u001b[0m\u001b[0m\n\u001b[0m\u001b[1;32m   1035\u001b[0m \u001b[0;34m\u001b[0m\u001b[0m\n\u001b[1;32m   1036\u001b[0m   \u001b[0;32mdef\u001b[0m \u001b[0mon_test_batch_end\u001b[0m\u001b[0;34m(\u001b[0m\u001b[0mself\u001b[0m\u001b[0;34m,\u001b[0m \u001b[0mbatch\u001b[0m\u001b[0;34m,\u001b[0m \u001b[0mlogs\u001b[0m\u001b[0;34m=\u001b[0m\u001b[0;32mNone\u001b[0m\u001b[0;34m)\u001b[0m\u001b[0;34m:\u001b[0m\u001b[0;34m\u001b[0m\u001b[0;34m\u001b[0m\u001b[0m\n",
            "\u001b[0;32m/usr/local/lib/python3.7/dist-packages/keras/callbacks.py\u001b[0m in \u001b[0;36m_batch_update_progbar\u001b[0;34m(self, batch, logs)\u001b[0m\n\u001b[1;32m   1104\u001b[0m     \u001b[0;32mif\u001b[0m \u001b[0mself\u001b[0m\u001b[0;34m.\u001b[0m\u001b[0mverbose\u001b[0m \u001b[0;34m==\u001b[0m \u001b[0;36m1\u001b[0m\u001b[0;34m:\u001b[0m\u001b[0;34m\u001b[0m\u001b[0;34m\u001b[0m\u001b[0m\n\u001b[1;32m   1105\u001b[0m       \u001b[0;31m# Only block async when verbose = 1.\u001b[0m\u001b[0;34m\u001b[0m\u001b[0;34m\u001b[0m\u001b[0;34m\u001b[0m\u001b[0m\n\u001b[0;32m-> 1106\u001b[0;31m       \u001b[0mlogs\u001b[0m \u001b[0;34m=\u001b[0m \u001b[0mtf_utils\u001b[0m\u001b[0;34m.\u001b[0m\u001b[0msync_to_numpy_or_python_type\u001b[0m\u001b[0;34m(\u001b[0m\u001b[0mlogs\u001b[0m\u001b[0;34m)\u001b[0m\u001b[0;34m\u001b[0m\u001b[0;34m\u001b[0m\u001b[0m\n\u001b[0m\u001b[1;32m   1107\u001b[0m       \u001b[0mself\u001b[0m\u001b[0;34m.\u001b[0m\u001b[0mprogbar\u001b[0m\u001b[0;34m.\u001b[0m\u001b[0mupdate\u001b[0m\u001b[0;34m(\u001b[0m\u001b[0mself\u001b[0m\u001b[0;34m.\u001b[0m\u001b[0mseen\u001b[0m\u001b[0;34m,\u001b[0m \u001b[0mlist\u001b[0m\u001b[0;34m(\u001b[0m\u001b[0mlogs\u001b[0m\u001b[0;34m.\u001b[0m\u001b[0mitems\u001b[0m\u001b[0;34m(\u001b[0m\u001b[0;34m)\u001b[0m\u001b[0;34m)\u001b[0m\u001b[0;34m,\u001b[0m \u001b[0mfinalize\u001b[0m\u001b[0;34m=\u001b[0m\u001b[0;32mFalse\u001b[0m\u001b[0;34m)\u001b[0m\u001b[0;34m\u001b[0m\u001b[0;34m\u001b[0m\u001b[0m\n\u001b[1;32m   1108\u001b[0m \u001b[0;34m\u001b[0m\u001b[0m\n",
            "\u001b[0;32m/usr/local/lib/python3.7/dist-packages/keras/utils/tf_utils.py\u001b[0m in \u001b[0;36msync_to_numpy_or_python_type\u001b[0;34m(tensors)\u001b[0m\n\u001b[1;32m    561\u001b[0m     \u001b[0;32mreturn\u001b[0m \u001b[0mt\u001b[0m\u001b[0;34m.\u001b[0m\u001b[0mitem\u001b[0m\u001b[0;34m(\u001b[0m\u001b[0;34m)\u001b[0m \u001b[0;32mif\u001b[0m \u001b[0mnp\u001b[0m\u001b[0;34m.\u001b[0m\u001b[0mndim\u001b[0m\u001b[0;34m(\u001b[0m\u001b[0mt\u001b[0m\u001b[0;34m)\u001b[0m \u001b[0;34m==\u001b[0m \u001b[0;36m0\u001b[0m \u001b[0;32melse\u001b[0m \u001b[0mt\u001b[0m\u001b[0;34m\u001b[0m\u001b[0;34m\u001b[0m\u001b[0m\n\u001b[1;32m    562\u001b[0m \u001b[0;34m\u001b[0m\u001b[0m\n\u001b[0;32m--> 563\u001b[0;31m   \u001b[0;32mreturn\u001b[0m \u001b[0mtf\u001b[0m\u001b[0;34m.\u001b[0m\u001b[0mnest\u001b[0m\u001b[0;34m.\u001b[0m\u001b[0mmap_structure\u001b[0m\u001b[0;34m(\u001b[0m\u001b[0m_to_single_numpy_or_python_type\u001b[0m\u001b[0;34m,\u001b[0m \u001b[0mtensors\u001b[0m\u001b[0;34m)\u001b[0m\u001b[0;34m\u001b[0m\u001b[0;34m\u001b[0m\u001b[0m\n\u001b[0m\u001b[1;32m    564\u001b[0m \u001b[0;34m\u001b[0m\u001b[0m\n\u001b[1;32m    565\u001b[0m \u001b[0;34m\u001b[0m\u001b[0m\n",
            "\u001b[0;32m/usr/local/lib/python3.7/dist-packages/tensorflow/python/util/nest.py\u001b[0m in \u001b[0;36mmap_structure\u001b[0;34m(func, *structure, **kwargs)\u001b[0m\n\u001b[1;32m    912\u001b[0m \u001b[0;34m\u001b[0m\u001b[0m\n\u001b[1;32m    913\u001b[0m   return pack_sequence_as(\n\u001b[0;32m--> 914\u001b[0;31m       \u001b[0mstructure\u001b[0m\u001b[0;34m[\u001b[0m\u001b[0;36m0\u001b[0m\u001b[0;34m]\u001b[0m\u001b[0;34m,\u001b[0m \u001b[0;34m[\u001b[0m\u001b[0mfunc\u001b[0m\u001b[0;34m(\u001b[0m\u001b[0;34m*\u001b[0m\u001b[0mx\u001b[0m\u001b[0;34m)\u001b[0m \u001b[0;32mfor\u001b[0m \u001b[0mx\u001b[0m \u001b[0;32min\u001b[0m \u001b[0mentries\u001b[0m\u001b[0;34m]\u001b[0m\u001b[0;34m,\u001b[0m\u001b[0;34m\u001b[0m\u001b[0;34m\u001b[0m\u001b[0m\n\u001b[0m\u001b[1;32m    915\u001b[0m       expand_composites=expand_composites)\n\u001b[1;32m    916\u001b[0m \u001b[0;34m\u001b[0m\u001b[0m\n",
            "\u001b[0;32m/usr/local/lib/python3.7/dist-packages/tensorflow/python/util/nest.py\u001b[0m in \u001b[0;36m<listcomp>\u001b[0;34m(.0)\u001b[0m\n\u001b[1;32m    912\u001b[0m \u001b[0;34m\u001b[0m\u001b[0m\n\u001b[1;32m    913\u001b[0m   return pack_sequence_as(\n\u001b[0;32m--> 914\u001b[0;31m       \u001b[0mstructure\u001b[0m\u001b[0;34m[\u001b[0m\u001b[0;36m0\u001b[0m\u001b[0;34m]\u001b[0m\u001b[0;34m,\u001b[0m \u001b[0;34m[\u001b[0m\u001b[0mfunc\u001b[0m\u001b[0;34m(\u001b[0m\u001b[0;34m*\u001b[0m\u001b[0mx\u001b[0m\u001b[0;34m)\u001b[0m \u001b[0;32mfor\u001b[0m \u001b[0mx\u001b[0m \u001b[0;32min\u001b[0m \u001b[0mentries\u001b[0m\u001b[0;34m]\u001b[0m\u001b[0;34m,\u001b[0m\u001b[0;34m\u001b[0m\u001b[0;34m\u001b[0m\u001b[0m\n\u001b[0m\u001b[1;32m    915\u001b[0m       expand_composites=expand_composites)\n\u001b[1;32m    916\u001b[0m \u001b[0;34m\u001b[0m\u001b[0m\n",
            "\u001b[0;32m/usr/local/lib/python3.7/dist-packages/keras/utils/tf_utils.py\u001b[0m in \u001b[0;36m_to_single_numpy_or_python_type\u001b[0;34m(t)\u001b[0m\n\u001b[1;32m    555\u001b[0m     \u001b[0;31m# Don't turn ragged or sparse tensors to NumPy.\u001b[0m\u001b[0;34m\u001b[0m\u001b[0;34m\u001b[0m\u001b[0;34m\u001b[0m\u001b[0m\n\u001b[1;32m    556\u001b[0m     \u001b[0;32mif\u001b[0m \u001b[0misinstance\u001b[0m\u001b[0;34m(\u001b[0m\u001b[0mt\u001b[0m\u001b[0;34m,\u001b[0m \u001b[0mtf\u001b[0m\u001b[0;34m.\u001b[0m\u001b[0mTensor\u001b[0m\u001b[0;34m)\u001b[0m\u001b[0;34m:\u001b[0m\u001b[0;34m\u001b[0m\u001b[0;34m\u001b[0m\u001b[0m\n\u001b[0;32m--> 557\u001b[0;31m       \u001b[0mt\u001b[0m \u001b[0;34m=\u001b[0m \u001b[0mt\u001b[0m\u001b[0;34m.\u001b[0m\u001b[0mnumpy\u001b[0m\u001b[0;34m(\u001b[0m\u001b[0;34m)\u001b[0m\u001b[0;34m\u001b[0m\u001b[0;34m\u001b[0m\u001b[0m\n\u001b[0m\u001b[1;32m    558\u001b[0m     \u001b[0;31m# Strings, ragged and sparse tensors don't have .item(). Return them as-is.\u001b[0m\u001b[0;34m\u001b[0m\u001b[0;34m\u001b[0m\u001b[0;34m\u001b[0m\u001b[0m\n\u001b[1;32m    559\u001b[0m     \u001b[0;32mif\u001b[0m \u001b[0;32mnot\u001b[0m \u001b[0misinstance\u001b[0m\u001b[0;34m(\u001b[0m\u001b[0mt\u001b[0m\u001b[0;34m,\u001b[0m \u001b[0;34m(\u001b[0m\u001b[0mnp\u001b[0m\u001b[0;34m.\u001b[0m\u001b[0mndarray\u001b[0m\u001b[0;34m,\u001b[0m \u001b[0mnp\u001b[0m\u001b[0;34m.\u001b[0m\u001b[0mgeneric\u001b[0m\u001b[0;34m)\u001b[0m\u001b[0;34m)\u001b[0m\u001b[0;34m:\u001b[0m\u001b[0;34m\u001b[0m\u001b[0;34m\u001b[0m\u001b[0m\n",
            "\u001b[0;32m/usr/local/lib/python3.7/dist-packages/tensorflow/python/framework/ops.py\u001b[0m in \u001b[0;36mnumpy\u001b[0;34m(self)\u001b[0m\n\u001b[1;32m   1221\u001b[0m     \"\"\"\n\u001b[1;32m   1222\u001b[0m     \u001b[0;31m# TODO(slebedev): Consider avoiding a copy for non-CPU or remote tensors.\u001b[0m\u001b[0;34m\u001b[0m\u001b[0;34m\u001b[0m\u001b[0;34m\u001b[0m\u001b[0m\n\u001b[0;32m-> 1223\u001b[0;31m     \u001b[0mmaybe_arr\u001b[0m \u001b[0;34m=\u001b[0m \u001b[0mself\u001b[0m\u001b[0;34m.\u001b[0m\u001b[0m_numpy\u001b[0m\u001b[0;34m(\u001b[0m\u001b[0;34m)\u001b[0m  \u001b[0;31m# pylint: disable=protected-access\u001b[0m\u001b[0;34m\u001b[0m\u001b[0;34m\u001b[0m\u001b[0m\n\u001b[0m\u001b[1;32m   1224\u001b[0m     \u001b[0;32mreturn\u001b[0m \u001b[0mmaybe_arr\u001b[0m\u001b[0;34m.\u001b[0m\u001b[0mcopy\u001b[0m\u001b[0;34m(\u001b[0m\u001b[0;34m)\u001b[0m \u001b[0;32mif\u001b[0m \u001b[0misinstance\u001b[0m\u001b[0;34m(\u001b[0m\u001b[0mmaybe_arr\u001b[0m\u001b[0;34m,\u001b[0m \u001b[0mnp\u001b[0m\u001b[0;34m.\u001b[0m\u001b[0mndarray\u001b[0m\u001b[0;34m)\u001b[0m \u001b[0;32melse\u001b[0m \u001b[0mmaybe_arr\u001b[0m\u001b[0;34m\u001b[0m\u001b[0;34m\u001b[0m\u001b[0m\n\u001b[1;32m   1225\u001b[0m \u001b[0;34m\u001b[0m\u001b[0m\n",
            "\u001b[0;32m/usr/local/lib/python3.7/dist-packages/tensorflow/python/framework/ops.py\u001b[0m in \u001b[0;36m_numpy\u001b[0;34m(self)\u001b[0m\n\u001b[1;32m   1187\u001b[0m   \u001b[0;32mdef\u001b[0m \u001b[0m_numpy\u001b[0m\u001b[0;34m(\u001b[0m\u001b[0mself\u001b[0m\u001b[0;34m)\u001b[0m\u001b[0;34m:\u001b[0m\u001b[0;34m\u001b[0m\u001b[0;34m\u001b[0m\u001b[0m\n\u001b[1;32m   1188\u001b[0m     \u001b[0;32mtry\u001b[0m\u001b[0;34m:\u001b[0m\u001b[0;34m\u001b[0m\u001b[0;34m\u001b[0m\u001b[0m\n\u001b[0;32m-> 1189\u001b[0;31m       \u001b[0;32mreturn\u001b[0m \u001b[0mself\u001b[0m\u001b[0;34m.\u001b[0m\u001b[0m_numpy_internal\u001b[0m\u001b[0;34m(\u001b[0m\u001b[0;34m)\u001b[0m\u001b[0;34m\u001b[0m\u001b[0;34m\u001b[0m\u001b[0m\n\u001b[0m\u001b[1;32m   1190\u001b[0m     \u001b[0;32mexcept\u001b[0m \u001b[0mcore\u001b[0m\u001b[0;34m.\u001b[0m\u001b[0m_NotOkStatusException\u001b[0m \u001b[0;32mas\u001b[0m \u001b[0me\u001b[0m\u001b[0;34m:\u001b[0m  \u001b[0;31m# pylint: disable=protected-access\u001b[0m\u001b[0;34m\u001b[0m\u001b[0;34m\u001b[0m\u001b[0m\n\u001b[1;32m   1191\u001b[0m       \u001b[0;32mraise\u001b[0m \u001b[0mcore\u001b[0m\u001b[0;34m.\u001b[0m\u001b[0m_status_to_exception\u001b[0m\u001b[0;34m(\u001b[0m\u001b[0me\u001b[0m\u001b[0;34m)\u001b[0m \u001b[0;32mfrom\u001b[0m \u001b[0;32mNone\u001b[0m  \u001b[0;31m# pylint: disable=protected-access\u001b[0m\u001b[0;34m\u001b[0m\u001b[0;34m\u001b[0m\u001b[0m\n",
            "\u001b[0;31mKeyboardInterrupt\u001b[0m: "
          ]
        }
      ]
    },
    {
      "cell_type": "code",
      "source": [
        "def plot_history(model_history,keys):\n",
        "    m,val_m = keys\n",
        "    plt.plot(model_history.history[m])\n",
        "    plt.plot(model_history.history[val_m])\n",
        "    plt.ylabel(m)\n",
        "    plt.xlabel('epoch')\n",
        "    plt.legend(['train', 'test'], loc='upper left')\n",
        "    plt.show()\n",
        "\n",
        "plot_history(hist,['loss','val_loss'])"
      ],
      "metadata": {
        "colab": {
          "base_uri": "https://localhost:8080/",
          "height": 279
        },
        "id": "sBlZGv1l9qUA",
        "outputId": "5adcdc5b-91aa-422d-a063-c83b7bfd1dab"
      },
      "execution_count": 9,
      "outputs": [
        {
          "output_type": "display_data",
          "data": {
            "text/plain": [
              "<Figure size 432x288 with 1 Axes>"
            ],
            "image/png": "[encoded data removed]"
          },
          "metadata": {
            "needs_background": "light"
          }
        }
      ]
    },
    {
      "cell_type": "code",
      "source": [
        "from tensorflow.keras.losses import MeanSquaredError\n",
        "\n",
        "y_true = x_test\n",
        "y_pred = conv_net.model.predict(x_test_blured)\n",
        "\n",
        "mse = MeanSquaredError()\n",
        "mse(y_true, y_pred).numpy()\n",
        "\n",
        "#0.0023\n",
        "\n",
        "#0.0041738243220982366\n",
        "#0.004219622105503972\n",
        "#0.00404854369862134\n",
        "#0.003909846398674108\n",
        "#0.00379532259022029\n",
        "#0.003393252\n",
        "#0.0026358136\n",
        "# 0.0024754216"
      ],
      "metadata": {
        "colab": {
          "base_uri": "https://localhost:8080/"
        },
        "id": "iTmBODvn9r6U",
        "outputId": "46a846ff-4bd2-4e64-bf12-7721b04902bd"
      },
      "execution_count": 12,
      "outputs": [
        {
          "output_type": "execute_result",
          "data": {
            "text/plain": [
              "0.0024754216"
            ]
          },
          "metadata": {},
          "execution_count": 12
        }
      ]
    },
    {
      "cell_type": "code",
      "source": [
        "#utility function to pick samples to be tested\n",
        "\n",
        "def get_samples(arr, n):\n",
        "    temp = random.sample(range(len(arr)), n)\n",
        "    result = arr[temp]\n",
        "    return result, temp\n",
        "\n",
        "num = 3\n",
        "figsize = 15\n",
        "org, temp = get_samples(x_test, num)\n",
        "blur = x_test_blured[temp]\n",
        "preds = conv_net.model.predict(blur.reshape(-1, 32, 32, 3))\n",
        "#plotting results\n",
        "plt.figure(figsize = (figsize, figsize))\n",
        "print('Original Images')\n",
        "for i in range(num):\n",
        "    plt.subplot(1, num, i+1)\n",
        "    plt.xticks([])\n",
        "    plt.yticks([])\n",
        "    plt.grid(False)\n",
        "    plt.imshow(org[i])\n",
        "plt.show()\n",
        "plt.figure(figsize = (figsize, figsize))\n",
        "print('Blurred Images')\n",
        "for i in range(num):\n",
        "    plt.subplot(1, num, i + 1)\n",
        "    plt.xticks([])\n",
        "    plt.yticks([])\n",
        "    plt.grid(False)\n",
        "    plt.imshow(blur[i])\n",
        "plt.show()\n",
        "plt.figure(figsize = (figsize, figsize))\n",
        "print('Predicted Images')\n",
        "for i in range(num):\n",
        "    plt.subplot(1, num, i + 1)\n",
        "    plt.xticks([])\n",
        "    plt.yticks([])\n",
        "    plt.grid(False)\n",
        "    plt.imshow(preds[i])\n",
        "plt.show()"
      ],
      "metadata": {
        "colab": {
          "base_uri": "https://localhost:8080/",
          "height": 896
        },
        "id": "-Q2i5vNQ9uQ8",
        "outputId": "9cfa4762-f1bd-4970-91ef-11252426277d"
      },
      "execution_count": 11,
      "outputs": [
        {
          "output_type": "stream",
          "name": "stdout",
          "text": [
            "Original Images\n"
          ]
        },
        {
          "output_type": "display_data",
          "data": {
            "text/plain": [
              "<Figure size 1080x1080 with 3 Axes>"
            ],
            "image/png": "[encoded data removed]"
          },
          "metadata": {}
        },
        {
          "output_type": "stream",
          "name": "stderr",
          "text": [
            "Clipping input data to the valid range for imshow with RGB data ([0..1] for floats or [0..255] for integers).\n"
          ]
        },
        {
          "output_type": "stream",
          "name": "stdout",
          "text": [
            "Blurred Images\n"
          ]
        },
        {
          "output_type": "display_data",
          "data": {
            "text/plain": [
              "<Figure size 1080x1080 with 3 Axes>"
            ],
            "image/png": "[encoded data removed]"
          },
          "metadata": {}
        },
        {
          "output_type": "stream",
          "name": "stderr",
          "text": [
            "Clipping input data to the valid range for imshow with RGB data ([0..1] for floats or [0..255] for integers).\n"
          ]
        },
        {
          "output_type": "stream",
          "name": "stdout",
          "text": [
            "Predicted Images\n"
          ]
        },
        {
          "output_type": "display_data",
          "data": {
            "text/plain": [
              "<Figure size 1080x1080 with 3 Axes>"
            ],
            "image/png": "[encoded data removed]"
          },
          "metadata": {}
        }
      ]
    },
    {
      "cell_type": "code",
      "source": [
        ""
      ],
      "metadata": {
        "id": "cwqFrzB29uMj"
      },
      "execution_count": null,
      "outputs": []
    }
  ]
}