{
  "nbformat": 4,
  "nbformat_minor": 0,
  "metadata": {
    "colab": {
      "name": "Image_Deblurring_June_Exam.ipynb",
      "provenance": [],
      "collapsed_sections": [],
      "machine_shape": "hm"
    },
    "kernelspec": {
      "name": "python3",
      "display_name": "Python 3"
    },
    "language_info": {
      "name": "python"
    },
    "accelerator": "GPU"
  },
  "cells": [
    {
      "cell_type": "markdown",
      "source": [
        "# Image Deblurring - June Exam"
      ],
      "metadata": {
        "id": "cAdE_w5Feghh"
      }
    },
    {
      "cell_type": "markdown",
      "source": [
        "### Dataset creation - DO NOT MODIFY"
      ],
      "metadata": {
        "id": "wCXXMeknnPtm"
      }
    },
    {
      "cell_type": "code",
      "source": [
        "import tensorflow as tf \n",
        "import random\n",
        "from cv2 import GaussianBlur\n",
        "import numpy as np\n",
        "\n",
        "import matplotlib.pyplot as plt\n",
        "from tensorflow.keras.layers import Conv2D, Conv2DTranspose, Input, Dense, MaxPooling2D, Add, Dropout, ConvLSTM2D, GaussianNoise\n",
        "from tensorflow.keras.models import Model\n",
        "from tensorflow.keras.optimizers import Adam\n",
        "\n",
        "def getDataset():\n",
        "  (x_train, _), (x_test, _) = tf.keras.datasets.cifar10.load_data()\n",
        "  normalize = lambda x: x/x.max()\n",
        "  x_train = normalize(x_train)\n",
        "  x_test = normalize(x_test)\n",
        "  createBlurred = lambda arr: np.array([GaussianBlur(x, (5,5), ((random.random()*3)+1)) + (0.02*np.random.normal(0,1, (32, 32, 3))) for x in arr])\n",
        "  return (createBlurred(x_train), x_train), (createBlurred(x_test), x_test)"
      ],
      "metadata": {
        "id": "QENETSnCelG8"
      },
      "execution_count": 122,
      "outputs": []
    },
    {
      "cell_type": "code",
      "source": [
        "(x_train_blured_og, x_train_og), (x_test_blured, x_test) = getDataset()"
      ],
      "metadata": {
        "id": "67h26q5xk8p4"
      },
      "execution_count": 123,
      "outputs": []
    },
    {
      "cell_type": "code",
      "source": [
        "x_train_og.shape"
      ],
      "metadata": {
        "colab": {
          "base_uri": "https://localhost:8080/"
        },
        "id": "pJeREfNXpUQO",
        "outputId": "98fadb46-14b6-47aa-f870-e8b19c3feb1e"
      },
      "execution_count": 124,
      "outputs": [
        {
          "output_type": "execute_result",
          "data": {
            "text/plain": [
              "(50000, 32, 32, 3)"
            ]
          },
          "metadata": {},
          "execution_count": 124
        }
      ]
    },
    {
      "cell_type": "code",
      "source": [
        "# Split the training set into training and validation.\n",
        "TRAIN_SIZE = 50000\n",
        "\n",
        "x_train_blured = x_train_blured_og[:TRAIN_SIZE]\n",
        "x_train = x_train_og[:TRAIN_SIZE]\n",
        "\n",
        "x_val_blured = x_train_blured_og[TRAIN_SIZE:]\n",
        "x_val = x_train_og[TRAIN_SIZE:]\n",
        "\n",
        "print(f\"Train size: {x_train_blured.shape}. Test size: {x_val_blured.shape}\")"
      ],
      "metadata": {
        "colab": {
          "base_uri": "https://localhost:8080/"
        },
        "id": "CKFxjgKnoFSu",
        "outputId": "2ecd7bd3-0a5f-43aa-85a6-e6f622c0f250"
      },
      "execution_count": 125,
      "outputs": [
        {
          "output_type": "stream",
          "name": "stdout",
          "text": [
            "Train size: (50000, 32, 32, 3). Test size: (0, 32, 32, 3)\n"
          ]
        }
      ]
    },
    {
      "cell_type": "code",
      "source": [
        "# modello iniziale 0.0055\n",
        "\n",
        "#encode\n",
        "inputs = Input(shape=(32, 32, 3))\n",
        "\n",
        "x = Conv2D(64, (2, 2), strides = 1, padding = 'same') (inputs)\n",
        "x = Conv2D(32, (2, 2), strides = 1, padding = 'same') (x)\n",
        "x = MaxPooling2D(pool_size=(2, 2), strides=2) (x)\n",
        "\n",
        "x = Conv2D(16, (2, 2), strides = 1, padding = 'same') (x)\n",
        "#latent\n",
        "x = Conv2D(16, (2, 2), strides = 1, padding = 'same') (x)\n",
        "x = Dense(16, activation='relu')(x)\n",
        "x = Conv2D(8, (2, 2), strides = 1, padding = 'same') (x)\n",
        "x = Dense(16, activation='relu')(x)\n",
        "x = Conv2D(16, (2, 2), strides = 1, padding = 'same') (x)\n",
        "#decode\n",
        "x = Conv2DTranspose(16, (2, 2), strides = 2, padding = 'same') (x)\n",
        "x = Conv2DTranspose(32, (3, 3), strides = 1, padding = 'same') (x)\n",
        "x = Conv2DTranspose(64, (2, 2), strides = 1, padding = 'same') (x)\n",
        "outputs = Conv2DTranspose(3, (1, 1), strides = 1, activation = 'sigmoid', padding = 'same') (x)\n",
        "\n",
        "# model = Model(inputs=inputs,outputs=outputs)\n",
        "# model.summary()"
      ],
      "metadata": {
        "id": "CwhNatmIlipA"
      },
      "execution_count": null,
      "outputs": []
    },
    {
      "cell_type": "code",
      "source": [
        "from tensorflow.keras import layers\n",
        "\n",
        "# ResBlock\n",
        "\n",
        "def resblock(x, kernelsize, filters):\n",
        "    fx = layers.Conv2D(filters, kernelsize, activation='relu', padding='same')(x)\n",
        "    fx = layers.ReLU()(fx)\n",
        "    fx = layers.Conv2D(filters, kernelsize, padding='same')(fx)\n",
        "    out = layers.Add()([x,fx])\n",
        "    return out\n",
        "\n",
        "def deblurnet(inputs):\n",
        "  x = Conv2D(64, (2, 2), strides = 1, padding = 'same') (inputs)\n",
        "  for i in range(resblock_num):\n",
        "    res_1 = resblock(x, (2, 2), 64)\n",
        "  x = MaxPooling2D(pool_size=(2, 2), strides=2) (res_1)\n",
        "\n",
        "  x = Conv2D(32, (2, 2), strides = 1, padding = 'same') (x)\n",
        "  for i in range(resblock_num):\n",
        "    res_2 = resblock(x, (2, 2), 32)\n",
        "  x = MaxPooling2D(pool_size=(2, 2), strides=2) (res_2)\n",
        "\n",
        "  x = Conv2D(16, (2, 2), strides = 1, padding = 'same') (x)\n",
        "  for i in range(resblock_num):\n",
        "    x = resblock(x, (2, 2), 16)\n",
        "\n",
        "  # hidden layer\n",
        "  Conv2D(8, (2, 2), strides = 1, padding = 'same')\n",
        "\n",
        "  # decode\n",
        "  x = Conv2DTranspose(16, (2, 2), strides = 1, padding = 'same') (x)\n",
        "  for i in range(resblock_num):\n",
        "    x = resblock(x, (2, 2), 16)\n",
        "  x = Conv2DTranspose(16, (2, 2), strides = 1, padding = 'same') (x)\n",
        "\n",
        "  x = Conv2DTranspose(32, (2, 2), strides = 2, padding = 'same') (x)\n",
        "  z = Add()([x, res_2])\n",
        "  for i in range(resblock_num):\n",
        "    x = resblock(z, (2, 2), 32)\n",
        "  x = Conv2DTranspose(32, (3, 3), strides = 1, padding = 'same') (x)\n",
        "\n",
        "  x = Conv2DTranspose(64, (2, 2), strides = 2, padding = 'same') (x)\n",
        "  z = Add()([x, res_1])\n",
        "  for i in range(resblock_num):\n",
        "    x = resblock(z, (2, 2), 64)\n",
        "  x = Conv2DTranspose(64, (2, 2), strides = 1, padding = 'same') (x)\n",
        "  outputs = Conv2DTranspose(3, (1, 1), strides = 1, activation = 'sigmoid', padding = 'same') (x)\n",
        "  return outputs"
      ],
      "metadata": {
        "id": "Hnz-HbAzMu7G"
      },
      "execution_count": 126,
      "outputs": []
    },
    {
      "cell_type": "code",
      "source": [
        "input_shape = (32, 32, 3)\n",
        "inputs = Input(shape=input_shape)\n",
        "\n",
        "output_1 = deblurnet(inputs)\n",
        "output_2 = deblurnet(output_1)\n",
        "output_3 = deblurnet(output_2)\n",
        "\n",
        "model = Model(inputs=inputs,outputs=output_3)\n",
        "model.summary()"
      ],
      "metadata": {
        "id": "x4umepORZ47T"
      },
      "execution_count": null,
      "outputs": []
    },
    {
      "cell_type": "code",
      "source": [
        "# input\n",
        "input_shape = (32, 32, 3)\n",
        "inputs = Input(shape=input_shape)\n",
        "\n",
        "# encoding\n",
        "\n",
        "resblock_num = 3\n",
        "\n",
        "# convolution + layers of resblocks\n",
        "\n",
        "x = Conv2D(64, (2, 2), strides = 1, padding = 'same') (inputs)\n",
        "for i in range(resblock_num):\n",
        "  x = resblock(x, (2, 2), 64)\n",
        "res_1 = resblock(x, (2, 2), 64)\n",
        "x = MaxPooling2D(pool_size=(2, 2), strides=2) (res_1)\n",
        "x = GaussianNoise(0.05) (x)\n",
        "x = Conv2D(32, (2, 2), strides = 1, padding = 'same') (x)\n",
        "for i in range(resblock_num):\n",
        "  x = resblock(x, (2, 2), 32)\n",
        "res_2 = resblock(x, (2, 2), 32)\n",
        "x = MaxPooling2D(pool_size=(2, 2), strides=2) (res_2)\n",
        "x = GaussianNoise(0.05) (x)\n",
        "x = Conv2D(16, (2, 2), strides = 1, padding = 'same') (x)\n",
        "for i in range(resblock_num):\n",
        "  x = resblock(x, (2, 2), 16)\n",
        "\n",
        "# hidden layer\n",
        "\n",
        "x = Conv2D(8, (2, 2), strides = 1, padding = 'same') (x)\n",
        "x = tf.expand_dims(x, 1)\n",
        "\n",
        "# recurrent layer \n",
        "\n",
        "rl_1 = ConvLSTM2D(8, (2, 2), strides = 1, padding = 'same', dropout = 0.2, return_sequences=True) (x)\n",
        "x = tf.squeeze(rl_1, 1)\n",
        "x = Conv2D(8, (2, 2), strides = 1, padding = 'same') (x)\n",
        "\n",
        "# decode\n",
        "x = Conv2DTranspose(16, (2, 2), strides = 1, padding = 'same') (x)\n",
        "for i in range(resblock_num):\n",
        "  x = resblock(x, (2, 2), 16)\n",
        "x = Conv2DTranspose(16, (2, 2), strides = 1, padding = 'same') (x)\n",
        "\n",
        "x = Conv2DTranspose(32, (2, 2), strides = 2, padding = 'same') (x)\n",
        "z = Add()([x, res_2])\n",
        "for i in range(resblock_num):\n",
        "  x = resblock(z, (2, 2), 32)\n",
        "x = Conv2DTranspose(32, (3, 3), strides = 1, padding = 'same') (x)\n",
        "\n",
        "x = Conv2DTranspose(64, (2, 2), strides = 2, padding = 'same') (x)\n",
        "z = Add()([x, res_1])\n",
        "for i in range(resblock_num):\n",
        "  x = resblock(z, (2, 2), 64)\n",
        "x = Conv2DTranspose(64, (2, 2), strides = 1, padding = 'same') (x)\n",
        "outputs = Conv2DTranspose(3, (1, 1), strides = 1, activation = 'sigmoid', padding = 'same') (x)\n",
        "\n",
        "# secondo layer\n",
        "\n",
        "x = Conv2D(64, (2, 2), strides = 1, padding = 'same') (outputs)\n",
        "for i in range(resblock_num):\n",
        "  x = resblock(x, (2, 2), 64)\n",
        "res_3 = resblock(x, (2, 2), 64)\n",
        "x = MaxPooling2D(pool_size=(2, 2), strides=2) (res_3)\n",
        "x = GaussianNoise(0.05) (x)\n",
        "x = Conv2D(32, (2, 2), strides = 1, padding = 'same') (x)\n",
        "for i in range(resblock_num):\n",
        "  x = resblock(x, (2, 2), 32)\n",
        "res_4 = resblock(x, (2, 2), 32)\n",
        "x = MaxPooling2D(pool_size=(2, 2), strides=2) (res_4)\n",
        "x = GaussianNoise(0.05) (x)\n",
        "x = Conv2D(16, (2, 2), strides = 1, padding = 'same') (x)\n",
        "for i in range(resblock_num):\n",
        "  x = resblock(x, (2, 2), 16)\n",
        "\n",
        "# hidden layer\n",
        "\n",
        "x = Conv2D(8, (2, 2), strides = 1, padding = 'same') (x)\n",
        "x = tf.expand_dims(x, 1)\n",
        "\n",
        "z = Add()([x, rl_1])\n",
        "rl_2 = ConvLSTM2D(8, (2, 2), strides = 1, padding = 'same', dropout = 0.2) (z)\n",
        "x = Conv2D(8, (2, 2), strides = 1, padding = 'same') (rl_2)\n",
        "\n",
        "# decode\n",
        "x = Conv2DTranspose(16, (2, 2), strides = 1, padding = 'same') (x)\n",
        "for i in range(resblock_num):\n",
        "  x = resblock(x, (2, 2), 16)\n",
        "x = Conv2DTranspose(16, (2, 2), strides = 1, padding = 'same') (x)\n",
        "\n",
        "x = Conv2DTranspose(32, (2, 2), strides = 2, padding = 'same') (x)\n",
        "z = Add()([x, res_2])\n",
        "for i in range(resblock_num):\n",
        "  x = resblock(z, (2, 2), 32)\n",
        "x = Conv2DTranspose(32, (3, 3), strides = 1, padding = 'same') (x)\n",
        "\n",
        "x = Conv2DTranspose(64, (2, 2), strides = 2, padding = 'same') (x)\n",
        "z = Add()([x, res_1])\n",
        "for i in range(resblock_num):\n",
        "  x = resblock(z, (2, 2), 64)\n",
        "x = Conv2DTranspose(64, (2, 2), strides = 1, padding = 'same') (x)\n",
        "outputs = Conv2DTranspose(3, (1, 1), strides = 1, activation = 'sigmoid', padding = 'same') (x)\n",
        "\n",
        "# model creation\n",
        "model = Model(inputs=inputs,outputs=outputs)\n",
        "model.summary()"
      ],
      "metadata": {
        "id": "Le8BDssLM2GP",
        "outputId": "edb34057-a949-4839-b982-bd4cf573e2c0",
        "colab": {
          "base_uri": "https://localhost:8080/"
        }
      },
      "execution_count": 127,
      "outputs": [
        {
          "output_type": "stream",
          "name": "stdout",
          "text": [
            "Model: \"model_18\"\n",
            "__________________________________________________________________________________________________\n",
            " Layer (type)                   Output Shape         Param #     Connected to                     \n",
            "==================================================================================================\n",
            " input_45 (InputLayer)          [(None, 32, 32, 3)]  0           []                               \n",
            "                                                                                                  \n",
            " conv2d_930 (Conv2D)            (None, 32, 32, 64)   832         ['input_45[0][0]']               \n",
            "                                                                                                  \n",
            " conv2d_931 (Conv2D)            (None, 32, 32, 64)   16448       ['conv2d_930[0][0]']             \n",
            "                                                                                                  \n",
            " re_lu_360 (ReLU)               (None, 32, 32, 64)   0           ['conv2d_931[0][0]']             \n",
            "                                                                                                  \n",
            " conv2d_932 (Conv2D)            (None, 32, 32, 64)   16448       ['re_lu_360[0][0]']              \n",
            "                                                                                                  \n",
            " add_426 (Add)                  (None, 32, 32, 64)   0           ['conv2d_930[0][0]',             \n",
            "                                                                  'conv2d_932[0][0]']             \n",
            "                                                                                                  \n",
            " conv2d_933 (Conv2D)            (None, 32, 32, 64)   16448       ['add_426[0][0]']                \n",
            "                                                                                                  \n",
            " re_lu_361 (ReLU)               (None, 32, 32, 64)   0           ['conv2d_933[0][0]']             \n",
            "                                                                                                  \n",
            " conv2d_934 (Conv2D)            (None, 32, 32, 64)   16448       ['re_lu_361[0][0]']              \n",
            "                                                                                                  \n",
            " add_427 (Add)                  (None, 32, 32, 64)   0           ['add_426[0][0]',                \n",
            "                                                                  'conv2d_934[0][0]']             \n",
            "                                                                                                  \n",
            " conv2d_935 (Conv2D)            (None, 32, 32, 64)   16448       ['add_427[0][0]']                \n",
            "                                                                                                  \n",
            " re_lu_362 (ReLU)               (None, 32, 32, 64)   0           ['conv2d_935[0][0]']             \n",
            "                                                                                                  \n",
            " conv2d_936 (Conv2D)            (None, 32, 32, 64)   16448       ['re_lu_362[0][0]']              \n",
            "                                                                                                  \n",
            " add_428 (Add)                  (None, 32, 32, 64)   0           ['add_427[0][0]',                \n",
            "                                                                  'conv2d_936[0][0]']             \n",
            "                                                                                                  \n",
            " conv2d_937 (Conv2D)            (None, 32, 32, 64)   16448       ['add_428[0][0]']                \n",
            "                                                                                                  \n",
            " re_lu_363 (ReLU)               (None, 32, 32, 64)   0           ['conv2d_937[0][0]']             \n",
            "                                                                                                  \n",
            " conv2d_938 (Conv2D)            (None, 32, 32, 64)   16448       ['re_lu_363[0][0]']              \n",
            "                                                                                                  \n",
            " add_429 (Add)                  (None, 32, 32, 64)   0           ['add_428[0][0]',                \n",
            "                                                                  'conv2d_938[0][0]']             \n",
            "                                                                                                  \n",
            " max_pooling2d_83 (MaxPooling2D  (None, 16, 16, 64)  0           ['add_429[0][0]']                \n",
            " )                                                                                                \n",
            "                                                                                                  \n",
            " gaussian_noise_42 (GaussianNoi  (None, 16, 16, 64)  0           ['max_pooling2d_83[0][0]']       \n",
            " se)                                                                                              \n",
            "                                                                                                  \n",
            " conv2d_939 (Conv2D)            (None, 16, 16, 32)   8224        ['gaussian_noise_42[0][0]']      \n",
            "                                                                                                  \n",
            " conv2d_940 (Conv2D)            (None, 16, 16, 32)   4128        ['conv2d_939[0][0]']             \n",
            "                                                                                                  \n",
            " re_lu_364 (ReLU)               (None, 16, 16, 32)   0           ['conv2d_940[0][0]']             \n",
            "                                                                                                  \n",
            " conv2d_941 (Conv2D)            (None, 16, 16, 32)   4128        ['re_lu_364[0][0]']              \n",
            "                                                                                                  \n",
            " add_430 (Add)                  (None, 16, 16, 32)   0           ['conv2d_939[0][0]',             \n",
            "                                                                  'conv2d_941[0][0]']             \n",
            "                                                                                                  \n",
            " conv2d_942 (Conv2D)            (None, 16, 16, 32)   4128        ['add_430[0][0]']                \n",
            "                                                                                                  \n",
            " re_lu_365 (ReLU)               (None, 16, 16, 32)   0           ['conv2d_942[0][0]']             \n",
            "                                                                                                  \n",
            " conv2d_943 (Conv2D)            (None, 16, 16, 32)   4128        ['re_lu_365[0][0]']              \n",
            "                                                                                                  \n",
            " add_431 (Add)                  (None, 16, 16, 32)   0           ['add_430[0][0]',                \n",
            "                                                                  'conv2d_943[0][0]']             \n",
            "                                                                                                  \n",
            " conv2d_944 (Conv2D)            (None, 16, 16, 32)   4128        ['add_431[0][0]']                \n",
            "                                                                                                  \n",
            " re_lu_366 (ReLU)               (None, 16, 16, 32)   0           ['conv2d_944[0][0]']             \n",
            "                                                                                                  \n",
            " conv2d_945 (Conv2D)            (None, 16, 16, 32)   4128        ['re_lu_366[0][0]']              \n",
            "                                                                                                  \n",
            " add_432 (Add)                  (None, 16, 16, 32)   0           ['add_431[0][0]',                \n",
            "                                                                  'conv2d_945[0][0]']             \n",
            "                                                                                                  \n",
            " conv2d_946 (Conv2D)            (None, 16, 16, 32)   4128        ['add_432[0][0]']                \n",
            "                                                                                                  \n",
            " re_lu_367 (ReLU)               (None, 16, 16, 32)   0           ['conv2d_946[0][0]']             \n",
            "                                                                                                  \n",
            " conv2d_947 (Conv2D)            (None, 16, 16, 32)   4128        ['re_lu_367[0][0]']              \n",
            "                                                                                                  \n",
            " add_433 (Add)                  (None, 16, 16, 32)   0           ['add_432[0][0]',                \n",
            "                                                                  'conv2d_947[0][0]']             \n",
            "                                                                                                  \n",
            " max_pooling2d_84 (MaxPooling2D  (None, 8, 8, 32)    0           ['add_433[0][0]']                \n",
            " )                                                                                                \n",
            "                                                                                                  \n",
            " gaussian_noise_43 (GaussianNoi  (None, 8, 8, 32)    0           ['max_pooling2d_84[0][0]']       \n",
            " se)                                                                                              \n",
            "                                                                                                  \n",
            " conv2d_948 (Conv2D)            (None, 8, 8, 16)     2064        ['gaussian_noise_43[0][0]']      \n",
            "                                                                                                  \n",
            " conv2d_949 (Conv2D)            (None, 8, 8, 16)     1040        ['conv2d_948[0][0]']             \n",
            "                                                                                                  \n",
            " re_lu_368 (ReLU)               (None, 8, 8, 16)     0           ['conv2d_949[0][0]']             \n",
            "                                                                                                  \n",
            " conv2d_950 (Conv2D)            (None, 8, 8, 16)     1040        ['re_lu_368[0][0]']              \n",
            "                                                                                                  \n",
            " add_434 (Add)                  (None, 8, 8, 16)     0           ['conv2d_948[0][0]',             \n",
            "                                                                  'conv2d_950[0][0]']             \n",
            "                                                                                                  \n",
            " conv2d_951 (Conv2D)            (None, 8, 8, 16)     1040        ['add_434[0][0]']                \n",
            "                                                                                                  \n",
            " re_lu_369 (ReLU)               (None, 8, 8, 16)     0           ['conv2d_951[0][0]']             \n",
            "                                                                                                  \n",
            " conv2d_952 (Conv2D)            (None, 8, 8, 16)     1040        ['re_lu_369[0][0]']              \n",
            "                                                                                                  \n",
            " add_435 (Add)                  (None, 8, 8, 16)     0           ['add_434[0][0]',                \n",
            "                                                                  'conv2d_952[0][0]']             \n",
            "                                                                                                  \n",
            " conv2d_953 (Conv2D)            (None, 8, 8, 16)     1040        ['add_435[0][0]']                \n",
            "                                                                                                  \n",
            " re_lu_370 (ReLU)               (None, 8, 8, 16)     0           ['conv2d_953[0][0]']             \n",
            "                                                                                                  \n",
            " conv2d_954 (Conv2D)            (None, 8, 8, 16)     1040        ['re_lu_370[0][0]']              \n",
            "                                                                                                  \n",
            " add_436 (Add)                  (None, 8, 8, 16)     0           ['add_435[0][0]',                \n",
            "                                                                  'conv2d_954[0][0]']             \n",
            "                                                                                                  \n",
            " conv2d_955 (Conv2D)            (None, 8, 8, 8)      520         ['add_436[0][0]']                \n",
            "                                                                                                  \n",
            " tf.expand_dims_20 (TFOpLambda)  (None, 1, 8, 8, 8)  0           ['conv2d_955[0][0]']             \n",
            "                                                                                                  \n",
            " conv_lstm2d_22 (ConvLSTM2D)    (None, 1, 8, 8, 8)   2080        ['tf.expand_dims_20[0][0]']      \n",
            "                                                                                                  \n",
            " tf.compat.v1.squeeze_6 (TFOpLa  (None, 8, 8, 8)     0           ['conv_lstm2d_22[0][0]']         \n",
            " mbda)                                                                                            \n",
            "                                                                                                  \n",
            " conv2d_956 (Conv2D)            (None, 8, 8, 8)      264         ['tf.compat.v1.squeeze_6[0][0]'] \n",
            "                                                                                                  \n",
            " conv2d_transpose_205 (Conv2DTr  (None, 8, 8, 16)    528         ['conv2d_956[0][0]']             \n",
            " anspose)                                                                                         \n",
            "                                                                                                  \n",
            " conv2d_957 (Conv2D)            (None, 8, 8, 16)     1040        ['conv2d_transpose_205[0][0]']   \n",
            "                                                                                                  \n",
            " re_lu_371 (ReLU)               (None, 8, 8, 16)     0           ['conv2d_957[0][0]']             \n",
            "                                                                                                  \n",
            " conv2d_958 (Conv2D)            (None, 8, 8, 16)     1040        ['re_lu_371[0][0]']              \n",
            "                                                                                                  \n",
            " add_437 (Add)                  (None, 8, 8, 16)     0           ['conv2d_transpose_205[0][0]',   \n",
            "                                                                  'conv2d_958[0][0]']             \n",
            "                                                                                                  \n",
            " conv2d_959 (Conv2D)            (None, 8, 8, 16)     1040        ['add_437[0][0]']                \n",
            "                                                                                                  \n",
            " re_lu_372 (ReLU)               (None, 8, 8, 16)     0           ['conv2d_959[0][0]']             \n",
            "                                                                                                  \n",
            " conv2d_960 (Conv2D)            (None, 8, 8, 16)     1040        ['re_lu_372[0][0]']              \n",
            "                                                                                                  \n",
            " add_438 (Add)                  (None, 8, 8, 16)     0           ['add_437[0][0]',                \n",
            "                                                                  'conv2d_960[0][0]']             \n",
            "                                                                                                  \n",
            " conv2d_961 (Conv2D)            (None, 8, 8, 16)     1040        ['add_438[0][0]']                \n",
            "                                                                                                  \n",
            " re_lu_373 (ReLU)               (None, 8, 8, 16)     0           ['conv2d_961[0][0]']             \n",
            "                                                                                                  \n",
            " conv2d_962 (Conv2D)            (None, 8, 8, 16)     1040        ['re_lu_373[0][0]']              \n",
            "                                                                                                  \n",
            " add_439 (Add)                  (None, 8, 8, 16)     0           ['add_438[0][0]',                \n",
            "                                                                  'conv2d_962[0][0]']             \n",
            "                                                                                                  \n",
            " conv2d_transpose_206 (Conv2DTr  (None, 8, 8, 16)    1040        ['add_439[0][0]']                \n",
            " anspose)                                                                                         \n",
            "                                                                                                  \n",
            " conv2d_transpose_207 (Conv2DTr  (None, 16, 16, 32)  2080        ['conv2d_transpose_206[0][0]']   \n",
            " anspose)                                                                                         \n",
            "                                                                                                  \n",
            " add_440 (Add)                  (None, 16, 16, 32)   0           ['conv2d_transpose_207[0][0]',   \n",
            "                                                                  'add_433[0][0]']                \n",
            "                                                                                                  \n",
            " conv2d_967 (Conv2D)            (None, 16, 16, 32)   4128        ['add_440[0][0]']                \n",
            "                                                                                                  \n",
            " re_lu_376 (ReLU)               (None, 16, 16, 32)   0           ['conv2d_967[0][0]']             \n",
            "                                                                                                  \n",
            " conv2d_968 (Conv2D)            (None, 16, 16, 32)   4128        ['re_lu_376[0][0]']              \n",
            "                                                                                                  \n",
            " add_443 (Add)                  (None, 16, 16, 32)   0           ['add_440[0][0]',                \n",
            "                                                                  'conv2d_968[0][0]']             \n",
            "                                                                                                  \n",
            " conv2d_transpose_208 (Conv2DTr  (None, 16, 16, 32)  9248        ['add_443[0][0]']                \n",
            " anspose)                                                                                         \n",
            "                                                                                                  \n",
            " conv2d_transpose_209 (Conv2DTr  (None, 32, 32, 64)  8256        ['conv2d_transpose_208[0][0]']   \n",
            " anspose)                                                                                         \n",
            "                                                                                                  \n",
            " add_444 (Add)                  (None, 32, 32, 64)   0           ['conv2d_transpose_209[0][0]',   \n",
            "                                                                  'add_429[0][0]']                \n",
            "                                                                                                  \n",
            " conv2d_973 (Conv2D)            (None, 32, 32, 64)   16448       ['add_444[0][0]']                \n",
            "                                                                                                  \n",
            " re_lu_379 (ReLU)               (None, 32, 32, 64)   0           ['conv2d_973[0][0]']             \n",
            "                                                                                                  \n",
            " conv2d_974 (Conv2D)            (None, 32, 32, 64)   16448       ['re_lu_379[0][0]']              \n",
            "                                                                                                  \n",
            " add_447 (Add)                  (None, 32, 32, 64)   0           ['add_444[0][0]',                \n",
            "                                                                  'conv2d_974[0][0]']             \n",
            "                                                                                                  \n",
            " conv2d_transpose_210 (Conv2DTr  (None, 32, 32, 64)  16448       ['add_447[0][0]']                \n",
            " anspose)                                                                                         \n",
            "                                                                                                  \n",
            " conv2d_transpose_211 (Conv2DTr  (None, 32, 32, 3)   195         ['conv2d_transpose_210[0][0]']   \n",
            " anspose)                                                                                         \n",
            "                                                                                                  \n",
            " conv2d_975 (Conv2D)            (None, 32, 32, 64)   832         ['conv2d_transpose_211[0][0]']   \n",
            "                                                                                                  \n",
            " conv2d_976 (Conv2D)            (None, 32, 32, 64)   16448       ['conv2d_975[0][0]']             \n",
            "                                                                                                  \n",
            " re_lu_380 (ReLU)               (None, 32, 32, 64)   0           ['conv2d_976[0][0]']             \n",
            "                                                                                                  \n",
            " conv2d_977 (Conv2D)            (None, 32, 32, 64)   16448       ['re_lu_380[0][0]']              \n",
            "                                                                                                  \n",
            " add_448 (Add)                  (None, 32, 32, 64)   0           ['conv2d_975[0][0]',             \n",
            "                                                                  'conv2d_977[0][0]']             \n",
            "                                                                                                  \n",
            " conv2d_978 (Conv2D)            (None, 32, 32, 64)   16448       ['add_448[0][0]']                \n",
            "                                                                                                  \n",
            " re_lu_381 (ReLU)               (None, 32, 32, 64)   0           ['conv2d_978[0][0]']             \n",
            "                                                                                                  \n",
            " conv2d_979 (Conv2D)            (None, 32, 32, 64)   16448       ['re_lu_381[0][0]']              \n",
            "                                                                                                  \n",
            " add_449 (Add)                  (None, 32, 32, 64)   0           ['add_448[0][0]',                \n",
            "                                                                  'conv2d_979[0][0]']             \n",
            "                                                                                                  \n",
            " conv2d_980 (Conv2D)            (None, 32, 32, 64)   16448       ['add_449[0][0]']                \n",
            "                                                                                                  \n",
            " re_lu_382 (ReLU)               (None, 32, 32, 64)   0           ['conv2d_980[0][0]']             \n",
            "                                                                                                  \n",
            " conv2d_981 (Conv2D)            (None, 32, 32, 64)   16448       ['re_lu_382[0][0]']              \n",
            "                                                                                                  \n",
            " add_450 (Add)                  (None, 32, 32, 64)   0           ['add_449[0][0]',                \n",
            "                                                                  'conv2d_981[0][0]']             \n",
            "                                                                                                  \n",
            " conv2d_982 (Conv2D)            (None, 32, 32, 64)   16448       ['add_450[0][0]']                \n",
            "                                                                                                  \n",
            " re_lu_383 (ReLU)               (None, 32, 32, 64)   0           ['conv2d_982[0][0]']             \n",
            "                                                                                                  \n",
            " conv2d_983 (Conv2D)            (None, 32, 32, 64)   16448       ['re_lu_383[0][0]']              \n",
            "                                                                                                  \n",
            " add_451 (Add)                  (None, 32, 32, 64)   0           ['add_450[0][0]',                \n",
            "                                                                  'conv2d_983[0][0]']             \n",
            "                                                                                                  \n",
            " max_pooling2d_85 (MaxPooling2D  (None, 16, 16, 64)  0           ['add_451[0][0]']                \n",
            " )                                                                                                \n",
            "                                                                                                  \n",
            " gaussian_noise_44 (GaussianNoi  (None, 16, 16, 64)  0           ['max_pooling2d_85[0][0]']       \n",
            " se)                                                                                              \n",
            "                                                                                                  \n",
            " conv2d_984 (Conv2D)            (None, 16, 16, 32)   8224        ['gaussian_noise_44[0][0]']      \n",
            "                                                                                                  \n",
            " conv2d_985 (Conv2D)            (None, 16, 16, 32)   4128        ['conv2d_984[0][0]']             \n",
            "                                                                                                  \n",
            " re_lu_384 (ReLU)               (None, 16, 16, 32)   0           ['conv2d_985[0][0]']             \n",
            "                                                                                                  \n",
            " conv2d_986 (Conv2D)            (None, 16, 16, 32)   4128        ['re_lu_384[0][0]']              \n",
            "                                                                                                  \n",
            " add_452 (Add)                  (None, 16, 16, 32)   0           ['conv2d_984[0][0]',             \n",
            "                                                                  'conv2d_986[0][0]']             \n",
            "                                                                                                  \n",
            " conv2d_987 (Conv2D)            (None, 16, 16, 32)   4128        ['add_452[0][0]']                \n",
            "                                                                                                  \n",
            " re_lu_385 (ReLU)               (None, 16, 16, 32)   0           ['conv2d_987[0][0]']             \n",
            "                                                                                                  \n",
            " conv2d_988 (Conv2D)            (None, 16, 16, 32)   4128        ['re_lu_385[0][0]']              \n",
            "                                                                                                  \n",
            " add_453 (Add)                  (None, 16, 16, 32)   0           ['add_452[0][0]',                \n",
            "                                                                  'conv2d_988[0][0]']             \n",
            "                                                                                                  \n",
            " conv2d_989 (Conv2D)            (None, 16, 16, 32)   4128        ['add_453[0][0]']                \n",
            "                                                                                                  \n",
            " re_lu_386 (ReLU)               (None, 16, 16, 32)   0           ['conv2d_989[0][0]']             \n",
            "                                                                                                  \n",
            " conv2d_990 (Conv2D)            (None, 16, 16, 32)   4128        ['re_lu_386[0][0]']              \n",
            "                                                                                                  \n",
            " add_454 (Add)                  (None, 16, 16, 32)   0           ['add_453[0][0]',                \n",
            "                                                                  'conv2d_990[0][0]']             \n",
            "                                                                                                  \n",
            " conv2d_991 (Conv2D)            (None, 16, 16, 32)   4128        ['add_454[0][0]']                \n",
            "                                                                                                  \n",
            " re_lu_387 (ReLU)               (None, 16, 16, 32)   0           ['conv2d_991[0][0]']             \n",
            "                                                                                                  \n",
            " conv2d_992 (Conv2D)            (None, 16, 16, 32)   4128        ['re_lu_387[0][0]']              \n",
            "                                                                                                  \n",
            " add_455 (Add)                  (None, 16, 16, 32)   0           ['add_454[0][0]',                \n",
            "                                                                  'conv2d_992[0][0]']             \n",
            "                                                                                                  \n",
            " max_pooling2d_86 (MaxPooling2D  (None, 8, 8, 32)    0           ['add_455[0][0]']                \n",
            " )                                                                                                \n",
            "                                                                                                  \n",
            " gaussian_noise_45 (GaussianNoi  (None, 8, 8, 32)    0           ['max_pooling2d_86[0][0]']       \n",
            " se)                                                                                              \n",
            "                                                                                                  \n",
            " conv2d_993 (Conv2D)            (None, 8, 8, 16)     2064        ['gaussian_noise_45[0][0]']      \n",
            "                                                                                                  \n",
            " conv2d_994 (Conv2D)            (None, 8, 8, 16)     1040        ['conv2d_993[0][0]']             \n",
            "                                                                                                  \n",
            " re_lu_388 (ReLU)               (None, 8, 8, 16)     0           ['conv2d_994[0][0]']             \n",
            "                                                                                                  \n",
            " conv2d_995 (Conv2D)            (None, 8, 8, 16)     1040        ['re_lu_388[0][0]']              \n",
            "                                                                                                  \n",
            " add_456 (Add)                  (None, 8, 8, 16)     0           ['conv2d_993[0][0]',             \n",
            "                                                                  'conv2d_995[0][0]']             \n",
            "                                                                                                  \n",
            " conv2d_996 (Conv2D)            (None, 8, 8, 16)     1040        ['add_456[0][0]']                \n",
            "                                                                                                  \n",
            " re_lu_389 (ReLU)               (None, 8, 8, 16)     0           ['conv2d_996[0][0]']             \n",
            "                                                                                                  \n",
            " conv2d_997 (Conv2D)            (None, 8, 8, 16)     1040        ['re_lu_389[0][0]']              \n",
            "                                                                                                  \n",
            " add_457 (Add)                  (None, 8, 8, 16)     0           ['add_456[0][0]',                \n",
            "                                                                  'conv2d_997[0][0]']             \n",
            "                                                                                                  \n",
            " conv2d_998 (Conv2D)            (None, 8, 8, 16)     1040        ['add_457[0][0]']                \n",
            "                                                                                                  \n",
            " re_lu_390 (ReLU)               (None, 8, 8, 16)     0           ['conv2d_998[0][0]']             \n",
            "                                                                                                  \n",
            " conv2d_999 (Conv2D)            (None, 8, 8, 16)     1040        ['re_lu_390[0][0]']              \n",
            "                                                                                                  \n",
            " add_458 (Add)                  (None, 8, 8, 16)     0           ['add_457[0][0]',                \n",
            "                                                                  'conv2d_999[0][0]']             \n",
            "                                                                                                  \n",
            " conv2d_1000 (Conv2D)           (None, 8, 8, 8)      520         ['add_458[0][0]']                \n",
            "                                                                                                  \n",
            " tf.expand_dims_21 (TFOpLambda)  (None, 1, 8, 8, 8)  0           ['conv2d_1000[0][0]']            \n",
            "                                                                                                  \n",
            " add_459 (Add)                  (None, 1, 8, 8, 8)   0           ['tf.expand_dims_21[0][0]',      \n",
            "                                                                  'conv_lstm2d_22[0][0]']         \n",
            "                                                                                                  \n",
            " conv_lstm2d_23 (ConvLSTM2D)    (None, 8, 8, 8)      2080        ['add_459[0][0]']                \n",
            "                                                                                                  \n",
            " conv2d_1001 (Conv2D)           (None, 8, 8, 8)      264         ['conv_lstm2d_23[0][0]']         \n",
            "                                                                                                  \n",
            " conv2d_transpose_212 (Conv2DTr  (None, 8, 8, 16)    528         ['conv2d_1001[0][0]']            \n",
            " anspose)                                                                                         \n",
            "                                                                                                  \n",
            " conv2d_1002 (Conv2D)           (None, 8, 8, 16)     1040        ['conv2d_transpose_212[0][0]']   \n",
            "                                                                                                  \n",
            " re_lu_391 (ReLU)               (None, 8, 8, 16)     0           ['conv2d_1002[0][0]']            \n",
            "                                                                                                  \n",
            " conv2d_1003 (Conv2D)           (None, 8, 8, 16)     1040        ['re_lu_391[0][0]']              \n",
            "                                                                                                  \n",
            " add_460 (Add)                  (None, 8, 8, 16)     0           ['conv2d_transpose_212[0][0]',   \n",
            "                                                                  'conv2d_1003[0][0]']            \n",
            "                                                                                                  \n",
            " conv2d_1004 (Conv2D)           (None, 8, 8, 16)     1040        ['add_460[0][0]']                \n",
            "                                                                                                  \n",
            " re_lu_392 (ReLU)               (None, 8, 8, 16)     0           ['conv2d_1004[0][0]']            \n",
            "                                                                                                  \n",
            " conv2d_1005 (Conv2D)           (None, 8, 8, 16)     1040        ['re_lu_392[0][0]']              \n",
            "                                                                                                  \n",
            " add_461 (Add)                  (None, 8, 8, 16)     0           ['add_460[0][0]',                \n",
            "                                                                  'conv2d_1005[0][0]']            \n",
            "                                                                                                  \n",
            " conv2d_1006 (Conv2D)           (None, 8, 8, 16)     1040        ['add_461[0][0]']                \n",
            "                                                                                                  \n",
            " re_lu_393 (ReLU)               (None, 8, 8, 16)     0           ['conv2d_1006[0][0]']            \n",
            "                                                                                                  \n",
            " conv2d_1007 (Conv2D)           (None, 8, 8, 16)     1040        ['re_lu_393[0][0]']              \n",
            "                                                                                                  \n",
            " add_462 (Add)                  (None, 8, 8, 16)     0           ['add_461[0][0]',                \n",
            "                                                                  'conv2d_1007[0][0]']            \n",
            "                                                                                                  \n",
            " conv2d_transpose_213 (Conv2DTr  (None, 8, 8, 16)    1040        ['add_462[0][0]']                \n",
            " anspose)                                                                                         \n",
            "                                                                                                  \n",
            " conv2d_transpose_214 (Conv2DTr  (None, 16, 16, 32)  2080        ['conv2d_transpose_213[0][0]']   \n",
            " anspose)                                                                                         \n",
            "                                                                                                  \n",
            " add_463 (Add)                  (None, 16, 16, 32)   0           ['conv2d_transpose_214[0][0]',   \n",
            "                                                                  'add_433[0][0]']                \n",
            "                                                                                                  \n",
            " conv2d_1012 (Conv2D)           (None, 16, 16, 32)   4128        ['add_463[0][0]']                \n",
            "                                                                                                  \n",
            " re_lu_396 (ReLU)               (None, 16, 16, 32)   0           ['conv2d_1012[0][0]']            \n",
            "                                                                                                  \n",
            " conv2d_1013 (Conv2D)           (None, 16, 16, 32)   4128        ['re_lu_396[0][0]']              \n",
            "                                                                                                  \n",
            " add_466 (Add)                  (None, 16, 16, 32)   0           ['add_463[0][0]',                \n",
            "                                                                  'conv2d_1013[0][0]']            \n",
            "                                                                                                  \n",
            " conv2d_transpose_215 (Conv2DTr  (None, 16, 16, 32)  9248        ['add_466[0][0]']                \n",
            " anspose)                                                                                         \n",
            "                                                                                                  \n",
            " conv2d_transpose_216 (Conv2DTr  (None, 32, 32, 64)  8256        ['conv2d_transpose_215[0][0]']   \n",
            " anspose)                                                                                         \n",
            "                                                                                                  \n",
            " add_467 (Add)                  (None, 32, 32, 64)   0           ['conv2d_transpose_216[0][0]',   \n",
            "                                                                  'add_429[0][0]']                \n",
            "                                                                                                  \n",
            " conv2d_1018 (Conv2D)           (None, 32, 32, 64)   16448       ['add_467[0][0]']                \n",
            "                                                                                                  \n",
            " re_lu_399 (ReLU)               (None, 32, 32, 64)   0           ['conv2d_1018[0][0]']            \n",
            "                                                                                                  \n",
            " conv2d_1019 (Conv2D)           (None, 32, 32, 64)   16448       ['re_lu_399[0][0]']              \n",
            "                                                                                                  \n",
            " add_470 (Add)                  (None, 32, 32, 64)   0           ['add_467[0][0]',                \n",
            "                                                                  'conv2d_1019[0][0]']            \n",
            "                                                                                                  \n",
            " conv2d_transpose_217 (Conv2DTr  (None, 32, 32, 64)  16448       ['add_470[0][0]']                \n",
            " anspose)                                                                                         \n",
            "                                                                                                  \n",
            " conv2d_transpose_218 (Conv2DTr  (None, 32, 32, 3)   195         ['conv2d_transpose_217[0][0]']   \n",
            " anspose)                                                                                         \n",
            "                                                                                                  \n",
            "==================================================================================================\n",
            "Total params: 540,038\n",
            "Trainable params: 540,038\n",
            "Non-trainable params: 0\n",
            "__________________________________________________________________________________________________\n"
          ]
        }
      ]
    },
    {
      "cell_type": "code",
      "source": [
        "adam_optimizer = Adam(learning_rate=1E-4, beta_1=0.9, beta_2=0.999, epsilon=1e-08)\n",
        "\n",
        "model.compile(loss = 'mse', optimizer = adam_optimizer,metrics=[\"mae\", \"acc\"])"
      ],
      "metadata": {
        "id": "otrpz3bClvk8"
      },
      "execution_count": 128,
      "outputs": []
    },
    {
      "cell_type": "code",
      "source": [
        "hist = model.fit(x_train_blured.reshape(-1, 32, 32, 3), \n",
        "          x_train.reshape(-1, 32, 32, 3), \n",
        "          epochs = 15, \n",
        "          batch_size = 200, \n",
        "          validation_split=0.1)"
      ],
      "metadata": {
        "id": "h68nG7p77hkX",
        "outputId": "2ecdf73e-0f20-434d-ea66-daa55f3bde36",
        "colab": {
          "base_uri": "https://localhost:8080/",
          "height": 470
        }
      },
      "execution_count": 129,
      "outputs": [
        {
          "output_type": "stream",
          "name": "stdout",
          "text": [
            "Epoch 1/15\n",
            "225/225 [==============================] - 68s 265ms/step - loss: 0.0156 - mae: 0.0893 - acc: 0.6556 - val_loss: 0.0065 - val_mae: 0.0587 - val_acc: 0.7718\n",
            "Epoch 2/15\n",
            "225/225 [==============================] - 58s 258ms/step - loss: 0.0060 - mae: 0.0565 - acc: 0.7696 - val_loss: 0.0054 - val_mae: 0.0536 - val_acc: 0.7954\n",
            "Epoch 3/15\n",
            " 59/225 [======>.......................] - ETA: 41s - loss: 0.0055 - mae: 0.0537 - acc: 0.7840"
          ]
        },
        {
          "output_type": "error",
          "ename": "KeyboardInterrupt",
          "evalue": "ignored",
          "traceback": [
            "\u001b[0;31m---------------------------------------------------------------------------\u001b[0m",
            "\u001b[0;31mKeyboardInterrupt\u001b[0m                         Traceback (most recent call last)",
            "\u001b[0;32m<ipython-input-129-2ecf0b1256ec>\u001b[0m in \u001b[0;36m<module>\u001b[0;34m()\u001b[0m\n\u001b[1;32m      3\u001b[0m           \u001b[0mepochs\u001b[0m \u001b[0;34m=\u001b[0m \u001b[0;36m15\u001b[0m\u001b[0;34m,\u001b[0m\u001b[0;34m\u001b[0m\u001b[0;34m\u001b[0m\u001b[0m\n\u001b[1;32m      4\u001b[0m           \u001b[0mbatch_size\u001b[0m \u001b[0;34m=\u001b[0m \u001b[0;36m200\u001b[0m\u001b[0;34m,\u001b[0m\u001b[0;34m\u001b[0m\u001b[0;34m\u001b[0m\u001b[0m\n\u001b[0;32m----> 5\u001b[0;31m           validation_split=0.1)\n\u001b[0m",
            "\u001b[0;32m/usr/local/lib/python3.7/dist-packages/keras/utils/traceback_utils.py\u001b[0m in \u001b[0;36merror_handler\u001b[0;34m(*args, **kwargs)\u001b[0m\n\u001b[1;32m     62\u001b[0m     \u001b[0mfiltered_tb\u001b[0m \u001b[0;34m=\u001b[0m \u001b[0;32mNone\u001b[0m\u001b[0;34m\u001b[0m\u001b[0;34m\u001b[0m\u001b[0m\n\u001b[1;32m     63\u001b[0m     \u001b[0;32mtry\u001b[0m\u001b[0;34m:\u001b[0m\u001b[0;34m\u001b[0m\u001b[0;34m\u001b[0m\u001b[0m\n\u001b[0;32m---> 64\u001b[0;31m       \u001b[0;32mreturn\u001b[0m \u001b[0mfn\u001b[0m\u001b[0;34m(\u001b[0m\u001b[0;34m*\u001b[0m\u001b[0margs\u001b[0m\u001b[0;34m,\u001b[0m \u001b[0;34m**\u001b[0m\u001b[0mkwargs\u001b[0m\u001b[0;34m)\u001b[0m\u001b[0;34m\u001b[0m\u001b[0;34m\u001b[0m\u001b[0m\n\u001b[0m\u001b[1;32m     65\u001b[0m     \u001b[0;32mexcept\u001b[0m \u001b[0mException\u001b[0m \u001b[0;32mas\u001b[0m \u001b[0me\u001b[0m\u001b[0;34m:\u001b[0m  \u001b[0;31m# pylint: disable=broad-except\u001b[0m\u001b[0;34m\u001b[0m\u001b[0;34m\u001b[0m\u001b[0m\n\u001b[1;32m     66\u001b[0m       \u001b[0mfiltered_tb\u001b[0m \u001b[0;34m=\u001b[0m \u001b[0m_process_traceback_frames\u001b[0m\u001b[0;34m(\u001b[0m\u001b[0me\u001b[0m\u001b[0;34m.\u001b[0m\u001b[0m__traceback__\u001b[0m\u001b[0;34m)\u001b[0m\u001b[0;34m\u001b[0m\u001b[0;34m\u001b[0m\u001b[0m\n",
            "\u001b[0;32m/usr/local/lib/python3.7/dist-packages/keras/engine/training.py\u001b[0m in \u001b[0;36mfit\u001b[0;34m(self, x, y, batch_size, epochs, verbose, callbacks, validation_split, validation_data, shuffle, class_weight, sample_weight, initial_epoch, steps_per_epoch, validation_steps, validation_batch_size, validation_freq, max_queue_size, workers, use_multiprocessing)\u001b[0m\n\u001b[1;32m   1387\u001b[0m               \u001b[0mlogs\u001b[0m \u001b[0;34m=\u001b[0m \u001b[0mtmp_logs\u001b[0m  \u001b[0;31m# No error, now safe to assign to logs.\u001b[0m\u001b[0;34m\u001b[0m\u001b[0;34m\u001b[0m\u001b[0m\n\u001b[1;32m   1388\u001b[0m               \u001b[0mend_step\u001b[0m \u001b[0;34m=\u001b[0m \u001b[0mstep\u001b[0m \u001b[0;34m+\u001b[0m \u001b[0mdata_handler\u001b[0m\u001b[0;34m.\u001b[0m\u001b[0mstep_increment\u001b[0m\u001b[0;34m\u001b[0m\u001b[0;34m\u001b[0m\u001b[0m\n\u001b[0;32m-> 1389\u001b[0;31m               \u001b[0mcallbacks\u001b[0m\u001b[0;34m.\u001b[0m\u001b[0mon_train_batch_end\u001b[0m\u001b[0;34m(\u001b[0m\u001b[0mend_step\u001b[0m\u001b[0;34m,\u001b[0m \u001b[0mlogs\u001b[0m\u001b[0;34m)\u001b[0m\u001b[0;34m\u001b[0m\u001b[0;34m\u001b[0m\u001b[0m\n\u001b[0m\u001b[1;32m   1390\u001b[0m               \u001b[0;32mif\u001b[0m \u001b[0mself\u001b[0m\u001b[0;34m.\u001b[0m\u001b[0mstop_training\u001b[0m\u001b[0;34m:\u001b[0m\u001b[0;34m\u001b[0m\u001b[0;34m\u001b[0m\u001b[0m\n\u001b[1;32m   1391\u001b[0m                 \u001b[0;32mbreak\u001b[0m\u001b[0;34m\u001b[0m\u001b[0;34m\u001b[0m\u001b[0m\n",
            "\u001b[0;32m/usr/local/lib/python3.7/dist-packages/keras/callbacks.py\u001b[0m in \u001b[0;36mon_train_batch_end\u001b[0;34m(self, batch, logs)\u001b[0m\n\u001b[1;32m    436\u001b[0m     \"\"\"\n\u001b[1;32m    437\u001b[0m     \u001b[0;32mif\u001b[0m \u001b[0mself\u001b[0m\u001b[0;34m.\u001b[0m\u001b[0m_should_call_train_batch_hooks\u001b[0m\u001b[0;34m:\u001b[0m\u001b[0;34m\u001b[0m\u001b[0;34m\u001b[0m\u001b[0m\n\u001b[0;32m--> 438\u001b[0;31m       \u001b[0mself\u001b[0m\u001b[0;34m.\u001b[0m\u001b[0m_call_batch_hook\u001b[0m\u001b[0;34m(\u001b[0m\u001b[0mModeKeys\u001b[0m\u001b[0;34m.\u001b[0m\u001b[0mTRAIN\u001b[0m\u001b[0;34m,\u001b[0m \u001b[0;34m'end'\u001b[0m\u001b[0;34m,\u001b[0m \u001b[0mbatch\u001b[0m\u001b[0;34m,\u001b[0m \u001b[0mlogs\u001b[0m\u001b[0;34m=\u001b[0m\u001b[0mlogs\u001b[0m\u001b[0;34m)\u001b[0m\u001b[0;34m\u001b[0m\u001b[0;34m\u001b[0m\u001b[0m\n\u001b[0m\u001b[1;32m    439\u001b[0m \u001b[0;34m\u001b[0m\u001b[0m\n\u001b[1;32m    440\u001b[0m   \u001b[0;32mdef\u001b[0m \u001b[0mon_test_batch_begin\u001b[0m\u001b[0;34m(\u001b[0m\u001b[0mself\u001b[0m\u001b[0;34m,\u001b[0m \u001b[0mbatch\u001b[0m\u001b[0;34m,\u001b[0m \u001b[0mlogs\u001b[0m\u001b[0;34m=\u001b[0m\u001b[0;32mNone\u001b[0m\u001b[0;34m)\u001b[0m\u001b[0;34m:\u001b[0m\u001b[0;34m\u001b[0m\u001b[0;34m\u001b[0m\u001b[0m\n",
            "\u001b[0;32m/usr/local/lib/python3.7/dist-packages/keras/callbacks.py\u001b[0m in \u001b[0;36m_call_batch_hook\u001b[0;34m(self, mode, hook, batch, logs)\u001b[0m\n\u001b[1;32m    295\u001b[0m       \u001b[0mself\u001b[0m\u001b[0;34m.\u001b[0m\u001b[0m_call_batch_begin_hook\u001b[0m\u001b[0;34m(\u001b[0m\u001b[0mmode\u001b[0m\u001b[0;34m,\u001b[0m \u001b[0mbatch\u001b[0m\u001b[0;34m,\u001b[0m \u001b[0mlogs\u001b[0m\u001b[0;34m)\u001b[0m\u001b[0;34m\u001b[0m\u001b[0;34m\u001b[0m\u001b[0m\n\u001b[1;32m    296\u001b[0m     \u001b[0;32melif\u001b[0m \u001b[0mhook\u001b[0m \u001b[0;34m==\u001b[0m \u001b[0;34m'end'\u001b[0m\u001b[0;34m:\u001b[0m\u001b[0;34m\u001b[0m\u001b[0;34m\u001b[0m\u001b[0m\n\u001b[0;32m--> 297\u001b[0;31m       \u001b[0mself\u001b[0m\u001b[0;34m.\u001b[0m\u001b[0m_call_batch_end_hook\u001b[0m\u001b[0;34m(\u001b[0m\u001b[0mmode\u001b[0m\u001b[0;34m,\u001b[0m \u001b[0mbatch\u001b[0m\u001b[0;34m,\u001b[0m \u001b[0mlogs\u001b[0m\u001b[0;34m)\u001b[0m\u001b[0;34m\u001b[0m\u001b[0;34m\u001b[0m\u001b[0m\n\u001b[0m\u001b[1;32m    298\u001b[0m     \u001b[0;32melse\u001b[0m\u001b[0;34m:\u001b[0m\u001b[0;34m\u001b[0m\u001b[0;34m\u001b[0m\u001b[0m\n\u001b[1;32m    299\u001b[0m       raise ValueError(\n",
            "\u001b[0;32m/usr/local/lib/python3.7/dist-packages/keras/callbacks.py\u001b[0m in \u001b[0;36m_call_batch_end_hook\u001b[0;34m(self, mode, batch, logs)\u001b[0m\n\u001b[1;32m    316\u001b[0m       \u001b[0mself\u001b[0m\u001b[0;34m.\u001b[0m\u001b[0m_batch_times\u001b[0m\u001b[0;34m.\u001b[0m\u001b[0mappend\u001b[0m\u001b[0;34m(\u001b[0m\u001b[0mbatch_time\u001b[0m\u001b[0;34m)\u001b[0m\u001b[0;34m\u001b[0m\u001b[0;34m\u001b[0m\u001b[0m\n\u001b[1;32m    317\u001b[0m \u001b[0;34m\u001b[0m\u001b[0m\n\u001b[0;32m--> 318\u001b[0;31m     \u001b[0mself\u001b[0m\u001b[0;34m.\u001b[0m\u001b[0m_call_batch_hook_helper\u001b[0m\u001b[0;34m(\u001b[0m\u001b[0mhook_name\u001b[0m\u001b[0;34m,\u001b[0m \u001b[0mbatch\u001b[0m\u001b[0;34m,\u001b[0m \u001b[0mlogs\u001b[0m\u001b[0;34m)\u001b[0m\u001b[0;34m\u001b[0m\u001b[0;34m\u001b[0m\u001b[0m\n\u001b[0m\u001b[1;32m    319\u001b[0m \u001b[0;34m\u001b[0m\u001b[0m\n\u001b[1;32m    320\u001b[0m     \u001b[0;32mif\u001b[0m \u001b[0mlen\u001b[0m\u001b[0;34m(\u001b[0m\u001b[0mself\u001b[0m\u001b[0;34m.\u001b[0m\u001b[0m_batch_times\u001b[0m\u001b[0;34m)\u001b[0m \u001b[0;34m>=\u001b[0m \u001b[0mself\u001b[0m\u001b[0;34m.\u001b[0m\u001b[0m_num_batches_for_timing_check\u001b[0m\u001b[0;34m:\u001b[0m\u001b[0;34m\u001b[0m\u001b[0;34m\u001b[0m\u001b[0m\n",
            "\u001b[0;32m/usr/local/lib/python3.7/dist-packages/keras/callbacks.py\u001b[0m in \u001b[0;36m_call_batch_hook_helper\u001b[0;34m(self, hook_name, batch, logs)\u001b[0m\n\u001b[1;32m    354\u001b[0m     \u001b[0;32mfor\u001b[0m \u001b[0mcallback\u001b[0m \u001b[0;32min\u001b[0m \u001b[0mself\u001b[0m\u001b[0;34m.\u001b[0m\u001b[0mcallbacks\u001b[0m\u001b[0;34m:\u001b[0m\u001b[0;34m\u001b[0m\u001b[0;34m\u001b[0m\u001b[0m\n\u001b[1;32m    355\u001b[0m       \u001b[0mhook\u001b[0m \u001b[0;34m=\u001b[0m \u001b[0mgetattr\u001b[0m\u001b[0;34m(\u001b[0m\u001b[0mcallback\u001b[0m\u001b[0;34m,\u001b[0m \u001b[0mhook_name\u001b[0m\u001b[0;34m)\u001b[0m\u001b[0;34m\u001b[0m\u001b[0;34m\u001b[0m\u001b[0m\n\u001b[0;32m--> 356\u001b[0;31m       \u001b[0mhook\u001b[0m\u001b[0;34m(\u001b[0m\u001b[0mbatch\u001b[0m\u001b[0;34m,\u001b[0m \u001b[0mlogs\u001b[0m\u001b[0;34m)\u001b[0m\u001b[0;34m\u001b[0m\u001b[0;34m\u001b[0m\u001b[0m\n\u001b[0m\u001b[1;32m    357\u001b[0m \u001b[0;34m\u001b[0m\u001b[0m\n\u001b[1;32m    358\u001b[0m     \u001b[0;32mif\u001b[0m \u001b[0mself\u001b[0m\u001b[0;34m.\u001b[0m\u001b[0m_check_timing\u001b[0m\u001b[0;34m:\u001b[0m\u001b[0;34m\u001b[0m\u001b[0;34m\u001b[0m\u001b[0m\n",
            "\u001b[0;32m/usr/local/lib/python3.7/dist-packages/keras/callbacks.py\u001b[0m in \u001b[0;36mon_train_batch_end\u001b[0;34m(self, batch, logs)\u001b[0m\n\u001b[1;32m   1032\u001b[0m \u001b[0;34m\u001b[0m\u001b[0m\n\u001b[1;32m   1033\u001b[0m   \u001b[0;32mdef\u001b[0m \u001b[0mon_train_batch_end\u001b[0m\u001b[0;34m(\u001b[0m\u001b[0mself\u001b[0m\u001b[0;34m,\u001b[0m \u001b[0mbatch\u001b[0m\u001b[0;34m,\u001b[0m \u001b[0mlogs\u001b[0m\u001b[0;34m=\u001b[0m\u001b[0;32mNone\u001b[0m\u001b[0;34m)\u001b[0m\u001b[0;34m:\u001b[0m\u001b[0;34m\u001b[0m\u001b[0;34m\u001b[0m\u001b[0m\n\u001b[0;32m-> 1034\u001b[0;31m     \u001b[0mself\u001b[0m\u001b[0;34m.\u001b[0m\u001b[0m_batch_update_progbar\u001b[0m\u001b[0;34m(\u001b[0m\u001b[0mbatch\u001b[0m\u001b[0;34m,\u001b[0m \u001b[0mlogs\u001b[0m\u001b[0;34m)\u001b[0m\u001b[0;34m\u001b[0m\u001b[0;34m\u001b[0m\u001b[0m\n\u001b[0m\u001b[1;32m   1035\u001b[0m \u001b[0;34m\u001b[0m\u001b[0m\n\u001b[1;32m   1036\u001b[0m   \u001b[0;32mdef\u001b[0m \u001b[0mon_test_batch_end\u001b[0m\u001b[0;34m(\u001b[0m\u001b[0mself\u001b[0m\u001b[0;34m,\u001b[0m \u001b[0mbatch\u001b[0m\u001b[0;34m,\u001b[0m \u001b[0mlogs\u001b[0m\u001b[0;34m=\u001b[0m\u001b[0;32mNone\u001b[0m\u001b[0;34m)\u001b[0m\u001b[0;34m:\u001b[0m\u001b[0;34m\u001b[0m\u001b[0;34m\u001b[0m\u001b[0m\n",
            "\u001b[0;32m/usr/local/lib/python3.7/dist-packages/keras/callbacks.py\u001b[0m in \u001b[0;36m_batch_update_progbar\u001b[0;34m(self, batch, logs)\u001b[0m\n\u001b[1;32m   1104\u001b[0m     \u001b[0;32mif\u001b[0m \u001b[0mself\u001b[0m\u001b[0;34m.\u001b[0m\u001b[0mverbose\u001b[0m \u001b[0;34m==\u001b[0m \u001b[0;36m1\u001b[0m\u001b[0;34m:\u001b[0m\u001b[0;34m\u001b[0m\u001b[0;34m\u001b[0m\u001b[0m\n\u001b[1;32m   1105\u001b[0m       \u001b[0;31m# Only block async when verbose = 1.\u001b[0m\u001b[0;34m\u001b[0m\u001b[0;34m\u001b[0m\u001b[0;34m\u001b[0m\u001b[0m\n\u001b[0;32m-> 1106\u001b[0;31m       \u001b[0mlogs\u001b[0m \u001b[0;34m=\u001b[0m \u001b[0mtf_utils\u001b[0m\u001b[0;34m.\u001b[0m\u001b[0msync_to_numpy_or_python_type\u001b[0m\u001b[0;34m(\u001b[0m\u001b[0mlogs\u001b[0m\u001b[0;34m)\u001b[0m\u001b[0;34m\u001b[0m\u001b[0;34m\u001b[0m\u001b[0m\n\u001b[0m\u001b[1;32m   1107\u001b[0m       \u001b[0mself\u001b[0m\u001b[0;34m.\u001b[0m\u001b[0mprogbar\u001b[0m\u001b[0;34m.\u001b[0m\u001b[0mupdate\u001b[0m\u001b[0;34m(\u001b[0m\u001b[0mself\u001b[0m\u001b[0;34m.\u001b[0m\u001b[0mseen\u001b[0m\u001b[0;34m,\u001b[0m \u001b[0mlist\u001b[0m\u001b[0;34m(\u001b[0m\u001b[0mlogs\u001b[0m\u001b[0;34m.\u001b[0m\u001b[0mitems\u001b[0m\u001b[0;34m(\u001b[0m\u001b[0;34m)\u001b[0m\u001b[0;34m)\u001b[0m\u001b[0;34m,\u001b[0m \u001b[0mfinalize\u001b[0m\u001b[0;34m=\u001b[0m\u001b[0;32mFalse\u001b[0m\u001b[0;34m)\u001b[0m\u001b[0;34m\u001b[0m\u001b[0;34m\u001b[0m\u001b[0m\n\u001b[1;32m   1108\u001b[0m \u001b[0;34m\u001b[0m\u001b[0m\n",
            "\u001b[0;32m/usr/local/lib/python3.7/dist-packages/keras/utils/tf_utils.py\u001b[0m in \u001b[0;36msync_to_numpy_or_python_type\u001b[0;34m(tensors)\u001b[0m\n\u001b[1;32m    561\u001b[0m     \u001b[0;32mreturn\u001b[0m \u001b[0mt\u001b[0m\u001b[0;34m.\u001b[0m\u001b[0mitem\u001b[0m\u001b[0;34m(\u001b[0m\u001b[0;34m)\u001b[0m \u001b[0;32mif\u001b[0m \u001b[0mnp\u001b[0m\u001b[0;34m.\u001b[0m\u001b[0mndim\u001b[0m\u001b[0;34m(\u001b[0m\u001b[0mt\u001b[0m\u001b[0;34m)\u001b[0m \u001b[0;34m==\u001b[0m \u001b[0;36m0\u001b[0m \u001b[0;32melse\u001b[0m \u001b[0mt\u001b[0m\u001b[0;34m\u001b[0m\u001b[0;34m\u001b[0m\u001b[0m\n\u001b[1;32m    562\u001b[0m \u001b[0;34m\u001b[0m\u001b[0m\n\u001b[0;32m--> 563\u001b[0;31m   \u001b[0;32mreturn\u001b[0m \u001b[0mtf\u001b[0m\u001b[0;34m.\u001b[0m\u001b[0mnest\u001b[0m\u001b[0;34m.\u001b[0m\u001b[0mmap_structure\u001b[0m\u001b[0;34m(\u001b[0m\u001b[0m_to_single_numpy_or_python_type\u001b[0m\u001b[0;34m,\u001b[0m \u001b[0mtensors\u001b[0m\u001b[0;34m)\u001b[0m\u001b[0;34m\u001b[0m\u001b[0;34m\u001b[0m\u001b[0m\n\u001b[0m\u001b[1;32m    564\u001b[0m \u001b[0;34m\u001b[0m\u001b[0m\n\u001b[1;32m    565\u001b[0m \u001b[0;34m\u001b[0m\u001b[0m\n",
            "\u001b[0;32m/usr/local/lib/python3.7/dist-packages/tensorflow/python/util/nest.py\u001b[0m in \u001b[0;36mmap_structure\u001b[0;34m(func, *structure, **kwargs)\u001b[0m\n\u001b[1;32m    912\u001b[0m \u001b[0;34m\u001b[0m\u001b[0m\n\u001b[1;32m    913\u001b[0m   return pack_sequence_as(\n\u001b[0;32m--> 914\u001b[0;31m       \u001b[0mstructure\u001b[0m\u001b[0;34m[\u001b[0m\u001b[0;36m0\u001b[0m\u001b[0;34m]\u001b[0m\u001b[0;34m,\u001b[0m \u001b[0;34m[\u001b[0m\u001b[0mfunc\u001b[0m\u001b[0;34m(\u001b[0m\u001b[0;34m*\u001b[0m\u001b[0mx\u001b[0m\u001b[0;34m)\u001b[0m \u001b[0;32mfor\u001b[0m \u001b[0mx\u001b[0m \u001b[0;32min\u001b[0m \u001b[0mentries\u001b[0m\u001b[0;34m]\u001b[0m\u001b[0;34m,\u001b[0m\u001b[0;34m\u001b[0m\u001b[0;34m\u001b[0m\u001b[0m\n\u001b[0m\u001b[1;32m    915\u001b[0m       expand_composites=expand_composites)\n\u001b[1;32m    916\u001b[0m \u001b[0;34m\u001b[0m\u001b[0m\n",
            "\u001b[0;32m/usr/local/lib/python3.7/dist-packages/tensorflow/python/util/nest.py\u001b[0m in \u001b[0;36m<listcomp>\u001b[0;34m(.0)\u001b[0m\n\u001b[1;32m    912\u001b[0m \u001b[0;34m\u001b[0m\u001b[0m\n\u001b[1;32m    913\u001b[0m   return pack_sequence_as(\n\u001b[0;32m--> 914\u001b[0;31m       \u001b[0mstructure\u001b[0m\u001b[0;34m[\u001b[0m\u001b[0;36m0\u001b[0m\u001b[0;34m]\u001b[0m\u001b[0;34m,\u001b[0m \u001b[0;34m[\u001b[0m\u001b[0mfunc\u001b[0m\u001b[0;34m(\u001b[0m\u001b[0;34m*\u001b[0m\u001b[0mx\u001b[0m\u001b[0;34m)\u001b[0m \u001b[0;32mfor\u001b[0m \u001b[0mx\u001b[0m \u001b[0;32min\u001b[0m \u001b[0mentries\u001b[0m\u001b[0;34m]\u001b[0m\u001b[0;34m,\u001b[0m\u001b[0;34m\u001b[0m\u001b[0;34m\u001b[0m\u001b[0m\n\u001b[0m\u001b[1;32m    915\u001b[0m       expand_composites=expand_composites)\n\u001b[1;32m    916\u001b[0m \u001b[0;34m\u001b[0m\u001b[0m\n",
            "\u001b[0;32m/usr/local/lib/python3.7/dist-packages/keras/utils/tf_utils.py\u001b[0m in \u001b[0;36m_to_single_numpy_or_python_type\u001b[0;34m(t)\u001b[0m\n\u001b[1;32m    555\u001b[0m     \u001b[0;31m# Don't turn ragged or sparse tensors to NumPy.\u001b[0m\u001b[0;34m\u001b[0m\u001b[0;34m\u001b[0m\u001b[0;34m\u001b[0m\u001b[0m\n\u001b[1;32m    556\u001b[0m     \u001b[0;32mif\u001b[0m \u001b[0misinstance\u001b[0m\u001b[0;34m(\u001b[0m\u001b[0mt\u001b[0m\u001b[0;34m,\u001b[0m \u001b[0mtf\u001b[0m\u001b[0;34m.\u001b[0m\u001b[0mTensor\u001b[0m\u001b[0;34m)\u001b[0m\u001b[0;34m:\u001b[0m\u001b[0;34m\u001b[0m\u001b[0;34m\u001b[0m\u001b[0m\n\u001b[0;32m--> 557\u001b[0;31m       \u001b[0mt\u001b[0m \u001b[0;34m=\u001b[0m \u001b[0mt\u001b[0m\u001b[0;34m.\u001b[0m\u001b[0mnumpy\u001b[0m\u001b[0;34m(\u001b[0m\u001b[0;34m)\u001b[0m\u001b[0;34m\u001b[0m\u001b[0;34m\u001b[0m\u001b[0m\n\u001b[0m\u001b[1;32m    558\u001b[0m     \u001b[0;31m# Strings, ragged and sparse tensors don't have .item(). Return them as-is.\u001b[0m\u001b[0;34m\u001b[0m\u001b[0;34m\u001b[0m\u001b[0;34m\u001b[0m\u001b[0m\n\u001b[1;32m    559\u001b[0m     \u001b[0;32mif\u001b[0m \u001b[0;32mnot\u001b[0m \u001b[0misinstance\u001b[0m\u001b[0;34m(\u001b[0m\u001b[0mt\u001b[0m\u001b[0;34m,\u001b[0m \u001b[0;34m(\u001b[0m\u001b[0mnp\u001b[0m\u001b[0;34m.\u001b[0m\u001b[0mndarray\u001b[0m\u001b[0;34m,\u001b[0m \u001b[0mnp\u001b[0m\u001b[0;34m.\u001b[0m\u001b[0mgeneric\u001b[0m\u001b[0;34m)\u001b[0m\u001b[0;34m)\u001b[0m\u001b[0;34m:\u001b[0m\u001b[0;34m\u001b[0m\u001b[0;34m\u001b[0m\u001b[0m\n",
            "\u001b[0;32m/usr/local/lib/python3.7/dist-packages/tensorflow/python/framework/ops.py\u001b[0m in \u001b[0;36mnumpy\u001b[0;34m(self)\u001b[0m\n\u001b[1;32m   1221\u001b[0m     \"\"\"\n\u001b[1;32m   1222\u001b[0m     \u001b[0;31m# TODO(slebedev): Consider avoiding a copy for non-CPU or remote tensors.\u001b[0m\u001b[0;34m\u001b[0m\u001b[0;34m\u001b[0m\u001b[0;34m\u001b[0m\u001b[0m\n\u001b[0;32m-> 1223\u001b[0;31m     \u001b[0mmaybe_arr\u001b[0m \u001b[0;34m=\u001b[0m \u001b[0mself\u001b[0m\u001b[0;34m.\u001b[0m\u001b[0m_numpy\u001b[0m\u001b[0;34m(\u001b[0m\u001b[0;34m)\u001b[0m  \u001b[0;31m# pylint: disable=protected-access\u001b[0m\u001b[0;34m\u001b[0m\u001b[0;34m\u001b[0m\u001b[0m\n\u001b[0m\u001b[1;32m   1224\u001b[0m     \u001b[0;32mreturn\u001b[0m \u001b[0mmaybe_arr\u001b[0m\u001b[0;34m.\u001b[0m\u001b[0mcopy\u001b[0m\u001b[0;34m(\u001b[0m\u001b[0;34m)\u001b[0m \u001b[0;32mif\u001b[0m \u001b[0misinstance\u001b[0m\u001b[0;34m(\u001b[0m\u001b[0mmaybe_arr\u001b[0m\u001b[0;34m,\u001b[0m \u001b[0mnp\u001b[0m\u001b[0;34m.\u001b[0m\u001b[0mndarray\u001b[0m\u001b[0;34m)\u001b[0m \u001b[0;32melse\u001b[0m \u001b[0mmaybe_arr\u001b[0m\u001b[0;34m\u001b[0m\u001b[0;34m\u001b[0m\u001b[0m\n\u001b[1;32m   1225\u001b[0m \u001b[0;34m\u001b[0m\u001b[0m\n",
            "\u001b[0;32m/usr/local/lib/python3.7/dist-packages/tensorflow/python/framework/ops.py\u001b[0m in \u001b[0;36m_numpy\u001b[0;34m(self)\u001b[0m\n\u001b[1;32m   1187\u001b[0m   \u001b[0;32mdef\u001b[0m \u001b[0m_numpy\u001b[0m\u001b[0;34m(\u001b[0m\u001b[0mself\u001b[0m\u001b[0;34m)\u001b[0m\u001b[0;34m:\u001b[0m\u001b[0;34m\u001b[0m\u001b[0;34m\u001b[0m\u001b[0m\n\u001b[1;32m   1188\u001b[0m     \u001b[0;32mtry\u001b[0m\u001b[0;34m:\u001b[0m\u001b[0;34m\u001b[0m\u001b[0;34m\u001b[0m\u001b[0m\n\u001b[0;32m-> 1189\u001b[0;31m       \u001b[0;32mreturn\u001b[0m \u001b[0mself\u001b[0m\u001b[0;34m.\u001b[0m\u001b[0m_numpy_internal\u001b[0m\u001b[0;34m(\u001b[0m\u001b[0;34m)\u001b[0m\u001b[0;34m\u001b[0m\u001b[0;34m\u001b[0m\u001b[0m\n\u001b[0m\u001b[1;32m   1190\u001b[0m     \u001b[0;32mexcept\u001b[0m \u001b[0mcore\u001b[0m\u001b[0;34m.\u001b[0m\u001b[0m_NotOkStatusException\u001b[0m \u001b[0;32mas\u001b[0m \u001b[0me\u001b[0m\u001b[0;34m:\u001b[0m  \u001b[0;31m# pylint: disable=protected-access\u001b[0m\u001b[0;34m\u001b[0m\u001b[0;34m\u001b[0m\u001b[0m\n\u001b[1;32m   1191\u001b[0m       \u001b[0;32mraise\u001b[0m \u001b[0mcore\u001b[0m\u001b[0;34m.\u001b[0m\u001b[0m_status_to_exception\u001b[0m\u001b[0;34m(\u001b[0m\u001b[0me\u001b[0m\u001b[0;34m)\u001b[0m \u001b[0;32mfrom\u001b[0m \u001b[0;32mNone\u001b[0m  \u001b[0;31m# pylint: disable=protected-access\u001b[0m\u001b[0;34m\u001b[0m\u001b[0;34m\u001b[0m\u001b[0m\n",
            "\u001b[0;31mKeyboardInterrupt\u001b[0m: "
          ]
        }
      ]
    },
    {
      "cell_type": "code",
      "source": [
        "def plot_history(model_history,keys):\n",
        "    m,val_m = keys\n",
        "    plt.plot(model_history.history[m])\n",
        "    plt.plot(model_history.history[val_m])\n",
        "    plt.ylabel(m)\n",
        "    plt.xlabel('epoch')\n",
        "    plt.legend(['train', 'test'], loc='upper left')\n",
        "    plt.show()\n",
        "\n",
        "plot_history(hist,['loss','val_loss'])"
      ],
      "metadata": {
        "colab": {
          "base_uri": "https://localhost:8080/",
          "height": 279
        },
        "id": "vx-WGm0Bs0Dw",
        "outputId": "fc705560-6cad-423f-874a-1cc7f9982f69"
      },
      "execution_count": 132,
      "outputs": [
        {
          "output_type": "display_data",
          "data": {
            "text/plain": [
              "<Figure size 432x288 with 1 Axes>"
            ],
            "image/png": "[encoded data removed]"
          },
          "metadata": {
            "needs_background": "light"
          }
        }
      ]
    },
    {
      "cell_type": "code",
      "source": [
        "predictions = model.predict(x_test_blured)"
      ],
      "metadata": {
        "id": "9_T9ua7ty_ci"
      },
      "execution_count": 109,
      "outputs": []
    },
    {
      "cell_type": "code",
      "source": [
        "predictions.shape"
      ],
      "metadata": {
        "colab": {
          "base_uri": "https://localhost:8080/"
        },
        "id": "pzPHLEgw1WUU",
        "outputId": "ab77c1a8-4077-4f1d-a63c-9345f0cdfe59"
      },
      "execution_count": 110,
      "outputs": [
        {
          "output_type": "execute_result",
          "data": {
            "text/plain": [
              "(10000, 32, 32, 3)"
            ]
          },
          "metadata": {},
          "execution_count": 110
        }
      ]
    },
    {
      "cell_type": "code",
      "source": [
        "from sklearn.metrics import mean_squared_error\n",
        "\n",
        "nsamples, nx, ny, nc = x_test.shape\n",
        "x_true = x_test.reshape((nsamples,nx*ny*nc))\n",
        "\n",
        "nsamples, nx, ny, nc = predictions.shape\n",
        "x_pred = predictions.reshape((nsamples,nx*ny*nc))\n",
        "\n",
        "mean_squared_error(x_true, x_pred)\n",
        "\n",
        "#0.0023\n",
        "#0.0041738243220982366\n",
        "#0.004219622105503972\n",
        "#0.00404854369862134\n",
        "#0.003909846398674108\n",
        "#0.00379532259022029"
      ],
      "metadata": {
        "colab": {
          "base_uri": "https://localhost:8080/"
        },
        "id": "mw8FKkOF0yxC",
        "outputId": "87da34c0-91dc-412a-8e33-890a59dd51b4"
      },
      "execution_count": 111,
      "outputs": [
        {
          "output_type": "execute_result",
          "data": {
            "text/plain": [
              "0.00379532259022029"
            ]
          },
          "metadata": {},
          "execution_count": 111
        }
      ]
    },
    {
      "cell_type": "code",
      "source": [
        "#utility function to pick samples to be tested\n",
        "\n",
        "def get_samples(arr, n):\n",
        "    temp = random.sample(range(len(arr)), n)\n",
        "    result = arr[temp]\n",
        "    return result, temp\n",
        "\n",
        "num = 3\n",
        "figsize = 15\n",
        "org, temp = get_samples(x_test, num)\n",
        "blur = x_test_blured[temp]\n",
        "preds = model.predict(blur.reshape(-1, 32, 32, 3))\n",
        "#plotting results\n",
        "plt.figure(figsize = (figsize, figsize))\n",
        "print('Original Images')\n",
        "for i in range(num):\n",
        "    plt.subplot(1, num, i+1)\n",
        "    plt.xticks([])\n",
        "    plt.yticks([])\n",
        "    plt.grid(False)\n",
        "    plt.imshow(org[i])\n",
        "plt.show()\n",
        "plt.figure(figsize = (figsize, figsize))\n",
        "print('Blurred Images')\n",
        "for i in range(num):\n",
        "    plt.subplot(1, num, i + 1)\n",
        "    plt.xticks([])\n",
        "    plt.yticks([])\n",
        "    plt.grid(False)\n",
        "    plt.imshow(blur[i])\n",
        "plt.show()\n",
        "plt.figure(figsize = (figsize, figsize))\n",
        "print('Predicted Images')\n",
        "for i in range(num):\n",
        "    plt.subplot(1, num, i + 1)\n",
        "    plt.xticks([])\n",
        "    plt.yticks([])\n",
        "    plt.grid(False)\n",
        "    plt.imshow(preds[i])\n",
        "plt.show()"
      ],
      "metadata": {
        "id": "FN7oLFtsnc5V",
        "outputId": "2bd92d31-17dd-4427-9fc4-6470c4ca529c",
        "colab": {
          "base_uri": "https://localhost:8080/",
          "height": 861
        }
      },
      "execution_count": 113,
      "outputs": [
        {
          "output_type": "stream",
          "name": "stdout",
          "text": [
            "Original Images\n"
          ]
        },
        {
          "output_type": "display_data",
          "data": {
            "text/plain": [
              "<Figure size 1080x1080 with 3 Axes>"
            ],
            "image/png": "[encoded data removed]"
          },
          "metadata": {}
        },
        {
          "output_type": "stream",
          "name": "stdout",
          "text": [
            "Blurred Images\n"
          ]
        },
        {
          "output_type": "display_data",
          "data": {
            "text/plain": [
              "<Figure size 1080x1080 with 3 Axes>"
            ],
            "image/png": "[encoded data removed]"
          },
          "metadata": {}
        },
        {
          "output_type": "stream",
          "name": "stdout",
          "text": [
            "Predicted Images\n"
          ]
        },
        {
          "output_type": "display_data",
          "data": {
            "text/plain": [
              "<Figure size 1080x1080 with 3 Axes>"
            ],
            "image/png": "[encoded data removed]"
          },
          "metadata": {}
        }
      ]
    },
    {
      "cell_type": "markdown",
      "source": [
        "SOLUZIONE 2"
      ],
      "metadata": {
        "id": "DIdUoR7o4qmz"
      }
    },
    {
      "cell_type": "code",
      "source": [
        "from keras.layers import Input\n",
        "from keras.layers.advanced_activations import LeakyReLU\n",
        "from keras.layers.convolutional import Conv2D\n",
        "from keras.layers.core import Dense, Flatten\n",
        "from keras.layers import BatchNormalization\n",
        "from keras.models import Model\n",
        "\n",
        "\n",
        "from keras.layers import Input, Activation, Add\n",
        "from keras.layers.advanced_activations import LeakyReLU\n",
        "from keras.layers.convolutional import Conv2D, Conv2DTranspose\n",
        "from keras.layers.core import Lambda\n",
        "from keras.models import Model\n",
        "\n",
        "ndf = 64\n",
        "ngf = 64\n",
        "n_blocks_gen = 9\n",
        "output_nc = 3\n",
        "input_shape_discriminator = (32, 32, output_nc)\n",
        "\n",
        "inputs = Input(shape=(32, 32, 3))\n",
        "\n",
        "x = Conv2D(filters=ngf, kernel_size=(7,7), padding='valid')(inputs)\n",
        "x = BatchNormalization()(x)\n",
        "x = Activation('relu')(x)\n",
        "\n",
        "# Increase filter number\n",
        "n_downsampling = 2\n",
        "for i in range(n_downsampling):\n",
        "    mult = 2**i\n",
        "    x = Conv2D(filters=ngf*mult*2, kernel_size=(3,3), strides=2, padding='same')(x)\n",
        "    x = BatchNormalization()(x)\n",
        "    x = Activation('relu')(x)\n",
        "\n",
        "# Apply 9 ResNet blocks\n",
        "mult = 2**n_downsampling\n",
        "for i in range(n_blocks_gen):\n",
        "    pass\n",
        "    # x = res_block(x, ngf*mult, use_dropout=True)\n",
        "\n",
        "# Decrease filter number to 3 (RGB)\n",
        "for i in range(n_downsampling):\n",
        "    mult = 2**(n_downsampling - i)\n",
        "    x = Conv2DTranspose(filters=int(ngf * mult / 2), kernel_size=(2, 2), strides=3-i, padding='same')(x)\n",
        "    x = BatchNormalization()(x)\n",
        "    x = Activation('relu')(x)\n",
        "\n",
        "x = Conv2D(filters=32, kernel_size=(7,7), padding='valid')(x)\n",
        "x = Conv2D(filters=64, kernel_size=(5,5), padding='valid')(x)\n",
        "x = Conv2D(filters=output_nc, kernel_size=(1,1), padding='valid')(x)\n",
        "\n",
        "x = Activation('tanh')(x)\n",
        "\n",
        "# Add direct connection from input to output and recenter to [-1, 1]\n",
        "# outputs = Add()([x, inputs])\n",
        "# outputs = Lambda(lambda z: z/2)(x)\n",
        "\n",
        "x = Conv2D(8, (2, 2), strides = 1, padding = 'same') (x)\n",
        "#decode\n",
        "x = Conv2DTranspose(16, (2, 2), strides = 1, padding = 'same') (x)\n",
        "x = Conv2DTranspose(32, (2, 2), strides = 1, padding = 'same') (x)\n",
        "x = Conv2DTranspose(64, (2, 2), strides = 1, padding = 'same') (x)\n",
        "outputs = Conv2DTranspose(3, (1, 1), strides = 1, activation = 'sigmoid', padding = 'same') (x)\n",
        "model = Model(inputs=inputs, outputs=outputs, name='Generator')\n",
        "model.summary()"
      ],
      "metadata": {
        "id": "1QqkOmxP7M5I"
      },
      "execution_count": null,
      "outputs": []
    },
    {
      "cell_type": "code",
      "source": [
        "# adam_optimizer = Adam(learning_rate=1E-4, beta_1=0.9, beta_2=0.999, epsilon=1e-08)\n",
        "\n",
        "model.compile(loss = 'mse', optimizer = 'adam')\n",
        "hist = model.fit(x_train_blured.reshape(-1, 32, 32, 3), \n",
        "          x_train.reshape(-1, 32, 32, 3), \n",
        "          epochs = 10, \n",
        "          batch_size = 200, \n",
        "          validation_data = (x_val_blured.reshape(-1, 32, 32, 3), x_val.reshape(-1, 32, 32, 3)))"
      ],
      "metadata": {
        "id": "TytY-fto8Qml"
      },
      "execution_count": null,
      "outputs": []
    },
    {
      "cell_type": "code",
      "source": [
        "def plot_history(model_history,keys):\n",
        "    m,val_m = keys\n",
        "    plt.plot(model_history.history[m])\n",
        "    plt.plot(model_history.history[val_m])\n",
        "    plt.ylabel(m)\n",
        "    plt.xlabel('epoch')\n",
        "    plt.legend(['train', 'test'], loc='upper left')\n",
        "    plt.show()\n",
        "\n",
        "plot_history(hist,['loss','val_loss'])"
      ],
      "metadata": {
        "id": "0Wvj-tgSABIu"
      },
      "execution_count": null,
      "outputs": []
    }
  ]
}