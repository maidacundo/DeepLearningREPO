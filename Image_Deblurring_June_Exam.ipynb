{
  "nbformat": 4,
  "nbformat_minor": 0,
  "metadata": {
    "colab": {
      "name": "Image_Deblurring_June_Exam.ipynb",
      "provenance": [],
      "collapsed_sections": []
    },
    "kernelspec": {
      "name": "python3",
      "display_name": "Python 3"
    },
    "language_info": {
      "name": "python"
    },
    "accelerator": "GPU"
  },
  "cells": [
    {
      "cell_type": "markdown",
      "source": [
        "# Image Deblurring - June Exam"
      ],
      "metadata": {
        "id": "cAdE_w5Feghh"
      }
    },
    {
      "cell_type": "markdown",
      "source": [
        "### Dataset creation - DO NOT MODIFY"
      ],
      "metadata": {
        "id": "wCXXMeknnPtm"
      }
    },
    {
      "cell_type": "code",
      "source": [
        "import tensorflow as tf \n",
        "import random\n",
        "from cv2 import GaussianBlur\n",
        "import numpy as np\n",
        "\n",
        "import matplotlib.pyplot as plt\n",
        "from tensorflow.keras.layers import Conv2D, Conv2DTranspose, Input, Dense, MaxPooling2D\n",
        "from tensorflow.keras.models import Model\n",
        "from tensorflow.keras.optimizers import Adam\n",
        "\n",
        "def getDataset():\n",
        "  (x_train, _), (x_test, _) = tf.keras.datasets.cifar10.load_data()\n",
        "  normalize = lambda x: x/x.max()\n",
        "  x_train = normalize(x_train)\n",
        "  x_test = normalize(x_test)\n",
        "  createBlurred = lambda arr: np.array([GaussianBlur(x, (5,5), ((random.random()*3)+1)) + (0.02*np.random.normal(0,1, (32, 32, 3))) for x in arr])\n",
        "  return (createBlurred(x_train), x_train), (createBlurred(x_test), x_test)"
      ],
      "metadata": {
        "id": "QENETSnCelG8"
      },
      "execution_count": 6,
      "outputs": []
    },
    {
      "cell_type": "code",
      "source": [
        "(x_train_blured_og, x_train_og), (x_test_blured, x_test) = getDataset()"
      ],
      "metadata": {
        "id": "67h26q5xk8p4"
      },
      "execution_count": 7,
      "outputs": []
    },
    {
      "cell_type": "code",
      "source": [
        "x_train_og.shape"
      ],
      "metadata": {
        "colab": {
          "base_uri": "https://localhost:8080/"
        },
        "id": "pJeREfNXpUQO",
        "outputId": "eec3740a-65e7-4f72-ccdf-d93c94f12b85"
      },
      "execution_count": 8,
      "outputs": [
        {
          "output_type": "execute_result",
          "data": {
            "text/plain": [
              "(50000, 32, 32, 3)"
            ]
          },
          "metadata": {},
          "execution_count": 8
        }
      ]
    },
    {
      "cell_type": "code",
      "source": [
        "# Split the training set into training and validation.\n",
        "TRAIN_SIZE = 40000\n",
        "\n",
        "x_train_blured = x_train_blured_og[:TRAIN_SIZE]\n",
        "x_train = x_train_og[:TRAIN_SIZE]\n",
        "\n",
        "x_val_blured = x_train_blured_og[TRAIN_SIZE:]\n",
        "x_val = x_train_og[TRAIN_SIZE:]\n",
        "\n",
        "print(f\"Train size: {x_train_blured.shape}. Test size: {x_val_blured.shape}\")"
      ],
      "metadata": {
        "colab": {
          "base_uri": "https://localhost:8080/"
        },
        "id": "CKFxjgKnoFSu",
        "outputId": "b3624b19-52e2-4a56-8282-1b07d66b0cdf"
      },
      "execution_count": 9,
      "outputs": [
        {
          "output_type": "stream",
          "name": "stdout",
          "text": [
            "Train size: (40000, 32, 32, 3). Test size: (10000, 32, 32, 3)\n"
          ]
        }
      ]
    },
    {
      "cell_type": "code",
      "source": [
        "#encode\n",
        "input = Input(shape=(32, 32, 3))\n",
        "\n",
        "x = Conv2D(64, (3, 3), strides = 1, padding = 'same', input_shape = (32, 32, 3)) (input)\n",
        "\n",
        "x = Conv2D(16, (2, 2), strides = 1, padding = 'same') (x)\n",
        "\n",
        "x = Conv2D(16, (2, 2), strides = 1, padding = 'same') (x)\n",
        "\n",
        "#latent\n",
        "x = Conv2D(8, (2, 2), strides = 1, padding = 'same') (x)\n",
        "x = Dense(16, activation='relu')(x)\n",
        "x = Conv2D(16, (2, 2), strides = 1, padding = 'same') (x)\n",
        "x = Dense(16, activation='relu')(x)\n",
        "x = Conv2D(8, (2, 2), strides = 1, padding = 'same') (x)\n",
        "#decode\n",
        "\n",
        "x = Conv2DTranspose(16, (2, 2), strides = 1, padding = 'same') (x)\n",
        "x = Conv2DTranspose(32, (2, 2), strides = 1, padding = 'same') (x)\n",
        "x = Conv2DTranspose(64, (2, 2), strides = 1, padding = 'same') (x)\n",
        "output = Conv2DTranspose(3, (1, 1), strides = 1, activation = 'sigmoid', padding = 'same') (x)\n",
        "\n",
        "model = Model(inputs=input,outputs=output)\n",
        "model.summary()"
      ],
      "metadata": {
        "colab": {
          "base_uri": "https://localhost:8080/"
        },
        "id": "CwhNatmIlipA",
        "outputId": "7bd304f4-9798-4d56-b896-c11c80c1d6f7"
      },
      "execution_count": 14,
      "outputs": [
        {
          "output_type": "stream",
          "name": "stdout",
          "text": [
            "Model: \"model_4\"\n",
            "_________________________________________________________________\n",
            " Layer (type)                Output Shape              Param #   \n",
            "=================================================================\n",
            " input_5 (InputLayer)        [(None, 32, 32, 3)]       0         \n",
            "                                                                 \n",
            " conv2d_24 (Conv2D)          (None, 32, 32, 64)        1792      \n",
            "                                                                 \n",
            " conv2d_25 (Conv2D)          (None, 32, 32, 16)        4112      \n",
            "                                                                 \n",
            " conv2d_26 (Conv2D)          (None, 32, 32, 16)        1040      \n",
            "                                                                 \n",
            " conv2d_27 (Conv2D)          (None, 32, 32, 8)         520       \n",
            "                                                                 \n",
            " dense_8 (Dense)             (None, 32, 32, 16)        144       \n",
            "                                                                 \n",
            " conv2d_28 (Conv2D)          (None, 32, 32, 16)        1040      \n",
            "                                                                 \n",
            " dense_9 (Dense)             (None, 32, 32, 16)        272       \n",
            "                                                                 \n",
            " conv2d_29 (Conv2D)          (None, 32, 32, 8)         520       \n",
            "                                                                 \n",
            " conv2d_transpose_25 (Conv2D  (None, 32, 32, 16)       528       \n",
            " Transpose)                                                      \n",
            "                                                                 \n",
            " conv2d_transpose_26 (Conv2D  (None, 32, 32, 32)       2080      \n",
            " Transpose)                                                      \n",
            "                                                                 \n",
            " conv2d_transpose_27 (Conv2D  (None, 32, 32, 64)       8256      \n",
            " Transpose)                                                      \n",
            "                                                                 \n",
            " conv2d_transpose_28 (Conv2D  (None, 32, 32, 3)        195       \n",
            " Transpose)                                                      \n",
            "                                                                 \n",
            "=================================================================\n",
            "Total params: 20,499\n",
            "Trainable params: 20,499\n",
            "Non-trainable params: 0\n",
            "_________________________________________________________________\n"
          ]
        }
      ]
    },
    {
      "cell_type": "code",
      "source": [
        "adam_optimizer = Adam(learning_rate=1E-4, beta_1=0.9, beta_2=0.999, epsilon=1e-08)\n",
        "\n",
        "model.compile(loss = 'mse', optimizer = adam_optimizer,metrics=[\"mae\", \"acc\"])\n",
        "hist = model.fit(x_train_blured.reshape(-1, 32, 32, 3), \n",
        "          x_train.reshape(-1, 32, 32, 3), \n",
        "          epochs = 10, \n",
        "          batch_size = 200, \n",
        "          \n",
        "          validation_data = (x_val_blured.reshape(-1, 32, 32, 3), x_val.reshape(-1, 32, 32, 3)))"
      ],
      "metadata": {
        "colab": {
          "base_uri": "https://localhost:8080/"
        },
        "id": "otrpz3bClvk8",
        "outputId": "ac41ade7-5c6f-42a4-d92a-121836b66c94"
      },
      "execution_count": 15,
      "outputs": [
        {
          "output_type": "stream",
          "name": "stdout",
          "text": [
            "Epoch 1/10\n",
            "200/200 [==============================] - 10s 45ms/step - loss: 0.0308 - mae: 0.1328 - acc: 0.5323 - val_loss: 0.0125 - val_mae: 0.0817 - val_acc: 0.6289\n",
            "Epoch 2/10\n",
            "200/200 [==============================] - 9s 45ms/step - loss: 0.0107 - mae: 0.0755 - acc: 0.6373 - val_loss: 0.0093 - val_mae: 0.0705 - val_acc: 0.6498\n",
            "Epoch 3/10\n",
            "200/200 [==============================] - 9s 45ms/step - loss: 0.0087 - mae: 0.0685 - acc: 0.6479 - val_loss: 0.0081 - val_mae: 0.0660 - val_acc: 0.6503\n",
            "Epoch 4/10\n",
            "200/200 [==============================] - 9s 46ms/step - loss: 0.0078 - mae: 0.0647 - acc: 0.6559 - val_loss: 0.0074 - val_mae: 0.0630 - val_acc: 0.6597\n",
            "Epoch 5/10\n",
            "200/200 [==============================] - 9s 43ms/step - loss: 0.0071 - mae: 0.0619 - acc: 0.6602 - val_loss: 0.0068 - val_mae: 0.0608 - val_acc: 0.6540\n",
            "Epoch 6/10\n",
            "200/200 [==============================] - 9s 46ms/step - loss: 0.0067 - mae: 0.0602 - acc: 0.6642 - val_loss: 0.0065 - val_mae: 0.0592 - val_acc: 0.6606\n",
            "Epoch 7/10\n",
            "200/200 [==============================] - 9s 47ms/step - loss: 0.0064 - mae: 0.0590 - acc: 0.6668 - val_loss: 0.0064 - val_mae: 0.0586 - val_acc: 0.6677\n",
            "Epoch 8/10\n",
            "200/200 [==============================] - 9s 47ms/step - loss: 0.0063 - mae: 0.0583 - acc: 0.6703 - val_loss: 0.0062 - val_mae: 0.0575 - val_acc: 0.6756\n",
            "Epoch 9/10\n",
            "200/200 [==============================] - 9s 44ms/step - loss: 0.0061 - mae: 0.0576 - acc: 0.6726 - val_loss: 0.0060 - val_mae: 0.0569 - val_acc: 0.6724\n",
            "Epoch 10/10\n",
            "200/200 [==============================] - 9s 44ms/step - loss: 0.0060 - mae: 0.0570 - acc: 0.6747 - val_loss: 0.0059 - val_mae: 0.0564 - val_acc: 0.6779\n"
          ]
        }
      ]
    },
    {
      "cell_type": "code",
      "source": [
        "def plot_history(model_history,keys):\n",
        "    m,val_m = keys\n",
        "    plt.plot(model_history.history[m])\n",
        "    plt.plot(model_history.history[val_m])\n",
        "    plt.ylabel(m)\n",
        "    plt.xlabel('epoch')\n",
        "    plt.legend(['train', 'test'], loc='upper left')\n",
        "    plt.show()\n",
        "\n",
        "plot_history(hist,['loss','val_loss'])"
      ],
      "metadata": {
        "colab": {
          "base_uri": "https://localhost:8080/",
          "height": 279
        },
        "id": "vx-WGm0Bs0Dw",
        "outputId": "55c9f546-99ab-4da8-8361-3e1040495364"
      },
      "execution_count": 55,
      "outputs": [
        {
          "output_type": "display_data",
          "data": {
            "text/plain": [
              "<Figure size 432x288 with 1 Axes>"
            ],
            "image/png": "[encoded data removed]"
          },
          "metadata": {
            "needs_background": "light"
          }
        }
      ]
    },
    {
      "cell_type": "code",
      "source": [
        "predictions = model.predict(x_test_blured)"
      ],
      "metadata": {
        "id": "9_T9ua7ty_ci"
      },
      "execution_count": null,
      "outputs": []
    },
    {
      "cell_type": "code",
      "source": [
        "predictions.shape"
      ],
      "metadata": {
        "id": "pzPHLEgw1WUU"
      },
      "execution_count": null,
      "outputs": []
    },
    {
      "cell_type": "code",
      "source": [
        "from sklearn.metrics import mean_squared_error\n",
        "\n",
        "nsamples, nx, ny, nc = x_test.shape\n",
        "x_true = x_test.reshape((nsamples,nx*ny*nc))\n",
        "\n",
        "nsamples, nx, ny, nc = predictions.shape\n",
        "x_pred = predictions.reshape((nsamples,nx*ny*nc))\n",
        "\n",
        "mean_squared_error(x_true, x_pred)"
      ],
      "metadata": {
        "id": "mw8FKkOF0yxC"
      },
      "execution_count": null,
      "outputs": []
    },
    {
      "cell_type": "code",
      "source": [
        "#utility function to pick samples to be tested\n",
        "\n",
        "def get_samples(arr, n):\n",
        "    temp = random.sample(range(len(arr)), n)\n",
        "    result = arr[temp]\n",
        "    return result, temp\n",
        "\n",
        "num = 3\n",
        "org, temp = get_samples(x_test, num)\n",
        "blur = x_test_blured[temp]\n",
        "preds = model.predict(blur.reshape(-1, 32, 32, 3))\n",
        "#plotting results\n",
        "plt.figure(figsize = (20, 20))\n",
        "print('Original Images')\n",
        "for i in range(num):\n",
        "    plt.subplot(1, num, i+1)\n",
        "    plt.xticks([])\n",
        "    plt.yticks([])\n",
        "    plt.grid(False)\n",
        "    plt.imshow(org[i])\n",
        "plt.show()\n",
        "plt.figure(figsize = (20, 20))\n",
        "print('Blurred Images')\n",
        "for i in range(num):\n",
        "    plt.subplot(1, num, i + 1)\n",
        "    plt.xticks([])\n",
        "    plt.yticks([])\n",
        "    plt.grid(False)\n",
        "    plt.imshow(blur[i])\n",
        "plt.show()\n",
        "plt.figure(figsize = (20, 20))\n",
        "print('Predicted Images')\n",
        "for i in range(num):\n",
        "    plt.subplot(1, num, i + 1)\n",
        "    plt.xticks([])\n",
        "    plt.yticks([])\n",
        "    plt.grid(False)\n",
        "    plt.imshow(preds[i])\n",
        "plt.show()"
      ],
      "metadata": {
        "id": "FN7oLFtsnc5V"
      },
      "execution_count": null,
      "outputs": []
    },
    {
      "cell_type": "markdown",
      "source": [
        "SOLUZIONE 2"
      ],
      "metadata": {
        "id": "DIdUoR7o4qmz"
      }
    },
    {
      "cell_type": "code",
      "source": [
        "from keras.layers import Input\n",
        "from keras.layers.advanced_activations import LeakyReLU\n",
        "from keras.layers.convolutional import Conv2D\n",
        "from keras.layers.core import Dense, Flatten\n",
        "from keras.layers import BatchNormalization\n",
        "from keras.models import Model\n",
        "\n",
        "\n",
        "from keras.layers import Input, Activation, Add\n",
        "from keras.layers.advanced_activations import LeakyReLU\n",
        "from keras.layers.convolutional import Conv2D, Conv2DTranspose\n",
        "from keras.layers.core import Lambda\n",
        "from keras.models import Model\n",
        "\n",
        "ndf = 64\n",
        "ngf = 64\n",
        "n_blocks_gen = 9\n",
        "output_nc = 3\n",
        "input_shape_discriminator = (32, 32, output_nc)\n",
        "\n",
        "inputs = Input(shape=(32, 32, 3))\n",
        "\n",
        "x = Conv2D(filters=ngf, kernel_size=(7,7), padding='valid')(inputs)\n",
        "x = BatchNormalization()(x)\n",
        "x = Activation('relu')(x)\n",
        "\n",
        "# Increase filter number\n",
        "n_downsampling = 2\n",
        "for i in range(n_downsampling):\n",
        "    mult = 2**i\n",
        "    x = Conv2D(filters=ngf*mult*2, kernel_size=(3,3), strides=2, padding='same')(x)\n",
        "    x = BatchNormalization()(x)\n",
        "    x = Activation('relu')(x)\n",
        "\n",
        "# Apply 9 ResNet blocks\n",
        "mult = 2**n_downsampling\n",
        "for i in range(n_blocks_gen):\n",
        "    pass\n",
        "    # x = res_block(x, ngf*mult, use_dropout=True)\n",
        "\n",
        "# Decrease filter number to 3 (RGB)\n",
        "for i in range(n_downsampling):\n",
        "    mult = 2**(n_downsampling - i)\n",
        "    x = Conv2DTranspose(filters=int(ngf * mult / 2), kernel_size=(2, 2), strides=3-i, padding='same')(x)\n",
        "    x = BatchNormalization()(x)\n",
        "    x = Activation('relu')(x)\n",
        "\n",
        "x = Conv2D(filters=32, kernel_size=(7,7), padding='valid')(x)\n",
        "x = Conv2D(filters=64, kernel_size=(5,5), padding='valid')(x)\n",
        "x = Conv2D(filters=output_nc, kernel_size=(1,1), padding='valid')(x)\n",
        "\n",
        "x = Activation('tanh')(x)\n",
        "\n",
        "# Add direct connection from input to output and recenter to [-1, 1]\n",
        "# outputs = Add()([x, inputs])\n",
        "# outputs = Lambda(lambda z: z/2)(x)\n",
        "\n",
        "x = Conv2D(8, (2, 2), strides = 1, padding = 'same') (x)\n",
        "#decode\n",
        "x = Conv2DTranspose(16, (2, 2), strides = 1, padding = 'same') (x)\n",
        "x = Conv2DTranspose(32, (2, 2), strides = 1, padding = 'same') (x)\n",
        "x = Conv2DTranspose(64, (2, 2), strides = 1, padding = 'same') (x)\n",
        "outputs = Conv2DTranspose(3, (1, 1), strides = 1, activation = 'sigmoid', padding = 'same') (x)\n",
        "model = Model(inputs=inputs, outputs=outputs, name='Generator')\n",
        "model.summary()"
      ],
      "metadata": {
        "colab": {
          "base_uri": "https://localhost:8080/"
        },
        "id": "1QqkOmxP7M5I",
        "outputId": "56e5d5b0-7376-4972-8a45-3728cee6ae5b"
      },
      "execution_count": 50,
      "outputs": [
        {
          "output_type": "stream",
          "name": "stdout",
          "text": [
            "Model: \"Generator\"\n",
            "_________________________________________________________________\n",
            " Layer (type)                Output Shape              Param #   \n",
            "=================================================================\n",
            " input_26 (InputLayer)       [(None, 32, 32, 3)]       0         \n",
            "                                                                 \n",
            " conv2d_118 (Conv2D)         (None, 26, 26, 64)        9472      \n",
            "                                                                 \n",
            " batch_normalization_115 (Ba  (None, 26, 26, 64)       256       \n",
            " tchNormalization)                                               \n",
            "                                                                 \n",
            " activation_138 (Activation)  (None, 26, 26, 64)       0         \n",
            "                                                                 \n",
            " conv2d_119 (Conv2D)         (None, 13, 13, 128)       73856     \n",
            "                                                                 \n",
            " batch_normalization_116 (Ba  (None, 13, 13, 128)      512       \n",
            " tchNormalization)                                               \n",
            "                                                                 \n",
            " activation_139 (Activation)  (None, 13, 13, 128)      0         \n",
            "                                                                 \n",
            " conv2d_120 (Conv2D)         (None, 7, 7, 256)         295168    \n",
            "                                                                 \n",
            " batch_normalization_117 (Ba  (None, 7, 7, 256)        1024      \n",
            " tchNormalization)                                               \n",
            "                                                                 \n",
            " activation_140 (Activation)  (None, 7, 7, 256)        0         \n",
            "                                                                 \n",
            " conv2d_transpose_57 (Conv2D  (None, 21, 21, 128)      131200    \n",
            " Transpose)                                                      \n",
            "                                                                 \n",
            " batch_normalization_118 (Ba  (None, 21, 21, 128)      512       \n",
            " tchNormalization)                                               \n",
            "                                                                 \n",
            " activation_141 (Activation)  (None, 21, 21, 128)      0         \n",
            "                                                                 \n",
            " conv2d_transpose_58 (Conv2D  (None, 42, 42, 64)       32832     \n",
            " Transpose)                                                      \n",
            "                                                                 \n",
            " batch_normalization_119 (Ba  (None, 42, 42, 64)       256       \n",
            " tchNormalization)                                               \n",
            "                                                                 \n",
            " activation_142 (Activation)  (None, 42, 42, 64)       0         \n",
            "                                                                 \n",
            " conv2d_121 (Conv2D)         (None, 36, 36, 32)        100384    \n",
            "                                                                 \n",
            " conv2d_122 (Conv2D)         (None, 32, 32, 64)        51264     \n",
            "                                                                 \n",
            " conv2d_123 (Conv2D)         (None, 32, 32, 3)         195       \n",
            "                                                                 \n",
            " activation_143 (Activation)  (None, 32, 32, 3)        0         \n",
            "                                                                 \n",
            " conv2d_124 (Conv2D)         (None, 32, 32, 8)         104       \n",
            "                                                                 \n",
            " conv2d_transpose_59 (Conv2D  (None, 32, 32, 16)       528       \n",
            " Transpose)                                                      \n",
            "                                                                 \n",
            " conv2d_transpose_60 (Conv2D  (None, 32, 32, 32)       2080      \n",
            " Transpose)                                                      \n",
            "                                                                 \n",
            " conv2d_transpose_61 (Conv2D  (None, 32, 32, 64)       8256      \n",
            " Transpose)                                                      \n",
            "                                                                 \n",
            " conv2d_transpose_62 (Conv2D  (None, 32, 32, 3)        195       \n",
            " Transpose)                                                      \n",
            "                                                                 \n",
            "=================================================================\n",
            "Total params: 708,094\n",
            "Trainable params: 706,814\n",
            "Non-trainable params: 1,280\n",
            "_________________________________________________________________\n"
          ]
        }
      ]
    },
    {
      "cell_type": "code",
      "source": [
        "# adam_optimizer = Adam(learning_rate=1E-4, beta_1=0.9, beta_2=0.999, epsilon=1e-08)\n",
        "\n",
        "model.compile(loss = 'mse', optimizer = 'adam')\n",
        "hist = model.fit(x_train_blured.reshape(-1, 32, 32, 3), \n",
        "          x_train.reshape(-1, 32, 32, 3), \n",
        "          epochs = 10, \n",
        "          batch_size = 200, \n",
        "          validation_data = (x_val_blured.reshape(-1, 32, 32, 3), x_val.reshape(-1, 32, 32, 3)))"
      ],
      "metadata": {
        "colab": {
          "base_uri": "https://localhost:8080/"
        },
        "id": "TytY-fto8Qml",
        "outputId": "db6d9a93-8837-4d90-85d8-b9a76ba05410"
      },
      "execution_count": 51,
      "outputs": [
        {
          "output_type": "stream",
          "name": "stdout",
          "text": [
            "Epoch 1/10\n",
            "200/200 [==============================] - 25s 119ms/step - loss: 0.0308 - val_loss: 0.0400\n",
            "Epoch 2/10\n",
            "200/200 [==============================] - 24s 121ms/step - loss: 0.0185 - val_loss: 0.0187\n",
            "Epoch 3/10\n",
            "200/200 [==============================] - 24s 122ms/step - loss: 0.0158 - val_loss: 0.0152\n",
            "Epoch 4/10\n",
            "200/200 [==============================] - 23s 116ms/step - loss: 0.0147 - val_loss: 0.0145\n",
            "Epoch 5/10\n",
            "200/200 [==============================] - 23s 117ms/step - loss: 0.0140 - val_loss: 0.0142\n",
            "Epoch 6/10\n",
            "200/200 [==============================] - 24s 118ms/step - loss: 0.0135 - val_loss: 0.0132\n",
            "Epoch 7/10\n",
            "200/200 [==============================] - 23s 117ms/step - loss: 0.0132 - val_loss: 0.0139\n",
            "Epoch 8/10\n",
            "200/200 [==============================] - 23s 117ms/step - loss: 0.0129 - val_loss: 0.0131\n",
            "Epoch 9/10\n",
            "200/200 [==============================] - 24s 122ms/step - loss: 0.0126 - val_loss: 0.0135\n",
            "Epoch 10/10\n",
            "200/200 [==============================] - 24s 118ms/step - loss: 0.0126 - val_loss: 0.0126\n"
          ]
        }
      ]
    },
    {
      "cell_type": "code",
      "source": [
        "def plot_history(model_history,keys):\n",
        "    m,val_m = keys\n",
        "    plt.plot(model_history.history[m])\n",
        "    plt.plot(model_history.history[val_m])\n",
        "    plt.ylabel(m)\n",
        "    plt.xlabel('epoch')\n",
        "    plt.legend(['train', 'test'], loc='upper left')\n",
        "    plt.show()\n",
        "\n",
        "plot_history(hist,['loss','val_loss'])"
      ],
      "metadata": {
        "id": "0Wvj-tgSABIu"
      },
      "execution_count": null,
      "outputs": []
    }
  ]
}