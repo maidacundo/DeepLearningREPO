{
  "nbformat": 4,
  "nbformat_minor": 0,
  "metadata": {
    "colab": {
      "name": "Image_Deblurring_June_Exam.ipynb",
      "provenance": [],
      "collapsed_sections": []
    },
    "kernelspec": {
      "name": "python3",
      "display_name": "Python 3"
    },
    "language_info": {
      "name": "python"
    },
    "accelerator": "GPU"
  },
  "cells": [
    {
      "cell_type": "markdown",
      "source": [
        "# Image Deblurring - June Exam"
      ],
      "metadata": {
        "id": "cAdE_w5Feghh"
      }
    },
    {
      "cell_type": "markdown",
      "source": [
        "### Dataset creation - DO NOT MODIFY"
      ],
      "metadata": {
        "id": "wCXXMeknnPtm"
      }
    },
    {
      "cell_type": "code",
      "source": [
        "import tensorflow as tf \n",
        "import random\n",
        "from cv2 import GaussianBlur\n",
        "import numpy as np\n",
        "\n",
        "import matplotlib.pyplot as plt\n",
        "from tensorflow.keras.layers import Conv2D, Conv2DTranspose, Input, Dense, MaxPooling2D\n",
        "from tensorflow.keras.models import Model\n",
        "from tensorflow.keras.optimizers import Adam\n",
        "\n",
        "def getDataset():\n",
        "  (x_train, _), (x_test, _) = tf.keras.datasets.cifar10.load_data()\n",
        "  normalize = lambda x: x/x.max()\n",
        "  x_train = normalize(x_train)\n",
        "  x_test = normalize(x_test)\n",
        "  createBlurred = lambda arr: np.array([GaussianBlur(x, (5,5), ((random.random()*3)+1)) + (0.02*np.random.normal(0,1, (32, 32, 3))) for x in arr])\n",
        "  return (createBlurred(x_train), x_train), (createBlurred(x_test), x_test)"
      ],
      "metadata": {
        "id": "QENETSnCelG8"
      },
      "execution_count": 1,
      "outputs": []
    },
    {
      "cell_type": "code",
      "source": [
        "(x_train_blured_og, x_train_og), (x_test_blured, x_test) = getDataset()"
      ],
      "metadata": {
        "id": "67h26q5xk8p4"
      },
      "execution_count": 2,
      "outputs": []
    },
    {
      "cell_type": "code",
      "source": [
        "x_train_og.shape"
      ],
      "metadata": {
        "colab": {
          "base_uri": "https://localhost:8080/"
        },
        "id": "pJeREfNXpUQO",
        "outputId": "172c3e90-849f-4462-ef4f-5d01487351f2"
      },
      "execution_count": 3,
      "outputs": [
        {
          "output_type": "execute_result",
          "data": {
            "text/plain": [
              "(50000, 32, 32, 3)"
            ]
          },
          "metadata": {},
          "execution_count": 3
        }
      ]
    },
    {
      "cell_type": "code",
      "source": [
        "# Split the training set into training and validation.\n",
        "TRAIN_SIZE = 40000\n",
        "\n",
        "x_train_blured = x_train_blured_og[:TRAIN_SIZE]\n",
        "x_train = x_train_og[:TRAIN_SIZE]\n",
        "\n",
        "x_val_blured = x_train_blured_og[TRAIN_SIZE:]\n",
        "x_val = x_train_og[TRAIN_SIZE:]\n",
        "\n",
        "print(f\"Train size: {x_train_blured.shape}. Test size: {x_val_blured.shape}\")"
      ],
      "metadata": {
        "colab": {
          "base_uri": "https://localhost:8080/"
        },
        "id": "CKFxjgKnoFSu",
        "outputId": "4f0d3509-e3a5-4b36-f29b-55a02d4f1fc7"
      },
      "execution_count": 4,
      "outputs": [
        {
          "output_type": "stream",
          "name": "stdout",
          "text": [
            "Train size: (40000, 32, 32, 3). Test size: (10000, 32, 32, 3)\n"
          ]
        }
      ]
    },
    {
      "cell_type": "code",
      "source": [
        "#encode\n",
        "input = Input(shape=(32, 32, 3))\n",
        "\n",
        "x = Conv2D(256, (4, 4), strides = 1, padding = 'same') (input)\n",
        "x = Conv2D(128, (2, 2), strides = 1, padding = 'same') (x)\n",
        "x = Conv2D(64, (2, 2), strides = 1, padding = 'same') (x)\n",
        "x = Conv2D(32, (2, 2), strides = 1, padding = 'same') (x)\n",
        "x = MaxPooling2D(pool_size=(2, 2), strides=2) (x)\n",
        "x = Conv2D(16, (2, 2), strides = 1, padding = 'same') (x)\n",
        "#latent\n",
        "x = Conv2D(16, (2, 2), strides = 1, padding = 'same') (x)\n",
        "x = Dense(16, activation='relu')(x)\n",
        "x = Conv2D(8, (2, 2), strides = 1, padding = 'same') (x)\n",
        "x = Dense(16, activation='relu')(x)\n",
        "x = Conv2D(16, (2, 2), strides = 1, padding = 'same') (x)\n",
        "#decode\n",
        "x = Conv2DTranspose(16, (2, 2), strides = 2, padding = 'same') (x)\n",
        "x = Conv2DTranspose(32, (3, 3), strides = 1, padding = 'same') (x)\n",
        "x = Conv2DTranspose(64, (2, 2), strides = 1, padding = 'same') (x)\n",
        "x = Conv2DTranspose(128, (3, 3), strides = 1, padding = 'same') (x)\n",
        "x = Conv2DTranspose(256, (2, 2), strides = 1, padding = 'same') (x)\n",
        "output = Conv2DTranspose(3, (1, 1), strides = 1, activation = 'sigmoid', padding = 'same') (x)\n",
        "\n",
        "model = Model(inputs=input,outputs=output)\n",
        "model.summary()"
      ],
      "metadata": {
        "colab": {
          "base_uri": "https://localhost:8080/"
        },
        "id": "CwhNatmIlipA",
        "outputId": "9daf2103-3e02-491e-a2f2-390c2f419445"
      },
      "execution_count": 17,
      "outputs": [
        {
          "output_type": "stream",
          "name": "stdout",
          "text": [
            "Model: \"model_10\"\n",
            "_________________________________________________________________\n",
            " Layer (type)                Output Shape              Param #   \n",
            "=================================================================\n",
            " input_11 (InputLayer)       [(None, 32, 32, 3)]       0         \n",
            "                                                                 \n",
            " conv2d_80 (Conv2D)          (None, 32, 32, 256)       12544     \n",
            "                                                                 \n",
            " conv2d_81 (Conv2D)          (None, 32, 32, 128)       131200    \n",
            "                                                                 \n",
            " conv2d_82 (Conv2D)          (None, 32, 32, 64)        32832     \n",
            "                                                                 \n",
            " conv2d_83 (Conv2D)          (None, 32, 32, 32)        8224      \n",
            "                                                                 \n",
            " max_pooling2d_36 (MaxPoolin  (None, 16, 16, 32)       0         \n",
            " g2D)                                                            \n",
            "                                                                 \n",
            " conv2d_84 (Conv2D)          (None, 16, 16, 16)        2064      \n",
            "                                                                 \n",
            " conv2d_85 (Conv2D)          (None, 16, 16, 16)        1040      \n",
            "                                                                 \n",
            " dense_21 (Dense)            (None, 16, 16, 16)        272       \n",
            "                                                                 \n",
            " conv2d_86 (Conv2D)          (None, 16, 16, 8)         520       \n",
            "                                                                 \n",
            " dense_22 (Dense)            (None, 16, 16, 16)        144       \n",
            "                                                                 \n",
            " conv2d_87 (Conv2D)          (None, 16, 16, 16)        1040      \n",
            "                                                                 \n",
            " conv2d_transpose_60 (Conv2D  (None, 32, 32, 16)       1040      \n",
            " Transpose)                                                      \n",
            "                                                                 \n",
            " conv2d_transpose_61 (Conv2D  (None, 32, 32, 32)       4640      \n",
            " Transpose)                                                      \n",
            "                                                                 \n",
            " conv2d_transpose_62 (Conv2D  (None, 32, 32, 64)       8256      \n",
            " Transpose)                                                      \n",
            "                                                                 \n",
            " conv2d_transpose_63 (Conv2D  (None, 32, 32, 128)      73856     \n",
            " Transpose)                                                      \n",
            "                                                                 \n",
            " conv2d_transpose_64 (Conv2D  (None, 32, 32, 256)      131328    \n",
            " Transpose)                                                      \n",
            "                                                                 \n",
            " conv2d_transpose_65 (Conv2D  (None, 32, 32, 3)        771       \n",
            " Transpose)                                                      \n",
            "                                                                 \n",
            "=================================================================\n",
            "Total params: 409,771\n",
            "Trainable params: 409,771\n",
            "Non-trainable params: 0\n",
            "_________________________________________________________________\n"
          ]
        }
      ]
    },
    {
      "cell_type": "code",
      "source": [
        "adam_optimizer = Adam(learning_rate=1E-4, beta_1=0.9, beta_2=0.999, epsilon=1e-08)\n",
        "\n",
        "model.compile(loss = 'mse', optimizer = adam_optimizer,metrics=[\"mae\", \"acc\"])\n",
        "hist = model.fit(x_train_blured.reshape(-1, 32, 32, 3), \n",
        "          x_train.reshape(-1, 32, 32, 3), \n",
        "          epochs = 15, \n",
        "          batch_size = 200, \n",
        "          \n",
        "          validation_data = (x_val_blured.reshape(-1, 32, 32, 3), x_val.reshape(-1, 32, 32, 3)))"
      ],
      "metadata": {
        "colab": {
          "base_uri": "https://localhost:8080/"
        },
        "id": "otrpz3bClvk8",
        "outputId": "3faac3db-c86f-4eb5-c849-2b7f97fd9128"
      },
      "execution_count": 19,
      "outputs": [
        {
          "output_type": "stream",
          "name": "stdout",
          "text": [
            "Epoch 1/15\n",
            "200/200 [==============================] - 49s 241ms/step - loss: 0.0140 - mae: 0.0897 - acc: 0.4847 - val_loss: 0.0109 - val_mae: 0.0785 - val_acc: 0.5473\n",
            "Epoch 2/15\n",
            "200/200 [==============================] - 47s 238ms/step - loss: 0.0087 - mae: 0.0694 - acc: 0.6187 - val_loss: 0.0074 - val_mae: 0.0637 - val_acc: 0.6515\n",
            "Epoch 3/15\n",
            "200/200 [==============================] - 49s 247ms/step - loss: 0.0070 - mae: 0.0621 - acc: 0.6577 - val_loss: 0.0066 - val_mae: 0.0601 - val_acc: 0.6621\n",
            "Epoch 4/15\n",
            "200/200 [==============================] - 49s 246ms/step - loss: 0.0065 - mae: 0.0596 - acc: 0.6664 - val_loss: 0.0063 - val_mae: 0.0585 - val_acc: 0.6672\n",
            "Epoch 5/15\n",
            "200/200 [==============================] - 49s 246ms/step - loss: 0.0062 - mae: 0.0580 - acc: 0.6716 - val_loss: 0.0060 - val_mae: 0.0570 - val_acc: 0.6688\n",
            "Epoch 6/15\n",
            "200/200 [==============================] - 49s 246ms/step - loss: 0.0060 - mae: 0.0570 - acc: 0.6748 - val_loss: 0.0059 - val_mae: 0.0561 - val_acc: 0.6756\n",
            "Epoch 7/15\n",
            "200/200 [==============================] - 47s 238ms/step - loss: 0.0059 - mae: 0.0563 - acc: 0.6779 - val_loss: 0.0058 - val_mae: 0.0555 - val_acc: 0.6839\n",
            "Epoch 8/15\n",
            "200/200 [==============================] - 48s 238ms/step - loss: 0.0057 - mae: 0.0551 - acc: 0.6966 - val_loss: 0.0054 - val_mae: 0.0535 - val_acc: 0.7228\n",
            "Epoch 9/15\n",
            "200/200 [==============================] - 49s 246ms/step - loss: 0.0054 - mae: 0.0532 - acc: 0.7320 - val_loss: 0.0052 - val_mae: 0.0522 - val_acc: 0.7498\n",
            "Epoch 10/15\n",
            "200/200 [==============================] - 49s 246ms/step - loss: 0.0052 - mae: 0.0522 - acc: 0.7534 - val_loss: 0.0051 - val_mae: 0.0520 - val_acc: 0.7627\n",
            "Epoch 11/15\n",
            "200/200 [==============================] - 48s 238ms/step - loss: 0.0051 - mae: 0.0515 - acc: 0.7666 - val_loss: 0.0050 - val_mae: 0.0508 - val_acc: 0.7784\n",
            "Epoch 12/15\n",
            "200/200 [==============================] - 48s 239ms/step - loss: 0.0050 - mae: 0.0509 - acc: 0.7746 - val_loss: 0.0050 - val_mae: 0.0510 - val_acc: 0.7701\n",
            "Epoch 13/15\n",
            "200/200 [==============================] - 49s 246ms/step - loss: 0.0049 - mae: 0.0505 - acc: 0.7805 - val_loss: 0.0048 - val_mae: 0.0499 - val_acc: 0.7851\n",
            "Epoch 14/15\n",
            "200/200 [==============================] - 49s 246ms/step - loss: 0.0049 - mae: 0.0501 - acc: 0.7847 - val_loss: 0.0048 - val_mae: 0.0496 - val_acc: 0.7811\n",
            "Epoch 15/15\n",
            "200/200 [==============================] - 48s 238ms/step - loss: 0.0048 - mae: 0.0499 - acc: 0.7882 - val_loss: 0.0047 - val_mae: 0.0493 - val_acc: 0.7873\n"
          ]
        }
      ]
    },
    {
      "cell_type": "code",
      "source": [
        "hist = model.fit(x_train_blured.reshape(-1, 32, 32, 3), \n",
        "          x_train.reshape(-1, 32, 32, 3), \n",
        "          epochs = 15, \n",
        "          batch_size = 200, \n",
        "          \n",
        "          validation_data = (x_val_blured.reshape(-1, 32, 32, 3), x_val.reshape(-1, 32, 32, 3)))"
      ],
      "metadata": {
        "id": "h68nG7p77hkX",
        "outputId": "dd0c1375-acd2-4884-9d01-c719d8aec48b",
        "colab": {
          "base_uri": "https://localhost:8080/",
          "height": 235
        }
      },
      "execution_count": 1,
      "outputs": [
        {
          "output_type": "error",
          "ename": "NameError",
          "evalue": "ignored",
          "traceback": [
            "\u001b[0;31m---------------------------------------------------------------------------\u001b[0m",
            "\u001b[0;31mNameError\u001b[0m                                 Traceback (most recent call last)",
            "\u001b[0;32m<ipython-input-1-b3af34a728d9>\u001b[0m in \u001b[0;36m<module>\u001b[0;34m()\u001b[0m\n\u001b[0;32m----> 1\u001b[0;31m hist = model.fit(x_train_blured.reshape(-1, 32, 32, 3), \n\u001b[0m\u001b[1;32m      2\u001b[0m           \u001b[0mx_train\u001b[0m\u001b[0;34m.\u001b[0m\u001b[0mreshape\u001b[0m\u001b[0;34m(\u001b[0m\u001b[0;34m-\u001b[0m\u001b[0;36m1\u001b[0m\u001b[0;34m,\u001b[0m \u001b[0;36m32\u001b[0m\u001b[0;34m,\u001b[0m \u001b[0;36m32\u001b[0m\u001b[0;34m,\u001b[0m \u001b[0;36m3\u001b[0m\u001b[0;34m)\u001b[0m\u001b[0;34m,\u001b[0m\u001b[0;34m\u001b[0m\u001b[0;34m\u001b[0m\u001b[0m\n\u001b[1;32m      3\u001b[0m           \u001b[0mepochs\u001b[0m \u001b[0;34m=\u001b[0m \u001b[0;36m15\u001b[0m\u001b[0;34m,\u001b[0m\u001b[0;34m\u001b[0m\u001b[0;34m\u001b[0m\u001b[0m\n\u001b[1;32m      4\u001b[0m           \u001b[0mbatch_size\u001b[0m \u001b[0;34m=\u001b[0m \u001b[0;36m200\u001b[0m\u001b[0;34m,\u001b[0m\u001b[0;34m\u001b[0m\u001b[0;34m\u001b[0m\u001b[0m\n\u001b[1;32m      5\u001b[0m \u001b[0;34m\u001b[0m\u001b[0m\n",
            "\u001b[0;31mNameError\u001b[0m: name 'model' is not defined"
          ]
        }
      ]
    },
    {
      "cell_type": "code",
      "source": [
        "def plot_history(model_history,keys):\n",
        "    m,val_m = keys\n",
        "    plt.plot(model_history.history[m])\n",
        "    plt.plot(model_history.history[val_m])\n",
        "    plt.ylabel(m)\n",
        "    plt.xlabel('epoch')\n",
        "    plt.legend(['train', 'test'], loc='upper left')\n",
        "    plt.show()\n",
        "\n",
        "plot_history(hist,['loss','val_loss'])"
      ],
      "metadata": {
        "colab": {
          "base_uri": "https://localhost:8080/",
          "height": 279
        },
        "id": "vx-WGm0Bs0Dw",
        "outputId": "988a3983-c9d2-4065-f661-d0a8a9e77844"
      },
      "execution_count": 25,
      "outputs": [
        {
          "output_type": "display_data",
          "data": {
            "text/plain": [
              "<Figure size 432x288 with 1 Axes>"
            ],
            "image/png": "[encoded data removed]"
          },
          "metadata": {
            "needs_background": "light"
          }
        }
      ]
    },
    {
      "cell_type": "code",
      "source": [
        "predictions = model.predict(x_test_blured)"
      ],
      "metadata": {
        "id": "9_T9ua7ty_ci"
      },
      "execution_count": 26,
      "outputs": []
    },
    {
      "cell_type": "code",
      "source": [
        "predictions.shape"
      ],
      "metadata": {
        "colab": {
          "base_uri": "https://localhost:8080/"
        },
        "id": "pzPHLEgw1WUU",
        "outputId": "5cc6e041-2426-48c3-bdf5-c02e3e29f2c3"
      },
      "execution_count": 27,
      "outputs": [
        {
          "output_type": "execute_result",
          "data": {
            "text/plain": [
              "(10000, 32, 32, 3)"
            ]
          },
          "metadata": {},
          "execution_count": 27
        }
      ]
    },
    {
      "cell_type": "code",
      "source": [
        "from sklearn.metrics import mean_squared_error\n",
        "\n",
        "nsamples, nx, ny, nc = x_test.shape\n",
        "x_true = x_test.reshape((nsamples,nx*ny*nc))\n",
        "\n",
        "nsamples, nx, ny, nc = predictions.shape\n",
        "x_pred = predictions.reshape((nsamples,nx*ny*nc))\n",
        "\n",
        "mean_squared_error(x_true, x_pred)"
      ],
      "metadata": {
        "colab": {
          "base_uri": "https://localhost:8080/"
        },
        "id": "mw8FKkOF0yxC",
        "outputId": "42398f3e-4a9b-40e2-d2ef-0340a7e9adec"
      },
      "execution_count": 28,
      "outputs": [
        {
          "output_type": "execute_result",
          "data": {
            "text/plain": [
              "0.004415952317251399"
            ]
          },
          "metadata": {},
          "execution_count": 28
        }
      ]
    },
    {
      "cell_type": "code",
      "source": [
        "#utility function to pick samples to be tested\n",
        "\n",
        "def get_samples(arr, n):\n",
        "    temp = random.sample(range(len(arr)), n)\n",
        "    result = arr[temp]\n",
        "    return result, temp\n",
        "\n",
        "num = 3\n",
        "org, temp = get_samples(x_test, num)\n",
        "blur = x_test_blured[temp]\n",
        "preds = model.predict(blur.reshape(-1, 32, 32, 3))\n",
        "#plotting results\n",
        "plt.figure(figsize = (20, 20))\n",
        "print('Original Images')\n",
        "for i in range(num):\n",
        "    plt.subplot(1, num, i+1)\n",
        "    plt.xticks([])\n",
        "    plt.yticks([])\n",
        "    plt.grid(False)\n",
        "    plt.imshow(org[i])\n",
        "plt.show()\n",
        "plt.figure(figsize = (20, 20))\n",
        "print('Blurred Images')\n",
        "for i in range(num):\n",
        "    plt.subplot(1, num, i + 1)\n",
        "    plt.xticks([])\n",
        "    plt.yticks([])\n",
        "    plt.grid(False)\n",
        "    plt.imshow(blur[i])\n",
        "plt.show()\n",
        "plt.figure(figsize = (20, 20))\n",
        "print('Predicted Images')\n",
        "for i in range(num):\n",
        "    plt.subplot(1, num, i + 1)\n",
        "    plt.xticks([])\n",
        "    plt.yticks([])\n",
        "    plt.grid(False)\n",
        "    plt.imshow(preds[i])\n",
        "plt.show()"
      ],
      "metadata": {
        "id": "FN7oLFtsnc5V"
      },
      "execution_count": null,
      "outputs": []
    },
    {
      "cell_type": "markdown",
      "source": [
        "SOLUZIONE 2"
      ],
      "metadata": {
        "id": "DIdUoR7o4qmz"
      }
    },
    {
      "cell_type": "code",
      "source": [
        "from keras.layers import Input\n",
        "from keras.layers.advanced_activations import LeakyReLU\n",
        "from keras.layers.convolutional import Conv2D\n",
        "from keras.layers.core import Dense, Flatten\n",
        "from keras.layers import BatchNormalization\n",
        "from keras.models import Model\n",
        "\n",
        "\n",
        "from keras.layers import Input, Activation, Add\n",
        "from keras.layers.advanced_activations import LeakyReLU\n",
        "from keras.layers.convolutional import Conv2D, Conv2DTranspose\n",
        "from keras.layers.core import Lambda\n",
        "from keras.models import Model\n",
        "\n",
        "ndf = 64\n",
        "ngf = 64\n",
        "n_blocks_gen = 9\n",
        "output_nc = 3\n",
        "input_shape_discriminator = (32, 32, output_nc)\n",
        "\n",
        "inputs = Input(shape=(32, 32, 3))\n",
        "\n",
        "x = Conv2D(filters=ngf, kernel_size=(7,7), padding='valid')(inputs)\n",
        "x = BatchNormalization()(x)\n",
        "x = Activation('relu')(x)\n",
        "\n",
        "# Increase filter number\n",
        "n_downsampling = 2\n",
        "for i in range(n_downsampling):\n",
        "    mult = 2**i\n",
        "    x = Conv2D(filters=ngf*mult*2, kernel_size=(3,3), strides=2, padding='same')(x)\n",
        "    x = BatchNormalization()(x)\n",
        "    x = Activation('relu')(x)\n",
        "\n",
        "# Apply 9 ResNet blocks\n",
        "mult = 2**n_downsampling\n",
        "for i in range(n_blocks_gen):\n",
        "    pass\n",
        "    # x = res_block(x, ngf*mult, use_dropout=True)\n",
        "\n",
        "# Decrease filter number to 3 (RGB)\n",
        "for i in range(n_downsampling):\n",
        "    mult = 2**(n_downsampling - i)\n",
        "    x = Conv2DTranspose(filters=int(ngf * mult / 2), kernel_size=(2, 2), strides=3-i, padding='same')(x)\n",
        "    x = BatchNormalization()(x)\n",
        "    x = Activation('relu')(x)\n",
        "\n",
        "x = Conv2D(filters=32, kernel_size=(7,7), padding='valid')(x)\n",
        "x = Conv2D(filters=64, kernel_size=(5,5), padding='valid')(x)\n",
        "x = Conv2D(filters=output_nc, kernel_size=(1,1), padding='valid')(x)\n",
        "\n",
        "x = Activation('tanh')(x)\n",
        "\n",
        "# Add direct connection from input to output and recenter to [-1, 1]\n",
        "# outputs = Add()([x, inputs])\n",
        "# outputs = Lambda(lambda z: z/2)(x)\n",
        "\n",
        "x = Conv2D(8, (2, 2), strides = 1, padding = 'same') (x)\n",
        "#decode\n",
        "x = Conv2DTranspose(16, (2, 2), strides = 1, padding = 'same') (x)\n",
        "x = Conv2DTranspose(32, (2, 2), strides = 1, padding = 'same') (x)\n",
        "x = Conv2DTranspose(64, (2, 2), strides = 1, padding = 'same') (x)\n",
        "outputs = Conv2DTranspose(3, (1, 1), strides = 1, activation = 'sigmoid', padding = 'same') (x)\n",
        "model = Model(inputs=inputs, outputs=outputs, name='Generator')\n",
        "model.summary()"
      ],
      "metadata": {
        "id": "1QqkOmxP7M5I"
      },
      "execution_count": null,
      "outputs": []
    },
    {
      "cell_type": "code",
      "source": [
        "# adam_optimizer = Adam(learning_rate=1E-4, beta_1=0.9, beta_2=0.999, epsilon=1e-08)\n",
        "\n",
        "model.compile(loss = 'mse', optimizer = 'adam')\n",
        "hist = model.fit(x_train_blured.reshape(-1, 32, 32, 3), \n",
        "          x_train.reshape(-1, 32, 32, 3), \n",
        "          epochs = 10, \n",
        "          batch_size = 200, \n",
        "          validation_data = (x_val_blured.reshape(-1, 32, 32, 3), x_val.reshape(-1, 32, 32, 3)))"
      ],
      "metadata": {
        "id": "TytY-fto8Qml"
      },
      "execution_count": null,
      "outputs": []
    },
    {
      "cell_type": "code",
      "source": [
        "def plot_history(model_history,keys):\n",
        "    m,val_m = keys\n",
        "    plt.plot(model_history.history[m])\n",
        "    plt.plot(model_history.history[val_m])\n",
        "    plt.ylabel(m)\n",
        "    plt.xlabel('epoch')\n",
        "    plt.legend(['train', 'test'], loc='upper left')\n",
        "    plt.show()\n",
        "\n",
        "plot_history(hist,['loss','val_loss'])"
      ],
      "metadata": {
        "id": "0Wvj-tgSABIu"
      },
      "execution_count": null,
      "outputs": []
    }
  ]
}